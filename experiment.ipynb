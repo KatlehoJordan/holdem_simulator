{
 "cells": [
  {
   "cell_type": "code",
   "execution_count": 3,
   "metadata": {},
   "outputs": [
    {
     "name": "stderr",
     "output_type": "stream",
     "text": [
      "INFO: Making plotly figure and axis objects\n",
      "c:\\Users\\david\\Documents\\Projects\\holdem_simulator\\src\\plot_builders_plotly.py:158: SettingWithCopyWarning:\n",
      "\n",
      "\n",
      "A value is trying to be set on a copy of a slice from a DataFrame.\n",
      "Try using .loc[row_indexer,col_indexer] = value instead\n",
      "\n",
      "See the caveats in the documentation: https://pandas.pydata.org/pandas-docs/stable/user_guide/indexing.html#returning-a-view-versus-a-copy\n",
      "\n",
      "INFO: Sorting data frame ascending by n_players\n",
      "INFO: Sorting data frame descending by win ratio, win ratio rounded down to nearest 5%\n",
      "INFO: Showing plot object\n"
     ]
    },
    {
     "data": {
      "application/vnd.plotly.v1+json": {
       "config": {
        "plotlyServerURL": "https://plot.ly"
       },
       "data": [
        {
         "alignmentgroup": "True",
         "customdata": [
          [
           0.8575
          ],
          [
           0.8321
          ],
          [
           0.7952
          ],
          [
           0.7839
          ],
          [
           0.7734
          ],
          [
           0.7123
          ],
          [
           0.7041
          ],
          [
           0.6968
          ],
          [
           0.6753
          ],
          [
           0.6676
          ],
          [
           0.6667
          ],
          [
           0.6664
          ],
          [
           0.665
          ],
          [
           0.6639
          ],
          [
           0.66
          ],
          [
           0.6553
          ],
          [
           0.6495
          ],
          [
           0.6435
          ],
          [
           0.6415
          ],
          [
           0.6393
          ],
          [
           0.6391
          ],
          [
           0.6386
          ],
          [
           0.6213
          ],
          [
           0.6206
          ],
          [
           0.619
          ],
          [
           0.6183
          ],
          [
           0.6175
          ],
          [
           0.6168
          ],
          [
           0.6149
          ],
          [
           0.6132
          ],
          [
           0.6129
          ],
          [
           0.611
          ],
          [
           0.6105
          ],
          [
           0.6099
          ],
          [
           0.6086
          ],
          [
           0.6073
          ],
          [
           0.6046
          ],
          [
           0.6016
          ],
          [
           0.5998
          ],
          [
           0.5998
          ],
          [
           0.5978
          ],
          [
           0.5972
          ],
          [
           0.5958
          ],
          [
           0.5958
          ],
          [
           0.5874
          ],
          [
           0.5867
          ],
          [
           0.5858
          ],
          [
           0.5856
          ],
          [
           0.5824
          ],
          [
           0.5799
          ],
          [
           0.5758
          ],
          [
           0.5742
          ],
          [
           0.574
          ],
          [
           0.5735
          ],
          [
           0.5732
          ],
          [
           0.5712
          ],
          [
           0.5688
          ],
          [
           0.5652
          ],
          [
           0.564
          ],
          [
           0.5635
          ],
          [
           0.5625
          ],
          [
           0.5606
          ],
          [
           0.5599
          ],
          [
           0.5592
          ],
          [
           0.5572
          ],
          [
           0.5562
          ],
          [
           0.5559
          ],
          [
           0.5534
          ],
          [
           0.5534
          ],
          [
           0.552
          ],
          [
           0.5485
          ],
          [
           0.546
          ],
          [
           0.5456
          ],
          [
           0.5431
          ],
          [
           0.5428
          ],
          [
           0.5403
          ],
          [
           0.5388
          ],
          [
           0.5387
          ],
          [
           0.5326
          ],
          [
           0.5322
          ],
          [
           0.5319
          ],
          [
           0.5318
          ],
          [
           0.5305
          ],
          [
           0.5296
          ],
          [
           0.5288
          ],
          [
           0.5266
          ],
          [
           0.5242
          ],
          [
           0.5237
          ],
          [
           0.5232
          ],
          [
           0.5216
          ],
          [
           0.5191
          ],
          [
           0.5188
          ],
          [
           0.5166
          ],
          [
           0.5166
          ],
          [
           0.5163
          ],
          [
           0.5146
          ],
          [
           0.5078
          ],
          [
           0.5065
          ],
          [
           0.502
          ],
          [
           0.5009
          ],
          [
           0.4988
          ],
          [
           0.4979
          ],
          [
           0.4952
          ],
          [
           0.4951
          ],
          [
           0.4944
          ],
          [
           0.4939
          ],
          [
           0.4933
          ],
          [
           0.4916
          ],
          [
           0.4913
          ],
          [
           0.4885
          ],
          [
           0.488
          ],
          [
           0.4848
          ],
          [
           0.4848
          ],
          [
           0.4844
          ],
          [
           0.4814
          ],
          [
           0.4795
          ],
          [
           0.4793
          ],
          [
           0.4777
          ],
          [
           0.4764
          ],
          [
           0.4693
          ],
          [
           0.4687
          ],
          [
           0.4674
          ],
          [
           0.465
          ],
          [
           0.4646
          ],
          [
           0.464
          ],
          [
           0.4615
          ],
          [
           0.4602
          ],
          [
           0.4591
          ],
          [
           0.457
          ],
          [
           0.4563
          ],
          [
           0.4546
          ],
          [
           0.4497
          ],
          [
           0.4494
          ],
          [
           0.449
          ],
          [
           0.4428
          ],
          [
           0.4406
          ],
          [
           0.438
          ],
          [
           0.4375
          ],
          [
           0.4334
          ],
          [
           0.4281
          ],
          [
           0.4277
          ],
          [
           0.4276
          ],
          [
           0.4253
          ],
          [
           0.4235
          ],
          [
           0.4234
          ],
          [
           0.4197
          ],
          [
           0.4194
          ],
          [
           0.4186
          ],
          [
           0.4175
          ],
          [
           0.4141
          ],
          [
           0.4141
          ],
          [
           0.4126
          ],
          [
           0.4119
          ],
          [
           0.4019
          ],
          [
           0.401
          ],
          [
           0.4009
          ],
          [
           0.3978
          ],
          [
           0.3909
          ],
          [
           0.3898
          ],
          [
           0.3876
          ],
          [
           0.3876
          ],
          [
           0.3875
          ],
          [
           0.3867
          ],
          [
           0.3795
          ],
          [
           0.3772
          ],
          [
           0.3722
          ],
          [
           0.3692
          ],
          [
           0.3681
          ],
          [
           0.3523
          ]
         ],
         "hovertemplate": "hole cards flavor=%{x}<br>win ratio rounded down to nearest 5%=%{y:.0%}<br>win ratio=%{customdata[0]:.2%}<br>appearances=%{marker.color}<extra></extra>",
         "legendgroup": "",
         "marker": {
          "color": [
           1782,
           1793,
           1821,
           1772,
           1898,
           1870,
           1744,
           1692,
           1281,
           3646,
           1188,
           1157,
           3582,
           1187,
           1197,
           1178,
           1789,
           1178,
           3623,
           3596,
           1100,
           1165,
           1175,
           3571,
           1231,
           3581,
           1260,
           1182,
           1153,
           1197,
           3756,
           1198,
           3556,
           3679,
           3623,
           1151,
           1186,
           3569,
           3593,
           1744,
           1206,
           3553,
           3585,
           1232,
           3667,
           3562,
           1236,
           1221,
           1281,
           1195,
           3654,
           1254,
           3697,
           1245,
           1237,
           1819,
           3641,
           1173,
           3784,
           1189,
           3586,
           3603,
           1161,
           1225,
           3489,
           3594,
           1225,
           3612,
           3533,
           3594,
           1185,
           1260,
           1140,
           1810,
           1227,
           1216,
           1199,
           1162,
           1196,
           3615,
           3642,
           1824,
           3608,
           3552,
           1199,
           3536,
           1238,
           1268,
           3649,
           3549,
           1202,
           3570,
           1206,
           1206,
           1166,
           3634,
           3645,
           1226,
           1231,
           3713,
           1245,
           3621,
           3526,
           1232,
           1169,
           1306,
           1261,
           3631,
           3576,
           1308,
           1209,
           3655,
           3616,
           1119,
           3652,
           1197,
           3626,
           3609,
           3650,
           3605,
           1199,
           3680,
           3645,
           1216,
           3698,
           3606,
           3572,
           3546,
           1199,
           1166,
           1223,
           3609,
           1246,
           1216,
           3735,
           1212,
           1178,
           1184,
           3528,
           1189,
           3582,
           3627,
           3776,
           3691,
           1207,
           3636,
           1185,
           3650,
           3650,
           1222,
           1176,
           3587,
           1294,
           3655,
           3621,
           3642,
           1209,
           3617,
           3661,
           1197,
           3692,
           3572,
           1244,
           1183,
           3632,
           3678,
           3592,
           3581,
           3710
          ],
          "coloraxis": "coloraxis",
          "pattern": {
           "shape": ""
          }
         },
         "name": "",
         "offsetgroup": "",
         "orientation": "v",
         "showlegend": false,
         "textposition": "auto",
         "type": "bar",
         "x": [
          "Aces paired",
          "Kings paired",
          "Queens paired",
          "Jacks paired",
          "10s paired",
          "8s paired",
          "9s paired",
          "7s paired",
          "Ace, Queen suited",
          "Ace, 10 off suit",
          "Ace, Jack suited",
          "Ace, 10 suited",
          "Ace, King off suit",
          "Ace, King suited",
          "King, Queen suited",
          "Ace, 9 suited",
          "6s paired",
          "King, Jack suited",
          "Ace, Queen off suit",
          "Ace, Jack off suit",
          "Ace, 8 suited",
          "Ace, 7 suited",
          "King, 10 suited",
          "King, Jack off suit",
          "Ace, 5 suited",
          "King, Queen off suit",
          "Ace, 3 suited",
          "King, 8 suited",
          "King, 9 suited",
          "Queen, Jack suited",
          "Ace, 9 off suit",
          "Ace, 6 suited",
          "Ace, 8 off suit",
          "Ace, 7 off suit",
          "King, 10 off suit",
          "King, 7 suited",
          "Ace, 4 suited",
          "Ace, 5 off suit",
          "Ace, 6 off suit",
          "5s paired",
          "King, 4 suited",
          "King, 9 off suit",
          "Queen, 10 off suit",
          "Jack, 10 suited",
          "Ace, 4 off suit",
          "Queen, Jack off suit",
          "Queen, 8 suited",
          "Queen, 10 suited",
          "Queen, 9 suited",
          "King, 6 suited",
          "King, 6 off suit",
          "Ace, 2 suited",
          "Ace, 3 off suit",
          "Jack, 8 suited",
          "King, 5 suited",
          "4s paired",
          "King, 8 off suit",
          "King, 3 suited",
          "Jack, 10 off suit",
          "Queen, 3 suited",
          "Jack, 9 off suit",
          "King, 4 off suit",
          "Jack, 9 suited",
          "Jack, 7 suited",
          "Queen, 8 off suit",
          "Queen, 9 off suit",
          "Queen, 5 suited",
          "King, 7 off suit",
          "King, 5 off suit",
          "Ace, 2 off suit",
          "Queen, 4 suited",
          "Queen, 7 suited",
          "Queen, 6 suited",
          "3s paired",
          "King, 2 suited",
          "Jack, 4 suited",
          "10, 8 suited",
          "9, 8 suited",
          "10, 7 suited",
          "10, 9 off suit",
          "Jack, 8 off suit",
          "2s paired",
          "King, 2 off suit",
          "Queen, 6 off suit",
          "Jack, 6 suited",
          "King, 3 off suit",
          "Jack, 3 suited",
          "10, 9 suited",
          "Queen, 7 off suit",
          "Queen, 5 off suit",
          "9, 7 suited",
          "Jack, 7 off suit",
          "10, 6 suited",
          "Queen, 2 suited",
          "8, 6 suited",
          "9, 8 off suit",
          "Queen, 4 off suit",
          "Jack, 5 suited",
          "8, 7 suited",
          "10, 7 off suit",
          "10, 5 suited",
          "Queen, 3 off suit",
          "10, 8 off suit",
          "Jack, 2 suited",
          "10, 2 suited",
          "9, 6 suited",
          "9, 5 suited",
          "Jack, 5 off suit",
          "Jack, 4 off suit",
          "7, 6 suited",
          "8, 5 suited",
          "Jack, 3 off suit",
          "Queen, 2 off suit",
          "9, 4 suited",
          "10, 6 off suit",
          "6, 5 suited",
          "9, 7 off suit",
          "8, 7 off suit",
          "Jack, 6 off suit",
          "9, 6 off suit",
          "7, 5 suited",
          "10, 5 off suit",
          "10, 3 off suit",
          "7, 4 suited",
          "Jack, 2 off suit",
          "7, 6 off suit",
          "10, 4 off suit",
          "9, 5 off suit",
          "9, 3 suited",
          "10, 3 suited",
          "8, 2 suited",
          "8, 6 off suit",
          "5, 4 suited",
          "10, 4 suited",
          "8, 5 off suit",
          "6, 4 suited",
          "9, 2 suited",
          "8, 4 suited",
          "7, 5 off suit",
          "8, 3 suited",
          "10, 2 off suit",
          "9, 4 off suit",
          "8, 4 off suit",
          "5, 4 off suit",
          "4, 3 suited",
          "6, 5 off suit",
          "5, 3 suited",
          "9, 3 off suit",
          "9, 2 off suit",
          "5, 2 suited",
          "6, 3 suited",
          "6, 4 off suit",
          "7, 2 suited",
          "8, 2 off suit",
          "7, 4 off suit",
          "8, 3 off suit",
          "7, 3 suited",
          "5, 3 off suit",
          "6, 3 off suit",
          "4, 2 suited",
          "4, 3 off suit",
          "7, 2 off suit",
          "6, 2 suited",
          "3, 2 suited",
          "6, 2 off suit",
          "7, 3 off suit",
          "5, 2 off suit",
          "3, 2 off suit",
          "4, 2 off suit"
         ],
         "xaxis": "x",
         "y": [
          0.8500000000000001,
          0.8,
          0.75,
          0.75,
          0.75,
          0.7000000000000001,
          0.7000000000000001,
          0.65,
          0.65,
          0.65,
          0.65,
          0.65,
          0.65,
          0.65,
          0.65,
          0.65,
          0.6000000000000001,
          0.6000000000000001,
          0.6000000000000001,
          0.6000000000000001,
          0.6000000000000001,
          0.6000000000000001,
          0.6000000000000001,
          0.6000000000000001,
          0.6000000000000001,
          0.6000000000000001,
          0.6000000000000001,
          0.6000000000000001,
          0.6000000000000001,
          0.6000000000000001,
          0.6000000000000001,
          0.6000000000000001,
          0.6000000000000001,
          0.6000000000000001,
          0.6000000000000001,
          0.6000000000000001,
          0.6000000000000001,
          0.6000000000000001,
          0.55,
          0.55,
          0.55,
          0.55,
          0.55,
          0.55,
          0.55,
          0.55,
          0.55,
          0.55,
          0.55,
          0.55,
          0.55,
          0.55,
          0.55,
          0.55,
          0.55,
          0.55,
          0.55,
          0.55,
          0.55,
          0.55,
          0.55,
          0.55,
          0.55,
          0.55,
          0.55,
          0.55,
          0.55,
          0.55,
          0.55,
          0.55,
          0.5,
          0.5,
          0.5,
          0.5,
          0.5,
          0.5,
          0.5,
          0.5,
          0.5,
          0.5,
          0.5,
          0.5,
          0.5,
          0.5,
          0.5,
          0.5,
          0.5,
          0.5,
          0.5,
          0.5,
          0.5,
          0.5,
          0.5,
          0.5,
          0.5,
          0.5,
          0.5,
          0.5,
          0.5,
          0.5,
          0.45,
          0.45,
          0.45,
          0.45,
          0.45,
          0.45,
          0.45,
          0.45,
          0.45,
          0.45,
          0.45,
          0.45,
          0.45,
          0.45,
          0.45,
          0.45,
          0.45,
          0.45,
          0.45,
          0.45,
          0.45,
          0.45,
          0.45,
          0.45,
          0.45,
          0.45,
          0.45,
          0.45,
          0.45,
          0.45,
          0.45,
          0.4,
          0.4,
          0.4,
          0.4,
          0.4,
          0.4,
          0.4,
          0.4,
          0.4,
          0.4,
          0.4,
          0.4,
          0.4,
          0.4,
          0.4,
          0.4,
          0.4,
          0.4,
          0.4,
          0.4,
          0.4,
          0.4,
          0.4,
          0.4,
          0.4,
          0.35,
          0.35,
          0.35,
          0.35,
          0.35,
          0.35,
          0.35,
          0.35,
          0.35,
          0.35,
          0.35,
          0.35,
          0.35
         ],
         "yaxis": "y"
        },
        {
         "line": {
          "color": "red",
          "width": 1
         },
         "mode": "lines",
         "name": "Likely Win/Lose Threshold",
         "showlegend": true,
         "type": "scatter",
         "x": [
          null
         ],
         "y": [
          null
         ]
        }
       ],
       "layout": {
        "barmode": "relative",
        "coloraxis": {
         "colorbar": {
          "thickness": 10,
          "tickfont": {
           "family": "monospace",
           "size": 12
          },
          "title": {
           "font": {
            "family": "sans-serif",
            "size": 14
           },
           "text": "Appearances"
          }
         },
         "colorscale": [
          [
           0,
           "#fcfdbf"
          ],
          [
           0.1111111111111111,
           "#feca8d"
          ],
          [
           0.2222222222222222,
           "#fd9668"
          ],
          [
           0.3333333333333333,
           "#f1605d"
          ],
          [
           0.4444444444444444,
           "#cd4071"
          ],
          [
           0.5555555555555556,
           "#9e2f7f"
          ],
          [
           0.6666666666666666,
           "#721f81"
          ],
          [
           0.7777777777777778,
           "#440f76"
          ],
          [
           0.8888888888888888,
           "#180f3d"
          ],
          [
           1,
           "#000004"
          ]
         ]
        },
        "legend": {
         "font": {
          "family": "sans-serif",
          "size": 12
         },
         "tracegroupgap": 0,
         "x": 0.5,
         "xanchor": "center",
         "y": 0.99,
         "yanchor": "top"
        },
        "margin": {
         "t": 60
        },
        "plot_bgcolor": "white",
        "shapes": [
         {
          "line": {
           "color": "red",
           "width": 1
          },
          "type": "line",
          "x0": 0,
          "x1": 1,
          "xref": "paper",
          "y0": 0.495,
          "y1": 0.495,
          "yref": "y"
         },
         {
          "fillcolor": "limegreen",
          "layer": "below",
          "line": {
           "width": 0
          },
          "opacity": 0.1,
          "type": "rect",
          "x0": 0,
          "x1": 1,
          "xref": "paper",
          "y0": 0.495,
          "y1": 1,
          "yref": "y"
         },
         {
          "fillcolor": "red",
          "layer": "below",
          "line": {
           "width": 0
          },
          "opacity": 0.1,
          "type": "rect",
          "x0": 0,
          "x1": 1,
          "xref": "paper",
          "y0": 0,
          "y1": 0.495,
          "yref": "y"
         }
        ],
        "template": {
         "data": {
          "bar": [
           {
            "error_x": {
             "color": "#2a3f5f"
            },
            "error_y": {
             "color": "#2a3f5f"
            },
            "marker": {
             "line": {
              "color": "#E5ECF6",
              "width": 0.5
             },
             "pattern": {
              "fillmode": "overlay",
              "size": 10,
              "solidity": 0.2
             }
            },
            "type": "bar"
           }
          ],
          "barpolar": [
           {
            "marker": {
             "line": {
              "color": "#E5ECF6",
              "width": 0.5
             },
             "pattern": {
              "fillmode": "overlay",
              "size": 10,
              "solidity": 0.2
             }
            },
            "type": "barpolar"
           }
          ],
          "carpet": [
           {
            "aaxis": {
             "endlinecolor": "#2a3f5f",
             "gridcolor": "white",
             "linecolor": "white",
             "minorgridcolor": "white",
             "startlinecolor": "#2a3f5f"
            },
            "baxis": {
             "endlinecolor": "#2a3f5f",
             "gridcolor": "white",
             "linecolor": "white",
             "minorgridcolor": "white",
             "startlinecolor": "#2a3f5f"
            },
            "type": "carpet"
           }
          ],
          "choropleth": [
           {
            "colorbar": {
             "outlinewidth": 0,
             "ticks": ""
            },
            "type": "choropleth"
           }
          ],
          "contour": [
           {
            "colorbar": {
             "outlinewidth": 0,
             "ticks": ""
            },
            "colorscale": [
             [
              0,
              "#0d0887"
             ],
             [
              0.1111111111111111,
              "#46039f"
             ],
             [
              0.2222222222222222,
              "#7201a8"
             ],
             [
              0.3333333333333333,
              "#9c179e"
             ],
             [
              0.4444444444444444,
              "#bd3786"
             ],
             [
              0.5555555555555556,
              "#d8576b"
             ],
             [
              0.6666666666666666,
              "#ed7953"
             ],
             [
              0.7777777777777778,
              "#fb9f3a"
             ],
             [
              0.8888888888888888,
              "#fdca26"
             ],
             [
              1,
              "#f0f921"
             ]
            ],
            "type": "contour"
           }
          ],
          "contourcarpet": [
           {
            "colorbar": {
             "outlinewidth": 0,
             "ticks": ""
            },
            "type": "contourcarpet"
           }
          ],
          "heatmap": [
           {
            "colorbar": {
             "outlinewidth": 0,
             "ticks": ""
            },
            "colorscale": [
             [
              0,
              "#0d0887"
             ],
             [
              0.1111111111111111,
              "#46039f"
             ],
             [
              0.2222222222222222,
              "#7201a8"
             ],
             [
              0.3333333333333333,
              "#9c179e"
             ],
             [
              0.4444444444444444,
              "#bd3786"
             ],
             [
              0.5555555555555556,
              "#d8576b"
             ],
             [
              0.6666666666666666,
              "#ed7953"
             ],
             [
              0.7777777777777778,
              "#fb9f3a"
             ],
             [
              0.8888888888888888,
              "#fdca26"
             ],
             [
              1,
              "#f0f921"
             ]
            ],
            "type": "heatmap"
           }
          ],
          "heatmapgl": [
           {
            "colorbar": {
             "outlinewidth": 0,
             "ticks": ""
            },
            "colorscale": [
             [
              0,
              "#0d0887"
             ],
             [
              0.1111111111111111,
              "#46039f"
             ],
             [
              0.2222222222222222,
              "#7201a8"
             ],
             [
              0.3333333333333333,
              "#9c179e"
             ],
             [
              0.4444444444444444,
              "#bd3786"
             ],
             [
              0.5555555555555556,
              "#d8576b"
             ],
             [
              0.6666666666666666,
              "#ed7953"
             ],
             [
              0.7777777777777778,
              "#fb9f3a"
             ],
             [
              0.8888888888888888,
              "#fdca26"
             ],
             [
              1,
              "#f0f921"
             ]
            ],
            "type": "heatmapgl"
           }
          ],
          "histogram": [
           {
            "marker": {
             "pattern": {
              "fillmode": "overlay",
              "size": 10,
              "solidity": 0.2
             }
            },
            "type": "histogram"
           }
          ],
          "histogram2d": [
           {
            "colorbar": {
             "outlinewidth": 0,
             "ticks": ""
            },
            "colorscale": [
             [
              0,
              "#0d0887"
             ],
             [
              0.1111111111111111,
              "#46039f"
             ],
             [
              0.2222222222222222,
              "#7201a8"
             ],
             [
              0.3333333333333333,
              "#9c179e"
             ],
             [
              0.4444444444444444,
              "#bd3786"
             ],
             [
              0.5555555555555556,
              "#d8576b"
             ],
             [
              0.6666666666666666,
              "#ed7953"
             ],
             [
              0.7777777777777778,
              "#fb9f3a"
             ],
             [
              0.8888888888888888,
              "#fdca26"
             ],
             [
              1,
              "#f0f921"
             ]
            ],
            "type": "histogram2d"
           }
          ],
          "histogram2dcontour": [
           {
            "colorbar": {
             "outlinewidth": 0,
             "ticks": ""
            },
            "colorscale": [
             [
              0,
              "#0d0887"
             ],
             [
              0.1111111111111111,
              "#46039f"
             ],
             [
              0.2222222222222222,
              "#7201a8"
             ],
             [
              0.3333333333333333,
              "#9c179e"
             ],
             [
              0.4444444444444444,
              "#bd3786"
             ],
             [
              0.5555555555555556,
              "#d8576b"
             ],
             [
              0.6666666666666666,
              "#ed7953"
             ],
             [
              0.7777777777777778,
              "#fb9f3a"
             ],
             [
              0.8888888888888888,
              "#fdca26"
             ],
             [
              1,
              "#f0f921"
             ]
            ],
            "type": "histogram2dcontour"
           }
          ],
          "mesh3d": [
           {
            "colorbar": {
             "outlinewidth": 0,
             "ticks": ""
            },
            "type": "mesh3d"
           }
          ],
          "parcoords": [
           {
            "line": {
             "colorbar": {
              "outlinewidth": 0,
              "ticks": ""
             }
            },
            "type": "parcoords"
           }
          ],
          "pie": [
           {
            "automargin": true,
            "type": "pie"
           }
          ],
          "scatter": [
           {
            "fillpattern": {
             "fillmode": "overlay",
             "size": 10,
             "solidity": 0.2
            },
            "type": "scatter"
           }
          ],
          "scatter3d": [
           {
            "line": {
             "colorbar": {
              "outlinewidth": 0,
              "ticks": ""
             }
            },
            "marker": {
             "colorbar": {
              "outlinewidth": 0,
              "ticks": ""
             }
            },
            "type": "scatter3d"
           }
          ],
          "scattercarpet": [
           {
            "marker": {
             "colorbar": {
              "outlinewidth": 0,
              "ticks": ""
             }
            },
            "type": "scattercarpet"
           }
          ],
          "scattergeo": [
           {
            "marker": {
             "colorbar": {
              "outlinewidth": 0,
              "ticks": ""
             }
            },
            "type": "scattergeo"
           }
          ],
          "scattergl": [
           {
            "marker": {
             "colorbar": {
              "outlinewidth": 0,
              "ticks": ""
             }
            },
            "type": "scattergl"
           }
          ],
          "scattermapbox": [
           {
            "marker": {
             "colorbar": {
              "outlinewidth": 0,
              "ticks": ""
             }
            },
            "type": "scattermapbox"
           }
          ],
          "scatterpolar": [
           {
            "marker": {
             "colorbar": {
              "outlinewidth": 0,
              "ticks": ""
             }
            },
            "type": "scatterpolar"
           }
          ],
          "scatterpolargl": [
           {
            "marker": {
             "colorbar": {
              "outlinewidth": 0,
              "ticks": ""
             }
            },
            "type": "scatterpolargl"
           }
          ],
          "scatterternary": [
           {
            "marker": {
             "colorbar": {
              "outlinewidth": 0,
              "ticks": ""
             }
            },
            "type": "scatterternary"
           }
          ],
          "surface": [
           {
            "colorbar": {
             "outlinewidth": 0,
             "ticks": ""
            },
            "colorscale": [
             [
              0,
              "#0d0887"
             ],
             [
              0.1111111111111111,
              "#46039f"
             ],
             [
              0.2222222222222222,
              "#7201a8"
             ],
             [
              0.3333333333333333,
              "#9c179e"
             ],
             [
              0.4444444444444444,
              "#bd3786"
             ],
             [
              0.5555555555555556,
              "#d8576b"
             ],
             [
              0.6666666666666666,
              "#ed7953"
             ],
             [
              0.7777777777777778,
              "#fb9f3a"
             ],
             [
              0.8888888888888888,
              "#fdca26"
             ],
             [
              1,
              "#f0f921"
             ]
            ],
            "type": "surface"
           }
          ],
          "table": [
           {
            "cells": {
             "fill": {
              "color": "#EBF0F8"
             },
             "line": {
              "color": "white"
             }
            },
            "header": {
             "fill": {
              "color": "#C8D4E3"
             },
             "line": {
              "color": "white"
             }
            },
            "type": "table"
           }
          ]
         },
         "layout": {
          "annotationdefaults": {
           "arrowcolor": "#2a3f5f",
           "arrowhead": 0,
           "arrowwidth": 1
          },
          "autotypenumbers": "strict",
          "coloraxis": {
           "colorbar": {
            "outlinewidth": 0,
            "ticks": ""
           }
          },
          "colorscale": {
           "diverging": [
            [
             0,
             "#8e0152"
            ],
            [
             0.1,
             "#c51b7d"
            ],
            [
             0.2,
             "#de77ae"
            ],
            [
             0.3,
             "#f1b6da"
            ],
            [
             0.4,
             "#fde0ef"
            ],
            [
             0.5,
             "#f7f7f7"
            ],
            [
             0.6,
             "#e6f5d0"
            ],
            [
             0.7,
             "#b8e186"
            ],
            [
             0.8,
             "#7fbc41"
            ],
            [
             0.9,
             "#4d9221"
            ],
            [
             1,
             "#276419"
            ]
           ],
           "sequential": [
            [
             0,
             "#0d0887"
            ],
            [
             0.1111111111111111,
             "#46039f"
            ],
            [
             0.2222222222222222,
             "#7201a8"
            ],
            [
             0.3333333333333333,
             "#9c179e"
            ],
            [
             0.4444444444444444,
             "#bd3786"
            ],
            [
             0.5555555555555556,
             "#d8576b"
            ],
            [
             0.6666666666666666,
             "#ed7953"
            ],
            [
             0.7777777777777778,
             "#fb9f3a"
            ],
            [
             0.8888888888888888,
             "#fdca26"
            ],
            [
             1,
             "#f0f921"
            ]
           ],
           "sequentialminus": [
            [
             0,
             "#0d0887"
            ],
            [
             0.1111111111111111,
             "#46039f"
            ],
            [
             0.2222222222222222,
             "#7201a8"
            ],
            [
             0.3333333333333333,
             "#9c179e"
            ],
            [
             0.4444444444444444,
             "#bd3786"
            ],
            [
             0.5555555555555556,
             "#d8576b"
            ],
            [
             0.6666666666666666,
             "#ed7953"
            ],
            [
             0.7777777777777778,
             "#fb9f3a"
            ],
            [
             0.8888888888888888,
             "#fdca26"
            ],
            [
             1,
             "#f0f921"
            ]
           ]
          },
          "colorway": [
           "#636efa",
           "#EF553B",
           "#00cc96",
           "#ab63fa",
           "#FFA15A",
           "#19d3f3",
           "#FF6692",
           "#B6E880",
           "#FF97FF",
           "#FECB52"
          ],
          "font": {
           "color": "#2a3f5f"
          },
          "geo": {
           "bgcolor": "white",
           "lakecolor": "white",
           "landcolor": "#E5ECF6",
           "showlakes": true,
           "showland": true,
           "subunitcolor": "white"
          },
          "hoverlabel": {
           "align": "left"
          },
          "hovermode": "closest",
          "mapbox": {
           "style": "light"
          },
          "paper_bgcolor": "white",
          "plot_bgcolor": "#E5ECF6",
          "polar": {
           "angularaxis": {
            "gridcolor": "white",
            "linecolor": "white",
            "ticks": ""
           },
           "bgcolor": "#E5ECF6",
           "radialaxis": {
            "gridcolor": "white",
            "linecolor": "white",
            "ticks": ""
           }
          },
          "scene": {
           "xaxis": {
            "backgroundcolor": "#E5ECF6",
            "gridcolor": "white",
            "gridwidth": 2,
            "linecolor": "white",
            "showbackground": true,
            "ticks": "",
            "zerolinecolor": "white"
           },
           "yaxis": {
            "backgroundcolor": "#E5ECF6",
            "gridcolor": "white",
            "gridwidth": 2,
            "linecolor": "white",
            "showbackground": true,
            "ticks": "",
            "zerolinecolor": "white"
           },
           "zaxis": {
            "backgroundcolor": "#E5ECF6",
            "gridcolor": "white",
            "gridwidth": 2,
            "linecolor": "white",
            "showbackground": true,
            "ticks": "",
            "zerolinecolor": "white"
           }
          },
          "shapedefaults": {
           "line": {
            "color": "#2a3f5f"
           }
          },
          "ternary": {
           "aaxis": {
            "gridcolor": "white",
            "linecolor": "white",
            "ticks": ""
           },
           "baxis": {
            "gridcolor": "white",
            "linecolor": "white",
            "ticks": ""
           },
           "bgcolor": "#E5ECF6",
           "caxis": {
            "gridcolor": "white",
            "linecolor": "white",
            "ticks": ""
           }
          },
          "title": {
           "x": 0.05
          },
          "xaxis": {
           "automargin": true,
           "gridcolor": "white",
           "linecolor": "white",
           "ticks": "",
           "title": {
            "standoff": 15
           },
           "zerolinecolor": "white",
           "zerolinewidth": 2
          },
          "yaxis": {
           "automargin": true,
           "gridcolor": "white",
           "linecolor": "white",
           "ticks": "",
           "title": {
            "standoff": 15
           },
           "zerolinecolor": "white",
           "zerolinewidth": 2
          }
         }
        },
        "title": {
         "font": {
          "family": "serif",
          "size": 20
         },
         "text": "Best hole cards flavors for 2 Players"
        },
        "xaxis": {
         "anchor": "y",
         "domain": [
          0,
          1
         ],
         "showgrid": false,
         "title": {
          "text": ""
         }
        },
        "yaxis": {
         "anchor": "x",
         "domain": [
          0,
          1
         ],
         "range": [
          0,
          1
         ],
         "showgrid": false,
         "showticklabels": false,
         "title": {
          "text": ""
         }
        }
       }
      }
     },
     "metadata": {},
     "output_type": "display_data"
    },
    {
     "name": "stderr",
     "output_type": "stream",
     "text": [
      "INFO: Not saving plot - pass save_plot=True to save it.\n",
      "INFO: Making plotly figure and axis objects\n",
      "c:\\Users\\david\\Documents\\Projects\\holdem_simulator\\src\\plot_builders_plotly.py:158: SettingWithCopyWarning:\n",
      "\n",
      "\n",
      "A value is trying to be set on a copy of a slice from a DataFrame.\n",
      "Try using .loc[row_indexer,col_indexer] = value instead\n",
      "\n",
      "See the caveats in the documentation: https://pandas.pydata.org/pandas-docs/stable/user_guide/indexing.html#returning-a-view-versus-a-copy\n",
      "\n",
      "INFO: Sorting data frame ascending by n_players\n",
      "INFO: Sorting data frame descending by win ratio, win ratio rounded down to nearest 5%\n",
      "INFO: Showing plot object\n"
     ]
    },
    {
     "data": {
      "application/vnd.plotly.v1+json": {
       "config": {
        "plotlyServerURL": "https://plot.ly"
       },
       "data": [
        {
         "alignmentgroup": "True",
         "customdata": [
          [
           0.3153
          ],
          [
           0.2474
          ],
          [
           0.2352
          ],
          [
           0.2162
          ],
          [
           0.2095
          ],
          [
           0.2034
          ],
          [
           0.1984
          ],
          [
           0.1928
          ],
          [
           0.1898
          ],
          [
           0.1886
          ],
          [
           0.1878
          ],
          [
           0.1871
          ],
          [
           0.1856
          ],
          [
           0.1817
          ],
          [
           0.1794
          ],
          [
           0.1792
          ],
          [
           0.1788
          ],
          [
           0.1706
          ],
          [
           0.1695
          ],
          [
           0.1692
          ],
          [
           0.1685
          ],
          [
           0.1657
          ],
          [
           0.1638
          ],
          [
           0.1623
          ],
          [
           0.1613
          ],
          [
           0.1603
          ],
          [
           0.1576
          ],
          [
           0.1573
          ],
          [
           0.1573
          ],
          [
           0.1563
          ],
          [
           0.1542
          ],
          [
           0.1527
          ],
          [
           0.1526
          ],
          [
           0.1523
          ],
          [
           0.151
          ],
          [
           0.1504
          ],
          [
           0.1498
          ],
          [
           0.1496
          ],
          [
           0.1492
          ],
          [
           0.148
          ],
          [
           0.1458
          ],
          [
           0.1454
          ],
          [
           0.145
          ],
          [
           0.1449
          ],
          [
           0.1408
          ],
          [
           0.1407
          ],
          [
           0.1404
          ],
          [
           0.1387
          ],
          [
           0.1384
          ],
          [
           0.1382
          ],
          [
           0.1374
          ],
          [
           0.1369
          ],
          [
           0.1369
          ],
          [
           0.1366
          ],
          [
           0.1356
          ],
          [
           0.1352
          ],
          [
           0.1341
          ],
          [
           0.134
          ],
          [
           0.1339
          ],
          [
           0.1332
          ],
          [
           0.132
          ],
          [
           0.1318
          ],
          [
           0.1307
          ],
          [
           0.1303
          ],
          [
           0.13
          ],
          [
           0.1297
          ],
          [
           0.129
          ],
          [
           0.1289
          ],
          [
           0.1287
          ],
          [
           0.1273
          ],
          [
           0.1267
          ],
          [
           0.1265
          ],
          [
           0.1247
          ],
          [
           0.1243
          ],
          [
           0.1241
          ],
          [
           0.1239
          ],
          [
           0.1235
          ],
          [
           0.1233
          ],
          [
           0.1232
          ],
          [
           0.1229
          ],
          [
           0.1226
          ],
          [
           0.1223
          ],
          [
           0.1219
          ],
          [
           0.1211
          ],
          [
           0.1199
          ],
          [
           0.1194
          ],
          [
           0.1184
          ],
          [
           0.1173
          ],
          [
           0.1171
          ],
          [
           0.1165
          ],
          [
           0.1149
          ],
          [
           0.1146
          ],
          [
           0.1145
          ],
          [
           0.1128
          ],
          [
           0.1128
          ],
          [
           0.1126
          ],
          [
           0.1119
          ],
          [
           0.111
          ],
          [
           0.1088
          ],
          [
           0.1077
          ],
          [
           0.1075
          ],
          [
           0.1073
          ],
          [
           0.1062
          ],
          [
           0.1055
          ],
          [
           0.1054
          ],
          [
           0.1052
          ],
          [
           0.105
          ],
          [
           0.105
          ],
          [
           0.1043
          ],
          [
           0.1041
          ],
          [
           0.1029
          ],
          [
           0.1023
          ],
          [
           0.1017
          ],
          [
           0.1014
          ],
          [
           0.1011
          ],
          [
           0.101
          ],
          [
           0.1009
          ],
          [
           0.0995
          ],
          [
           0.0985
          ],
          [
           0.0983
          ],
          [
           0.0968
          ],
          [
           0.0966
          ],
          [
           0.096
          ],
          [
           0.096
          ],
          [
           0.0956
          ],
          [
           0.0954
          ],
          [
           0.0948
          ],
          [
           0.0946
          ],
          [
           0.0932
          ],
          [
           0.0931
          ],
          [
           0.0927
          ],
          [
           0.0921
          ],
          [
           0.0919
          ],
          [
           0.0917
          ],
          [
           0.0912
          ],
          [
           0.0907
          ],
          [
           0.0895
          ],
          [
           0.0885
          ],
          [
           0.0882
          ],
          [
           0.088
          ],
          [
           0.0877
          ],
          [
           0.0861
          ],
          [
           0.0848
          ],
          [
           0.0839
          ],
          [
           0.0837
          ],
          [
           0.0836
          ],
          [
           0.0828
          ],
          [
           0.0822
          ],
          [
           0.0781
          ],
          [
           0.0778
          ],
          [
           0.0759
          ],
          [
           0.0756
          ],
          [
           0.0754
          ],
          [
           0.0747
          ],
          [
           0.0741
          ],
          [
           0.0737
          ],
          [
           0.0733
          ],
          [
           0.0722
          ],
          [
           0.0715
          ],
          [
           0.0707
          ],
          [
           0.0702
          ],
          [
           0.0691
          ],
          [
           0.0661
          ],
          [
           0.0645
          ],
          [
           0.0631
          ],
          [
           0.0627
          ],
          [
           0.0626
          ],
          [
           0.0611
          ],
          [
           0.0552
          ]
         ],
         "hovertemplate": "hole cards flavor=%{x}<br>win ratio rounded down to nearest 5%=%{y:.0%}<br>win ratio=%{customdata[0]:.2%}<br>appearances=%{marker.color}<extra></extra>",
         "legendgroup": "",
         "marker": {
          "color": [
           2141,
           2211,
           2287,
           1494,
           1508,
           1485,
           2273,
           1416,
           1512,
           1538,
           1480,
           1507,
           1568,
           1519,
           4588,
           1512,
           2226,
           1501,
           4406,
           1554,
           1537,
           1539,
           4433,
           1491,
           2281,
           4435,
           1529,
           4558,
           1475,
           4409,
           1524,
           1467,
           4534,
           1490,
           2265,
           1523,
           1555,
           1477,
           1568,
           4554,
           1475,
           4505,
           1483,
           1574,
           1463,
           1521,
           1481,
           1543,
           1525,
           1483,
           4519,
           2220,
           1519,
           2247,
           1453,
           4587,
           1514,
           1492,
           2293,
           1456,
           1546,
           1510,
           1492,
           1450,
           1539,
           4386,
           1574,
           1552,
           4515,
           1500,
           4522,
           2229,
           1484,
           1505,
           1523,
           1606,
           1538,
           2222,
           1485,
           1465,
           4387,
           1505,
           4453,
           1552,
           4521,
           1558,
           1537,
           1551,
           4542,
           4591,
           1523,
           4652,
           2228,
           1445,
           4434,
           1527,
           4538,
           4559,
           4560,
           1550,
           4511,
           1538,
           1544,
           4540,
           4499,
           1454,
           4563,
           1562,
           4467,
           4486,
           4498,
           1515,
           4473,
           4555,
           4510,
           1426,
           4511,
           1488,
           4549,
           4569,
           4566,
           4443,
           4529,
           1542,
           1496,
           4516,
           1551,
           1437,
           1567,
           4438,
           4401,
           4560,
           1512,
           4556,
           4574,
           1533,
           4504,
           4518,
           4526,
           1534,
           4503,
           4446,
           4565,
           4614,
           4660,
           4531,
           4627,
           4686,
           4469,
           4537,
           4613,
           4618,
           4604,
           4496,
           4519,
           4467,
           4502,
           4516,
           4517,
           4412,
           4503,
           4527,
           4523,
           4606,
           4529,
           4526,
           4554,
           4550,
           4640
          ],
          "coloraxis": "coloraxis",
          "pattern": {
           "shape": ""
          }
         },
         "name": "",
         "offsetgroup": "",
         "orientation": "v",
         "showlegend": false,
         "textposition": "auto",
         "type": "bar",
         "x": [
          "Aces paired",
          "Kings paired",
          "Queens paired",
          "Ace, King suited",
          "Ace, Queen suited",
          "King, Queen suited",
          "Jacks paired",
          "Ace, Jack suited",
          "King, 10 suited",
          "Ace, 10 suited",
          "Queen, 10 suited",
          "Jack, 10 suited",
          "Queen, Jack suited",
          "King, Jack suited",
          "Ace, King off suit",
          "10, 9 suited",
          "10s paired",
          "Jack, 9 suited",
          "Ace, Queen off suit",
          "Ace, 8 suited",
          "Queen, 9 suited",
          "King, 9 suited",
          "King, Jack off suit",
          "Ace, 3 suited",
          "9s paired",
          "King, Queen off suit",
          "Ace, 5 suited",
          "Ace, 10 off suit",
          "Ace, 7 suited",
          "Ace, Jack off suit",
          "Ace, 6 suited",
          "King, 7 suited",
          "King, 10 off suit",
          "10, 8 suited",
          "8s paired",
          "King, 8 suited",
          "Ace, 9 suited",
          "Queen, 8 suited",
          "Ace, 4 suited",
          "Jack, 10 off suit",
          "Jack, 8 suited",
          "Queen, Jack off suit",
          "9, 8 suited",
          "9, 7 suited",
          "Queen, 7 suited",
          "Ace, 2 suited",
          "King, 6 suited",
          "Queen, 5 suited",
          "Queen, 6 suited",
          "8, 5 suited",
          "King, 9 off suit",
          "5s paired",
          "8, 7 suited",
          "7s paired",
          "6, 5 suited",
          "Queen, 10 off suit",
          "Queen, 3 suited",
          "King, 4 suited",
          "6s paired",
          "8, 6 suited",
          "King, 5 suited",
          "King, 3 suited",
          "10, 7 suited",
          "10, 6 suited",
          "9, 6 suited",
          "10, 9 off suit",
          "10, 3 suited",
          "Queen, 2 suited",
          "Ace, 9 off suit",
          "King, 2 suited",
          "Ace, 5 off suit",
          "4s paired",
          "7, 5 suited",
          "10, 5 suited",
          "Queen, 4 suited",
          "Jack, 7 suited",
          "7, 4 suited",
          "2s paired",
          "7, 6 suited",
          "5, 2 suited",
          "Queen, 9 off suit",
          "4, 3 suited",
          "Ace, 8 off suit",
          "Jack, 6 suited",
          "Ace, 3 off suit",
          "Jack, 2 suited",
          "Jack, 5 suited",
          "Jack, 4 suited",
          "Jack, 9 off suit",
          "10, 8 off suit",
          "9, 5 suited",
          "Ace, 7 off suit",
          "3s paired",
          "5, 3 suited",
          "Jack, 8 off suit",
          "5, 4 suited",
          "Queen, 8 off suit",
          "Ace, 4 off suit",
          "Ace, 6 off suit",
          "10, 4 suited",
          "9, 8 off suit",
          "9, 2 suited",
          "Jack, 3 suited",
          "King, 8 off suit",
          "King, 6 off suit",
          "10, 2 suited",
          "King, 5 off suit",
          "9, 4 suited",
          "Jack, 7 off suit",
          "Ace, 2 off suit",
          "8, 7 off suit",
          "8, 4 suited",
          "10, 7 off suit",
          "King, 7 off suit",
          "9, 7 off suit",
          "6, 4 suited",
          "7, 6 off suit",
          "8, 2 suited",
          "8, 6 off suit",
          "King, 4 off suit",
          "Queen, 5 off suit",
          "7, 5 off suit",
          "6, 5 off suit",
          "7, 2 suited",
          "9, 3 suited",
          "King, 3 off suit",
          "6, 2 suited",
          "7, 3 suited",
          "6, 3 suited",
          "Queen, 6 off suit",
          "5, 3 off suit",
          "9, 6 off suit",
          "4, 2 suited",
          "Queen, 7 off suit",
          "5, 4 off suit",
          "8, 3 suited",
          "Queen, 3 off suit",
          "6, 4 off suit",
          "Jack, 5 off suit",
          "3, 2 suited",
          "Queen, 4 off suit",
          "King, 2 off suit",
          "8, 5 off suit",
          "Jack, 6 off suit",
          "10, 6 off suit",
          "7, 4 off suit",
          "Queen, 2 off suit",
          "4, 3 off suit",
          "Jack, 4 off suit",
          "10, 3 off suit",
          "4, 2 off suit",
          "10, 5 off suit",
          "10, 4 off suit",
          "6, 3 off suit",
          "7, 3 off suit",
          "5, 2 off suit",
          "9, 5 off suit",
          "Jack, 2 off suit",
          "Jack, 3 off suit",
          "8, 4 off suit",
          "10, 2 off suit",
          "6, 2 off suit",
          "9, 3 off suit",
          "8, 2 off suit",
          "3, 2 off suit",
          "9, 2 off suit",
          "9, 4 off suit",
          "8, 3 off suit",
          "7, 2 off suit"
         ],
         "xaxis": "x",
         "y": [
          0.3,
          0.2,
          0.2,
          0.2,
          0.2,
          0.2,
          0.15,
          0.15,
          0.15,
          0.15,
          0.15,
          0.15,
          0.15,
          0.15,
          0.15,
          0.15,
          0.15,
          0.15,
          0.15,
          0.15,
          0.15,
          0.15,
          0.15,
          0.15,
          0.15,
          0.15,
          0.15,
          0.15,
          0.15,
          0.15,
          0.15,
          0.15,
          0.15,
          0.15,
          0.15,
          0.15,
          0.1,
          0.1,
          0.1,
          0.1,
          0.1,
          0.1,
          0.1,
          0.1,
          0.1,
          0.1,
          0.1,
          0.1,
          0.1,
          0.1,
          0.1,
          0.1,
          0.1,
          0.1,
          0.1,
          0.1,
          0.1,
          0.1,
          0.1,
          0.1,
          0.1,
          0.1,
          0.1,
          0.1,
          0.1,
          0.1,
          0.1,
          0.1,
          0.1,
          0.1,
          0.1,
          0.1,
          0.1,
          0.1,
          0.1,
          0.1,
          0.1,
          0.1,
          0.1,
          0.1,
          0.1,
          0.1,
          0.1,
          0.1,
          0.1,
          0.1,
          0.1,
          0.1,
          0.1,
          0.1,
          0.1,
          0.1,
          0.1,
          0.1,
          0.1,
          0.1,
          0.1,
          0.1,
          0.1,
          0.1,
          0.1,
          0.1,
          0.1,
          0.1,
          0.1,
          0.1,
          0.1,
          0.1,
          0.1,
          0.1,
          0.1,
          0.1,
          0.1,
          0.1,
          0.1,
          0.1,
          0.1,
          0.05,
          0.05,
          0.05,
          0.05,
          0.05,
          0.05,
          0.05,
          0.05,
          0.05,
          0.05,
          0.05,
          0.05,
          0.05,
          0.05,
          0.05,
          0.05,
          0.05,
          0.05,
          0.05,
          0.05,
          0.05,
          0.05,
          0.05,
          0.05,
          0.05,
          0.05,
          0.05,
          0.05,
          0.05,
          0.05,
          0.05,
          0.05,
          0.05,
          0.05,
          0.05,
          0.05,
          0.05,
          0.05,
          0.05,
          0.05,
          0.05,
          0.05,
          0.05,
          0.05,
          0.05,
          0.05,
          0.05,
          0.05,
          0.05,
          0.05,
          0.05,
          0.05
         ],
         "yaxis": "y"
        },
        {
         "line": {
          "color": "red",
          "width": 1
         },
         "mode": "lines",
         "name": "Likely Win/Lose Threshold",
         "showlegend": true,
         "type": "scatter",
         "x": [
          null
         ],
         "y": [
          null
         ]
        }
       ],
       "layout": {
        "barmode": "relative",
        "coloraxis": {
         "colorbar": {
          "thickness": 10,
          "tickfont": {
           "family": "monospace",
           "size": 12
          },
          "title": {
           "font": {
            "family": "sans-serif",
            "size": 14
           },
           "text": "Appearances"
          }
         },
         "colorscale": [
          [
           0,
           "#fcfdbf"
          ],
          [
           0.1111111111111111,
           "#feca8d"
          ],
          [
           0.2222222222222222,
           "#fd9668"
          ],
          [
           0.3333333333333333,
           "#f1605d"
          ],
          [
           0.4444444444444444,
           "#cd4071"
          ],
          [
           0.5555555555555556,
           "#9e2f7f"
          ],
          [
           0.6666666666666666,
           "#721f81"
          ],
          [
           0.7777777777777778,
           "#440f76"
          ],
          [
           0.8888888888888888,
           "#180f3d"
          ],
          [
           1,
           "#000004"
          ]
         ]
        },
        "legend": {
         "font": {
          "family": "sans-serif",
          "size": 12
         },
         "tracegroupgap": 0,
         "x": 0.5,
         "xanchor": "center",
         "y": 0.99,
         "yanchor": "top"
        },
        "margin": {
         "t": 60
        },
        "plot_bgcolor": "white",
        "shapes": [
         {
          "line": {
           "color": "red",
           "width": 1
          },
          "type": "line",
          "x0": 0,
          "x1": 1,
          "xref": "paper",
          "y0": 0.895,
          "y1": 0.895,
          "yref": "y"
         },
         {
          "fillcolor": "limegreen",
          "layer": "below",
          "line": {
           "width": 0
          },
          "opacity": 0.1,
          "type": "rect",
          "x0": 0,
          "x1": 1,
          "xref": "paper",
          "y0": 0.895,
          "y1": 1,
          "yref": "y"
         },
         {
          "fillcolor": "red",
          "layer": "below",
          "line": {
           "width": 0
          },
          "opacity": 0.1,
          "type": "rect",
          "x0": 0,
          "x1": 1,
          "xref": "paper",
          "y0": 0,
          "y1": 0.895,
          "yref": "y"
         }
        ],
        "template": {
         "data": {
          "bar": [
           {
            "error_x": {
             "color": "#2a3f5f"
            },
            "error_y": {
             "color": "#2a3f5f"
            },
            "marker": {
             "line": {
              "color": "#E5ECF6",
              "width": 0.5
             },
             "pattern": {
              "fillmode": "overlay",
              "size": 10,
              "solidity": 0.2
             }
            },
            "type": "bar"
           }
          ],
          "barpolar": [
           {
            "marker": {
             "line": {
              "color": "#E5ECF6",
              "width": 0.5
             },
             "pattern": {
              "fillmode": "overlay",
              "size": 10,
              "solidity": 0.2
             }
            },
            "type": "barpolar"
           }
          ],
          "carpet": [
           {
            "aaxis": {
             "endlinecolor": "#2a3f5f",
             "gridcolor": "white",
             "linecolor": "white",
             "minorgridcolor": "white",
             "startlinecolor": "#2a3f5f"
            },
            "baxis": {
             "endlinecolor": "#2a3f5f",
             "gridcolor": "white",
             "linecolor": "white",
             "minorgridcolor": "white",
             "startlinecolor": "#2a3f5f"
            },
            "type": "carpet"
           }
          ],
          "choropleth": [
           {
            "colorbar": {
             "outlinewidth": 0,
             "ticks": ""
            },
            "type": "choropleth"
           }
          ],
          "contour": [
           {
            "colorbar": {
             "outlinewidth": 0,
             "ticks": ""
            },
            "colorscale": [
             [
              0,
              "#0d0887"
             ],
             [
              0.1111111111111111,
              "#46039f"
             ],
             [
              0.2222222222222222,
              "#7201a8"
             ],
             [
              0.3333333333333333,
              "#9c179e"
             ],
             [
              0.4444444444444444,
              "#bd3786"
             ],
             [
              0.5555555555555556,
              "#d8576b"
             ],
             [
              0.6666666666666666,
              "#ed7953"
             ],
             [
              0.7777777777777778,
              "#fb9f3a"
             ],
             [
              0.8888888888888888,
              "#fdca26"
             ],
             [
              1,
              "#f0f921"
             ]
            ],
            "type": "contour"
           }
          ],
          "contourcarpet": [
           {
            "colorbar": {
             "outlinewidth": 0,
             "ticks": ""
            },
            "type": "contourcarpet"
           }
          ],
          "heatmap": [
           {
            "colorbar": {
             "outlinewidth": 0,
             "ticks": ""
            },
            "colorscale": [
             [
              0,
              "#0d0887"
             ],
             [
              0.1111111111111111,
              "#46039f"
             ],
             [
              0.2222222222222222,
              "#7201a8"
             ],
             [
              0.3333333333333333,
              "#9c179e"
             ],
             [
              0.4444444444444444,
              "#bd3786"
             ],
             [
              0.5555555555555556,
              "#d8576b"
             ],
             [
              0.6666666666666666,
              "#ed7953"
             ],
             [
              0.7777777777777778,
              "#fb9f3a"
             ],
             [
              0.8888888888888888,
              "#fdca26"
             ],
             [
              1,
              "#f0f921"
             ]
            ],
            "type": "heatmap"
           }
          ],
          "heatmapgl": [
           {
            "colorbar": {
             "outlinewidth": 0,
             "ticks": ""
            },
            "colorscale": [
             [
              0,
              "#0d0887"
             ],
             [
              0.1111111111111111,
              "#46039f"
             ],
             [
              0.2222222222222222,
              "#7201a8"
             ],
             [
              0.3333333333333333,
              "#9c179e"
             ],
             [
              0.4444444444444444,
              "#bd3786"
             ],
             [
              0.5555555555555556,
              "#d8576b"
             ],
             [
              0.6666666666666666,
              "#ed7953"
             ],
             [
              0.7777777777777778,
              "#fb9f3a"
             ],
             [
              0.8888888888888888,
              "#fdca26"
             ],
             [
              1,
              "#f0f921"
             ]
            ],
            "type": "heatmapgl"
           }
          ],
          "histogram": [
           {
            "marker": {
             "pattern": {
              "fillmode": "overlay",
              "size": 10,
              "solidity": 0.2
             }
            },
            "type": "histogram"
           }
          ],
          "histogram2d": [
           {
            "colorbar": {
             "outlinewidth": 0,
             "ticks": ""
            },
            "colorscale": [
             [
              0,
              "#0d0887"
             ],
             [
              0.1111111111111111,
              "#46039f"
             ],
             [
              0.2222222222222222,
              "#7201a8"
             ],
             [
              0.3333333333333333,
              "#9c179e"
             ],
             [
              0.4444444444444444,
              "#bd3786"
             ],
             [
              0.5555555555555556,
              "#d8576b"
             ],
             [
              0.6666666666666666,
              "#ed7953"
             ],
             [
              0.7777777777777778,
              "#fb9f3a"
             ],
             [
              0.8888888888888888,
              "#fdca26"
             ],
             [
              1,
              "#f0f921"
             ]
            ],
            "type": "histogram2d"
           }
          ],
          "histogram2dcontour": [
           {
            "colorbar": {
             "outlinewidth": 0,
             "ticks": ""
            },
            "colorscale": [
             [
              0,
              "#0d0887"
             ],
             [
              0.1111111111111111,
              "#46039f"
             ],
             [
              0.2222222222222222,
              "#7201a8"
             ],
             [
              0.3333333333333333,
              "#9c179e"
             ],
             [
              0.4444444444444444,
              "#bd3786"
             ],
             [
              0.5555555555555556,
              "#d8576b"
             ],
             [
              0.6666666666666666,
              "#ed7953"
             ],
             [
              0.7777777777777778,
              "#fb9f3a"
             ],
             [
              0.8888888888888888,
              "#fdca26"
             ],
             [
              1,
              "#f0f921"
             ]
            ],
            "type": "histogram2dcontour"
           }
          ],
          "mesh3d": [
           {
            "colorbar": {
             "outlinewidth": 0,
             "ticks": ""
            },
            "type": "mesh3d"
           }
          ],
          "parcoords": [
           {
            "line": {
             "colorbar": {
              "outlinewidth": 0,
              "ticks": ""
             }
            },
            "type": "parcoords"
           }
          ],
          "pie": [
           {
            "automargin": true,
            "type": "pie"
           }
          ],
          "scatter": [
           {
            "fillpattern": {
             "fillmode": "overlay",
             "size": 10,
             "solidity": 0.2
            },
            "type": "scatter"
           }
          ],
          "scatter3d": [
           {
            "line": {
             "colorbar": {
              "outlinewidth": 0,
              "ticks": ""
             }
            },
            "marker": {
             "colorbar": {
              "outlinewidth": 0,
              "ticks": ""
             }
            },
            "type": "scatter3d"
           }
          ],
          "scattercarpet": [
           {
            "marker": {
             "colorbar": {
              "outlinewidth": 0,
              "ticks": ""
             }
            },
            "type": "scattercarpet"
           }
          ],
          "scattergeo": [
           {
            "marker": {
             "colorbar": {
              "outlinewidth": 0,
              "ticks": ""
             }
            },
            "type": "scattergeo"
           }
          ],
          "scattergl": [
           {
            "marker": {
             "colorbar": {
              "outlinewidth": 0,
              "ticks": ""
             }
            },
            "type": "scattergl"
           }
          ],
          "scattermapbox": [
           {
            "marker": {
             "colorbar": {
              "outlinewidth": 0,
              "ticks": ""
             }
            },
            "type": "scattermapbox"
           }
          ],
          "scatterpolar": [
           {
            "marker": {
             "colorbar": {
              "outlinewidth": 0,
              "ticks": ""
             }
            },
            "type": "scatterpolar"
           }
          ],
          "scatterpolargl": [
           {
            "marker": {
             "colorbar": {
              "outlinewidth": 0,
              "ticks": ""
             }
            },
            "type": "scatterpolargl"
           }
          ],
          "scatterternary": [
           {
            "marker": {
             "colorbar": {
              "outlinewidth": 0,
              "ticks": ""
             }
            },
            "type": "scatterternary"
           }
          ],
          "surface": [
           {
            "colorbar": {
             "outlinewidth": 0,
             "ticks": ""
            },
            "colorscale": [
             [
              0,
              "#0d0887"
             ],
             [
              0.1111111111111111,
              "#46039f"
             ],
             [
              0.2222222222222222,
              "#7201a8"
             ],
             [
              0.3333333333333333,
              "#9c179e"
             ],
             [
              0.4444444444444444,
              "#bd3786"
             ],
             [
              0.5555555555555556,
              "#d8576b"
             ],
             [
              0.6666666666666666,
              "#ed7953"
             ],
             [
              0.7777777777777778,
              "#fb9f3a"
             ],
             [
              0.8888888888888888,
              "#fdca26"
             ],
             [
              1,
              "#f0f921"
             ]
            ],
            "type": "surface"
           }
          ],
          "table": [
           {
            "cells": {
             "fill": {
              "color": "#EBF0F8"
             },
             "line": {
              "color": "white"
             }
            },
            "header": {
             "fill": {
              "color": "#C8D4E3"
             },
             "line": {
              "color": "white"
             }
            },
            "type": "table"
           }
          ]
         },
         "layout": {
          "annotationdefaults": {
           "arrowcolor": "#2a3f5f",
           "arrowhead": 0,
           "arrowwidth": 1
          },
          "autotypenumbers": "strict",
          "coloraxis": {
           "colorbar": {
            "outlinewidth": 0,
            "ticks": ""
           }
          },
          "colorscale": {
           "diverging": [
            [
             0,
             "#8e0152"
            ],
            [
             0.1,
             "#c51b7d"
            ],
            [
             0.2,
             "#de77ae"
            ],
            [
             0.3,
             "#f1b6da"
            ],
            [
             0.4,
             "#fde0ef"
            ],
            [
             0.5,
             "#f7f7f7"
            ],
            [
             0.6,
             "#e6f5d0"
            ],
            [
             0.7,
             "#b8e186"
            ],
            [
             0.8,
             "#7fbc41"
            ],
            [
             0.9,
             "#4d9221"
            ],
            [
             1,
             "#276419"
            ]
           ],
           "sequential": [
            [
             0,
             "#0d0887"
            ],
            [
             0.1111111111111111,
             "#46039f"
            ],
            [
             0.2222222222222222,
             "#7201a8"
            ],
            [
             0.3333333333333333,
             "#9c179e"
            ],
            [
             0.4444444444444444,
             "#bd3786"
            ],
            [
             0.5555555555555556,
             "#d8576b"
            ],
            [
             0.6666666666666666,
             "#ed7953"
            ],
            [
             0.7777777777777778,
             "#fb9f3a"
            ],
            [
             0.8888888888888888,
             "#fdca26"
            ],
            [
             1,
             "#f0f921"
            ]
           ],
           "sequentialminus": [
            [
             0,
             "#0d0887"
            ],
            [
             0.1111111111111111,
             "#46039f"
            ],
            [
             0.2222222222222222,
             "#7201a8"
            ],
            [
             0.3333333333333333,
             "#9c179e"
            ],
            [
             0.4444444444444444,
             "#bd3786"
            ],
            [
             0.5555555555555556,
             "#d8576b"
            ],
            [
             0.6666666666666666,
             "#ed7953"
            ],
            [
             0.7777777777777778,
             "#fb9f3a"
            ],
            [
             0.8888888888888888,
             "#fdca26"
            ],
            [
             1,
             "#f0f921"
            ]
           ]
          },
          "colorway": [
           "#636efa",
           "#EF553B",
           "#00cc96",
           "#ab63fa",
           "#FFA15A",
           "#19d3f3",
           "#FF6692",
           "#B6E880",
           "#FF97FF",
           "#FECB52"
          ],
          "font": {
           "color": "#2a3f5f"
          },
          "geo": {
           "bgcolor": "white",
           "lakecolor": "white",
           "landcolor": "#E5ECF6",
           "showlakes": true,
           "showland": true,
           "subunitcolor": "white"
          },
          "hoverlabel": {
           "align": "left"
          },
          "hovermode": "closest",
          "mapbox": {
           "style": "light"
          },
          "paper_bgcolor": "white",
          "plot_bgcolor": "#E5ECF6",
          "polar": {
           "angularaxis": {
            "gridcolor": "white",
            "linecolor": "white",
            "ticks": ""
           },
           "bgcolor": "#E5ECF6",
           "radialaxis": {
            "gridcolor": "white",
            "linecolor": "white",
            "ticks": ""
           }
          },
          "scene": {
           "xaxis": {
            "backgroundcolor": "#E5ECF6",
            "gridcolor": "white",
            "gridwidth": 2,
            "linecolor": "white",
            "showbackground": true,
            "ticks": "",
            "zerolinecolor": "white"
           },
           "yaxis": {
            "backgroundcolor": "#E5ECF6",
            "gridcolor": "white",
            "gridwidth": 2,
            "linecolor": "white",
            "showbackground": true,
            "ticks": "",
            "zerolinecolor": "white"
           },
           "zaxis": {
            "backgroundcolor": "#E5ECF6",
            "gridcolor": "white",
            "gridwidth": 2,
            "linecolor": "white",
            "showbackground": true,
            "ticks": "",
            "zerolinecolor": "white"
           }
          },
          "shapedefaults": {
           "line": {
            "color": "#2a3f5f"
           }
          },
          "ternary": {
           "aaxis": {
            "gridcolor": "white",
            "linecolor": "white",
            "ticks": ""
           },
           "baxis": {
            "gridcolor": "white",
            "linecolor": "white",
            "ticks": ""
           },
           "bgcolor": "#E5ECF6",
           "caxis": {
            "gridcolor": "white",
            "linecolor": "white",
            "ticks": ""
           }
          },
          "title": {
           "x": 0.05
          },
          "xaxis": {
           "automargin": true,
           "gridcolor": "white",
           "linecolor": "white",
           "ticks": "",
           "title": {
            "standoff": 15
           },
           "zerolinecolor": "white",
           "zerolinewidth": 2
          },
          "yaxis": {
           "automargin": true,
           "gridcolor": "white",
           "linecolor": "white",
           "ticks": "",
           "title": {
            "standoff": 15
           },
           "zerolinecolor": "white",
           "zerolinewidth": 2
          }
         }
        },
        "title": {
         "font": {
          "family": "serif",
          "size": 20
         },
         "text": "Best hole cards flavors for 10 Players"
        },
        "xaxis": {
         "anchor": "y",
         "domain": [
          0,
          1
         ],
         "showgrid": false,
         "title": {
          "text": ""
         }
        },
        "yaxis": {
         "anchor": "x",
         "domain": [
          0,
          1
         ],
         "range": [
          0,
          1
         ],
         "showgrid": false,
         "showticklabels": false,
         "title": {
          "text": ""
         }
        }
       }
      }
     },
     "metadata": {},
     "output_type": "display_data"
    },
    {
     "name": "stderr",
     "output_type": "stream",
     "text": [
      "INFO: Not saving plot - pass save_plot=True to save it.\n"
     ]
    }
   ],
   "source": [
    "import importlib\n",
    "import src.plot_data\n",
    "importlib.reload(src.plot_data)\n",
    "\n",
    "from src.plot_data import plot_data\n",
    "\n",
    "# for players in range(2, 11):\n",
    "for players in [2, 10]:\n",
    "    plot_data(show_plot=True, n_players_to_plot=players)"
   ]
  },
  {
   "cell_type": "code",
   "execution_count": 3,
   "metadata": {},
   "outputs": [
    {
     "name": "stderr",
     "output_type": "stream",
     "text": [
      "INFO: Making plotly figure and axis objects\n",
      "c:\\Users\\david\\Documents\\Projects\\holdem_simulator\\src\\plot_builders_plotly.py:158: SettingWithCopyWarning:\n",
      "\n",
      "\n",
      "A value is trying to be set on a copy of a slice from a DataFrame.\n",
      "Try using .loc[row_indexer,col_indexer] = value instead\n",
      "\n",
      "See the caveats in the documentation: https://pandas.pydata.org/pandas-docs/stable/user_guide/indexing.html#returning-a-view-versus-a-copy\n",
      "\n",
      "INFO: Sorting data frame ascending by n_players\n",
      "INFO: Sorting data frame descending by win ratio, win ratio rounded down to nearest 5%\n",
      "INFO: Showing plot object\n"
     ]
    },
    {
     "data": {
      "application/vnd.plotly.v1+json": {
       "config": {
        "plotlyServerURL": "https://plot.ly"
       },
       "data": [
        {
         "alignmentgroup": "True",
         "customdata": [
          [
           0.8575
          ],
          [
           0.8321
          ],
          [
           0.7952
          ],
          [
           0.7839
          ],
          [
           0.7734
          ],
          [
           0.7123
          ],
          [
           0.7041
          ],
          [
           0.6968
          ],
          [
           0.6753
          ],
          [
           0.6676
          ],
          [
           0.6667
          ],
          [
           0.6664
          ],
          [
           0.665
          ],
          [
           0.6639
          ],
          [
           0.66
          ],
          [
           0.6553
          ],
          [
           0.6495
          ],
          [
           0.6435
          ],
          [
           0.6415
          ],
          [
           0.6393
          ],
          [
           0.6391
          ],
          [
           0.6386
          ],
          [
           0.6213
          ],
          [
           0.6206
          ],
          [
           0.619
          ],
          [
           0.6183
          ],
          [
           0.6175
          ],
          [
           0.6168
          ],
          [
           0.6149
          ],
          [
           0.6132
          ],
          [
           0.6129
          ],
          [
           0.611
          ],
          [
           0.6105
          ],
          [
           0.6099
          ],
          [
           0.6086
          ],
          [
           0.6073
          ],
          [
           0.6046
          ],
          [
           0.6016
          ],
          [
           0.5998
          ],
          [
           0.5998
          ],
          [
           0.5978
          ],
          [
           0.5972
          ],
          [
           0.5958
          ],
          [
           0.5958
          ],
          [
           0.5874
          ],
          [
           0.5867
          ],
          [
           0.5858
          ],
          [
           0.5856
          ],
          [
           0.5824
          ],
          [
           0.5799
          ],
          [
           0.5758
          ],
          [
           0.5742
          ],
          [
           0.574
          ],
          [
           0.5735
          ],
          [
           0.5732
          ],
          [
           0.5712
          ],
          [
           0.5688
          ],
          [
           0.5652
          ],
          [
           0.564
          ],
          [
           0.5635
          ],
          [
           0.5625
          ],
          [
           0.5606
          ],
          [
           0.5599
          ],
          [
           0.5592
          ],
          [
           0.5572
          ],
          [
           0.5562
          ],
          [
           0.5559
          ],
          [
           0.5534
          ],
          [
           0.5534
          ],
          [
           0.552
          ],
          [
           0.5485
          ],
          [
           0.546
          ],
          [
           0.5456
          ],
          [
           0.5431
          ],
          [
           0.5428
          ],
          [
           0.5403
          ],
          [
           0.5388
          ],
          [
           0.5387
          ],
          [
           0.5326
          ],
          [
           0.5322
          ],
          [
           0.5319
          ],
          [
           0.5318
          ],
          [
           0.5305
          ],
          [
           0.5296
          ],
          [
           0.5288
          ],
          [
           0.5266
          ],
          [
           0.5242
          ],
          [
           0.5237
          ],
          [
           0.5232
          ],
          [
           0.5216
          ],
          [
           0.5191
          ],
          [
           0.5188
          ],
          [
           0.5166
          ],
          [
           0.5166
          ],
          [
           0.5163
          ],
          [
           0.5146
          ],
          [
           0.5078
          ],
          [
           0.5065
          ],
          [
           0.502
          ],
          [
           0.5009
          ],
          [
           0.4988
          ],
          [
           0.4979
          ],
          [
           0.4952
          ],
          [
           0.4951
          ],
          [
           0.4944
          ],
          [
           0.4939
          ],
          [
           0.4933
          ],
          [
           0.4916
          ],
          [
           0.4913
          ],
          [
           0.4885
          ],
          [
           0.488
          ],
          [
           0.4848
          ],
          [
           0.4848
          ],
          [
           0.4844
          ],
          [
           0.4814
          ],
          [
           0.4795
          ],
          [
           0.4793
          ],
          [
           0.4777
          ],
          [
           0.4764
          ],
          [
           0.4693
          ],
          [
           0.4687
          ],
          [
           0.4674
          ],
          [
           0.465
          ],
          [
           0.4646
          ],
          [
           0.464
          ],
          [
           0.4615
          ],
          [
           0.4602
          ],
          [
           0.4591
          ],
          [
           0.457
          ],
          [
           0.4563
          ],
          [
           0.4546
          ],
          [
           0.4497
          ],
          [
           0.4494
          ],
          [
           0.449
          ],
          [
           0.4428
          ],
          [
           0.4406
          ],
          [
           0.438
          ],
          [
           0.4375
          ],
          [
           0.4334
          ],
          [
           0.4281
          ],
          [
           0.4277
          ],
          [
           0.4276
          ],
          [
           0.4253
          ],
          [
           0.4235
          ],
          [
           0.4234
          ],
          [
           0.4197
          ],
          [
           0.4194
          ],
          [
           0.4186
          ],
          [
           0.4175
          ],
          [
           0.4141
          ],
          [
           0.4141
          ],
          [
           0.4126
          ],
          [
           0.4119
          ],
          [
           0.4019
          ],
          [
           0.401
          ],
          [
           0.4009
          ],
          [
           0.3978
          ],
          [
           0.3909
          ],
          [
           0.3898
          ],
          [
           0.3876
          ],
          [
           0.3876
          ],
          [
           0.3875
          ],
          [
           0.3867
          ],
          [
           0.3795
          ],
          [
           0.3772
          ],
          [
           0.3722
          ],
          [
           0.3692
          ],
          [
           0.3681
          ],
          [
           0.3523
          ]
         ],
         "hovertemplate": "hole cards flavor=%{x}<br>win ratio rounded down to nearest 5%=%{y:.0%}<br>win ratio=%{customdata[0]:.2%}<br>appearances=%{marker.color}<extra></extra>",
         "legendgroup": "",
         "marker": {
          "color": [
           1782,
           1793,
           1821,
           1772,
           1898,
           1870,
           1744,
           1692,
           1281,
           3646,
           1188,
           1157,
           3582,
           1187,
           1197,
           1178,
           1789,
           1178,
           3623,
           3596,
           1100,
           1165,
           1175,
           3571,
           1231,
           3581,
           1260,
           1182,
           1153,
           1197,
           3756,
           1198,
           3556,
           3679,
           3623,
           1151,
           1186,
           3569,
           3593,
           1744,
           1206,
           3553,
           3585,
           1232,
           3667,
           3562,
           1236,
           1221,
           1281,
           1195,
           3654,
           1254,
           3697,
           1245,
           1237,
           1819,
           3641,
           1173,
           3784,
           1189,
           3586,
           3603,
           1161,
           1225,
           3489,
           3594,
           1225,
           3612,
           3533,
           3594,
           1185,
           1260,
           1140,
           1810,
           1227,
           1216,
           1199,
           1162,
           1196,
           3615,
           3642,
           1824,
           3608,
           3552,
           1199,
           3536,
           1238,
           1268,
           3649,
           3549,
           1202,
           3570,
           1206,
           1206,
           1166,
           3634,
           3645,
           1226,
           1231,
           3713,
           1245,
           3621,
           3526,
           1232,
           1169,
           1306,
           1261,
           3631,
           3576,
           1308,
           1209,
           3655,
           3616,
           1119,
           3652,
           1197,
           3626,
           3609,
           3650,
           3605,
           1199,
           3680,
           3645,
           1216,
           3698,
           3606,
           3572,
           3546,
           1199,
           1166,
           1223,
           3609,
           1246,
           1216,
           3735,
           1212,
           1178,
           1184,
           3528,
           1189,
           3582,
           3627,
           3776,
           3691,
           1207,
           3636,
           1185,
           3650,
           3650,
           1222,
           1176,
           3587,
           1294,
           3655,
           3621,
           3642,
           1209,
           3617,
           3661,
           1197,
           3692,
           3572,
           1244,
           1183,
           3632,
           3678,
           3592,
           3581,
           3710
          ],
          "coloraxis": "coloraxis",
          "pattern": {
           "shape": ""
          }
         },
         "name": "",
         "offsetgroup": "",
         "orientation": "v",
         "showlegend": false,
         "textposition": "auto",
         "type": "bar",
         "x": [
          "Aces paired",
          "Kings paired",
          "Queens paired",
          "Jacks paired",
          "10s paired",
          "8s paired",
          "9s paired",
          "7s paired",
          "Ace, Queen suited",
          "Ace, 10 off suit",
          "Ace, Jack suited",
          "Ace, 10 suited",
          "Ace, King off suit",
          "Ace, King suited",
          "King, Queen suited",
          "Ace, 9 suited",
          "6s paired",
          "King, Jack suited",
          "Ace, Queen off suit",
          "Ace, Jack off suit",
          "Ace, 8 suited",
          "Ace, 7 suited",
          "King, 10 suited",
          "King, Jack off suit",
          "Ace, 5 suited",
          "King, Queen off suit",
          "Ace, 3 suited",
          "King, 8 suited",
          "King, 9 suited",
          "Queen, Jack suited",
          "Ace, 9 off suit",
          "Ace, 6 suited",
          "Ace, 8 off suit",
          "Ace, 7 off suit",
          "King, 10 off suit",
          "King, 7 suited",
          "Ace, 4 suited",
          "Ace, 5 off suit",
          "Ace, 6 off suit",
          "5s paired",
          "King, 4 suited",
          "King, 9 off suit",
          "Queen, 10 off suit",
          "Jack, 10 suited",
          "Ace, 4 off suit",
          "Queen, Jack off suit",
          "Queen, 8 suited",
          "Queen, 10 suited",
          "Queen, 9 suited",
          "King, 6 suited",
          "King, 6 off suit",
          "Ace, 2 suited",
          "Ace, 3 off suit",
          "Jack, 8 suited",
          "King, 5 suited",
          "4s paired",
          "King, 8 off suit",
          "King, 3 suited",
          "Jack, 10 off suit",
          "Queen, 3 suited",
          "Jack, 9 off suit",
          "King, 4 off suit",
          "Jack, 9 suited",
          "Jack, 7 suited",
          "Queen, 8 off suit",
          "Queen, 9 off suit",
          "Queen, 5 suited",
          "King, 7 off suit",
          "King, 5 off suit",
          "Ace, 2 off suit",
          "Queen, 4 suited",
          "Queen, 7 suited",
          "Queen, 6 suited",
          "3s paired",
          "King, 2 suited",
          "Jack, 4 suited",
          "10, 8 suited",
          "9, 8 suited",
          "10, 7 suited",
          "10, 9 off suit",
          "Jack, 8 off suit",
          "2s paired",
          "King, 2 off suit",
          "Queen, 6 off suit",
          "Jack, 6 suited",
          "King, 3 off suit",
          "Jack, 3 suited",
          "10, 9 suited",
          "Queen, 7 off suit",
          "Queen, 5 off suit",
          "9, 7 suited",
          "Jack, 7 off suit",
          "10, 6 suited",
          "Queen, 2 suited",
          "8, 6 suited",
          "9, 8 off suit",
          "Queen, 4 off suit",
          "Jack, 5 suited",
          "8, 7 suited",
          "10, 7 off suit",
          "10, 5 suited",
          "Queen, 3 off suit",
          "10, 8 off suit",
          "Jack, 2 suited",
          "10, 2 suited",
          "9, 6 suited",
          "9, 5 suited",
          "Jack, 5 off suit",
          "Jack, 4 off suit",
          "7, 6 suited",
          "8, 5 suited",
          "Jack, 3 off suit",
          "Queen, 2 off suit",
          "9, 4 suited",
          "10, 6 off suit",
          "6, 5 suited",
          "9, 7 off suit",
          "8, 7 off suit",
          "Jack, 6 off suit",
          "9, 6 off suit",
          "7, 5 suited",
          "10, 5 off suit",
          "10, 3 off suit",
          "7, 4 suited",
          "Jack, 2 off suit",
          "7, 6 off suit",
          "10, 4 off suit",
          "9, 5 off suit",
          "9, 3 suited",
          "10, 3 suited",
          "8, 2 suited",
          "8, 6 off suit",
          "5, 4 suited",
          "10, 4 suited",
          "8, 5 off suit",
          "6, 4 suited",
          "9, 2 suited",
          "8, 4 suited",
          "7, 5 off suit",
          "8, 3 suited",
          "10, 2 off suit",
          "9, 4 off suit",
          "8, 4 off suit",
          "5, 4 off suit",
          "4, 3 suited",
          "6, 5 off suit",
          "5, 3 suited",
          "9, 3 off suit",
          "9, 2 off suit",
          "5, 2 suited",
          "6, 3 suited",
          "6, 4 off suit",
          "7, 2 suited",
          "8, 2 off suit",
          "7, 4 off suit",
          "8, 3 off suit",
          "7, 3 suited",
          "5, 3 off suit",
          "6, 3 off suit",
          "4, 2 suited",
          "4, 3 off suit",
          "7, 2 off suit",
          "6, 2 suited",
          "3, 2 suited",
          "6, 2 off suit",
          "7, 3 off suit",
          "5, 2 off suit",
          "3, 2 off suit",
          "4, 2 off suit"
         ],
         "xaxis": "x",
         "y": [
          0.8500000000000001,
          0.8,
          0.75,
          0.75,
          0.75,
          0.7000000000000001,
          0.7000000000000001,
          0.65,
          0.65,
          0.65,
          0.65,
          0.65,
          0.65,
          0.65,
          0.65,
          0.65,
          0.6000000000000001,
          0.6000000000000001,
          0.6000000000000001,
          0.6000000000000001,
          0.6000000000000001,
          0.6000000000000001,
          0.6000000000000001,
          0.6000000000000001,
          0.6000000000000001,
          0.6000000000000001,
          0.6000000000000001,
          0.6000000000000001,
          0.6000000000000001,
          0.6000000000000001,
          0.6000000000000001,
          0.6000000000000001,
          0.6000000000000001,
          0.6000000000000001,
          0.6000000000000001,
          0.6000000000000001,
          0.6000000000000001,
          0.6000000000000001,
          0.55,
          0.55,
          0.55,
          0.55,
          0.55,
          0.55,
          0.55,
          0.55,
          0.55,
          0.55,
          0.55,
          0.55,
          0.55,
          0.55,
          0.55,
          0.55,
          0.55,
          0.55,
          0.55,
          0.55,
          0.55,
          0.55,
          0.55,
          0.55,
          0.55,
          0.55,
          0.55,
          0.55,
          0.55,
          0.55,
          0.55,
          0.55,
          0.5,
          0.5,
          0.5,
          0.5,
          0.5,
          0.5,
          0.5,
          0.5,
          0.5,
          0.5,
          0.5,
          0.5,
          0.5,
          0.5,
          0.5,
          0.5,
          0.5,
          0.5,
          0.5,
          0.5,
          0.5,
          0.5,
          0.5,
          0.5,
          0.5,
          0.5,
          0.5,
          0.5,
          0.5,
          0.5,
          0.45,
          0.45,
          0.45,
          0.45,
          0.45,
          0.45,
          0.45,
          0.45,
          0.45,
          0.45,
          0.45,
          0.45,
          0.45,
          0.45,
          0.45,
          0.45,
          0.45,
          0.45,
          0.45,
          0.45,
          0.45,
          0.45,
          0.45,
          0.45,
          0.45,
          0.45,
          0.45,
          0.45,
          0.45,
          0.45,
          0.45,
          0.4,
          0.4,
          0.4,
          0.4,
          0.4,
          0.4,
          0.4,
          0.4,
          0.4,
          0.4,
          0.4,
          0.4,
          0.4,
          0.4,
          0.4,
          0.4,
          0.4,
          0.4,
          0.4,
          0.4,
          0.4,
          0.4,
          0.4,
          0.4,
          0.4,
          0.35,
          0.35,
          0.35,
          0.35,
          0.35,
          0.35,
          0.35,
          0.35,
          0.35,
          0.35,
          0.35,
          0.35,
          0.35
         ],
         "yaxis": "y"
        },
        {
         "line": {
          "color": "red",
          "width": 1
         },
         "mode": "lines",
         "name": "Likely Win/Lose Threshold",
         "showlegend": true,
         "type": "scatter",
         "x": [
          null
         ],
         "y": [
          null
         ]
        }
       ],
       "layout": {
        "barmode": "relative",
        "coloraxis": {
         "colorbar": {
          "thickness": 10,
          "tickfont": {
           "family": "monospace",
           "size": 12
          },
          "title": {
           "font": {
            "family": "sans-serif",
            "size": 14
           },
           "text": "Appearances"
          }
         },
         "colorscale": [
          [
           0,
           "#fcfdbf"
          ],
          [
           0.1111111111111111,
           "#feca8d"
          ],
          [
           0.2222222222222222,
           "#fd9668"
          ],
          [
           0.3333333333333333,
           "#f1605d"
          ],
          [
           0.4444444444444444,
           "#cd4071"
          ],
          [
           0.5555555555555556,
           "#9e2f7f"
          ],
          [
           0.6666666666666666,
           "#721f81"
          ],
          [
           0.7777777777777778,
           "#440f76"
          ],
          [
           0.8888888888888888,
           "#180f3d"
          ],
          [
           1,
           "#000004"
          ]
         ]
        },
        "legend": {
         "font": {
          "family": "sans-serif",
          "size": 12
         },
         "tracegroupgap": 0,
         "x": 0.5,
         "xanchor": "center",
         "y": 0.99,
         "yanchor": "top"
        },
        "margin": {
         "t": 60
        },
        "plot_bgcolor": "white",
        "shapes": [
         {
          "line": {
           "color": "red",
           "width": 1
          },
          "type": "line",
          "x0": 0,
          "x1": 1,
          "xref": "paper",
          "y0": 0.495,
          "y1": 0.495,
          "yref": "y"
         },
         {
          "fillcolor": "limegreen",
          "layer": "below",
          "line": {
           "width": 0
          },
          "opacity": 0.1,
          "type": "rect",
          "x0": 0,
          "x1": 1,
          "xref": "paper",
          "y0": 0.495,
          "y1": 1,
          "yref": "y"
         },
         {
          "fillcolor": "red",
          "layer": "below",
          "line": {
           "width": 0
          },
          "opacity": 0.1,
          "type": "rect",
          "x0": 0,
          "x1": 1,
          "xref": "paper",
          "y0": 0,
          "y1": 0.495,
          "yref": "y"
         }
        ],
        "template": {
         "data": {
          "bar": [
           {
            "error_x": {
             "color": "#2a3f5f"
            },
            "error_y": {
             "color": "#2a3f5f"
            },
            "marker": {
             "line": {
              "color": "#E5ECF6",
              "width": 0.5
             },
             "pattern": {
              "fillmode": "overlay",
              "size": 10,
              "solidity": 0.2
             }
            },
            "type": "bar"
           }
          ],
          "barpolar": [
           {
            "marker": {
             "line": {
              "color": "#E5ECF6",
              "width": 0.5
             },
             "pattern": {
              "fillmode": "overlay",
              "size": 10,
              "solidity": 0.2
             }
            },
            "type": "barpolar"
           }
          ],
          "carpet": [
           {
            "aaxis": {
             "endlinecolor": "#2a3f5f",
             "gridcolor": "white",
             "linecolor": "white",
             "minorgridcolor": "white",
             "startlinecolor": "#2a3f5f"
            },
            "baxis": {
             "endlinecolor": "#2a3f5f",
             "gridcolor": "white",
             "linecolor": "white",
             "minorgridcolor": "white",
             "startlinecolor": "#2a3f5f"
            },
            "type": "carpet"
           }
          ],
          "choropleth": [
           {
            "colorbar": {
             "outlinewidth": 0,
             "ticks": ""
            },
            "type": "choropleth"
           }
          ],
          "contour": [
           {
            "colorbar": {
             "outlinewidth": 0,
             "ticks": ""
            },
            "colorscale": [
             [
              0,
              "#0d0887"
             ],
             [
              0.1111111111111111,
              "#46039f"
             ],
             [
              0.2222222222222222,
              "#7201a8"
             ],
             [
              0.3333333333333333,
              "#9c179e"
             ],
             [
              0.4444444444444444,
              "#bd3786"
             ],
             [
              0.5555555555555556,
              "#d8576b"
             ],
             [
              0.6666666666666666,
              "#ed7953"
             ],
             [
              0.7777777777777778,
              "#fb9f3a"
             ],
             [
              0.8888888888888888,
              "#fdca26"
             ],
             [
              1,
              "#f0f921"
             ]
            ],
            "type": "contour"
           }
          ],
          "contourcarpet": [
           {
            "colorbar": {
             "outlinewidth": 0,
             "ticks": ""
            },
            "type": "contourcarpet"
           }
          ],
          "heatmap": [
           {
            "colorbar": {
             "outlinewidth": 0,
             "ticks": ""
            },
            "colorscale": [
             [
              0,
              "#0d0887"
             ],
             [
              0.1111111111111111,
              "#46039f"
             ],
             [
              0.2222222222222222,
              "#7201a8"
             ],
             [
              0.3333333333333333,
              "#9c179e"
             ],
             [
              0.4444444444444444,
              "#bd3786"
             ],
             [
              0.5555555555555556,
              "#d8576b"
             ],
             [
              0.6666666666666666,
              "#ed7953"
             ],
             [
              0.7777777777777778,
              "#fb9f3a"
             ],
             [
              0.8888888888888888,
              "#fdca26"
             ],
             [
              1,
              "#f0f921"
             ]
            ],
            "type": "heatmap"
           }
          ],
          "heatmapgl": [
           {
            "colorbar": {
             "outlinewidth": 0,
             "ticks": ""
            },
            "colorscale": [
             [
              0,
              "#0d0887"
             ],
             [
              0.1111111111111111,
              "#46039f"
             ],
             [
              0.2222222222222222,
              "#7201a8"
             ],
             [
              0.3333333333333333,
              "#9c179e"
             ],
             [
              0.4444444444444444,
              "#bd3786"
             ],
             [
              0.5555555555555556,
              "#d8576b"
             ],
             [
              0.6666666666666666,
              "#ed7953"
             ],
             [
              0.7777777777777778,
              "#fb9f3a"
             ],
             [
              0.8888888888888888,
              "#fdca26"
             ],
             [
              1,
              "#f0f921"
             ]
            ],
            "type": "heatmapgl"
           }
          ],
          "histogram": [
           {
            "marker": {
             "pattern": {
              "fillmode": "overlay",
              "size": 10,
              "solidity": 0.2
             }
            },
            "type": "histogram"
           }
          ],
          "histogram2d": [
           {
            "colorbar": {
             "outlinewidth": 0,
             "ticks": ""
            },
            "colorscale": [
             [
              0,
              "#0d0887"
             ],
             [
              0.1111111111111111,
              "#46039f"
             ],
             [
              0.2222222222222222,
              "#7201a8"
             ],
             [
              0.3333333333333333,
              "#9c179e"
             ],
             [
              0.4444444444444444,
              "#bd3786"
             ],
             [
              0.5555555555555556,
              "#d8576b"
             ],
             [
              0.6666666666666666,
              "#ed7953"
             ],
             [
              0.7777777777777778,
              "#fb9f3a"
             ],
             [
              0.8888888888888888,
              "#fdca26"
             ],
             [
              1,
              "#f0f921"
             ]
            ],
            "type": "histogram2d"
           }
          ],
          "histogram2dcontour": [
           {
            "colorbar": {
             "outlinewidth": 0,
             "ticks": ""
            },
            "colorscale": [
             [
              0,
              "#0d0887"
             ],
             [
              0.1111111111111111,
              "#46039f"
             ],
             [
              0.2222222222222222,
              "#7201a8"
             ],
             [
              0.3333333333333333,
              "#9c179e"
             ],
             [
              0.4444444444444444,
              "#bd3786"
             ],
             [
              0.5555555555555556,
              "#d8576b"
             ],
             [
              0.6666666666666666,
              "#ed7953"
             ],
             [
              0.7777777777777778,
              "#fb9f3a"
             ],
             [
              0.8888888888888888,
              "#fdca26"
             ],
             [
              1,
              "#f0f921"
             ]
            ],
            "type": "histogram2dcontour"
           }
          ],
          "mesh3d": [
           {
            "colorbar": {
             "outlinewidth": 0,
             "ticks": ""
            },
            "type": "mesh3d"
           }
          ],
          "parcoords": [
           {
            "line": {
             "colorbar": {
              "outlinewidth": 0,
              "ticks": ""
             }
            },
            "type": "parcoords"
           }
          ],
          "pie": [
           {
            "automargin": true,
            "type": "pie"
           }
          ],
          "scatter": [
           {
            "fillpattern": {
             "fillmode": "overlay",
             "size": 10,
             "solidity": 0.2
            },
            "type": "scatter"
           }
          ],
          "scatter3d": [
           {
            "line": {
             "colorbar": {
              "outlinewidth": 0,
              "ticks": ""
             }
            },
            "marker": {
             "colorbar": {
              "outlinewidth": 0,
              "ticks": ""
             }
            },
            "type": "scatter3d"
           }
          ],
          "scattercarpet": [
           {
            "marker": {
             "colorbar": {
              "outlinewidth": 0,
              "ticks": ""
             }
            },
            "type": "scattercarpet"
           }
          ],
          "scattergeo": [
           {
            "marker": {
             "colorbar": {
              "outlinewidth": 0,
              "ticks": ""
             }
            },
            "type": "scattergeo"
           }
          ],
          "scattergl": [
           {
            "marker": {
             "colorbar": {
              "outlinewidth": 0,
              "ticks": ""
             }
            },
            "type": "scattergl"
           }
          ],
          "scattermapbox": [
           {
            "marker": {
             "colorbar": {
              "outlinewidth": 0,
              "ticks": ""
             }
            },
            "type": "scattermapbox"
           }
          ],
          "scatterpolar": [
           {
            "marker": {
             "colorbar": {
              "outlinewidth": 0,
              "ticks": ""
             }
            },
            "type": "scatterpolar"
           }
          ],
          "scatterpolargl": [
           {
            "marker": {
             "colorbar": {
              "outlinewidth": 0,
              "ticks": ""
             }
            },
            "type": "scatterpolargl"
           }
          ],
          "scatterternary": [
           {
            "marker": {
             "colorbar": {
              "outlinewidth": 0,
              "ticks": ""
             }
            },
            "type": "scatterternary"
           }
          ],
          "surface": [
           {
            "colorbar": {
             "outlinewidth": 0,
             "ticks": ""
            },
            "colorscale": [
             [
              0,
              "#0d0887"
             ],
             [
              0.1111111111111111,
              "#46039f"
             ],
             [
              0.2222222222222222,
              "#7201a8"
             ],
             [
              0.3333333333333333,
              "#9c179e"
             ],
             [
              0.4444444444444444,
              "#bd3786"
             ],
             [
              0.5555555555555556,
              "#d8576b"
             ],
             [
              0.6666666666666666,
              "#ed7953"
             ],
             [
              0.7777777777777778,
              "#fb9f3a"
             ],
             [
              0.8888888888888888,
              "#fdca26"
             ],
             [
              1,
              "#f0f921"
             ]
            ],
            "type": "surface"
           }
          ],
          "table": [
           {
            "cells": {
             "fill": {
              "color": "#EBF0F8"
             },
             "line": {
              "color": "white"
             }
            },
            "header": {
             "fill": {
              "color": "#C8D4E3"
             },
             "line": {
              "color": "white"
             }
            },
            "type": "table"
           }
          ]
         },
         "layout": {
          "annotationdefaults": {
           "arrowcolor": "#2a3f5f",
           "arrowhead": 0,
           "arrowwidth": 1
          },
          "autotypenumbers": "strict",
          "coloraxis": {
           "colorbar": {
            "outlinewidth": 0,
            "ticks": ""
           }
          },
          "colorscale": {
           "diverging": [
            [
             0,
             "#8e0152"
            ],
            [
             0.1,
             "#c51b7d"
            ],
            [
             0.2,
             "#de77ae"
            ],
            [
             0.3,
             "#f1b6da"
            ],
            [
             0.4,
             "#fde0ef"
            ],
            [
             0.5,
             "#f7f7f7"
            ],
            [
             0.6,
             "#e6f5d0"
            ],
            [
             0.7,
             "#b8e186"
            ],
            [
             0.8,
             "#7fbc41"
            ],
            [
             0.9,
             "#4d9221"
            ],
            [
             1,
             "#276419"
            ]
           ],
           "sequential": [
            [
             0,
             "#0d0887"
            ],
            [
             0.1111111111111111,
             "#46039f"
            ],
            [
             0.2222222222222222,
             "#7201a8"
            ],
            [
             0.3333333333333333,
             "#9c179e"
            ],
            [
             0.4444444444444444,
             "#bd3786"
            ],
            [
             0.5555555555555556,
             "#d8576b"
            ],
            [
             0.6666666666666666,
             "#ed7953"
            ],
            [
             0.7777777777777778,
             "#fb9f3a"
            ],
            [
             0.8888888888888888,
             "#fdca26"
            ],
            [
             1,
             "#f0f921"
            ]
           ],
           "sequentialminus": [
            [
             0,
             "#0d0887"
            ],
            [
             0.1111111111111111,
             "#46039f"
            ],
            [
             0.2222222222222222,
             "#7201a8"
            ],
            [
             0.3333333333333333,
             "#9c179e"
            ],
            [
             0.4444444444444444,
             "#bd3786"
            ],
            [
             0.5555555555555556,
             "#d8576b"
            ],
            [
             0.6666666666666666,
             "#ed7953"
            ],
            [
             0.7777777777777778,
             "#fb9f3a"
            ],
            [
             0.8888888888888888,
             "#fdca26"
            ],
            [
             1,
             "#f0f921"
            ]
           ]
          },
          "colorway": [
           "#636efa",
           "#EF553B",
           "#00cc96",
           "#ab63fa",
           "#FFA15A",
           "#19d3f3",
           "#FF6692",
           "#B6E880",
           "#FF97FF",
           "#FECB52"
          ],
          "font": {
           "color": "#2a3f5f"
          },
          "geo": {
           "bgcolor": "white",
           "lakecolor": "white",
           "landcolor": "#E5ECF6",
           "showlakes": true,
           "showland": true,
           "subunitcolor": "white"
          },
          "hoverlabel": {
           "align": "left"
          },
          "hovermode": "closest",
          "mapbox": {
           "style": "light"
          },
          "paper_bgcolor": "white",
          "plot_bgcolor": "#E5ECF6",
          "polar": {
           "angularaxis": {
            "gridcolor": "white",
            "linecolor": "white",
            "ticks": ""
           },
           "bgcolor": "#E5ECF6",
           "radialaxis": {
            "gridcolor": "white",
            "linecolor": "white",
            "ticks": ""
           }
          },
          "scene": {
           "xaxis": {
            "backgroundcolor": "#E5ECF6",
            "gridcolor": "white",
            "gridwidth": 2,
            "linecolor": "white",
            "showbackground": true,
            "ticks": "",
            "zerolinecolor": "white"
           },
           "yaxis": {
            "backgroundcolor": "#E5ECF6",
            "gridcolor": "white",
            "gridwidth": 2,
            "linecolor": "white",
            "showbackground": true,
            "ticks": "",
            "zerolinecolor": "white"
           },
           "zaxis": {
            "backgroundcolor": "#E5ECF6",
            "gridcolor": "white",
            "gridwidth": 2,
            "linecolor": "white",
            "showbackground": true,
            "ticks": "",
            "zerolinecolor": "white"
           }
          },
          "shapedefaults": {
           "line": {
            "color": "#2a3f5f"
           }
          },
          "ternary": {
           "aaxis": {
            "gridcolor": "white",
            "linecolor": "white",
            "ticks": ""
           },
           "baxis": {
            "gridcolor": "white",
            "linecolor": "white",
            "ticks": ""
           },
           "bgcolor": "#E5ECF6",
           "caxis": {
            "gridcolor": "white",
            "linecolor": "white",
            "ticks": ""
           }
          },
          "title": {
           "x": 0.05
          },
          "xaxis": {
           "automargin": true,
           "gridcolor": "white",
           "linecolor": "white",
           "ticks": "",
           "title": {
            "standoff": 15
           },
           "zerolinecolor": "white",
           "zerolinewidth": 2
          },
          "yaxis": {
           "automargin": true,
           "gridcolor": "white",
           "linecolor": "white",
           "ticks": "",
           "title": {
            "standoff": 15
           },
           "zerolinecolor": "white",
           "zerolinewidth": 2
          }
         }
        },
        "title": {
         "font": {
          "family": "serif",
          "size": 20
         },
         "text": "Best hole cards flavors for 2 Players"
        },
        "xaxis": {
         "anchor": "y",
         "domain": [
          0,
          1
         ],
         "showgrid": false,
         "title": {
          "text": ""
         }
        },
        "yaxis": {
         "anchor": "x",
         "domain": [
          0,
          1
         ],
         "range": [
          0,
          1
         ],
         "showgrid": false,
         "showticklabels": false,
         "title": {
          "text": ""
         }
        }
       }
      }
     },
     "metadata": {},
     "output_type": "display_data"
    },
    {
     "name": "stderr",
     "output_type": "stream",
     "text": [
      "INFO: Not saving plot - pass save_plot=True to save it.\n",
      "INFO: Making plotly figure and axis objects\n",
      "c:\\Users\\david\\Documents\\Projects\\holdem_simulator\\src\\plot_builders_plotly.py:158: SettingWithCopyWarning:\n",
      "\n",
      "\n",
      "A value is trying to be set on a copy of a slice from a DataFrame.\n",
      "Try using .loc[row_indexer,col_indexer] = value instead\n",
      "\n",
      "See the caveats in the documentation: https://pandas.pydata.org/pandas-docs/stable/user_guide/indexing.html#returning-a-view-versus-a-copy\n",
      "\n",
      "INFO: Sorting data frame ascending by n_players\n",
      "INFO: Sorting data frame descending by win ratio, win ratio rounded down to nearest 5%\n",
      "INFO: Showing plot object\n"
     ]
    },
    {
     "data": {
      "application/vnd.plotly.v1+json": {
       "config": {
        "plotlyServerURL": "https://plot.ly"
       },
       "data": [
        {
         "alignmentgroup": "True",
         "customdata": [
          [
           0.7595
          ],
          [
           0.6935
          ],
          [
           0.6595
          ],
          [
           0.6286
          ],
          [
           0.5915
          ],
          [
           0.5409
          ],
          [
           0.5086
          ],
          [
           0.5058
          ],
          [
           0.5035
          ],
          [
           0.5032
          ],
          [
           0.4963
          ],
          [
           0.4822
          ],
          [
           0.4818
          ],
          [
           0.4812
          ],
          [
           0.4804
          ],
          [
           0.4663
          ],
          [
           0.4658
          ],
          [
           0.4604
          ],
          [
           0.4568
          ],
          [
           0.4563
          ],
          [
           0.4558
          ],
          [
           0.4547
          ],
          [
           0.4506
          ],
          [
           0.4485
          ],
          [
           0.4484
          ],
          [
           0.4456
          ],
          [
           0.4445
          ],
          [
           0.4392
          ],
          [
           0.4379
          ],
          [
           0.4355
          ],
          [
           0.4355
          ],
          [
           0.435
          ],
          [
           0.4321
          ],
          [
           0.4237
          ],
          [
           0.4232
          ],
          [
           0.4217
          ],
          [
           0.4205
          ],
          [
           0.4193
          ],
          [
           0.419
          ],
          [
           0.4162
          ],
          [
           0.4159
          ],
          [
           0.4126
          ],
          [
           0.412
          ],
          [
           0.4104
          ],
          [
           0.4078
          ],
          [
           0.4046
          ],
          [
           0.4032
          ],
          [
           0.403
          ],
          [
           0.4004
          ],
          [
           0.3982
          ],
          [
           0.3976
          ],
          [
           0.3965
          ],
          [
           0.3955
          ],
          [
           0.3952
          ],
          [
           0.3935
          ],
          [
           0.3927
          ],
          [
           0.3917
          ],
          [
           0.3915
          ],
          [
           0.3915
          ],
          [
           0.3872
          ],
          [
           0.3871
          ],
          [
           0.3824
          ],
          [
           0.3807
          ],
          [
           0.3806
          ],
          [
           0.3774
          ],
          [
           0.3771
          ],
          [
           0.3766
          ],
          [
           0.3723
          ],
          [
           0.3716
          ],
          [
           0.371
          ],
          [
           0.371
          ],
          [
           0.3667
          ],
          [
           0.366
          ],
          [
           0.3655
          ],
          [
           0.3633
          ],
          [
           0.3602
          ],
          [
           0.3601
          ],
          [
           0.3591
          ],
          [
           0.3578
          ],
          [
           0.3577
          ],
          [
           0.3563
          ],
          [
           0.3552
          ],
          [
           0.3551
          ],
          [
           0.3526
          ],
          [
           0.3518
          ],
          [
           0.3504
          ],
          [
           0.3502
          ],
          [
           0.3502
          ],
          [
           0.3494
          ],
          [
           0.3472
          ],
          [
           0.3467
          ],
          [
           0.3445
          ],
          [
           0.3445
          ],
          [
           0.3443
          ],
          [
           0.3419
          ],
          [
           0.3372
          ],
          [
           0.332
          ],
          [
           0.3319
          ],
          [
           0.3291
          ],
          [
           0.329
          ],
          [
           0.3281
          ],
          [
           0.3281
          ],
          [
           0.3261
          ],
          [
           0.3259
          ],
          [
           0.3259
          ],
          [
           0.324
          ],
          [
           0.3233
          ],
          [
           0.3223
          ],
          [
           0.3188
          ],
          [
           0.3171
          ],
          [
           0.3168
          ],
          [
           0.3141
          ],
          [
           0.3133
          ],
          [
           0.3132
          ],
          [
           0.3131
          ],
          [
           0.3127
          ],
          [
           0.3122
          ],
          [
           0.3114
          ],
          [
           0.3098
          ],
          [
           0.3096
          ],
          [
           0.3088
          ],
          [
           0.3088
          ],
          [
           0.3082
          ],
          [
           0.3069
          ],
          [
           0.3052
          ],
          [
           0.3032
          ],
          [
           0.3032
          ],
          [
           0.3016
          ],
          [
           0.3012
          ],
          [
           0.3008
          ],
          [
           0.2948
          ],
          [
           0.2932
          ],
          [
           0.2922
          ],
          [
           0.2918
          ],
          [
           0.2915
          ],
          [
           0.2914
          ],
          [
           0.2864
          ],
          [
           0.2848
          ],
          [
           0.2835
          ],
          [
           0.2828
          ],
          [
           0.2794
          ],
          [
           0.2791
          ],
          [
           0.278
          ],
          [
           0.2767
          ],
          [
           0.2744
          ],
          [
           0.2723
          ],
          [
           0.2706
          ],
          [
           0.2673
          ],
          [
           0.2671
          ],
          [
           0.2668
          ],
          [
           0.2659
          ],
          [
           0.265
          ],
          [
           0.2631
          ],
          [
           0.2597
          ],
          [
           0.2576
          ],
          [
           0.2553
          ],
          [
           0.2528
          ],
          [
           0.2519
          ],
          [
           0.2506
          ],
          [
           0.2452
          ],
          [
           0.2437
          ],
          [
           0.2435
          ],
          [
           0.2428
          ],
          [
           0.2419
          ],
          [
           0.2309
          ],
          [
           0.2308
          ],
          [
           0.2276
          ],
          [
           0.2203
          ],
          [
           0.2139
          ]
         ],
         "hovertemplate": "hole cards flavor=%{x}<br>win ratio rounded down to nearest 5%=%{y:.0%}<br>win ratio=%{customdata[0]:.2%}<br>appearances=%{marker.color}<extra></extra>",
         "legendgroup": "",
         "marker": {
          "color": [
           3193,
           3152,
           3231,
           3193,
           3087,
           3119,
           3150,
           2151,
           1988,
           2170,
           6271,
           2165,
           6430,
           2132,
           3235,
           6417,
           2059,
           2185,
           2139,
           2104,
           2137,
           6397,
           6307,
           6509,
           2172,
           3050,
           2054,
           2122,
           2151,
           2179,
           2209,
           6414,
           2159,
           6247,
           6260,
           6336,
           2081,
           6289,
           2019,
           2052,
           6377,
           6279,
           3228,
           2120,
           6221,
           2113,
           6304,
           2062,
           2128,
           2185,
           2133,
           6262,
           6357,
           2042,
           2173,
           6330,
           6267,
           2130,
           2110,
           2133,
           2077,
           2019,
           6194,
           6379,
           2109,
           6332,
           6378,
           2149,
           3178,
           2148,
           6459,
           6269,
           6287,
           6414,
           6330,
           6280,
           2191,
           2122,
           2236,
           2094,
           2144,
           6324,
           2078,
           2096,
           2149,
           2092,
           6490,
           6254,
           2198,
           6445,
           2045,
           3181,
           6369,
           2100,
           6254,
           6349,
           2015,
           2055,
           6466,
           2149,
           6226,
           2149,
           2134,
           2117,
           6239,
           6354,
           6196,
           2116,
           2020,
           2119,
           6496,
           6432,
           6355,
           2037,
           2044,
           2133,
           2181,
           3137,
           6368,
           2038,
           6276,
           2157,
           6366,
           2141,
           2071,
           6457,
           2180,
           2102,
           2012,
           6364,
           6299,
           6290,
           6366,
           2128,
           2117,
           6283,
           6345,
           2093,
           6186,
           6325,
           6210,
           6502,
           6392,
           2150,
           6302,
           2115,
           2195,
           6251,
           6174,
           2114,
           6462,
           6267,
           6366,
           2060,
           6383,
           2139,
           2180,
           6388,
           6333,
           6403,
           6372,
           6274,
           6441,
           6114,
           6350,
           6265,
           6182,
           6329,
           6264
          ],
          "coloraxis": "coloraxis",
          "pattern": {
           "shape": ""
          }
         },
         "name": "",
         "offsetgroup": "",
         "orientation": "v",
         "showlegend": false,
         "textposition": "auto",
         "type": "bar",
         "x": [
          "Aces paired",
          "Kings paired",
          "Queens paired",
          "Jacks paired",
          "10s paired",
          "9s paired",
          "8s paired",
          "Ace, Jack suited",
          "Ace, Queen suited",
          "Ace, King suited",
          "Ace, King off suit",
          "King, Jack suited",
          "Ace, Queen off suit",
          "King, Queen suited",
          "7s paired",
          "Ace, Jack off suit",
          "King, 10 suited",
          "Ace, 10 suited",
          "Queen, Jack suited",
          "Ace, 9 suited",
          "Ace, 8 suited",
          "King, Queen off suit",
          "King, Jack off suit",
          "Ace, 10 off suit",
          "Queen, 10 suited",
          "6s paired",
          "Ace, 5 suited",
          "Ace, 6 suited",
          "Jack, 10 suited",
          "Queen, 9 suited",
          "Ace, 7 suited",
          "King, 10 off suit",
          "King, 9 suited",
          "Ace, 9 off suit",
          "Queen, Jack off suit",
          "Ace, 7 off suit",
          "Jack, 9 suited",
          "Ace, 8 off suit",
          "Ace, 4 suited",
          "Ace, 3 suited",
          "Queen, 10 off suit",
          "Jack, 10 off suit",
          "5s paired",
          "King, 7 suited",
          "Ace, 5 off suit",
          "King, 5 suited",
          "King, 9 off suit",
          "King, 6 suited",
          "King, 8 suited",
          "10, 9 suited",
          "King, 4 suited",
          "Ace, 6 off suit",
          "Ace, 4 off suit",
          "Queen, 8 suited",
          "Jack, 8 suited",
          "Queen, 9 off suit",
          "Ace, 3 off suit",
          "King, 3 suited",
          "Ace, 2 suited",
          "Jack, 7 suited",
          "Queen, 7 suited",
          "10, 8 suited",
          "King, 8 off suit",
          "Jack, 9 off suit",
          "Queen, 6 suited",
          "King, 7 off suit",
          "10, 9 off suit",
          "9, 8 suited",
          "4s paired",
          "King, 2 suited",
          "Queen, 8 off suit",
          "King, 5 off suit",
          "Jack, 8 off suit",
          "Ace, 2 off suit",
          "King, 6 off suit",
          "10, 8 off suit",
          "Queen, 5 suited",
          "10, 7 suited",
          "Jack, 5 suited",
          "Queen, 3 suited",
          "Queen, 4 suited",
          "King, 4 off suit",
          "9, 6 suited",
          "8, 7 suited",
          "Queen, 2 suited",
          "9, 7 suited",
          "Queen, 7 off suit",
          "King, 3 off suit",
          "7, 6 suited",
          "Queen, 6 off suit",
          "Jack, 4 suited",
          "3s paired",
          "9, 8 off suit",
          "10, 6 suited",
          "Jack, 7 off suit",
          "King, 2 off suit",
          "8, 6 suited",
          "10, 5 suited",
          "10, 7 off suit",
          "5, 4 suited",
          "Queen, 4 off suit",
          "Jack, 2 suited",
          "Jack, 3 suited",
          "9, 5 suited",
          "Queen, 5 off suit",
          "8, 7 off suit",
          "Jack, 6 off suit",
          "10, 4 suited",
          "10, 3 suited",
          "Jack, 6 suited",
          "Queen, 2 off suit",
          "9, 7 off suit",
          "Jack, 5 off suit",
          "10, 2 suited",
          "9, 4 suited",
          "7, 5 suited",
          "8, 5 suited",
          "2s paired",
          "Queen, 3 off suit",
          "9, 3 suited",
          "Jack, 4 off suit",
          "6, 4 suited",
          "10, 6 off suit",
          "8, 4 suited",
          "6, 5 suited",
          "9, 6 off suit",
          "7, 4 suited",
          "9, 2 suited",
          "6, 3 suited",
          "8, 6 off suit",
          "10, 4 off suit",
          "7, 6 off suit",
          "Jack, 3 off suit",
          "5, 3 suited",
          "7, 3 suited",
          "10, 5 off suit",
          "6, 5 off suit",
          "4, 3 suited",
          "8, 5 off suit",
          "Jack, 2 off suit",
          "9, 5 off suit",
          "10, 3 off suit",
          "7, 5 off suit",
          "5, 2 suited",
          "5, 4 off suit",
          "6, 2 suited",
          "4, 2 suited",
          "6, 4 off suit",
          "7, 4 off suit",
          "8, 3 suited",
          "8, 4 off suit",
          "10, 2 off suit",
          "9, 4 off suit",
          "8, 2 suited",
          "9, 3 off suit",
          "3, 2 suited",
          "7, 2 suited",
          "6, 3 off suit",
          "5, 3 off suit",
          "8, 3 off suit",
          "9, 2 off suit",
          "8, 2 off suit",
          "4, 3 off suit",
          "7, 3 off suit",
          "6, 2 off suit",
          "4, 2 off suit",
          "5, 2 off suit",
          "7, 2 off suit",
          "3, 2 off suit"
         ],
         "xaxis": "x",
         "y": [
          0.75,
          0.65,
          0.65,
          0.6000000000000001,
          0.55,
          0.5,
          0.5,
          0.5,
          0.5,
          0.5,
          0.45,
          0.45,
          0.45,
          0.45,
          0.45,
          0.45,
          0.45,
          0.45,
          0.45,
          0.45,
          0.45,
          0.45,
          0.45,
          0.4,
          0.4,
          0.4,
          0.4,
          0.4,
          0.4,
          0.4,
          0.4,
          0.4,
          0.4,
          0.4,
          0.4,
          0.4,
          0.4,
          0.4,
          0.4,
          0.4,
          0.4,
          0.4,
          0.4,
          0.4,
          0.4,
          0.4,
          0.4,
          0.4,
          0.4,
          0.35,
          0.35,
          0.35,
          0.35,
          0.35,
          0.35,
          0.35,
          0.35,
          0.35,
          0.35,
          0.35,
          0.35,
          0.35,
          0.35,
          0.35,
          0.35,
          0.35,
          0.35,
          0.35,
          0.35,
          0.35,
          0.35,
          0.35,
          0.35,
          0.35,
          0.35,
          0.35,
          0.35,
          0.35,
          0.35,
          0.35,
          0.35,
          0.35,
          0.35,
          0.35,
          0.35,
          0.35,
          0.35,
          0.35,
          0.3,
          0.3,
          0.3,
          0.3,
          0.3,
          0.3,
          0.3,
          0.3,
          0.3,
          0.3,
          0.3,
          0.3,
          0.3,
          0.3,
          0.3,
          0.3,
          0.3,
          0.3,
          0.3,
          0.3,
          0.3,
          0.3,
          0.3,
          0.3,
          0.3,
          0.3,
          0.3,
          0.3,
          0.3,
          0.3,
          0.3,
          0.3,
          0.3,
          0.3,
          0.3,
          0.3,
          0.3,
          0.3,
          0.3,
          0.3,
          0.3,
          0.3,
          0.25,
          0.25,
          0.25,
          0.25,
          0.25,
          0.25,
          0.25,
          0.25,
          0.25,
          0.25,
          0.25,
          0.25,
          0.25,
          0.25,
          0.25,
          0.25,
          0.25,
          0.25,
          0.25,
          0.25,
          0.25,
          0.25,
          0.25,
          0.25,
          0.25,
          0.25,
          0.25,
          0.25,
          0.25,
          0.2,
          0.2,
          0.2,
          0.2,
          0.2,
          0.2,
          0.2,
          0.2,
          0.2,
          0.2
         ],
         "yaxis": "y"
        },
        {
         "line": {
          "color": "red",
          "width": 1
         },
         "mode": "lines",
         "name": "Likely Win/Lose Threshold",
         "showlegend": true,
         "type": "scatter",
         "x": [
          null
         ],
         "y": [
          null
         ]
        }
       ],
       "layout": {
        "barmode": "relative",
        "coloraxis": {
         "colorbar": {
          "thickness": 10,
          "tickfont": {
           "family": "monospace",
           "size": 12
          },
          "title": {
           "font": {
            "family": "sans-serif",
            "size": 14
           },
           "text": "Appearances"
          }
         },
         "colorscale": [
          [
           0,
           "#fcfdbf"
          ],
          [
           0.1111111111111111,
           "#feca8d"
          ],
          [
           0.2222222222222222,
           "#fd9668"
          ],
          [
           0.3333333333333333,
           "#f1605d"
          ],
          [
           0.4444444444444444,
           "#cd4071"
          ],
          [
           0.5555555555555556,
           "#9e2f7f"
          ],
          [
           0.6666666666666666,
           "#721f81"
          ],
          [
           0.7777777777777778,
           "#440f76"
          ],
          [
           0.8888888888888888,
           "#180f3d"
          ],
          [
           1,
           "#000004"
          ]
         ]
        },
        "legend": {
         "font": {
          "family": "sans-serif",
          "size": 12
         },
         "tracegroupgap": 0,
         "x": 0.5,
         "xanchor": "center",
         "y": 0.99,
         "yanchor": "top"
        },
        "margin": {
         "t": 60
        },
        "plot_bgcolor": "white",
        "shapes": [
         {
          "line": {
           "color": "red",
           "width": 1
          },
          "type": "line",
          "x0": 0,
          "x1": 1,
          "xref": "paper",
          "y0": 0.6616666666666667,
          "y1": 0.6616666666666667,
          "yref": "y"
         },
         {
          "fillcolor": "limegreen",
          "layer": "below",
          "line": {
           "width": 0
          },
          "opacity": 0.1,
          "type": "rect",
          "x0": 0,
          "x1": 1,
          "xref": "paper",
          "y0": 0.6616666666666667,
          "y1": 1,
          "yref": "y"
         },
         {
          "fillcolor": "red",
          "layer": "below",
          "line": {
           "width": 0
          },
          "opacity": 0.1,
          "type": "rect",
          "x0": 0,
          "x1": 1,
          "xref": "paper",
          "y0": 0,
          "y1": 0.6616666666666667,
          "yref": "y"
         }
        ],
        "template": {
         "data": {
          "bar": [
           {
            "error_x": {
             "color": "#2a3f5f"
            },
            "error_y": {
             "color": "#2a3f5f"
            },
            "marker": {
             "line": {
              "color": "#E5ECF6",
              "width": 0.5
             },
             "pattern": {
              "fillmode": "overlay",
              "size": 10,
              "solidity": 0.2
             }
            },
            "type": "bar"
           }
          ],
          "barpolar": [
           {
            "marker": {
             "line": {
              "color": "#E5ECF6",
              "width": 0.5
             },
             "pattern": {
              "fillmode": "overlay",
              "size": 10,
              "solidity": 0.2
             }
            },
            "type": "barpolar"
           }
          ],
          "carpet": [
           {
            "aaxis": {
             "endlinecolor": "#2a3f5f",
             "gridcolor": "white",
             "linecolor": "white",
             "minorgridcolor": "white",
             "startlinecolor": "#2a3f5f"
            },
            "baxis": {
             "endlinecolor": "#2a3f5f",
             "gridcolor": "white",
             "linecolor": "white",
             "minorgridcolor": "white",
             "startlinecolor": "#2a3f5f"
            },
            "type": "carpet"
           }
          ],
          "choropleth": [
           {
            "colorbar": {
             "outlinewidth": 0,
             "ticks": ""
            },
            "type": "choropleth"
           }
          ],
          "contour": [
           {
            "colorbar": {
             "outlinewidth": 0,
             "ticks": ""
            },
            "colorscale": [
             [
              0,
              "#0d0887"
             ],
             [
              0.1111111111111111,
              "#46039f"
             ],
             [
              0.2222222222222222,
              "#7201a8"
             ],
             [
              0.3333333333333333,
              "#9c179e"
             ],
             [
              0.4444444444444444,
              "#bd3786"
             ],
             [
              0.5555555555555556,
              "#d8576b"
             ],
             [
              0.6666666666666666,
              "#ed7953"
             ],
             [
              0.7777777777777778,
              "#fb9f3a"
             ],
             [
              0.8888888888888888,
              "#fdca26"
             ],
             [
              1,
              "#f0f921"
             ]
            ],
            "type": "contour"
           }
          ],
          "contourcarpet": [
           {
            "colorbar": {
             "outlinewidth": 0,
             "ticks": ""
            },
            "type": "contourcarpet"
           }
          ],
          "heatmap": [
           {
            "colorbar": {
             "outlinewidth": 0,
             "ticks": ""
            },
            "colorscale": [
             [
              0,
              "#0d0887"
             ],
             [
              0.1111111111111111,
              "#46039f"
             ],
             [
              0.2222222222222222,
              "#7201a8"
             ],
             [
              0.3333333333333333,
              "#9c179e"
             ],
             [
              0.4444444444444444,
              "#bd3786"
             ],
             [
              0.5555555555555556,
              "#d8576b"
             ],
             [
              0.6666666666666666,
              "#ed7953"
             ],
             [
              0.7777777777777778,
              "#fb9f3a"
             ],
             [
              0.8888888888888888,
              "#fdca26"
             ],
             [
              1,
              "#f0f921"
             ]
            ],
            "type": "heatmap"
           }
          ],
          "heatmapgl": [
           {
            "colorbar": {
             "outlinewidth": 0,
             "ticks": ""
            },
            "colorscale": [
             [
              0,
              "#0d0887"
             ],
             [
              0.1111111111111111,
              "#46039f"
             ],
             [
              0.2222222222222222,
              "#7201a8"
             ],
             [
              0.3333333333333333,
              "#9c179e"
             ],
             [
              0.4444444444444444,
              "#bd3786"
             ],
             [
              0.5555555555555556,
              "#d8576b"
             ],
             [
              0.6666666666666666,
              "#ed7953"
             ],
             [
              0.7777777777777778,
              "#fb9f3a"
             ],
             [
              0.8888888888888888,
              "#fdca26"
             ],
             [
              1,
              "#f0f921"
             ]
            ],
            "type": "heatmapgl"
           }
          ],
          "histogram": [
           {
            "marker": {
             "pattern": {
              "fillmode": "overlay",
              "size": 10,
              "solidity": 0.2
             }
            },
            "type": "histogram"
           }
          ],
          "histogram2d": [
           {
            "colorbar": {
             "outlinewidth": 0,
             "ticks": ""
            },
            "colorscale": [
             [
              0,
              "#0d0887"
             ],
             [
              0.1111111111111111,
              "#46039f"
             ],
             [
              0.2222222222222222,
              "#7201a8"
             ],
             [
              0.3333333333333333,
              "#9c179e"
             ],
             [
              0.4444444444444444,
              "#bd3786"
             ],
             [
              0.5555555555555556,
              "#d8576b"
             ],
             [
              0.6666666666666666,
              "#ed7953"
             ],
             [
              0.7777777777777778,
              "#fb9f3a"
             ],
             [
              0.8888888888888888,
              "#fdca26"
             ],
             [
              1,
              "#f0f921"
             ]
            ],
            "type": "histogram2d"
           }
          ],
          "histogram2dcontour": [
           {
            "colorbar": {
             "outlinewidth": 0,
             "ticks": ""
            },
            "colorscale": [
             [
              0,
              "#0d0887"
             ],
             [
              0.1111111111111111,
              "#46039f"
             ],
             [
              0.2222222222222222,
              "#7201a8"
             ],
             [
              0.3333333333333333,
              "#9c179e"
             ],
             [
              0.4444444444444444,
              "#bd3786"
             ],
             [
              0.5555555555555556,
              "#d8576b"
             ],
             [
              0.6666666666666666,
              "#ed7953"
             ],
             [
              0.7777777777777778,
              "#fb9f3a"
             ],
             [
              0.8888888888888888,
              "#fdca26"
             ],
             [
              1,
              "#f0f921"
             ]
            ],
            "type": "histogram2dcontour"
           }
          ],
          "mesh3d": [
           {
            "colorbar": {
             "outlinewidth": 0,
             "ticks": ""
            },
            "type": "mesh3d"
           }
          ],
          "parcoords": [
           {
            "line": {
             "colorbar": {
              "outlinewidth": 0,
              "ticks": ""
             }
            },
            "type": "parcoords"
           }
          ],
          "pie": [
           {
            "automargin": true,
            "type": "pie"
           }
          ],
          "scatter": [
           {
            "fillpattern": {
             "fillmode": "overlay",
             "size": 10,
             "solidity": 0.2
            },
            "type": "scatter"
           }
          ],
          "scatter3d": [
           {
            "line": {
             "colorbar": {
              "outlinewidth": 0,
              "ticks": ""
             }
            },
            "marker": {
             "colorbar": {
              "outlinewidth": 0,
              "ticks": ""
             }
            },
            "type": "scatter3d"
           }
          ],
          "scattercarpet": [
           {
            "marker": {
             "colorbar": {
              "outlinewidth": 0,
              "ticks": ""
             }
            },
            "type": "scattercarpet"
           }
          ],
          "scattergeo": [
           {
            "marker": {
             "colorbar": {
              "outlinewidth": 0,
              "ticks": ""
             }
            },
            "type": "scattergeo"
           }
          ],
          "scattergl": [
           {
            "marker": {
             "colorbar": {
              "outlinewidth": 0,
              "ticks": ""
             }
            },
            "type": "scattergl"
           }
          ],
          "scattermapbox": [
           {
            "marker": {
             "colorbar": {
              "outlinewidth": 0,
              "ticks": ""
             }
            },
            "type": "scattermapbox"
           }
          ],
          "scatterpolar": [
           {
            "marker": {
             "colorbar": {
              "outlinewidth": 0,
              "ticks": ""
             }
            },
            "type": "scatterpolar"
           }
          ],
          "scatterpolargl": [
           {
            "marker": {
             "colorbar": {
              "outlinewidth": 0,
              "ticks": ""
             }
            },
            "type": "scatterpolargl"
           }
          ],
          "scatterternary": [
           {
            "marker": {
             "colorbar": {
              "outlinewidth": 0,
              "ticks": ""
             }
            },
            "type": "scatterternary"
           }
          ],
          "surface": [
           {
            "colorbar": {
             "outlinewidth": 0,
             "ticks": ""
            },
            "colorscale": [
             [
              0,
              "#0d0887"
             ],
             [
              0.1111111111111111,
              "#46039f"
             ],
             [
              0.2222222222222222,
              "#7201a8"
             ],
             [
              0.3333333333333333,
              "#9c179e"
             ],
             [
              0.4444444444444444,
              "#bd3786"
             ],
             [
              0.5555555555555556,
              "#d8576b"
             ],
             [
              0.6666666666666666,
              "#ed7953"
             ],
             [
              0.7777777777777778,
              "#fb9f3a"
             ],
             [
              0.8888888888888888,
              "#fdca26"
             ],
             [
              1,
              "#f0f921"
             ]
            ],
            "type": "surface"
           }
          ],
          "table": [
           {
            "cells": {
             "fill": {
              "color": "#EBF0F8"
             },
             "line": {
              "color": "white"
             }
            },
            "header": {
             "fill": {
              "color": "#C8D4E3"
             },
             "line": {
              "color": "white"
             }
            },
            "type": "table"
           }
          ]
         },
         "layout": {
          "annotationdefaults": {
           "arrowcolor": "#2a3f5f",
           "arrowhead": 0,
           "arrowwidth": 1
          },
          "autotypenumbers": "strict",
          "coloraxis": {
           "colorbar": {
            "outlinewidth": 0,
            "ticks": ""
           }
          },
          "colorscale": {
           "diverging": [
            [
             0,
             "#8e0152"
            ],
            [
             0.1,
             "#c51b7d"
            ],
            [
             0.2,
             "#de77ae"
            ],
            [
             0.3,
             "#f1b6da"
            ],
            [
             0.4,
             "#fde0ef"
            ],
            [
             0.5,
             "#f7f7f7"
            ],
            [
             0.6,
             "#e6f5d0"
            ],
            [
             0.7,
             "#b8e186"
            ],
            [
             0.8,
             "#7fbc41"
            ],
            [
             0.9,
             "#4d9221"
            ],
            [
             1,
             "#276419"
            ]
           ],
           "sequential": [
            [
             0,
             "#0d0887"
            ],
            [
             0.1111111111111111,
             "#46039f"
            ],
            [
             0.2222222222222222,
             "#7201a8"
            ],
            [
             0.3333333333333333,
             "#9c179e"
            ],
            [
             0.4444444444444444,
             "#bd3786"
            ],
            [
             0.5555555555555556,
             "#d8576b"
            ],
            [
             0.6666666666666666,
             "#ed7953"
            ],
            [
             0.7777777777777778,
             "#fb9f3a"
            ],
            [
             0.8888888888888888,
             "#fdca26"
            ],
            [
             1,
             "#f0f921"
            ]
           ],
           "sequentialminus": [
            [
             0,
             "#0d0887"
            ],
            [
             0.1111111111111111,
             "#46039f"
            ],
            [
             0.2222222222222222,
             "#7201a8"
            ],
            [
             0.3333333333333333,
             "#9c179e"
            ],
            [
             0.4444444444444444,
             "#bd3786"
            ],
            [
             0.5555555555555556,
             "#d8576b"
            ],
            [
             0.6666666666666666,
             "#ed7953"
            ],
            [
             0.7777777777777778,
             "#fb9f3a"
            ],
            [
             0.8888888888888888,
             "#fdca26"
            ],
            [
             1,
             "#f0f921"
            ]
           ]
          },
          "colorway": [
           "#636efa",
           "#EF553B",
           "#00cc96",
           "#ab63fa",
           "#FFA15A",
           "#19d3f3",
           "#FF6692",
           "#B6E880",
           "#FF97FF",
           "#FECB52"
          ],
          "font": {
           "color": "#2a3f5f"
          },
          "geo": {
           "bgcolor": "white",
           "lakecolor": "white",
           "landcolor": "#E5ECF6",
           "showlakes": true,
           "showland": true,
           "subunitcolor": "white"
          },
          "hoverlabel": {
           "align": "left"
          },
          "hovermode": "closest",
          "mapbox": {
           "style": "light"
          },
          "paper_bgcolor": "white",
          "plot_bgcolor": "#E5ECF6",
          "polar": {
           "angularaxis": {
            "gridcolor": "white",
            "linecolor": "white",
            "ticks": ""
           },
           "bgcolor": "#E5ECF6",
           "radialaxis": {
            "gridcolor": "white",
            "linecolor": "white",
            "ticks": ""
           }
          },
          "scene": {
           "xaxis": {
            "backgroundcolor": "#E5ECF6",
            "gridcolor": "white",
            "gridwidth": 2,
            "linecolor": "white",
            "showbackground": true,
            "ticks": "",
            "zerolinecolor": "white"
           },
           "yaxis": {
            "backgroundcolor": "#E5ECF6",
            "gridcolor": "white",
            "gridwidth": 2,
            "linecolor": "white",
            "showbackground": true,
            "ticks": "",
            "zerolinecolor": "white"
           },
           "zaxis": {
            "backgroundcolor": "#E5ECF6",
            "gridcolor": "white",
            "gridwidth": 2,
            "linecolor": "white",
            "showbackground": true,
            "ticks": "",
            "zerolinecolor": "white"
           }
          },
          "shapedefaults": {
           "line": {
            "color": "#2a3f5f"
           }
          },
          "ternary": {
           "aaxis": {
            "gridcolor": "white",
            "linecolor": "white",
            "ticks": ""
           },
           "baxis": {
            "gridcolor": "white",
            "linecolor": "white",
            "ticks": ""
           },
           "bgcolor": "#E5ECF6",
           "caxis": {
            "gridcolor": "white",
            "linecolor": "white",
            "ticks": ""
           }
          },
          "title": {
           "x": 0.05
          },
          "xaxis": {
           "automargin": true,
           "gridcolor": "white",
           "linecolor": "white",
           "ticks": "",
           "title": {
            "standoff": 15
           },
           "zerolinecolor": "white",
           "zerolinewidth": 2
          },
          "yaxis": {
           "automargin": true,
           "gridcolor": "white",
           "linecolor": "white",
           "ticks": "",
           "title": {
            "standoff": 15
           },
           "zerolinecolor": "white",
           "zerolinewidth": 2
          }
         }
        },
        "title": {
         "font": {
          "family": "serif",
          "size": 20
         },
         "text": "Best hole cards flavors for 3 Players"
        },
        "xaxis": {
         "anchor": "y",
         "domain": [
          0,
          1
         ],
         "showgrid": false,
         "title": {
          "text": ""
         }
        },
        "yaxis": {
         "anchor": "x",
         "domain": [
          0,
          1
         ],
         "range": [
          0,
          1
         ],
         "showgrid": false,
         "showticklabels": false,
         "title": {
          "text": ""
         }
        }
       }
      }
     },
     "metadata": {},
     "output_type": "display_data"
    },
    {
     "name": "stderr",
     "output_type": "stream",
     "text": [
      "INFO: Not saving plot - pass save_plot=True to save it.\n",
      "INFO: Making plotly figure and axis objects\n",
      "c:\\Users\\david\\Documents\\Projects\\holdem_simulator\\src\\plot_builders_plotly.py:158: SettingWithCopyWarning:\n",
      "\n",
      "\n",
      "A value is trying to be set on a copy of a slice from a DataFrame.\n",
      "Try using .loc[row_indexer,col_indexer] = value instead\n",
      "\n",
      "See the caveats in the documentation: https://pandas.pydata.org/pandas-docs/stable/user_guide/indexing.html#returning-a-view-versus-a-copy\n",
      "\n",
      "INFO: Sorting data frame ascending by n_players\n",
      "INFO: Sorting data frame descending by win ratio, win ratio rounded down to nearest 5%\n",
      "INFO: Showing plot object\n"
     ]
    },
    {
     "data": {
      "application/vnd.plotly.v1+json": {
       "config": {
        "plotlyServerURL": "https://plot.ly"
       },
       "data": [
        {
         "alignmentgroup": "True",
         "customdata": [
          [
           0.6483
          ],
          [
           0.5951
          ],
          [
           0.5404
          ],
          [
           0.5081
          ],
          [
           0.4572
          ],
          [
           0.4288
          ],
          [
           0.4031
          ],
          [
           0.4015
          ],
          [
           0.3998
          ],
          [
           0.3997
          ],
          [
           0.399
          ],
          [
           0.3944
          ],
          [
           0.3852
          ],
          [
           0.3808
          ],
          [
           0.3793
          ],
          [
           0.3764
          ],
          [
           0.3739
          ],
          [
           0.3659
          ],
          [
           0.3654
          ],
          [
           0.3644
          ],
          [
           0.3637
          ],
          [
           0.3568
          ],
          [
           0.3549
          ],
          [
           0.3548
          ],
          [
           0.3545
          ],
          [
           0.3462
          ],
          [
           0.3456
          ],
          [
           0.3452
          ],
          [
           0.3395
          ],
          [
           0.3355
          ],
          [
           0.3312
          ],
          [
           0.3311
          ],
          [
           0.331
          ],
          [
           0.3294
          ],
          [
           0.3292
          ],
          [
           0.3265
          ],
          [
           0.3255
          ],
          [
           0.3231
          ],
          [
           0.3215
          ],
          [
           0.3204
          ],
          [
           0.32
          ],
          [
           0.3199
          ],
          [
           0.3198
          ],
          [
           0.3193
          ],
          [
           0.319
          ],
          [
           0.3184
          ],
          [
           0.3173
          ],
          [
           0.3129
          ],
          [
           0.3114
          ],
          [
           0.3113
          ],
          [
           0.3109
          ],
          [
           0.3096
          ],
          [
           0.3061
          ],
          [
           0.3051
          ],
          [
           0.3044
          ],
          [
           0.3038
          ],
          [
           0.3001
          ],
          [
           0.2993
          ],
          [
           0.2979
          ],
          [
           0.297
          ],
          [
           0.2937
          ],
          [
           0.2929
          ],
          [
           0.2928
          ],
          [
           0.2892
          ],
          [
           0.2875
          ],
          [
           0.2871
          ],
          [
           0.2832
          ],
          [
           0.2819
          ],
          [
           0.2811
          ],
          [
           0.2789
          ],
          [
           0.2777
          ],
          [
           0.2767
          ],
          [
           0.2748
          ],
          [
           0.2745
          ],
          [
           0.2745
          ],
          [
           0.2734
          ],
          [
           0.2728
          ],
          [
           0.2726
          ],
          [
           0.2723
          ],
          [
           0.2722
          ],
          [
           0.2718
          ],
          [
           0.2714
          ],
          [
           0.271
          ],
          [
           0.2707
          ],
          [
           0.266
          ],
          [
           0.2647
          ],
          [
           0.2632
          ],
          [
           0.2631
          ],
          [
           0.2629
          ],
          [
           0.2608
          ],
          [
           0.2603
          ],
          [
           0.2588
          ],
          [
           0.2543
          ],
          [
           0.254
          ],
          [
           0.2524
          ],
          [
           0.2498
          ],
          [
           0.2491
          ],
          [
           0.2481
          ],
          [
           0.2473
          ],
          [
           0.2452
          ],
          [
           0.2448
          ],
          [
           0.2438
          ],
          [
           0.2417
          ],
          [
           0.2407
          ],
          [
           0.2405
          ],
          [
           0.2396
          ],
          [
           0.239
          ],
          [
           0.2384
          ],
          [
           0.2382
          ],
          [
           0.237
          ],
          [
           0.2367
          ],
          [
           0.2362
          ],
          [
           0.2358
          ],
          [
           0.2344
          ],
          [
           0.2331
          ],
          [
           0.2325
          ],
          [
           0.2309
          ],
          [
           0.23
          ],
          [
           0.2294
          ],
          [
           0.2294
          ],
          [
           0.2289
          ],
          [
           0.2284
          ],
          [
           0.2284
          ],
          [
           0.2279
          ],
          [
           0.2278
          ],
          [
           0.2269
          ],
          [
           0.2266
          ],
          [
           0.2265
          ],
          [
           0.225
          ],
          [
           0.2234
          ],
          [
           0.2226
          ],
          [
           0.2174
          ],
          [
           0.2168
          ],
          [
           0.2166
          ],
          [
           0.2165
          ],
          [
           0.2163
          ],
          [
           0.2155
          ],
          [
           0.2152
          ],
          [
           0.2128
          ],
          [
           0.2109
          ],
          [
           0.2099
          ],
          [
           0.2096
          ],
          [
           0.2056
          ],
          [
           0.2053
          ],
          [
           0.2041
          ],
          [
           0.2023
          ],
          [
           0.2008
          ],
          [
           0.1991
          ],
          [
           0.1979
          ],
          [
           0.1976
          ],
          [
           0.1946
          ],
          [
           0.1943
          ],
          [
           0.194
          ],
          [
           0.1924
          ],
          [
           0.19
          ],
          [
           0.1883
          ],
          [
           0.1862
          ],
          [
           0.1856
          ],
          [
           0.1826
          ],
          [
           0.1781
          ],
          [
           0.1779
          ],
          [
           0.1751
          ],
          [
           0.1744
          ],
          [
           0.1723
          ],
          [
           0.1719
          ],
          [
           0.1642
          ],
          [
           0.1642
          ],
          [
           0.16
          ],
          [
           0.1567
          ]
         ],
         "hovertemplate": "hole cards flavor=%{x}<br>win ratio rounded down to nearest 5%=%{y:.0%}<br>win ratio=%{customdata[0]:.2%}<br>appearances=%{marker.color}<extra></extra>",
         "legendgroup": "",
         "marker": {
          "color": [
           1871,
           1783,
           1843,
           1801,
           1844,
           1180,
           1759,
           1178,
           3624,
           1236,
           1173,
           1255,
           1150,
           1846,
           1197,
           3664,
           1201,
           3599,
           1185,
           1268,
           3654,
           1177,
           1789,
           3642,
           1168,
           3515,
           3565,
           1205,
           1128,
           3642,
           3693,
           3636,
           3668,
           1190,
           1218,
           1173,
           1186,
           1207,
           1692,
           1208,
           1150,
           1216,
           1204,
           1162,
           1185,
           1228,
           3545,
           3685,
           1185,
           1211,
           3615,
           1179,
           1173,
           3615,
           1186,
           1208,
           3629,
           1226,
           3608,
           1229,
           1195,
           3623,
           1202,
           1245,
           3687,
           3602,
           1815,
           1185,
           3660,
           3690,
           1120,
           3672,
           3664,
           1224,
           3669,
           1269,
           3541,
           1126,
           1190,
           3618,
           3562,
           1168,
           1225,
           1230,
           1816,
           1190,
           1227,
           1243,
           3598,
           3689,
           1141,
           3624,
           1223,
           3708,
           3581,
           3631,
           1168,
           3680,
           1189,
           1195,
           1209,
           3614,
           1233,
           3710,
           1235,
           1252,
           1222,
           1183,
           3724,
           3709,
           3637,
           3624,
           3617,
           3596,
           1227,
           3578,
           1191,
           1200,
           3600,
           1225,
           1206,
           3568,
           3687,
           1154,
           1207,
           1234,
           3627,
           3633,
           1827,
           1222,
           3634,
           3547,
           1241,
           1242,
           3520,
           3593,
           3656,
           3527,
           1786,
           1247,
           3663,
           3487,
           3618,
           3571,
           1205,
           3544,
           1190,
           3601,
           3684,
           1225,
           3531,
           1194,
           3604,
           1216,
           3594,
           1163,
           3706,
           3626,
           3588,
           3509,
           3592,
           3643,
           3686,
           3638,
           3642,
           3648,
           3728,
           3613,
           3810
          ],
          "coloraxis": "coloraxis",
          "pattern": {
           "shape": ""
          }
         },
         "name": "",
         "offsetgroup": "",
         "orientation": "v",
         "showlegend": false,
         "textposition": "auto",
         "type": "bar",
         "x": [
          "Aces paired",
          "Kings paired",
          "Queens paired",
          "Jacks paired",
          "10s paired",
          "Ace, King suited",
          "9s paired",
          "Ace, 10 suited",
          "Ace, King off suit",
          "Ace, Jack suited",
          "Queen, Jack suited",
          "Ace, Queen suited",
          "King, Jack suited",
          "8s paired",
          "King, Queen suited",
          "Ace, Queen off suit",
          "Ace, 9 suited",
          "Ace, Jack off suit",
          "Queen, 10 suited",
          "King, 10 suited",
          "King, Queen off suit",
          "Ace, 8 suited",
          "7s paired",
          "Ace, 10 off suit",
          "Jack, 10 suited",
          "King, Jack off suit",
          "Queen, Jack off suit",
          "Ace, 7 suited",
          "King, 9 suited",
          "King, 10 off suit",
          "Queen, 10 off suit",
          "Ace, 9 off suit",
          "Jack, 10 off suit",
          "Ace, 3 suited",
          "King, 6 suited",
          "Ace, 6 suited",
          "King, 8 suited",
          "10, 9 suited",
          "6s paired",
          "Queen, 8 suited",
          "Ace, 2 suited",
          "9, 7 suited",
          "Jack, 9 suited",
          "King, 7 suited",
          "Ace, 5 suited",
          "King, 5 suited",
          "Ace, 7 off suit",
          "Ace, 8 off suit",
          "King, 2 suited",
          "King, 4 suited",
          "Ace, 5 off suit",
          "9, 8 suited",
          "Queen, 9 suited",
          "King, 9 off suit",
          "8, 7 suited",
          "Jack, 7 suited",
          "Queen, 9 off suit",
          "Jack, 8 suited",
          "Ace, 6 off suit",
          "Ace, 4 suited",
          "Queen, 7 suited",
          "10, 9 off suit",
          "10, 7 suited",
          "10, 8 suited",
          "Jack, 9 off suit",
          "Ace, 4 off suit",
          "5s paired",
          "Queen, 5 suited",
          "Jack, 8 off suit",
          "King, 6 off suit",
          "Queen, 4 suited",
          "Ace, 3 off suit",
          "Ace, 2 off suit",
          "Queen, 3 suited",
          "King, 7 off suit",
          "10, 6 suited",
          "King, 8 off suit",
          "King, 3 suited",
          "6, 5 suited",
          "Queen, 8 off suit",
          "King, 5 off suit",
          "Queen, 6 suited",
          "Queen, 2 suited",
          "9, 6 suited",
          "4s paired",
          "7, 6 suited",
          "Jack, 5 suited",
          "Jack, 6 suited",
          "10, 8 off suit",
          "9, 8 off suit",
          "Jack, 4 suited",
          "Queen, 7 off suit",
          "7, 5 suited",
          "10, 7 off suit",
          "Queen, 6 off suit",
          "8, 7 off suit",
          "8, 6 suited",
          "King, 4 off suit",
          "10, 4 suited",
          "8, 5 suited",
          "5, 4 suited",
          "9, 7 off suit",
          "Jack, 2 suited",
          "10, 6 off suit",
          "6, 4 suited",
          "9, 5 suited",
          "9, 3 suited",
          "10, 5 suited",
          "7, 6 off suit",
          "Jack, 7 off suit",
          "9, 6 off suit",
          "King, 3 off suit",
          "Queen, 5 off suit",
          "King, 2 off suit",
          "8, 4 suited",
          "Queen, 2 off suit",
          "9, 4 suited",
          "6, 3 suited",
          "Queen, 4 off suit",
          "10, 2 suited",
          "10, 3 suited",
          "Jack, 4 off suit",
          "Queen, 3 off suit",
          "Jack, 3 suited",
          "8, 3 suited",
          "7, 4 suited",
          "Jack, 6 off suit",
          "8, 6 off suit",
          "3s paired",
          "9, 2 suited",
          "Jack, 5 off suit",
          "8, 5 off suit",
          "5, 3 suited",
          "7, 2 suited",
          "Jack, 3 off suit",
          "7, 5 off suit",
          "9, 5 off suit",
          "10, 5 off suit",
          "2s paired",
          "8, 2 suited",
          "10, 4 off suit",
          "6, 5 off suit",
          "Jack, 2 off suit",
          "7, 4 off suit",
          "5, 2 suited",
          "10, 3 off suit",
          "6, 2 suited",
          "5, 4 off suit",
          "6, 4 off suit",
          "4, 3 suited",
          "9, 4 off suit",
          "4, 2 suited",
          "8, 4 off suit",
          "7, 3 suited",
          "10, 2 off suit",
          "3, 2 suited",
          "5, 3 off suit",
          "9, 3 off suit",
          "5, 2 off suit",
          "6, 2 off suit",
          "7, 3 off suit",
          "8, 3 off suit",
          "6, 3 off suit",
          "9, 2 off suit",
          "4, 3 off suit",
          "4, 2 off suit",
          "7, 2 off suit",
          "8, 2 off suit",
          "3, 2 off suit"
         ],
         "xaxis": "x",
         "y": [
          0.6000000000000001,
          0.55,
          0.5,
          0.5,
          0.45,
          0.4,
          0.4,
          0.4,
          0.35,
          0.35,
          0.35,
          0.35,
          0.35,
          0.35,
          0.35,
          0.35,
          0.35,
          0.35,
          0.35,
          0.35,
          0.35,
          0.35,
          0.35,
          0.35,
          0.35,
          0.3,
          0.3,
          0.3,
          0.3,
          0.3,
          0.3,
          0.3,
          0.3,
          0.3,
          0.3,
          0.3,
          0.3,
          0.3,
          0.3,
          0.3,
          0.3,
          0.3,
          0.3,
          0.3,
          0.3,
          0.3,
          0.3,
          0.3,
          0.3,
          0.3,
          0.3,
          0.3,
          0.3,
          0.3,
          0.3,
          0.3,
          0.3,
          0.25,
          0.25,
          0.25,
          0.25,
          0.25,
          0.25,
          0.25,
          0.25,
          0.25,
          0.25,
          0.25,
          0.25,
          0.25,
          0.25,
          0.25,
          0.25,
          0.25,
          0.25,
          0.25,
          0.25,
          0.25,
          0.25,
          0.25,
          0.25,
          0.25,
          0.25,
          0.25,
          0.25,
          0.25,
          0.25,
          0.25,
          0.25,
          0.25,
          0.25,
          0.25,
          0.25,
          0.25,
          0.25,
          0.2,
          0.2,
          0.2,
          0.2,
          0.2,
          0.2,
          0.2,
          0.2,
          0.2,
          0.2,
          0.2,
          0.2,
          0.2,
          0.2,
          0.2,
          0.2,
          0.2,
          0.2,
          0.2,
          0.2,
          0.2,
          0.2,
          0.2,
          0.2,
          0.2,
          0.2,
          0.2,
          0.2,
          0.2,
          0.2,
          0.2,
          0.2,
          0.2,
          0.2,
          0.2,
          0.2,
          0.2,
          0.2,
          0.2,
          0.2,
          0.2,
          0.2,
          0.2,
          0.2,
          0.2,
          0.2,
          0.2,
          0.2,
          0.2,
          0.2,
          0.2,
          0.2,
          0.15,
          0.15,
          0.15,
          0.15,
          0.15,
          0.15,
          0.15,
          0.15,
          0.15,
          0.15,
          0.15,
          0.15,
          0.15,
          0.15,
          0.15,
          0.15,
          0.15,
          0.15,
          0.15,
          0.15,
          0.15,
          0.15
         ],
         "yaxis": "y"
        },
        {
         "line": {
          "color": "red",
          "width": 1
         },
         "mode": "lines",
         "name": "Likely Win/Lose Threshold",
         "showlegend": true,
         "type": "scatter",
         "x": [
          null
         ],
         "y": [
          null
         ]
        }
       ],
       "layout": {
        "barmode": "relative",
        "coloraxis": {
         "colorbar": {
          "thickness": 10,
          "tickfont": {
           "family": "monospace",
           "size": 12
          },
          "title": {
           "font": {
            "family": "sans-serif",
            "size": 14
           },
           "text": "Appearances"
          }
         },
         "colorscale": [
          [
           0,
           "#fcfdbf"
          ],
          [
           0.1111111111111111,
           "#feca8d"
          ],
          [
           0.2222222222222222,
           "#fd9668"
          ],
          [
           0.3333333333333333,
           "#f1605d"
          ],
          [
           0.4444444444444444,
           "#cd4071"
          ],
          [
           0.5555555555555556,
           "#9e2f7f"
          ],
          [
           0.6666666666666666,
           "#721f81"
          ],
          [
           0.7777777777777778,
           "#440f76"
          ],
          [
           0.8888888888888888,
           "#180f3d"
          ],
          [
           1,
           "#000004"
          ]
         ]
        },
        "legend": {
         "font": {
          "family": "sans-serif",
          "size": 12
         },
         "tracegroupgap": 0,
         "x": 0.5,
         "xanchor": "center",
         "y": 0.99,
         "yanchor": "top"
        },
        "margin": {
         "t": 60
        },
        "plot_bgcolor": "white",
        "shapes": [
         {
          "line": {
           "color": "red",
           "width": 1
          },
          "type": "line",
          "x0": 0,
          "x1": 1,
          "xref": "paper",
          "y0": 0.745,
          "y1": 0.745,
          "yref": "y"
         },
         {
          "fillcolor": "limegreen",
          "layer": "below",
          "line": {
           "width": 0
          },
          "opacity": 0.1,
          "type": "rect",
          "x0": 0,
          "x1": 1,
          "xref": "paper",
          "y0": 0.745,
          "y1": 1,
          "yref": "y"
         },
         {
          "fillcolor": "red",
          "layer": "below",
          "line": {
           "width": 0
          },
          "opacity": 0.1,
          "type": "rect",
          "x0": 0,
          "x1": 1,
          "xref": "paper",
          "y0": 0,
          "y1": 0.745,
          "yref": "y"
         }
        ],
        "template": {
         "data": {
          "bar": [
           {
            "error_x": {
             "color": "#2a3f5f"
            },
            "error_y": {
             "color": "#2a3f5f"
            },
            "marker": {
             "line": {
              "color": "#E5ECF6",
              "width": 0.5
             },
             "pattern": {
              "fillmode": "overlay",
              "size": 10,
              "solidity": 0.2
             }
            },
            "type": "bar"
           }
          ],
          "barpolar": [
           {
            "marker": {
             "line": {
              "color": "#E5ECF6",
              "width": 0.5
             },
             "pattern": {
              "fillmode": "overlay",
              "size": 10,
              "solidity": 0.2
             }
            },
            "type": "barpolar"
           }
          ],
          "carpet": [
           {
            "aaxis": {
             "endlinecolor": "#2a3f5f",
             "gridcolor": "white",
             "linecolor": "white",
             "minorgridcolor": "white",
             "startlinecolor": "#2a3f5f"
            },
            "baxis": {
             "endlinecolor": "#2a3f5f",
             "gridcolor": "white",
             "linecolor": "white",
             "minorgridcolor": "white",
             "startlinecolor": "#2a3f5f"
            },
            "type": "carpet"
           }
          ],
          "choropleth": [
           {
            "colorbar": {
             "outlinewidth": 0,
             "ticks": ""
            },
            "type": "choropleth"
           }
          ],
          "contour": [
           {
            "colorbar": {
             "outlinewidth": 0,
             "ticks": ""
            },
            "colorscale": [
             [
              0,
              "#0d0887"
             ],
             [
              0.1111111111111111,
              "#46039f"
             ],
             [
              0.2222222222222222,
              "#7201a8"
             ],
             [
              0.3333333333333333,
              "#9c179e"
             ],
             [
              0.4444444444444444,
              "#bd3786"
             ],
             [
              0.5555555555555556,
              "#d8576b"
             ],
             [
              0.6666666666666666,
              "#ed7953"
             ],
             [
              0.7777777777777778,
              "#fb9f3a"
             ],
             [
              0.8888888888888888,
              "#fdca26"
             ],
             [
              1,
              "#f0f921"
             ]
            ],
            "type": "contour"
           }
          ],
          "contourcarpet": [
           {
            "colorbar": {
             "outlinewidth": 0,
             "ticks": ""
            },
            "type": "contourcarpet"
           }
          ],
          "heatmap": [
           {
            "colorbar": {
             "outlinewidth": 0,
             "ticks": ""
            },
            "colorscale": [
             [
              0,
              "#0d0887"
             ],
             [
              0.1111111111111111,
              "#46039f"
             ],
             [
              0.2222222222222222,
              "#7201a8"
             ],
             [
              0.3333333333333333,
              "#9c179e"
             ],
             [
              0.4444444444444444,
              "#bd3786"
             ],
             [
              0.5555555555555556,
              "#d8576b"
             ],
             [
              0.6666666666666666,
              "#ed7953"
             ],
             [
              0.7777777777777778,
              "#fb9f3a"
             ],
             [
              0.8888888888888888,
              "#fdca26"
             ],
             [
              1,
              "#f0f921"
             ]
            ],
            "type": "heatmap"
           }
          ],
          "heatmapgl": [
           {
            "colorbar": {
             "outlinewidth": 0,
             "ticks": ""
            },
            "colorscale": [
             [
              0,
              "#0d0887"
             ],
             [
              0.1111111111111111,
              "#46039f"
             ],
             [
              0.2222222222222222,
              "#7201a8"
             ],
             [
              0.3333333333333333,
              "#9c179e"
             ],
             [
              0.4444444444444444,
              "#bd3786"
             ],
             [
              0.5555555555555556,
              "#d8576b"
             ],
             [
              0.6666666666666666,
              "#ed7953"
             ],
             [
              0.7777777777777778,
              "#fb9f3a"
             ],
             [
              0.8888888888888888,
              "#fdca26"
             ],
             [
              1,
              "#f0f921"
             ]
            ],
            "type": "heatmapgl"
           }
          ],
          "histogram": [
           {
            "marker": {
             "pattern": {
              "fillmode": "overlay",
              "size": 10,
              "solidity": 0.2
             }
            },
            "type": "histogram"
           }
          ],
          "histogram2d": [
           {
            "colorbar": {
             "outlinewidth": 0,
             "ticks": ""
            },
            "colorscale": [
             [
              0,
              "#0d0887"
             ],
             [
              0.1111111111111111,
              "#46039f"
             ],
             [
              0.2222222222222222,
              "#7201a8"
             ],
             [
              0.3333333333333333,
              "#9c179e"
             ],
             [
              0.4444444444444444,
              "#bd3786"
             ],
             [
              0.5555555555555556,
              "#d8576b"
             ],
             [
              0.6666666666666666,
              "#ed7953"
             ],
             [
              0.7777777777777778,
              "#fb9f3a"
             ],
             [
              0.8888888888888888,
              "#fdca26"
             ],
             [
              1,
              "#f0f921"
             ]
            ],
            "type": "histogram2d"
           }
          ],
          "histogram2dcontour": [
           {
            "colorbar": {
             "outlinewidth": 0,
             "ticks": ""
            },
            "colorscale": [
             [
              0,
              "#0d0887"
             ],
             [
              0.1111111111111111,
              "#46039f"
             ],
             [
              0.2222222222222222,
              "#7201a8"
             ],
             [
              0.3333333333333333,
              "#9c179e"
             ],
             [
              0.4444444444444444,
              "#bd3786"
             ],
             [
              0.5555555555555556,
              "#d8576b"
             ],
             [
              0.6666666666666666,
              "#ed7953"
             ],
             [
              0.7777777777777778,
              "#fb9f3a"
             ],
             [
              0.8888888888888888,
              "#fdca26"
             ],
             [
              1,
              "#f0f921"
             ]
            ],
            "type": "histogram2dcontour"
           }
          ],
          "mesh3d": [
           {
            "colorbar": {
             "outlinewidth": 0,
             "ticks": ""
            },
            "type": "mesh3d"
           }
          ],
          "parcoords": [
           {
            "line": {
             "colorbar": {
              "outlinewidth": 0,
              "ticks": ""
             }
            },
            "type": "parcoords"
           }
          ],
          "pie": [
           {
            "automargin": true,
            "type": "pie"
           }
          ],
          "scatter": [
           {
            "fillpattern": {
             "fillmode": "overlay",
             "size": 10,
             "solidity": 0.2
            },
            "type": "scatter"
           }
          ],
          "scatter3d": [
           {
            "line": {
             "colorbar": {
              "outlinewidth": 0,
              "ticks": ""
             }
            },
            "marker": {
             "colorbar": {
              "outlinewidth": 0,
              "ticks": ""
             }
            },
            "type": "scatter3d"
           }
          ],
          "scattercarpet": [
           {
            "marker": {
             "colorbar": {
              "outlinewidth": 0,
              "ticks": ""
             }
            },
            "type": "scattercarpet"
           }
          ],
          "scattergeo": [
           {
            "marker": {
             "colorbar": {
              "outlinewidth": 0,
              "ticks": ""
             }
            },
            "type": "scattergeo"
           }
          ],
          "scattergl": [
           {
            "marker": {
             "colorbar": {
              "outlinewidth": 0,
              "ticks": ""
             }
            },
            "type": "scattergl"
           }
          ],
          "scattermapbox": [
           {
            "marker": {
             "colorbar": {
              "outlinewidth": 0,
              "ticks": ""
             }
            },
            "type": "scattermapbox"
           }
          ],
          "scatterpolar": [
           {
            "marker": {
             "colorbar": {
              "outlinewidth": 0,
              "ticks": ""
             }
            },
            "type": "scatterpolar"
           }
          ],
          "scatterpolargl": [
           {
            "marker": {
             "colorbar": {
              "outlinewidth": 0,
              "ticks": ""
             }
            },
            "type": "scatterpolargl"
           }
          ],
          "scatterternary": [
           {
            "marker": {
             "colorbar": {
              "outlinewidth": 0,
              "ticks": ""
             }
            },
            "type": "scatterternary"
           }
          ],
          "surface": [
           {
            "colorbar": {
             "outlinewidth": 0,
             "ticks": ""
            },
            "colorscale": [
             [
              0,
              "#0d0887"
             ],
             [
              0.1111111111111111,
              "#46039f"
             ],
             [
              0.2222222222222222,
              "#7201a8"
             ],
             [
              0.3333333333333333,
              "#9c179e"
             ],
             [
              0.4444444444444444,
              "#bd3786"
             ],
             [
              0.5555555555555556,
              "#d8576b"
             ],
             [
              0.6666666666666666,
              "#ed7953"
             ],
             [
              0.7777777777777778,
              "#fb9f3a"
             ],
             [
              0.8888888888888888,
              "#fdca26"
             ],
             [
              1,
              "#f0f921"
             ]
            ],
            "type": "surface"
           }
          ],
          "table": [
           {
            "cells": {
             "fill": {
              "color": "#EBF0F8"
             },
             "line": {
              "color": "white"
             }
            },
            "header": {
             "fill": {
              "color": "#C8D4E3"
             },
             "line": {
              "color": "white"
             }
            },
            "type": "table"
           }
          ]
         },
         "layout": {
          "annotationdefaults": {
           "arrowcolor": "#2a3f5f",
           "arrowhead": 0,
           "arrowwidth": 1
          },
          "autotypenumbers": "strict",
          "coloraxis": {
           "colorbar": {
            "outlinewidth": 0,
            "ticks": ""
           }
          },
          "colorscale": {
           "diverging": [
            [
             0,
             "#8e0152"
            ],
            [
             0.1,
             "#c51b7d"
            ],
            [
             0.2,
             "#de77ae"
            ],
            [
             0.3,
             "#f1b6da"
            ],
            [
             0.4,
             "#fde0ef"
            ],
            [
             0.5,
             "#f7f7f7"
            ],
            [
             0.6,
             "#e6f5d0"
            ],
            [
             0.7,
             "#b8e186"
            ],
            [
             0.8,
             "#7fbc41"
            ],
            [
             0.9,
             "#4d9221"
            ],
            [
             1,
             "#276419"
            ]
           ],
           "sequential": [
            [
             0,
             "#0d0887"
            ],
            [
             0.1111111111111111,
             "#46039f"
            ],
            [
             0.2222222222222222,
             "#7201a8"
            ],
            [
             0.3333333333333333,
             "#9c179e"
            ],
            [
             0.4444444444444444,
             "#bd3786"
            ],
            [
             0.5555555555555556,
             "#d8576b"
            ],
            [
             0.6666666666666666,
             "#ed7953"
            ],
            [
             0.7777777777777778,
             "#fb9f3a"
            ],
            [
             0.8888888888888888,
             "#fdca26"
            ],
            [
             1,
             "#f0f921"
            ]
           ],
           "sequentialminus": [
            [
             0,
             "#0d0887"
            ],
            [
             0.1111111111111111,
             "#46039f"
            ],
            [
             0.2222222222222222,
             "#7201a8"
            ],
            [
             0.3333333333333333,
             "#9c179e"
            ],
            [
             0.4444444444444444,
             "#bd3786"
            ],
            [
             0.5555555555555556,
             "#d8576b"
            ],
            [
             0.6666666666666666,
             "#ed7953"
            ],
            [
             0.7777777777777778,
             "#fb9f3a"
            ],
            [
             0.8888888888888888,
             "#fdca26"
            ],
            [
             1,
             "#f0f921"
            ]
           ]
          },
          "colorway": [
           "#636efa",
           "#EF553B",
           "#00cc96",
           "#ab63fa",
           "#FFA15A",
           "#19d3f3",
           "#FF6692",
           "#B6E880",
           "#FF97FF",
           "#FECB52"
          ],
          "font": {
           "color": "#2a3f5f"
          },
          "geo": {
           "bgcolor": "white",
           "lakecolor": "white",
           "landcolor": "#E5ECF6",
           "showlakes": true,
           "showland": true,
           "subunitcolor": "white"
          },
          "hoverlabel": {
           "align": "left"
          },
          "hovermode": "closest",
          "mapbox": {
           "style": "light"
          },
          "paper_bgcolor": "white",
          "plot_bgcolor": "#E5ECF6",
          "polar": {
           "angularaxis": {
            "gridcolor": "white",
            "linecolor": "white",
            "ticks": ""
           },
           "bgcolor": "#E5ECF6",
           "radialaxis": {
            "gridcolor": "white",
            "linecolor": "white",
            "ticks": ""
           }
          },
          "scene": {
           "xaxis": {
            "backgroundcolor": "#E5ECF6",
            "gridcolor": "white",
            "gridwidth": 2,
            "linecolor": "white",
            "showbackground": true,
            "ticks": "",
            "zerolinecolor": "white"
           },
           "yaxis": {
            "backgroundcolor": "#E5ECF6",
            "gridcolor": "white",
            "gridwidth": 2,
            "linecolor": "white",
            "showbackground": true,
            "ticks": "",
            "zerolinecolor": "white"
           },
           "zaxis": {
            "backgroundcolor": "#E5ECF6",
            "gridcolor": "white",
            "gridwidth": 2,
            "linecolor": "white",
            "showbackground": true,
            "ticks": "",
            "zerolinecolor": "white"
           }
          },
          "shapedefaults": {
           "line": {
            "color": "#2a3f5f"
           }
          },
          "ternary": {
           "aaxis": {
            "gridcolor": "white",
            "linecolor": "white",
            "ticks": ""
           },
           "baxis": {
            "gridcolor": "white",
            "linecolor": "white",
            "ticks": ""
           },
           "bgcolor": "#E5ECF6",
           "caxis": {
            "gridcolor": "white",
            "linecolor": "white",
            "ticks": ""
           }
          },
          "title": {
           "x": 0.05
          },
          "xaxis": {
           "automargin": true,
           "gridcolor": "white",
           "linecolor": "white",
           "ticks": "",
           "title": {
            "standoff": 15
           },
           "zerolinecolor": "white",
           "zerolinewidth": 2
          },
          "yaxis": {
           "automargin": true,
           "gridcolor": "white",
           "linecolor": "white",
           "ticks": "",
           "title": {
            "standoff": 15
           },
           "zerolinecolor": "white",
           "zerolinewidth": 2
          }
         }
        },
        "title": {
         "font": {
          "family": "serif",
          "size": 20
         },
         "text": "Best hole cards flavors for 4 Players"
        },
        "xaxis": {
         "anchor": "y",
         "domain": [
          0,
          1
         ],
         "showgrid": false,
         "title": {
          "text": ""
         }
        },
        "yaxis": {
         "anchor": "x",
         "domain": [
          0,
          1
         ],
         "range": [
          0,
          1
         ],
         "showgrid": false,
         "showticklabels": false,
         "title": {
          "text": ""
         }
        }
       }
      }
     },
     "metadata": {},
     "output_type": "display_data"
    },
    {
     "name": "stderr",
     "output_type": "stream",
     "text": [
      "INFO: Not saving plot - pass save_plot=True to save it.\n",
      "INFO: Making plotly figure and axis objects\n",
      "c:\\Users\\david\\Documents\\Projects\\holdem_simulator\\src\\plot_builders_plotly.py:158: SettingWithCopyWarning:\n",
      "\n",
      "\n",
      "A value is trying to be set on a copy of a slice from a DataFrame.\n",
      "Try using .loc[row_indexer,col_indexer] = value instead\n",
      "\n",
      "See the caveats in the documentation: https://pandas.pydata.org/pandas-docs/stable/user_guide/indexing.html#returning-a-view-versus-a-copy\n",
      "\n",
      "INFO: Sorting data frame ascending by n_players\n",
      "INFO: Sorting data frame descending by win ratio, win ratio rounded down to nearest 5%\n",
      "INFO: Showing plot object\n"
     ]
    },
    {
     "data": {
      "application/vnd.plotly.v1+json": {
       "config": {
        "plotlyServerURL": "https://plot.ly"
       },
       "data": [
        {
         "alignmentgroup": "True",
         "customdata": [
          [
           0.5669
          ],
          [
           0.5096
          ],
          [
           0.4651
          ],
          [
           0.4189
          ],
          [
           0.3736
          ],
          [
           0.3683
          ],
          [
           0.3586
          ],
          [
           0.3412
          ],
          [
           0.3324
          ],
          [
           0.3323
          ],
          [
           0.3318
          ],
          [
           0.3303
          ],
          [
           0.3302
          ],
          [
           0.3279
          ],
          [
           0.321
          ],
          [
           0.3153
          ],
          [
           0.3097
          ],
          [
           0.308
          ],
          [
           0.2997
          ],
          [
           0.2989
          ],
          [
           0.2974
          ],
          [
           0.2973
          ],
          [
           0.2964
          ],
          [
           0.2958
          ],
          [
           0.2948
          ],
          [
           0.2919
          ],
          [
           0.2916
          ],
          [
           0.2913
          ],
          [
           0.2858
          ],
          [
           0.2854
          ],
          [
           0.2801
          ],
          [
           0.2793
          ],
          [
           0.2774
          ],
          [
           0.276
          ],
          [
           0.2757
          ],
          [
           0.2741
          ],
          [
           0.2716
          ],
          [
           0.2715
          ],
          [
           0.2704
          ],
          [
           0.2658
          ],
          [
           0.265
          ],
          [
           0.2633
          ],
          [
           0.2626
          ],
          [
           0.2619
          ],
          [
           0.2579
          ],
          [
           0.2564
          ],
          [
           0.2558
          ],
          [
           0.2512
          ],
          [
           0.2481
          ],
          [
           0.248
          ],
          [
           0.2457
          ],
          [
           0.2447
          ],
          [
           0.2438
          ],
          [
           0.2433
          ],
          [
           0.2419
          ],
          [
           0.241
          ],
          [
           0.2394
          ],
          [
           0.2391
          ],
          [
           0.2365
          ],
          [
           0.2363
          ],
          [
           0.2355
          ],
          [
           0.2349
          ],
          [
           0.2327
          ],
          [
           0.2318
          ],
          [
           0.231
          ],
          [
           0.2296
          ],
          [
           0.2295
          ],
          [
           0.2282
          ],
          [
           0.228
          ],
          [
           0.2276
          ],
          [
           0.2275
          ],
          [
           0.227
          ],
          [
           0.2264
          ],
          [
           0.2263
          ],
          [
           0.2254
          ],
          [
           0.2253
          ],
          [
           0.2244
          ],
          [
           0.2242
          ],
          [
           0.2223
          ],
          [
           0.22
          ],
          [
           0.2197
          ],
          [
           0.2191
          ],
          [
           0.2183
          ],
          [
           0.2181
          ],
          [
           0.2168
          ],
          [
           0.2154
          ],
          [
           0.2147
          ],
          [
           0.2145
          ],
          [
           0.2084
          ],
          [
           0.2082
          ],
          [
           0.2081
          ],
          [
           0.2072
          ],
          [
           0.2051
          ],
          [
           0.2051
          ],
          [
           0.205
          ],
          [
           0.204
          ],
          [
           0.2028
          ],
          [
           0.2025
          ],
          [
           0.2022
          ],
          [
           0.2008
          ],
          [
           0.1995
          ],
          [
           0.1995
          ],
          [
           0.1993
          ],
          [
           0.199
          ],
          [
           0.1981
          ],
          [
           0.1977
          ],
          [
           0.1973
          ],
          [
           0.197
          ],
          [
           0.1963
          ],
          [
           0.196
          ],
          [
           0.1959
          ],
          [
           0.1957
          ],
          [
           0.1942
          ],
          [
           0.1942
          ],
          [
           0.1938
          ],
          [
           0.1928
          ],
          [
           0.1894
          ],
          [
           0.1893
          ],
          [
           0.1876
          ],
          [
           0.1871
          ],
          [
           0.1846
          ],
          [
           0.1845
          ],
          [
           0.1836
          ],
          [
           0.1825
          ],
          [
           0.1818
          ],
          [
           0.1807
          ],
          [
           0.1771
          ],
          [
           0.176
          ],
          [
           0.176
          ],
          [
           0.1755
          ],
          [
           0.1754
          ],
          [
           0.1747
          ],
          [
           0.1736
          ],
          [
           0.1698
          ],
          [
           0.1695
          ],
          [
           0.1666
          ],
          [
           0.1659
          ],
          [
           0.1659
          ],
          [
           0.1652
          ],
          [
           0.1635
          ],
          [
           0.1629
          ],
          [
           0.1627
          ],
          [
           0.1626
          ],
          [
           0.162
          ],
          [
           0.1603
          ],
          [
           0.1589
          ],
          [
           0.1574
          ],
          [
           0.1561
          ],
          [
           0.1558
          ],
          [
           0.1541
          ],
          [
           0.1521
          ],
          [
           0.1513
          ],
          [
           0.1504
          ],
          [
           0.1502
          ],
          [
           0.1497
          ],
          [
           0.1492
          ],
          [
           0.1472
          ],
          [
           0.147
          ],
          [
           0.1453
          ],
          [
           0.143
          ],
          [
           0.1392
          ],
          [
           0.1337
          ],
          [
           0.1331
          ],
          [
           0.1324
          ],
          [
           0.1244
          ],
          [
           0.1215
          ],
          [
           0.1204
          ],
          [
           0.1181
          ],
          [
           0.1105
          ]
         ],
         "hovertemplate": "hole cards flavor=%{x}<br>win ratio rounded down to nearest 5%=%{y:.0%}<br>win ratio=%{customdata[0]:.2%}<br>appearances=%{marker.color}<extra></extra>",
         "legendgroup": "",
         "marker": {
          "color": [
           2198,
           2343,
           2281,
           2268,
           1523,
           2300,
           1467,
           1530,
           1498,
           4532,
           1558,
           2283,
           1502,
           4596,
           1545,
           1462,
           1492,
           4552,
           1448,
           2272,
           4449,
           4584,
           1508,
           4480,
           1533,
           4461,
           4509,
           1507,
           1452,
           1531,
           1514,
           1529,
           1525,
           1478,
           1447,
           4612,
           2253,
           4434,
           1509,
           1535,
           4359,
           4490,
           1424,
           1493,
           1605,
           1478,
           1544,
           4490,
           1568,
           4633,
           1583,
           1590,
           4503,
           2293,
           4527,
           4506,
           1537,
           2254,
           1505,
           1481,
           4484,
           1528,
           1487,
           4673,
           1450,
           1542,
           1525,
           4431,
           1500,
           4529,
           1525,
           1467,
           4550,
           4524,
           4520,
           4531,
           1542,
           1490,
           4503,
           1541,
           1557,
           1552,
           4467,
           1554,
           1499,
           1504,
           1542,
           4466,
           2303,
           1431,
           1499,
           1501,
           4685,
           4686,
           1468,
           1466,
           1524,
           1452,
           4555,
           1589,
           1534,
           1514,
           1510,
           4523,
           1560,
           4477,
           1536,
           4549,
           1518,
           4475,
           1460,
           4604,
           4485,
           1483,
           4447,
           4403,
           4489,
           2182,
           4482,
           4512,
           4550,
           2195,
           1449,
           4509,
           4471,
           4587,
           1508,
           4442,
           4550,
           4581,
           1562,
           1460,
           1452,
           4564,
           4609,
           4532,
           1501,
           1459,
           4455,
           1541,
           4586,
           4672,
           4417,
           1531,
           4655,
           1479,
           4397,
           1499,
           4526,
           1512,
           4516,
           4528,
           4608,
           4562,
           4608,
           4430,
           4573,
           4516,
           4530,
           4582,
           4469,
           4539,
           4516,
           4585,
           4541,
           4584,
           4609,
           4360,
           4345
          ],
          "coloraxis": "coloraxis",
          "pattern": {
           "shape": ""
          }
         },
         "name": "",
         "offsetgroup": "",
         "orientation": "v",
         "showlegend": false,
         "textposition": "auto",
         "type": "bar",
         "x": [
          "Aces paired",
          "Kings paired",
          "Queens paired",
          "Jacks paired",
          "Ace, King suited",
          "10s paired",
          "Ace, Jack suited",
          "Ace, Queen suited",
          "King, Queen suited",
          "Ace, King off suit",
          "Queen, Jack suited",
          "9s paired",
          "Ace, 10 suited",
          "Ace, Queen off suit",
          "Queen, 10 suited",
          "King, 10 suited",
          "King, Jack suited",
          "Ace, Jack off suit",
          "King, 9 suited",
          "8s paired",
          "Queen, Jack off suit",
          "King, Queen off suit",
          "Ace, 9 suited",
          "King, 10 off suit",
          "Jack, 10 suited",
          "King, Jack off suit",
          "Ace, 10 off suit",
          "10, 9 suited",
          "Ace, 5 suited",
          "Ace, 4 suited",
          "Ace, 6 suited",
          "Ace, 7 suited",
          "Ace, 8 suited",
          "Ace, 3 suited",
          "King, 8 suited",
          "Ace, 8 off suit",
          "7s paired",
          "Jack, 10 off suit",
          "King, 6 suited",
          "Ace, 2 suited",
          "Queen, 10 off suit",
          "Ace, 9 off suit",
          "Queen, 9 suited",
          "Jack, 9 suited",
          "King, 7 suited",
          "Jack, 8 suited",
          "King, 3 suited",
          "King, 9 off suit",
          "King, 4 suited",
          "Queen, 9 off suit",
          "8, 7 suited",
          "King, 5 suited",
          "Ace, 7 off suit",
          "6s paired",
          "Jack, 9 off suit",
          "10, 9 off suit",
          "9, 8 suited",
          "5s paired",
          "Queen, 7 suited",
          "10, 7 suited",
          "Ace, 5 off suit",
          "10, 8 suited",
          "King, 2 suited",
          "Queen, 8 off suit",
          "Queen, 2 suited",
          "7, 4 suited",
          "Queen, 6 suited",
          "Ace, 3 off suit",
          "9, 7 suited",
          "Ace, 4 off suit",
          "Jack, 7 suited",
          "Queen, 8 suited",
          "Ace, 6 off suit",
          "King, 8 off suit",
          "King, 7 off suit",
          "10, 8 off suit",
          "Queen, 5 suited",
          "8, 6 suited",
          "9, 8 off suit",
          "10, 6 suited",
          "7, 6 suited",
          "Jack, 6 suited",
          "Jack, 8 off suit",
          "Queen, 4 suited",
          "9, 6 suited",
          "Jack, 5 suited",
          "Queen, 3 suited",
          "King, 6 off suit",
          "4s paired",
          "10, 5 suited",
          "6, 4 suited",
          "8, 5 suited",
          "Queen, 7 off suit",
          "Ace, 2 off suit",
          "6, 5 suited",
          "10, 4 suited",
          "Jack, 2 suited",
          "8, 4 suited",
          "King, 5 off suit",
          "9, 4 suited",
          "Jack, 3 suited",
          "10, 3 suited",
          "5, 4 suited",
          "9, 7 off suit",
          "9, 5 suited",
          "King, 4 off suit",
          "7, 5 suited",
          "10, 7 off suit",
          "9, 3 suited",
          "King, 3 off suit",
          "Jack, 4 suited",
          "8, 7 off suit",
          "Queen, 6 off suit",
          "5, 3 suited",
          "Jack, 7 off suit",
          "King, 2 off suit",
          "Queen, 5 off suit",
          "3s paired",
          "7, 6 off suit",
          "8, 6 off suit",
          "10, 6 off suit",
          "2s paired",
          "4, 3 suited",
          "Queen, 4 off suit",
          "9, 6 off suit",
          "Jack, 6 off suit",
          "6, 3 suited",
          "Jack, 4 off suit",
          "Jack, 3 off suit",
          "Queen, 3 off suit",
          "9, 2 suited",
          "10, 2 suited",
          "8, 2 suited",
          "7, 5 off suit",
          "10, 4 off suit",
          "8, 5 off suit",
          "7, 2 suited",
          "7, 3 suited",
          "6, 5 off suit",
          "5, 2 suited",
          "10, 5 off suit",
          "9, 5 off suit",
          "5, 4 off suit",
          "6, 2 suited",
          "Queen, 2 off suit",
          "8, 3 suited",
          "Jack, 5 off suit",
          "4, 2 suited",
          "10, 3 off suit",
          "3, 2 suited",
          "10, 2 off suit",
          "4, 3 off suit",
          "Jack, 2 off suit",
          "8, 4 off suit",
          "9, 4 off suit",
          "6, 4 off suit",
          "7, 4 off suit",
          "7, 3 off suit",
          "5, 3 off suit",
          "9, 3 off suit",
          "6, 3 off suit",
          "9, 2 off suit",
          "6, 2 off suit",
          "5, 2 off suit",
          "8, 3 off suit",
          "4, 2 off suit",
          "8, 2 off suit",
          "7, 2 off suit",
          "3, 2 off suit"
         ],
         "xaxis": "x",
         "y": [
          0.55,
          0.5,
          0.45,
          0.4,
          0.35,
          0.35,
          0.35,
          0.3,
          0.3,
          0.3,
          0.3,
          0.3,
          0.3,
          0.3,
          0.3,
          0.3,
          0.3,
          0.3,
          0.25,
          0.25,
          0.25,
          0.25,
          0.25,
          0.25,
          0.25,
          0.25,
          0.25,
          0.25,
          0.25,
          0.25,
          0.25,
          0.25,
          0.25,
          0.25,
          0.25,
          0.25,
          0.25,
          0.25,
          0.25,
          0.25,
          0.25,
          0.25,
          0.25,
          0.25,
          0.25,
          0.25,
          0.25,
          0.25,
          0.2,
          0.2,
          0.2,
          0.2,
          0.2,
          0.2,
          0.2,
          0.2,
          0.2,
          0.2,
          0.2,
          0.2,
          0.2,
          0.2,
          0.2,
          0.2,
          0.2,
          0.2,
          0.2,
          0.2,
          0.2,
          0.2,
          0.2,
          0.2,
          0.2,
          0.2,
          0.2,
          0.2,
          0.2,
          0.2,
          0.2,
          0.2,
          0.2,
          0.2,
          0.2,
          0.2,
          0.2,
          0.2,
          0.2,
          0.2,
          0.2,
          0.2,
          0.2,
          0.2,
          0.2,
          0.2,
          0.2,
          0.2,
          0.2,
          0.2,
          0.2,
          0.2,
          0.15,
          0.15,
          0.15,
          0.15,
          0.15,
          0.15,
          0.15,
          0.15,
          0.15,
          0.15,
          0.15,
          0.15,
          0.15,
          0.15,
          0.15,
          0.15,
          0.15,
          0.15,
          0.15,
          0.15,
          0.15,
          0.15,
          0.15,
          0.15,
          0.15,
          0.15,
          0.15,
          0.15,
          0.15,
          0.15,
          0.15,
          0.15,
          0.15,
          0.15,
          0.15,
          0.15,
          0.15,
          0.15,
          0.15,
          0.15,
          0.15,
          0.15,
          0.15,
          0.15,
          0.15,
          0.15,
          0.15,
          0.15,
          0.15,
          0.15,
          0.15,
          0.15,
          0.15,
          0.15,
          0.1,
          0.1,
          0.1,
          0.1,
          0.1,
          0.1,
          0.1,
          0.1,
          0.1,
          0.1,
          0.1,
          0.1,
          0.1,
          0.1,
          0.1
         ],
         "yaxis": "y"
        },
        {
         "line": {
          "color": "red",
          "width": 1
         },
         "mode": "lines",
         "name": "Likely Win/Lose Threshold",
         "showlegend": true,
         "type": "scatter",
         "x": [
          null
         ],
         "y": [
          null
         ]
        }
       ],
       "layout": {
        "barmode": "relative",
        "coloraxis": {
         "colorbar": {
          "thickness": 10,
          "tickfont": {
           "family": "monospace",
           "size": 12
          },
          "title": {
           "font": {
            "family": "sans-serif",
            "size": 14
           },
           "text": "Appearances"
          }
         },
         "colorscale": [
          [
           0,
           "#fcfdbf"
          ],
          [
           0.1111111111111111,
           "#feca8d"
          ],
          [
           0.2222222222222222,
           "#fd9668"
          ],
          [
           0.3333333333333333,
           "#f1605d"
          ],
          [
           0.4444444444444444,
           "#cd4071"
          ],
          [
           0.5555555555555556,
           "#9e2f7f"
          ],
          [
           0.6666666666666666,
           "#721f81"
          ],
          [
           0.7777777777777778,
           "#440f76"
          ],
          [
           0.8888888888888888,
           "#180f3d"
          ],
          [
           1,
           "#000004"
          ]
         ]
        },
        "legend": {
         "font": {
          "family": "sans-serif",
          "size": 12
         },
         "tracegroupgap": 0,
         "x": 0.5,
         "xanchor": "center",
         "y": 0.99,
         "yanchor": "top"
        },
        "margin": {
         "t": 60
        },
        "plot_bgcolor": "white",
        "shapes": [
         {
          "line": {
           "color": "red",
           "width": 1
          },
          "type": "line",
          "x0": 0,
          "x1": 1,
          "xref": "paper",
          "y0": 0.795,
          "y1": 0.795,
          "yref": "y"
         },
         {
          "fillcolor": "limegreen",
          "layer": "below",
          "line": {
           "width": 0
          },
          "opacity": 0.1,
          "type": "rect",
          "x0": 0,
          "x1": 1,
          "xref": "paper",
          "y0": 0.795,
          "y1": 1,
          "yref": "y"
         },
         {
          "fillcolor": "red",
          "layer": "below",
          "line": {
           "width": 0
          },
          "opacity": 0.1,
          "type": "rect",
          "x0": 0,
          "x1": 1,
          "xref": "paper",
          "y0": 0,
          "y1": 0.795,
          "yref": "y"
         }
        ],
        "template": {
         "data": {
          "bar": [
           {
            "error_x": {
             "color": "#2a3f5f"
            },
            "error_y": {
             "color": "#2a3f5f"
            },
            "marker": {
             "line": {
              "color": "#E5ECF6",
              "width": 0.5
             },
             "pattern": {
              "fillmode": "overlay",
              "size": 10,
              "solidity": 0.2
             }
            },
            "type": "bar"
           }
          ],
          "barpolar": [
           {
            "marker": {
             "line": {
              "color": "#E5ECF6",
              "width": 0.5
             },
             "pattern": {
              "fillmode": "overlay",
              "size": 10,
              "solidity": 0.2
             }
            },
            "type": "barpolar"
           }
          ],
          "carpet": [
           {
            "aaxis": {
             "endlinecolor": "#2a3f5f",
             "gridcolor": "white",
             "linecolor": "white",
             "minorgridcolor": "white",
             "startlinecolor": "#2a3f5f"
            },
            "baxis": {
             "endlinecolor": "#2a3f5f",
             "gridcolor": "white",
             "linecolor": "white",
             "minorgridcolor": "white",
             "startlinecolor": "#2a3f5f"
            },
            "type": "carpet"
           }
          ],
          "choropleth": [
           {
            "colorbar": {
             "outlinewidth": 0,
             "ticks": ""
            },
            "type": "choropleth"
           }
          ],
          "contour": [
           {
            "colorbar": {
             "outlinewidth": 0,
             "ticks": ""
            },
            "colorscale": [
             [
              0,
              "#0d0887"
             ],
             [
              0.1111111111111111,
              "#46039f"
             ],
             [
              0.2222222222222222,
              "#7201a8"
             ],
             [
              0.3333333333333333,
              "#9c179e"
             ],
             [
              0.4444444444444444,
              "#bd3786"
             ],
             [
              0.5555555555555556,
              "#d8576b"
             ],
             [
              0.6666666666666666,
              "#ed7953"
             ],
             [
              0.7777777777777778,
              "#fb9f3a"
             ],
             [
              0.8888888888888888,
              "#fdca26"
             ],
             [
              1,
              "#f0f921"
             ]
            ],
            "type": "contour"
           }
          ],
          "contourcarpet": [
           {
            "colorbar": {
             "outlinewidth": 0,
             "ticks": ""
            },
            "type": "contourcarpet"
           }
          ],
          "heatmap": [
           {
            "colorbar": {
             "outlinewidth": 0,
             "ticks": ""
            },
            "colorscale": [
             [
              0,
              "#0d0887"
             ],
             [
              0.1111111111111111,
              "#46039f"
             ],
             [
              0.2222222222222222,
              "#7201a8"
             ],
             [
              0.3333333333333333,
              "#9c179e"
             ],
             [
              0.4444444444444444,
              "#bd3786"
             ],
             [
              0.5555555555555556,
              "#d8576b"
             ],
             [
              0.6666666666666666,
              "#ed7953"
             ],
             [
              0.7777777777777778,
              "#fb9f3a"
             ],
             [
              0.8888888888888888,
              "#fdca26"
             ],
             [
              1,
              "#f0f921"
             ]
            ],
            "type": "heatmap"
           }
          ],
          "heatmapgl": [
           {
            "colorbar": {
             "outlinewidth": 0,
             "ticks": ""
            },
            "colorscale": [
             [
              0,
              "#0d0887"
             ],
             [
              0.1111111111111111,
              "#46039f"
             ],
             [
              0.2222222222222222,
              "#7201a8"
             ],
             [
              0.3333333333333333,
              "#9c179e"
             ],
             [
              0.4444444444444444,
              "#bd3786"
             ],
             [
              0.5555555555555556,
              "#d8576b"
             ],
             [
              0.6666666666666666,
              "#ed7953"
             ],
             [
              0.7777777777777778,
              "#fb9f3a"
             ],
             [
              0.8888888888888888,
              "#fdca26"
             ],
             [
              1,
              "#f0f921"
             ]
            ],
            "type": "heatmapgl"
           }
          ],
          "histogram": [
           {
            "marker": {
             "pattern": {
              "fillmode": "overlay",
              "size": 10,
              "solidity": 0.2
             }
            },
            "type": "histogram"
           }
          ],
          "histogram2d": [
           {
            "colorbar": {
             "outlinewidth": 0,
             "ticks": ""
            },
            "colorscale": [
             [
              0,
              "#0d0887"
             ],
             [
              0.1111111111111111,
              "#46039f"
             ],
             [
              0.2222222222222222,
              "#7201a8"
             ],
             [
              0.3333333333333333,
              "#9c179e"
             ],
             [
              0.4444444444444444,
              "#bd3786"
             ],
             [
              0.5555555555555556,
              "#d8576b"
             ],
             [
              0.6666666666666666,
              "#ed7953"
             ],
             [
              0.7777777777777778,
              "#fb9f3a"
             ],
             [
              0.8888888888888888,
              "#fdca26"
             ],
             [
              1,
              "#f0f921"
             ]
            ],
            "type": "histogram2d"
           }
          ],
          "histogram2dcontour": [
           {
            "colorbar": {
             "outlinewidth": 0,
             "ticks": ""
            },
            "colorscale": [
             [
              0,
              "#0d0887"
             ],
             [
              0.1111111111111111,
              "#46039f"
             ],
             [
              0.2222222222222222,
              "#7201a8"
             ],
             [
              0.3333333333333333,
              "#9c179e"
             ],
             [
              0.4444444444444444,
              "#bd3786"
             ],
             [
              0.5555555555555556,
              "#d8576b"
             ],
             [
              0.6666666666666666,
              "#ed7953"
             ],
             [
              0.7777777777777778,
              "#fb9f3a"
             ],
             [
              0.8888888888888888,
              "#fdca26"
             ],
             [
              1,
              "#f0f921"
             ]
            ],
            "type": "histogram2dcontour"
           }
          ],
          "mesh3d": [
           {
            "colorbar": {
             "outlinewidth": 0,
             "ticks": ""
            },
            "type": "mesh3d"
           }
          ],
          "parcoords": [
           {
            "line": {
             "colorbar": {
              "outlinewidth": 0,
              "ticks": ""
             }
            },
            "type": "parcoords"
           }
          ],
          "pie": [
           {
            "automargin": true,
            "type": "pie"
           }
          ],
          "scatter": [
           {
            "fillpattern": {
             "fillmode": "overlay",
             "size": 10,
             "solidity": 0.2
            },
            "type": "scatter"
           }
          ],
          "scatter3d": [
           {
            "line": {
             "colorbar": {
              "outlinewidth": 0,
              "ticks": ""
             }
            },
            "marker": {
             "colorbar": {
              "outlinewidth": 0,
              "ticks": ""
             }
            },
            "type": "scatter3d"
           }
          ],
          "scattercarpet": [
           {
            "marker": {
             "colorbar": {
              "outlinewidth": 0,
              "ticks": ""
             }
            },
            "type": "scattercarpet"
           }
          ],
          "scattergeo": [
           {
            "marker": {
             "colorbar": {
              "outlinewidth": 0,
              "ticks": ""
             }
            },
            "type": "scattergeo"
           }
          ],
          "scattergl": [
           {
            "marker": {
             "colorbar": {
              "outlinewidth": 0,
              "ticks": ""
             }
            },
            "type": "scattergl"
           }
          ],
          "scattermapbox": [
           {
            "marker": {
             "colorbar": {
              "outlinewidth": 0,
              "ticks": ""
             }
            },
            "type": "scattermapbox"
           }
          ],
          "scatterpolar": [
           {
            "marker": {
             "colorbar": {
              "outlinewidth": 0,
              "ticks": ""
             }
            },
            "type": "scatterpolar"
           }
          ],
          "scatterpolargl": [
           {
            "marker": {
             "colorbar": {
              "outlinewidth": 0,
              "ticks": ""
             }
            },
            "type": "scatterpolargl"
           }
          ],
          "scatterternary": [
           {
            "marker": {
             "colorbar": {
              "outlinewidth": 0,
              "ticks": ""
             }
            },
            "type": "scatterternary"
           }
          ],
          "surface": [
           {
            "colorbar": {
             "outlinewidth": 0,
             "ticks": ""
            },
            "colorscale": [
             [
              0,
              "#0d0887"
             ],
             [
              0.1111111111111111,
              "#46039f"
             ],
             [
              0.2222222222222222,
              "#7201a8"
             ],
             [
              0.3333333333333333,
              "#9c179e"
             ],
             [
              0.4444444444444444,
              "#bd3786"
             ],
             [
              0.5555555555555556,
              "#d8576b"
             ],
             [
              0.6666666666666666,
              "#ed7953"
             ],
             [
              0.7777777777777778,
              "#fb9f3a"
             ],
             [
              0.8888888888888888,
              "#fdca26"
             ],
             [
              1,
              "#f0f921"
             ]
            ],
            "type": "surface"
           }
          ],
          "table": [
           {
            "cells": {
             "fill": {
              "color": "#EBF0F8"
             },
             "line": {
              "color": "white"
             }
            },
            "header": {
             "fill": {
              "color": "#C8D4E3"
             },
             "line": {
              "color": "white"
             }
            },
            "type": "table"
           }
          ]
         },
         "layout": {
          "annotationdefaults": {
           "arrowcolor": "#2a3f5f",
           "arrowhead": 0,
           "arrowwidth": 1
          },
          "autotypenumbers": "strict",
          "coloraxis": {
           "colorbar": {
            "outlinewidth": 0,
            "ticks": ""
           }
          },
          "colorscale": {
           "diverging": [
            [
             0,
             "#8e0152"
            ],
            [
             0.1,
             "#c51b7d"
            ],
            [
             0.2,
             "#de77ae"
            ],
            [
             0.3,
             "#f1b6da"
            ],
            [
             0.4,
             "#fde0ef"
            ],
            [
             0.5,
             "#f7f7f7"
            ],
            [
             0.6,
             "#e6f5d0"
            ],
            [
             0.7,
             "#b8e186"
            ],
            [
             0.8,
             "#7fbc41"
            ],
            [
             0.9,
             "#4d9221"
            ],
            [
             1,
             "#276419"
            ]
           ],
           "sequential": [
            [
             0,
             "#0d0887"
            ],
            [
             0.1111111111111111,
             "#46039f"
            ],
            [
             0.2222222222222222,
             "#7201a8"
            ],
            [
             0.3333333333333333,
             "#9c179e"
            ],
            [
             0.4444444444444444,
             "#bd3786"
            ],
            [
             0.5555555555555556,
             "#d8576b"
            ],
            [
             0.6666666666666666,
             "#ed7953"
            ],
            [
             0.7777777777777778,
             "#fb9f3a"
            ],
            [
             0.8888888888888888,
             "#fdca26"
            ],
            [
             1,
             "#f0f921"
            ]
           ],
           "sequentialminus": [
            [
             0,
             "#0d0887"
            ],
            [
             0.1111111111111111,
             "#46039f"
            ],
            [
             0.2222222222222222,
             "#7201a8"
            ],
            [
             0.3333333333333333,
             "#9c179e"
            ],
            [
             0.4444444444444444,
             "#bd3786"
            ],
            [
             0.5555555555555556,
             "#d8576b"
            ],
            [
             0.6666666666666666,
             "#ed7953"
            ],
            [
             0.7777777777777778,
             "#fb9f3a"
            ],
            [
             0.8888888888888888,
             "#fdca26"
            ],
            [
             1,
             "#f0f921"
            ]
           ]
          },
          "colorway": [
           "#636efa",
           "#EF553B",
           "#00cc96",
           "#ab63fa",
           "#FFA15A",
           "#19d3f3",
           "#FF6692",
           "#B6E880",
           "#FF97FF",
           "#FECB52"
          ],
          "font": {
           "color": "#2a3f5f"
          },
          "geo": {
           "bgcolor": "white",
           "lakecolor": "white",
           "landcolor": "#E5ECF6",
           "showlakes": true,
           "showland": true,
           "subunitcolor": "white"
          },
          "hoverlabel": {
           "align": "left"
          },
          "hovermode": "closest",
          "mapbox": {
           "style": "light"
          },
          "paper_bgcolor": "white",
          "plot_bgcolor": "#E5ECF6",
          "polar": {
           "angularaxis": {
            "gridcolor": "white",
            "linecolor": "white",
            "ticks": ""
           },
           "bgcolor": "#E5ECF6",
           "radialaxis": {
            "gridcolor": "white",
            "linecolor": "white",
            "ticks": ""
           }
          },
          "scene": {
           "xaxis": {
            "backgroundcolor": "#E5ECF6",
            "gridcolor": "white",
            "gridwidth": 2,
            "linecolor": "white",
            "showbackground": true,
            "ticks": "",
            "zerolinecolor": "white"
           },
           "yaxis": {
            "backgroundcolor": "#E5ECF6",
            "gridcolor": "white",
            "gridwidth": 2,
            "linecolor": "white",
            "showbackground": true,
            "ticks": "",
            "zerolinecolor": "white"
           },
           "zaxis": {
            "backgroundcolor": "#E5ECF6",
            "gridcolor": "white",
            "gridwidth": 2,
            "linecolor": "white",
            "showbackground": true,
            "ticks": "",
            "zerolinecolor": "white"
           }
          },
          "shapedefaults": {
           "line": {
            "color": "#2a3f5f"
           }
          },
          "ternary": {
           "aaxis": {
            "gridcolor": "white",
            "linecolor": "white",
            "ticks": ""
           },
           "baxis": {
            "gridcolor": "white",
            "linecolor": "white",
            "ticks": ""
           },
           "bgcolor": "#E5ECF6",
           "caxis": {
            "gridcolor": "white",
            "linecolor": "white",
            "ticks": ""
           }
          },
          "title": {
           "x": 0.05
          },
          "xaxis": {
           "automargin": true,
           "gridcolor": "white",
           "linecolor": "white",
           "ticks": "",
           "title": {
            "standoff": 15
           },
           "zerolinecolor": "white",
           "zerolinewidth": 2
          },
          "yaxis": {
           "automargin": true,
           "gridcolor": "white",
           "linecolor": "white",
           "ticks": "",
           "title": {
            "standoff": 15
           },
           "zerolinecolor": "white",
           "zerolinewidth": 2
          }
         }
        },
        "title": {
         "font": {
          "family": "serif",
          "size": 20
         },
         "text": "Best hole cards flavors for 5 Players"
        },
        "xaxis": {
         "anchor": "y",
         "domain": [
          0,
          1
         ],
         "showgrid": false,
         "title": {
          "text": ""
         }
        },
        "yaxis": {
         "anchor": "x",
         "domain": [
          0,
          1
         ],
         "range": [
          0,
          1
         ],
         "showgrid": false,
         "showticklabels": false,
         "title": {
          "text": ""
         }
        }
       }
      }
     },
     "metadata": {},
     "output_type": "display_data"
    },
    {
     "name": "stderr",
     "output_type": "stream",
     "text": [
      "INFO: Not saving plot - pass save_plot=True to save it.\n",
      "INFO: Making plotly figure and axis objects\n",
      "c:\\Users\\david\\Documents\\Projects\\holdem_simulator\\src\\plot_builders_plotly.py:158: SettingWithCopyWarning:\n",
      "\n",
      "\n",
      "A value is trying to be set on a copy of a slice from a DataFrame.\n",
      "Try using .loc[row_indexer,col_indexer] = value instead\n",
      "\n",
      "See the caveats in the documentation: https://pandas.pydata.org/pandas-docs/stable/user_guide/indexing.html#returning-a-view-versus-a-copy\n",
      "\n",
      "INFO: Sorting data frame ascending by n_players\n",
      "INFO: Sorting data frame descending by win ratio, win ratio rounded down to nearest 5%\n",
      "INFO: Showing plot object\n"
     ]
    },
    {
     "data": {
      "application/vnd.plotly.v1+json": {
       "config": {
        "plotlyServerURL": "https://plot.ly"
       },
       "data": [
        {
         "alignmentgroup": "True",
         "customdata": [
          [
           0.5091
          ],
          [
           0.4307
          ],
          [
           0.3853
          ],
          [
           0.3422
          ],
          [
           0.3172
          ],
          [
           0.3141
          ],
          [
           0.3086
          ],
          [
           0.301
          ],
          [
           0.2982
          ],
          [
           0.2961
          ],
          [
           0.2931
          ],
          [
           0.2815
          ],
          [
           0.2799
          ],
          [
           0.2767
          ],
          [
           0.2753
          ],
          [
           0.2743
          ],
          [
           0.274
          ],
          [
           0.2643
          ],
          [
           0.2614
          ],
          [
           0.2604
          ],
          [
           0.2564
          ],
          [
           0.2534
          ],
          [
           0.2533
          ],
          [
           0.2498
          ],
          [
           0.2476
          ],
          [
           0.246
          ],
          [
           0.2457
          ],
          [
           0.2432
          ],
          [
           0.239
          ],
          [
           0.2389
          ],
          [
           0.2385
          ],
          [
           0.238
          ],
          [
           0.2377
          ],
          [
           0.2373
          ],
          [
           0.237
          ],
          [
           0.2341
          ],
          [
           0.233
          ],
          [
           0.2302
          ],
          [
           0.2301
          ],
          [
           0.2297
          ],
          [
           0.2293
          ],
          [
           0.2285
          ],
          [
           0.227
          ],
          [
           0.2267
          ],
          [
           0.2215
          ],
          [
           0.2187
          ],
          [
           0.2175
          ],
          [
           0.2158
          ],
          [
           0.2156
          ],
          [
           0.2109
          ],
          [
           0.2107
          ],
          [
           0.2094
          ],
          [
           0.2085
          ],
          [
           0.2078
          ],
          [
           0.2077
          ],
          [
           0.2073
          ],
          [
           0.2068
          ],
          [
           0.2066
          ],
          [
           0.204
          ],
          [
           0.2028
          ],
          [
           0.2018
          ],
          [
           0.2009
          ],
          [
           0.2008
          ],
          [
           0.2001
          ],
          [
           0.1997
          ],
          [
           0.1975
          ],
          [
           0.1972
          ],
          [
           0.1968
          ],
          [
           0.1964
          ],
          [
           0.196
          ],
          [
           0.1922
          ],
          [
           0.1915
          ],
          [
           0.19
          ],
          [
           0.1896
          ],
          [
           0.1884
          ],
          [
           0.1877
          ],
          [
           0.1869
          ],
          [
           0.1869
          ],
          [
           0.1862
          ],
          [
           0.186
          ],
          [
           0.1856
          ],
          [
           0.1851
          ],
          [
           0.1848
          ],
          [
           0.1836
          ],
          [
           0.1819
          ],
          [
           0.1814
          ],
          [
           0.1801
          ],
          [
           0.1796
          ],
          [
           0.1793
          ],
          [
           0.1791
          ],
          [
           0.1786
          ],
          [
           0.1781
          ],
          [
           0.1778
          ],
          [
           0.1778
          ],
          [
           0.1759
          ],
          [
           0.1754
          ],
          [
           0.1736
          ],
          [
           0.173
          ],
          [
           0.1696
          ],
          [
           0.169
          ],
          [
           0.1685
          ],
          [
           0.167
          ],
          [
           0.1661
          ],
          [
           0.166
          ],
          [
           0.1656
          ],
          [
           0.1656
          ],
          [
           0.1652
          ],
          [
           0.1643
          ],
          [
           0.164
          ],
          [
           0.1639
          ],
          [
           0.1638
          ],
          [
           0.1614
          ],
          [
           0.1612
          ],
          [
           0.1607
          ],
          [
           0.1597
          ],
          [
           0.1589
          ],
          [
           0.1588
          ],
          [
           0.1568
          ],
          [
           0.1555
          ],
          [
           0.1554
          ],
          [
           0.1552
          ],
          [
           0.1539
          ],
          [
           0.1536
          ],
          [
           0.1532
          ],
          [
           0.1529
          ],
          [
           0.1524
          ],
          [
           0.1524
          ],
          [
           0.152
          ],
          [
           0.152
          ],
          [
           0.1508
          ],
          [
           0.1492
          ],
          [
           0.1492
          ],
          [
           0.1491
          ],
          [
           0.1473
          ],
          [
           0.1454
          ],
          [
           0.1448
          ],
          [
           0.1439
          ],
          [
           0.1426
          ],
          [
           0.1415
          ],
          [
           0.1408
          ],
          [
           0.14
          ],
          [
           0.1398
          ],
          [
           0.1361
          ],
          [
           0.1348
          ],
          [
           0.1342
          ],
          [
           0.1341
          ],
          [
           0.1341
          ],
          [
           0.1331
          ],
          [
           0.1319
          ],
          [
           0.1311
          ],
          [
           0.1309
          ],
          [
           0.1299
          ],
          [
           0.1269
          ],
          [
           0.124
          ],
          [
           0.1215
          ],
          [
           0.1202
          ],
          [
           0.1165
          ],
          [
           0.1142
          ],
          [
           0.1126
          ],
          [
           0.1125
          ],
          [
           0.1114
          ],
          [
           0.1094
          ],
          [
           0.1092
          ],
          [
           0.109
          ],
          [
           0.106
          ],
          [
           0.1024
          ],
          [
           0.1023
          ],
          [
           0.1013
          ],
          [
           0.0916
          ]
         ],
         "hovertemplate": "hole cards flavor=%{x}<br>win ratio rounded down to nearest 5%=%{y:.0%}<br>win ratio=%{customdata[0]:.2%}<br>appearances=%{marker.color}<extra></extra>",
         "legendgroup": "",
         "marker": {
          "color": [
           3192,
           3162,
           3221,
           3133,
           2175,
           2101,
           3257,
           2113,
           6337,
           2006,
           2102,
           2092,
           2079,
           3198,
           6283,
           2107,
           2077,
           6304,
           2054,
           2112,
           2145,
           6339,
           2128,
           6425,
           2072,
           6431,
           2080,
           6188,
           2197,
           2068,
           3191,
           6286,
           2074,
           2061,
           2118,
           2119,
           6391,
           2176,
           6236,
           2081,
           2106,
           2127,
           2075,
           2126,
           2063,
           2099,
           6211,
           2169,
           3103,
           2134,
           6356,
           2092,
           2110,
           2190,
           6335,
           6266,
           6370,
           2197,
           6264,
           2135,
           2165,
           6396,
           6366,
           6451,
           2083,
           2051,
           2079,
           6367,
           3183,
           2133,
           2092,
           2052,
           2089,
           2110,
           2134,
           6448,
           6334,
           6464,
           6161,
           3134,
           6267,
           2166,
           2018,
           3148,
           2051,
           2100,
           2066,
           6392,
           2130,
           6403,
           6384,
           6310,
           2137,
           6323,
           2069,
           2092,
           2148,
           2081,
           2211,
           2113,
           2124,
           3125,
           6275,
           6278,
           6282,
           6335,
           6319,
           6417,
           6279,
           2050,
           2045,
           6438,
           2053,
           2085,
           2148,
           6241,
           6323,
           6423,
           3203,
           2168,
           6470,
           6453,
           6224,
           2115,
           6467,
           2113,
           2146,
           2151,
           2191,
           6265,
           2104,
           6374,
           2086,
           6285,
           6274,
           2113,
           6386,
           2069,
           6253,
           2124,
           2079,
           6410,
           6422,
           6411,
           2049,
           6378,
           6407,
           6531,
           6284,
           6347,
           6264,
           6128,
           6374,
           6314,
           6430,
           6429,
           6275,
           6218,
           6277,
           6313,
           6337,
           6507,
           6226,
           6295,
           6299,
           6335,
           6431,
           6300,
           6288
          ],
          "coloraxis": "coloraxis",
          "pattern": {
           "shape": ""
          }
         },
         "name": "",
         "offsetgroup": "",
         "orientation": "v",
         "showlegend": false,
         "textposition": "auto",
         "type": "bar",
         "x": [
          "Aces paired",
          "Kings paired",
          "Queens paired",
          "Jacks paired",
          "Ace, Queen suited",
          "Ace, King suited",
          "10s paired",
          "Ace, 10 suited",
          "Ace, King off suit",
          "Ace, Jack suited",
          "King, Queen suited",
          "King, Jack suited",
          "King, 10 suited",
          "9s paired",
          "Ace, Queen off suit",
          "Queen, Jack suited",
          "Queen, 10 suited",
          "Ace, Jack off suit",
          "Jack, 10 suited",
          "Ace, 9 suited",
          "Ace, 8 suited",
          "King, Queen off suit",
          "10, 9 suited",
          "King, Jack off suit",
          "Ace, 5 suited",
          "Queen, Jack off suit",
          "King, 9 suited",
          "Ace, 10 off suit",
          "Jack, 9 suited",
          "Queen, 9 suited",
          "8s paired",
          "King, 10 off suit",
          "Ace, 4 suited",
          "Ace, 7 suited",
          "Ace, 6 suited",
          "King, 8 suited",
          "Queen, 10 off suit",
          "Ace, 3 suited",
          "Jack, 10 off suit",
          "Ace, 2 suited",
          "9, 8 suited",
          "Queen, 8 suited",
          "10, 8 suited",
          "King, 6 suited",
          "King, 7 suited",
          "King, 4 suited",
          "King, 9 off suit",
          "Jack, 8 suited",
          "7s paired",
          "9, 7 suited",
          "Ace, 8 off suit",
          "8, 7 suited",
          "Queen, 7 suited",
          "King, 5 suited",
          "Ace, 9 off suit",
          "Queen, 9 off suit",
          "10, 9 off suit",
          "10, 7 suited",
          "Ace, 7 off suit",
          "Jack, 7 suited",
          "King, 3 suited",
          "Ace, 4 off suit",
          "Ace, 6 off suit",
          "Ace, 5 off suit",
          "10, 6 suited",
          "Queen, 5 suited",
          "Queen, 6 suited",
          "Jack, 9 off suit",
          "6s paired",
          "Queen, 4 suited",
          "Jack, 3 suited",
          "5, 4 suited",
          "Queen, 3 suited",
          "9, 6 suited",
          "8, 6 suited",
          "King, 8 off suit",
          "Jack, 8 off suit",
          "Ace, 3 off suit",
          "King, 7 off suit",
          "4s paired",
          "King, 6 off suit",
          "King, 2 suited",
          "7, 6 suited",
          "5s paired",
          "Jack, 5 suited",
          "5, 3 suited",
          "9, 5 suited",
          "Queen, 8 off suit",
          "6, 5 suited",
          "Ace, 2 off suit",
          "10, 7 off suit",
          "10, 8 off suit",
          "Jack, 6 suited",
          "9, 8 off suit",
          "8, 5 suited",
          "7, 4 suited",
          "10, 4 suited",
          "Queen, 2 suited",
          "Jack, 4 suited",
          "7, 5 suited",
          "Jack, 2 suited",
          "3s paired",
          "King, 5 off suit",
          "King, 4 off suit",
          "Queen, 7 off suit",
          "Jack, 7 off suit",
          "King, 3 off suit",
          "Queen, 5 off suit",
          "8, 7 off suit",
          "6, 4 suited",
          "8, 4 suited",
          "10, 6 off suit",
          "10, 2 suited",
          "6, 3 suited",
          "7, 3 suited",
          "Queen, 6 off suit",
          "8, 6 off suit",
          "7, 6 off suit",
          "2s paired",
          "8, 2 suited",
          "King, 2 off suit",
          "9, 7 off suit",
          "Queen, 4 off suit",
          "10, 5 suited",
          "9, 6 off suit",
          "5, 2 suited",
          "10, 3 suited",
          "4, 3 suited",
          "3, 2 suited",
          "Jack, 6 off suit",
          "9, 2 suited",
          "6, 5 off suit",
          "9, 4 suited",
          "Queen, 3 off suit",
          "Jack, 5 off suit",
          "4, 2 suited",
          "Queen, 2 off suit",
          "9, 3 suited",
          "5, 4 off suit",
          "8, 3 suited",
          "7, 2 suited",
          "Jack, 4 off suit",
          "8, 5 off suit",
          "9, 5 off suit",
          "6, 2 suited",
          "7, 5 off suit",
          "Jack, 2 off suit",
          "10, 4 off suit",
          "10, 5 off suit",
          "Jack, 3 off suit",
          "6, 4 off suit",
          "8, 4 off suit",
          "5, 3 off suit",
          "7, 4 off suit",
          "9, 4 off suit",
          "10, 3 off suit",
          "10, 2 off suit",
          "9, 2 off suit",
          "6, 3 off suit",
          "8, 3 off suit",
          "5, 2 off suit",
          "9, 3 off suit",
          "4, 3 off suit",
          "7, 3 off suit",
          "8, 2 off suit",
          "3, 2 off suit",
          "4, 2 off suit",
          "6, 2 off suit",
          "7, 2 off suit"
         ],
         "xaxis": "x",
         "y": [
          0.5,
          0.4,
          0.35,
          0.3,
          0.3,
          0.3,
          0.3,
          0.3,
          0.25,
          0.25,
          0.25,
          0.25,
          0.25,
          0.25,
          0.25,
          0.25,
          0.25,
          0.25,
          0.25,
          0.25,
          0.25,
          0.25,
          0.25,
          0.2,
          0.2,
          0.2,
          0.2,
          0.2,
          0.2,
          0.2,
          0.2,
          0.2,
          0.2,
          0.2,
          0.2,
          0.2,
          0.2,
          0.2,
          0.2,
          0.2,
          0.2,
          0.2,
          0.2,
          0.2,
          0.2,
          0.2,
          0.2,
          0.2,
          0.2,
          0.2,
          0.2,
          0.2,
          0.2,
          0.2,
          0.2,
          0.2,
          0.2,
          0.2,
          0.2,
          0.2,
          0.2,
          0.2,
          0.2,
          0.2,
          0.15,
          0.15,
          0.15,
          0.15,
          0.15,
          0.15,
          0.15,
          0.15,
          0.15,
          0.15,
          0.15,
          0.15,
          0.15,
          0.15,
          0.15,
          0.15,
          0.15,
          0.15,
          0.15,
          0.15,
          0.15,
          0.15,
          0.15,
          0.15,
          0.15,
          0.15,
          0.15,
          0.15,
          0.15,
          0.15,
          0.15,
          0.15,
          0.15,
          0.15,
          0.15,
          0.15,
          0.15,
          0.15,
          0.15,
          0.15,
          0.15,
          0.15,
          0.15,
          0.15,
          0.15,
          0.15,
          0.15,
          0.15,
          0.15,
          0.15,
          0.15,
          0.15,
          0.15,
          0.15,
          0.15,
          0.15,
          0.15,
          0.15,
          0.15,
          0.15,
          0.15,
          0.15,
          0.15,
          0.15,
          0.15,
          0.15,
          0.1,
          0.1,
          0.1,
          0.1,
          0.1,
          0.1,
          0.1,
          0.1,
          0.1,
          0.1,
          0.1,
          0.1,
          0.1,
          0.1,
          0.1,
          0.1,
          0.1,
          0.1,
          0.1,
          0.1,
          0.1,
          0.1,
          0.1,
          0.1,
          0.1,
          0.1,
          0.1,
          0.1,
          0.1,
          0.1,
          0.1,
          0.1,
          0.1,
          0.1,
          0.1,
          0.1,
          0.1,
          0.1,
          0.05
         ],
         "yaxis": "y"
        },
        {
         "line": {
          "color": "red",
          "width": 1
         },
         "mode": "lines",
         "name": "Likely Win/Lose Threshold",
         "showlegend": true,
         "type": "scatter",
         "x": [
          null
         ],
         "y": [
          null
         ]
        }
       ],
       "layout": {
        "barmode": "relative",
        "coloraxis": {
         "colorbar": {
          "thickness": 10,
          "tickfont": {
           "family": "monospace",
           "size": 12
          },
          "title": {
           "font": {
            "family": "sans-serif",
            "size": 14
           },
           "text": "Appearances"
          }
         },
         "colorscale": [
          [
           0,
           "#fcfdbf"
          ],
          [
           0.1111111111111111,
           "#feca8d"
          ],
          [
           0.2222222222222222,
           "#fd9668"
          ],
          [
           0.3333333333333333,
           "#f1605d"
          ],
          [
           0.4444444444444444,
           "#cd4071"
          ],
          [
           0.5555555555555556,
           "#9e2f7f"
          ],
          [
           0.6666666666666666,
           "#721f81"
          ],
          [
           0.7777777777777778,
           "#440f76"
          ],
          [
           0.8888888888888888,
           "#180f3d"
          ],
          [
           1,
           "#000004"
          ]
         ]
        },
        "legend": {
         "font": {
          "family": "sans-serif",
          "size": 12
         },
         "tracegroupgap": 0,
         "x": 0.5,
         "xanchor": "center",
         "y": 0.99,
         "yanchor": "top"
        },
        "margin": {
         "t": 60
        },
        "plot_bgcolor": "white",
        "shapes": [
         {
          "line": {
           "color": "red",
           "width": 1
          },
          "type": "line",
          "x0": 0,
          "x1": 1,
          "xref": "paper",
          "y0": 0.8283333333333334,
          "y1": 0.8283333333333334,
          "yref": "y"
         },
         {
          "fillcolor": "limegreen",
          "layer": "below",
          "line": {
           "width": 0
          },
          "opacity": 0.1,
          "type": "rect",
          "x0": 0,
          "x1": 1,
          "xref": "paper",
          "y0": 0.8283333333333334,
          "y1": 1,
          "yref": "y"
         },
         {
          "fillcolor": "red",
          "layer": "below",
          "line": {
           "width": 0
          },
          "opacity": 0.1,
          "type": "rect",
          "x0": 0,
          "x1": 1,
          "xref": "paper",
          "y0": 0,
          "y1": 0.8283333333333334,
          "yref": "y"
         }
        ],
        "template": {
         "data": {
          "bar": [
           {
            "error_x": {
             "color": "#2a3f5f"
            },
            "error_y": {
             "color": "#2a3f5f"
            },
            "marker": {
             "line": {
              "color": "#E5ECF6",
              "width": 0.5
             },
             "pattern": {
              "fillmode": "overlay",
              "size": 10,
              "solidity": 0.2
             }
            },
            "type": "bar"
           }
          ],
          "barpolar": [
           {
            "marker": {
             "line": {
              "color": "#E5ECF6",
              "width": 0.5
             },
             "pattern": {
              "fillmode": "overlay",
              "size": 10,
              "solidity": 0.2
             }
            },
            "type": "barpolar"
           }
          ],
          "carpet": [
           {
            "aaxis": {
             "endlinecolor": "#2a3f5f",
             "gridcolor": "white",
             "linecolor": "white",
             "minorgridcolor": "white",
             "startlinecolor": "#2a3f5f"
            },
            "baxis": {
             "endlinecolor": "#2a3f5f",
             "gridcolor": "white",
             "linecolor": "white",
             "minorgridcolor": "white",
             "startlinecolor": "#2a3f5f"
            },
            "type": "carpet"
           }
          ],
          "choropleth": [
           {
            "colorbar": {
             "outlinewidth": 0,
             "ticks": ""
            },
            "type": "choropleth"
           }
          ],
          "contour": [
           {
            "colorbar": {
             "outlinewidth": 0,
             "ticks": ""
            },
            "colorscale": [
             [
              0,
              "#0d0887"
             ],
             [
              0.1111111111111111,
              "#46039f"
             ],
             [
              0.2222222222222222,
              "#7201a8"
             ],
             [
              0.3333333333333333,
              "#9c179e"
             ],
             [
              0.4444444444444444,
              "#bd3786"
             ],
             [
              0.5555555555555556,
              "#d8576b"
             ],
             [
              0.6666666666666666,
              "#ed7953"
             ],
             [
              0.7777777777777778,
              "#fb9f3a"
             ],
             [
              0.8888888888888888,
              "#fdca26"
             ],
             [
              1,
              "#f0f921"
             ]
            ],
            "type": "contour"
           }
          ],
          "contourcarpet": [
           {
            "colorbar": {
             "outlinewidth": 0,
             "ticks": ""
            },
            "type": "contourcarpet"
           }
          ],
          "heatmap": [
           {
            "colorbar": {
             "outlinewidth": 0,
             "ticks": ""
            },
            "colorscale": [
             [
              0,
              "#0d0887"
             ],
             [
              0.1111111111111111,
              "#46039f"
             ],
             [
              0.2222222222222222,
              "#7201a8"
             ],
             [
              0.3333333333333333,
              "#9c179e"
             ],
             [
              0.4444444444444444,
              "#bd3786"
             ],
             [
              0.5555555555555556,
              "#d8576b"
             ],
             [
              0.6666666666666666,
              "#ed7953"
             ],
             [
              0.7777777777777778,
              "#fb9f3a"
             ],
             [
              0.8888888888888888,
              "#fdca26"
             ],
             [
              1,
              "#f0f921"
             ]
            ],
            "type": "heatmap"
           }
          ],
          "heatmapgl": [
           {
            "colorbar": {
             "outlinewidth": 0,
             "ticks": ""
            },
            "colorscale": [
             [
              0,
              "#0d0887"
             ],
             [
              0.1111111111111111,
              "#46039f"
             ],
             [
              0.2222222222222222,
              "#7201a8"
             ],
             [
              0.3333333333333333,
              "#9c179e"
             ],
             [
              0.4444444444444444,
              "#bd3786"
             ],
             [
              0.5555555555555556,
              "#d8576b"
             ],
             [
              0.6666666666666666,
              "#ed7953"
             ],
             [
              0.7777777777777778,
              "#fb9f3a"
             ],
             [
              0.8888888888888888,
              "#fdca26"
             ],
             [
              1,
              "#f0f921"
             ]
            ],
            "type": "heatmapgl"
           }
          ],
          "histogram": [
           {
            "marker": {
             "pattern": {
              "fillmode": "overlay",
              "size": 10,
              "solidity": 0.2
             }
            },
            "type": "histogram"
           }
          ],
          "histogram2d": [
           {
            "colorbar": {
             "outlinewidth": 0,
             "ticks": ""
            },
            "colorscale": [
             [
              0,
              "#0d0887"
             ],
             [
              0.1111111111111111,
              "#46039f"
             ],
             [
              0.2222222222222222,
              "#7201a8"
             ],
             [
              0.3333333333333333,
              "#9c179e"
             ],
             [
              0.4444444444444444,
              "#bd3786"
             ],
             [
              0.5555555555555556,
              "#d8576b"
             ],
             [
              0.6666666666666666,
              "#ed7953"
             ],
             [
              0.7777777777777778,
              "#fb9f3a"
             ],
             [
              0.8888888888888888,
              "#fdca26"
             ],
             [
              1,
              "#f0f921"
             ]
            ],
            "type": "histogram2d"
           }
          ],
          "histogram2dcontour": [
           {
            "colorbar": {
             "outlinewidth": 0,
             "ticks": ""
            },
            "colorscale": [
             [
              0,
              "#0d0887"
             ],
             [
              0.1111111111111111,
              "#46039f"
             ],
             [
              0.2222222222222222,
              "#7201a8"
             ],
             [
              0.3333333333333333,
              "#9c179e"
             ],
             [
              0.4444444444444444,
              "#bd3786"
             ],
             [
              0.5555555555555556,
              "#d8576b"
             ],
             [
              0.6666666666666666,
              "#ed7953"
             ],
             [
              0.7777777777777778,
              "#fb9f3a"
             ],
             [
              0.8888888888888888,
              "#fdca26"
             ],
             [
              1,
              "#f0f921"
             ]
            ],
            "type": "histogram2dcontour"
           }
          ],
          "mesh3d": [
           {
            "colorbar": {
             "outlinewidth": 0,
             "ticks": ""
            },
            "type": "mesh3d"
           }
          ],
          "parcoords": [
           {
            "line": {
             "colorbar": {
              "outlinewidth": 0,
              "ticks": ""
             }
            },
            "type": "parcoords"
           }
          ],
          "pie": [
           {
            "automargin": true,
            "type": "pie"
           }
          ],
          "scatter": [
           {
            "fillpattern": {
             "fillmode": "overlay",
             "size": 10,
             "solidity": 0.2
            },
            "type": "scatter"
           }
          ],
          "scatter3d": [
           {
            "line": {
             "colorbar": {
              "outlinewidth": 0,
              "ticks": ""
             }
            },
            "marker": {
             "colorbar": {
              "outlinewidth": 0,
              "ticks": ""
             }
            },
            "type": "scatter3d"
           }
          ],
          "scattercarpet": [
           {
            "marker": {
             "colorbar": {
              "outlinewidth": 0,
              "ticks": ""
             }
            },
            "type": "scattercarpet"
           }
          ],
          "scattergeo": [
           {
            "marker": {
             "colorbar": {
              "outlinewidth": 0,
              "ticks": ""
             }
            },
            "type": "scattergeo"
           }
          ],
          "scattergl": [
           {
            "marker": {
             "colorbar": {
              "outlinewidth": 0,
              "ticks": ""
             }
            },
            "type": "scattergl"
           }
          ],
          "scattermapbox": [
           {
            "marker": {
             "colorbar": {
              "outlinewidth": 0,
              "ticks": ""
             }
            },
            "type": "scattermapbox"
           }
          ],
          "scatterpolar": [
           {
            "marker": {
             "colorbar": {
              "outlinewidth": 0,
              "ticks": ""
             }
            },
            "type": "scatterpolar"
           }
          ],
          "scatterpolargl": [
           {
            "marker": {
             "colorbar": {
              "outlinewidth": 0,
              "ticks": ""
             }
            },
            "type": "scatterpolargl"
           }
          ],
          "scatterternary": [
           {
            "marker": {
             "colorbar": {
              "outlinewidth": 0,
              "ticks": ""
             }
            },
            "type": "scatterternary"
           }
          ],
          "surface": [
           {
            "colorbar": {
             "outlinewidth": 0,
             "ticks": ""
            },
            "colorscale": [
             [
              0,
              "#0d0887"
             ],
             [
              0.1111111111111111,
              "#46039f"
             ],
             [
              0.2222222222222222,
              "#7201a8"
             ],
             [
              0.3333333333333333,
              "#9c179e"
             ],
             [
              0.4444444444444444,
              "#bd3786"
             ],
             [
              0.5555555555555556,
              "#d8576b"
             ],
             [
              0.6666666666666666,
              "#ed7953"
             ],
             [
              0.7777777777777778,
              "#fb9f3a"
             ],
             [
              0.8888888888888888,
              "#fdca26"
             ],
             [
              1,
              "#f0f921"
             ]
            ],
            "type": "surface"
           }
          ],
          "table": [
           {
            "cells": {
             "fill": {
              "color": "#EBF0F8"
             },
             "line": {
              "color": "white"
             }
            },
            "header": {
             "fill": {
              "color": "#C8D4E3"
             },
             "line": {
              "color": "white"
             }
            },
            "type": "table"
           }
          ]
         },
         "layout": {
          "annotationdefaults": {
           "arrowcolor": "#2a3f5f",
           "arrowhead": 0,
           "arrowwidth": 1
          },
          "autotypenumbers": "strict",
          "coloraxis": {
           "colorbar": {
            "outlinewidth": 0,
            "ticks": ""
           }
          },
          "colorscale": {
           "diverging": [
            [
             0,
             "#8e0152"
            ],
            [
             0.1,
             "#c51b7d"
            ],
            [
             0.2,
             "#de77ae"
            ],
            [
             0.3,
             "#f1b6da"
            ],
            [
             0.4,
             "#fde0ef"
            ],
            [
             0.5,
             "#f7f7f7"
            ],
            [
             0.6,
             "#e6f5d0"
            ],
            [
             0.7,
             "#b8e186"
            ],
            [
             0.8,
             "#7fbc41"
            ],
            [
             0.9,
             "#4d9221"
            ],
            [
             1,
             "#276419"
            ]
           ],
           "sequential": [
            [
             0,
             "#0d0887"
            ],
            [
             0.1111111111111111,
             "#46039f"
            ],
            [
             0.2222222222222222,
             "#7201a8"
            ],
            [
             0.3333333333333333,
             "#9c179e"
            ],
            [
             0.4444444444444444,
             "#bd3786"
            ],
            [
             0.5555555555555556,
             "#d8576b"
            ],
            [
             0.6666666666666666,
             "#ed7953"
            ],
            [
             0.7777777777777778,
             "#fb9f3a"
            ],
            [
             0.8888888888888888,
             "#fdca26"
            ],
            [
             1,
             "#f0f921"
            ]
           ],
           "sequentialminus": [
            [
             0,
             "#0d0887"
            ],
            [
             0.1111111111111111,
             "#46039f"
            ],
            [
             0.2222222222222222,
             "#7201a8"
            ],
            [
             0.3333333333333333,
             "#9c179e"
            ],
            [
             0.4444444444444444,
             "#bd3786"
            ],
            [
             0.5555555555555556,
             "#d8576b"
            ],
            [
             0.6666666666666666,
             "#ed7953"
            ],
            [
             0.7777777777777778,
             "#fb9f3a"
            ],
            [
             0.8888888888888888,
             "#fdca26"
            ],
            [
             1,
             "#f0f921"
            ]
           ]
          },
          "colorway": [
           "#636efa",
           "#EF553B",
           "#00cc96",
           "#ab63fa",
           "#FFA15A",
           "#19d3f3",
           "#FF6692",
           "#B6E880",
           "#FF97FF",
           "#FECB52"
          ],
          "font": {
           "color": "#2a3f5f"
          },
          "geo": {
           "bgcolor": "white",
           "lakecolor": "white",
           "landcolor": "#E5ECF6",
           "showlakes": true,
           "showland": true,
           "subunitcolor": "white"
          },
          "hoverlabel": {
           "align": "left"
          },
          "hovermode": "closest",
          "mapbox": {
           "style": "light"
          },
          "paper_bgcolor": "white",
          "plot_bgcolor": "#E5ECF6",
          "polar": {
           "angularaxis": {
            "gridcolor": "white",
            "linecolor": "white",
            "ticks": ""
           },
           "bgcolor": "#E5ECF6",
           "radialaxis": {
            "gridcolor": "white",
            "linecolor": "white",
            "ticks": ""
           }
          },
          "scene": {
           "xaxis": {
            "backgroundcolor": "#E5ECF6",
            "gridcolor": "white",
            "gridwidth": 2,
            "linecolor": "white",
            "showbackground": true,
            "ticks": "",
            "zerolinecolor": "white"
           },
           "yaxis": {
            "backgroundcolor": "#E5ECF6",
            "gridcolor": "white",
            "gridwidth": 2,
            "linecolor": "white",
            "showbackground": true,
            "ticks": "",
            "zerolinecolor": "white"
           },
           "zaxis": {
            "backgroundcolor": "#E5ECF6",
            "gridcolor": "white",
            "gridwidth": 2,
            "linecolor": "white",
            "showbackground": true,
            "ticks": "",
            "zerolinecolor": "white"
           }
          },
          "shapedefaults": {
           "line": {
            "color": "#2a3f5f"
           }
          },
          "ternary": {
           "aaxis": {
            "gridcolor": "white",
            "linecolor": "white",
            "ticks": ""
           },
           "baxis": {
            "gridcolor": "white",
            "linecolor": "white",
            "ticks": ""
           },
           "bgcolor": "#E5ECF6",
           "caxis": {
            "gridcolor": "white",
            "linecolor": "white",
            "ticks": ""
           }
          },
          "title": {
           "x": 0.05
          },
          "xaxis": {
           "automargin": true,
           "gridcolor": "white",
           "linecolor": "white",
           "ticks": "",
           "title": {
            "standoff": 15
           },
           "zerolinecolor": "white",
           "zerolinewidth": 2
          },
          "yaxis": {
           "automargin": true,
           "gridcolor": "white",
           "linecolor": "white",
           "ticks": "",
           "title": {
            "standoff": 15
           },
           "zerolinecolor": "white",
           "zerolinewidth": 2
          }
         }
        },
        "title": {
         "font": {
          "family": "serif",
          "size": 20
         },
         "text": "Best hole cards flavors for 6 Players"
        },
        "xaxis": {
         "anchor": "y",
         "domain": [
          0,
          1
         ],
         "showgrid": false,
         "title": {
          "text": ""
         }
        },
        "yaxis": {
         "anchor": "x",
         "domain": [
          0,
          1
         ],
         "range": [
          0,
          1
         ],
         "showgrid": false,
         "showticklabels": false,
         "title": {
          "text": ""
         }
        }
       }
      }
     },
     "metadata": {},
     "output_type": "display_data"
    },
    {
     "name": "stderr",
     "output_type": "stream",
     "text": [
      "INFO: Not saving plot - pass save_plot=True to save it.\n",
      "INFO: Making plotly figure and axis objects\n",
      "c:\\Users\\david\\Documents\\Projects\\holdem_simulator\\src\\plot_builders_plotly.py:158: SettingWithCopyWarning:\n",
      "\n",
      "\n",
      "A value is trying to be set on a copy of a slice from a DataFrame.\n",
      "Try using .loc[row_indexer,col_indexer] = value instead\n",
      "\n",
      "See the caveats in the documentation: https://pandas.pydata.org/pandas-docs/stable/user_guide/indexing.html#returning-a-view-versus-a-copy\n",
      "\n",
      "INFO: Sorting data frame ascending by n_players\n",
      "INFO: Sorting data frame descending by win ratio, win ratio rounded down to nearest 5%\n",
      "INFO: Showing plot object\n"
     ]
    },
    {
     "data": {
      "application/vnd.plotly.v1+json": {
       "config": {
        "plotlyServerURL": "https://plot.ly"
       },
       "data": [
        {
         "alignmentgroup": "True",
         "customdata": [
          [
           0.4421
          ],
          [
           0.3738
          ],
          [
           0.3336
          ],
          [
           0.2882
          ],
          [
           0.2865
          ],
          [
           0.2833
          ],
          [
           0.2783
          ],
          [
           0.2572
          ],
          [
           0.2571
          ],
          [
           0.2537
          ],
          [
           0.252
          ],
          [
           0.2495
          ],
          [
           0.2474
          ],
          [
           0.2466
          ],
          [
           0.2459
          ],
          [
           0.2459
          ],
          [
           0.241
          ],
          [
           0.2323
          ],
          [
           0.2298
          ],
          [
           0.2289
          ],
          [
           0.2238
          ],
          [
           0.2209
          ],
          [
           0.2145
          ],
          [
           0.2126
          ],
          [
           0.2117
          ],
          [
           0.2112
          ],
          [
           0.2101
          ],
          [
           0.2095
          ],
          [
           0.2089
          ],
          [
           0.2079
          ],
          [
           0.2077
          ],
          [
           0.2075
          ],
          [
           0.2069
          ],
          [
           0.2061
          ],
          [
           0.2052
          ],
          [
           0.2023
          ],
          [
           0.2015
          ],
          [
           0.2011
          ],
          [
           0.2011
          ],
          [
           0.2001
          ],
          [
           0.2
          ],
          [
           0.1981
          ],
          [
           0.1937
          ],
          [
           0.1937
          ],
          [
           0.1901
          ],
          [
           0.1888
          ],
          [
           0.1883
          ],
          [
           0.1876
          ],
          [
           0.1875
          ],
          [
           0.1861
          ],
          [
           0.1859
          ],
          [
           0.1833
          ],
          [
           0.1827
          ],
          [
           0.1788
          ],
          [
           0.1788
          ],
          [
           0.1787
          ],
          [
           0.1773
          ],
          [
           0.176
          ],
          [
           0.1754
          ],
          [
           0.174
          ],
          [
           0.1739
          ],
          [
           0.1738
          ],
          [
           0.1734
          ],
          [
           0.1733
          ],
          [
           0.173
          ],
          [
           0.173
          ],
          [
           0.1728
          ],
          [
           0.1726
          ],
          [
           0.1723
          ],
          [
           0.171
          ],
          [
           0.17
          ],
          [
           0.1692
          ],
          [
           0.1683
          ],
          [
           0.1671
          ],
          [
           0.1668
          ],
          [
           0.1663
          ],
          [
           0.1663
          ],
          [
           0.166
          ],
          [
           0.1658
          ],
          [
           0.1651
          ],
          [
           0.1639
          ],
          [
           0.1635
          ],
          [
           0.1624
          ],
          [
           0.1603
          ],
          [
           0.1602
          ],
          [
           0.1599
          ],
          [
           0.1593
          ],
          [
           0.158
          ],
          [
           0.1566
          ],
          [
           0.1536
          ],
          [
           0.1528
          ],
          [
           0.1527
          ],
          [
           0.1525
          ],
          [
           0.1519
          ],
          [
           0.1515
          ],
          [
           0.1511
          ],
          [
           0.1509
          ],
          [
           0.1501
          ],
          [
           0.1489
          ],
          [
           0.1484
          ],
          [
           0.1484
          ],
          [
           0.1483
          ],
          [
           0.1474
          ],
          [
           0.1459
          ],
          [
           0.1457
          ],
          [
           0.1451
          ],
          [
           0.1443
          ],
          [
           0.1441
          ],
          [
           0.1437
          ],
          [
           0.1427
          ],
          [
           0.1425
          ],
          [
           0.142
          ],
          [
           0.1416
          ],
          [
           0.1415
          ],
          [
           0.1407
          ],
          [
           0.1407
          ],
          [
           0.1402
          ],
          [
           0.1391
          ],
          [
           0.1385
          ],
          [
           0.1381
          ],
          [
           0.136
          ],
          [
           0.1357
          ],
          [
           0.135
          ],
          [
           0.1349
          ],
          [
           0.1348
          ],
          [
           0.1347
          ],
          [
           0.1331
          ],
          [
           0.1307
          ],
          [
           0.1304
          ],
          [
           0.1301
          ],
          [
           0.1287
          ],
          [
           0.1268
          ],
          [
           0.1265
          ],
          [
           0.1244
          ],
          [
           0.124
          ],
          [
           0.124
          ],
          [
           0.1234
          ],
          [
           0.1224
          ],
          [
           0.1223
          ],
          [
           0.1219
          ],
          [
           0.1183
          ],
          [
           0.1175
          ],
          [
           0.1175
          ],
          [
           0.1159
          ],
          [
           0.1154
          ],
          [
           0.1134
          ],
          [
           0.1131
          ],
          [
           0.1129
          ],
          [
           0.1116
          ],
          [
           0.1114
          ],
          [
           0.1113
          ],
          [
           0.1093
          ],
          [
           0.1085
          ],
          [
           0.1033
          ],
          [
           0.1031
          ],
          [
           0.103
          ],
          [
           0.101
          ],
          [
           0.1005
          ],
          [
           0.0999
          ],
          [
           0.0984
          ],
          [
           0.0963
          ],
          [
           0.0956
          ],
          [
           0.0948
          ],
          [
           0.0911
          ],
          [
           0.0902
          ],
          [
           0.0873
          ],
          [
           0.0838
          ],
          [
           0.0831
          ],
          [
           0.0807
          ]
         ],
         "hovertemplate": "hole cards flavor=%{x}<br>win ratio rounded down to nearest 5%=%{y:.0%}<br>win ratio=%{customdata[0]:.2%}<br>appearances=%{marker.color}<extra></extra>",
         "legendgroup": "",
         "marker": {
          "color": [
           3189,
           3162,
           3207,
           3029,
           2098,
           2185,
           2073,
           3176,
           2155,
           2093,
           2004,
           6386,
           2138,
           2032,
           6351,
           2135,
           2178,
           6221,
           2215,
           3159,
           6372,
           2132,
           6191,
           2215,
           6279,
           2135,
           6201,
           2110,
           2130,
           6373,
           3230,
           2169,
           2069,
           6314,
           2081,
           2155,
           2154,
           2093,
           2069,
           6348,
           2050,
           2120,
           2132,
           2122,
           3182,
           2108,
           2077,
           2127,
           2117,
           6287,
           6390,
           2182,
           2113,
           6252,
           6242,
           6291,
           6366,
           2108,
           6173,
           2132,
           3139,
           2106,
           6251,
           2170,
           2168,
           2092,
           6400,
           2150,
           2049,
           2117,
           2123,
           2116,
           2074,
           2083,
           6278,
           2092,
           2056,
           2115,
           6362,
           2102,
           3179,
           6246,
           6307,
           6306,
           6424,
           2164,
           6498,
           2120,
           6278,
           2122,
           2134,
           2010,
           2026,
           2172,
           6383,
           6539,
           2167,
           3145,
           6448,
           2163,
           2123,
           6269,
           3127,
           2029,
           6274,
           6307,
           6221,
           3212,
           2122,
           6194,
           2028,
           2119,
           6393,
           2092,
           2153,
           2076,
           2082,
           6341,
           2180,
           2115,
           6501,
           2049,
           6400,
           2186,
           2107,
           2145,
           2163,
           6382,
           2109,
           6127,
           2137,
           6230,
           6331,
           2122,
           6304,
           6204,
           6183,
           6380,
           6441,
           6480,
           6331,
           6440,
           6348,
           6301,
           6351,
           6489,
           6465,
           6261,
           6453,
           6302,
           6386,
           6186,
           6352,
           6358,
           6286,
           6241,
           6285,
           6470,
           6398,
           6395,
           6374,
           6191,
           6476,
           6289,
           6353,
           6172,
           6430,
           6387,
           6306
          ],
          "coloraxis": "coloraxis",
          "pattern": {
           "shape": ""
          }
         },
         "name": "",
         "offsetgroup": "",
         "orientation": "v",
         "showlegend": false,
         "textposition": "auto",
         "type": "bar",
         "x": [
          "Aces paired",
          "Kings paired",
          "Queens paired",
          "Jacks paired",
          "Ace, Queen suited",
          "King, Queen suited",
          "Ace, King suited",
          "10s paired",
          "Ace, Jack suited",
          "Ace, 10 suited",
          "King, Jack suited",
          "Ace, King off suit",
          "King, 10 suited",
          "Queen, Jack suited",
          "Ace, Queen off suit",
          "Queen, 10 suited",
          "Jack, 10 suited",
          "King, Queen off suit",
          "Ace, 9 suited",
          "9s paired",
          "Ace, Jack off suit",
          "Jack, 9 suited",
          "King, Jack off suit",
          "Ace, 6 suited",
          "Queen, Jack off suit",
          "Queen, 7 suited",
          "Ace, 10 off suit",
          "10, 9 suited",
          "King, 4 suited",
          "King, 10 off suit",
          "8s paired",
          "Queen, 9 suited",
          "Ace, 8 suited",
          "Queen, 10 off suit",
          "Ace, 7 suited",
          "Ace, 3 suited",
          "Queen, 8 suited",
          "King, 8 suited",
          "King, 9 suited",
          "Jack, 10 off suit",
          "9, 8 suited",
          "10, 8 suited",
          "Ace, 4 suited",
          "Ace, 5 suited",
          "7s paired",
          "10, 7 suited",
          "King, 7 suited",
          "King, 3 suited",
          "Ace, 2 suited",
          "Ace, 8 off suit",
          "Ace, 9 off suit",
          "Queen, 6 suited",
          "Jack, 8 suited",
          "King, 9 off suit",
          "10, 9 off suit",
          "Queen, 9 off suit",
          "Ace, 5 off suit",
          "9, 7 suited",
          "Ace, 7 off suit",
          "King, 6 suited",
          "6s paired",
          "Jack, 7 suited",
          "Ace, 4 off suit",
          "Jack, 5 suited",
          "King, 5 suited",
          "Queen, 5 suited",
          "Jack, 9 off suit",
          "6, 5 suited",
          "8, 7 suited",
          "King, 2 suited",
          "9, 6 suited",
          "8, 6 suited",
          "Jack, 6 suited",
          "7, 5 suited",
          "Queen, 8 off suit",
          "Queen, 4 suited",
          "Queen, 2 suited",
          "10, 5 suited",
          "10, 8 off suit",
          "10, 6 suited",
          "5s paired",
          "Ace, 3 off suit",
          "King, 7 off suit",
          "9, 8 off suit",
          "King, 8 off suit",
          "Queen, 3 suited",
          "Jack, 8 off suit",
          "7, 6 suited",
          "Ace, 6 off suit",
          "5, 4 suited",
          "9, 5 suited",
          "8, 5 suited",
          "Jack, 2 suited",
          "Jack, 4 suited",
          "Ace, 2 off suit",
          "9, 7 off suit",
          "7, 4 suited",
          "3s paired",
          "10, 7 off suit",
          "6, 4 suited",
          "10, 4 suited",
          "8, 7 off suit",
          "4s paired",
          "Jack, 3 suited",
          "King, 4 off suit",
          "Queen, 7 off suit",
          "King, 5 off suit",
          "2s paired",
          "5, 3 suited",
          "King, 6 off suit",
          "8, 2 suited",
          "8, 4 suited",
          "Jack, 7 off suit",
          "4, 3 suited",
          "3, 2 suited",
          "10, 2 suited",
          "8, 3 suited",
          "Queen, 6 off suit",
          "6, 3 suited",
          "5, 2 suited",
          "7, 6 off suit",
          "9, 3 suited",
          "King, 3 off suit",
          "9, 4 suited",
          "7, 3 suited",
          "10, 3 suited",
          "9, 2 suited",
          "10, 6 off suit",
          "7, 2 suited",
          "8, 6 off suit",
          "4, 2 suited",
          "6, 5 off suit",
          "King, 2 off suit",
          "6, 2 suited",
          "Queen, 3 off suit",
          "9, 6 off suit",
          "Queen, 5 off suit",
          "Jack, 6 off suit",
          "Queen, 4 off suit",
          "7, 5 off suit",
          "10, 5 off suit",
          "Jack, 5 off suit",
          "5, 4 off suit",
          "Queen, 2 off suit",
          "6, 4 off suit",
          "5, 3 off suit",
          "Jack, 2 off suit",
          "9, 5 off suit",
          "Jack, 3 off suit",
          "8, 5 off suit",
          "Jack, 4 off suit",
          "10, 3 off suit",
          "10, 4 off suit",
          "6, 3 off suit",
          "9, 4 off suit",
          "10, 2 off suit",
          "4, 3 off suit",
          "7, 4 off suit",
          "9, 2 off suit",
          "7, 3 off suit",
          "8, 4 off suit",
          "9, 3 off suit",
          "5, 2 off suit",
          "6, 2 off suit",
          "8, 2 off suit",
          "4, 2 off suit",
          "8, 3 off suit",
          "7, 2 off suit",
          "3, 2 off suit"
         ],
         "xaxis": "x",
         "y": [
          0.4,
          0.35,
          0.3,
          0.25,
          0.25,
          0.25,
          0.25,
          0.25,
          0.25,
          0.25,
          0.25,
          0.2,
          0.2,
          0.2,
          0.2,
          0.2,
          0.2,
          0.2,
          0.2,
          0.2,
          0.2,
          0.2,
          0.2,
          0.2,
          0.2,
          0.2,
          0.2,
          0.2,
          0.2,
          0.2,
          0.2,
          0.2,
          0.2,
          0.2,
          0.2,
          0.2,
          0.2,
          0.2,
          0.2,
          0.2,
          0.2,
          0.15,
          0.15,
          0.15,
          0.15,
          0.15,
          0.15,
          0.15,
          0.15,
          0.15,
          0.15,
          0.15,
          0.15,
          0.15,
          0.15,
          0.15,
          0.15,
          0.15,
          0.15,
          0.15,
          0.15,
          0.15,
          0.15,
          0.15,
          0.15,
          0.15,
          0.15,
          0.15,
          0.15,
          0.15,
          0.15,
          0.15,
          0.15,
          0.15,
          0.15,
          0.15,
          0.15,
          0.15,
          0.15,
          0.15,
          0.15,
          0.15,
          0.15,
          0.15,
          0.15,
          0.15,
          0.15,
          0.15,
          0.15,
          0.15,
          0.15,
          0.15,
          0.15,
          0.15,
          0.15,
          0.15,
          0.15,
          0.15,
          0.1,
          0.1,
          0.1,
          0.1,
          0.1,
          0.1,
          0.1,
          0.1,
          0.1,
          0.1,
          0.1,
          0.1,
          0.1,
          0.1,
          0.1,
          0.1,
          0.1,
          0.1,
          0.1,
          0.1,
          0.1,
          0.1,
          0.1,
          0.1,
          0.1,
          0.1,
          0.1,
          0.1,
          0.1,
          0.1,
          0.1,
          0.1,
          0.1,
          0.1,
          0.1,
          0.1,
          0.1,
          0.1,
          0.1,
          0.1,
          0.1,
          0.1,
          0.1,
          0.1,
          0.1,
          0.1,
          0.1,
          0.1,
          0.1,
          0.1,
          0.1,
          0.1,
          0.1,
          0.1,
          0.1,
          0.1,
          0.1,
          0.1,
          0.1,
          0.1,
          0.05,
          0.05,
          0.05,
          0.05,
          0.05,
          0.05,
          0.05,
          0.05,
          0.05,
          0.05,
          0.05
         ],
         "yaxis": "y"
        },
        {
         "line": {
          "color": "red",
          "width": 1
         },
         "mode": "lines",
         "name": "Likely Win/Lose Threshold",
         "showlegend": true,
         "type": "scatter",
         "x": [
          null
         ],
         "y": [
          null
         ]
        }
       ],
       "layout": {
        "barmode": "relative",
        "coloraxis": {
         "colorbar": {
          "thickness": 10,
          "tickfont": {
           "family": "monospace",
           "size": 12
          },
          "title": {
           "font": {
            "family": "sans-serif",
            "size": 14
           },
           "text": "Appearances"
          }
         },
         "colorscale": [
          [
           0,
           "#fcfdbf"
          ],
          [
           0.1111111111111111,
           "#feca8d"
          ],
          [
           0.2222222222222222,
           "#fd9668"
          ],
          [
           0.3333333333333333,
           "#f1605d"
          ],
          [
           0.4444444444444444,
           "#cd4071"
          ],
          [
           0.5555555555555556,
           "#9e2f7f"
          ],
          [
           0.6666666666666666,
           "#721f81"
          ],
          [
           0.7777777777777778,
           "#440f76"
          ],
          [
           0.8888888888888888,
           "#180f3d"
          ],
          [
           1,
           "#000004"
          ]
         ]
        },
        "legend": {
         "font": {
          "family": "sans-serif",
          "size": 12
         },
         "tracegroupgap": 0,
         "x": 0.5,
         "xanchor": "center",
         "y": 0.99,
         "yanchor": "top"
        },
        "margin": {
         "t": 60
        },
        "plot_bgcolor": "white",
        "shapes": [
         {
          "line": {
           "color": "red",
           "width": 1
          },
          "type": "line",
          "x0": 0,
          "x1": 1,
          "xref": "paper",
          "y0": 0.8521428571428572,
          "y1": 0.8521428571428572,
          "yref": "y"
         },
         {
          "fillcolor": "limegreen",
          "layer": "below",
          "line": {
           "width": 0
          },
          "opacity": 0.1,
          "type": "rect",
          "x0": 0,
          "x1": 1,
          "xref": "paper",
          "y0": 0.8521428571428572,
          "y1": 1,
          "yref": "y"
         },
         {
          "fillcolor": "red",
          "layer": "below",
          "line": {
           "width": 0
          },
          "opacity": 0.1,
          "type": "rect",
          "x0": 0,
          "x1": 1,
          "xref": "paper",
          "y0": 0,
          "y1": 0.8521428571428572,
          "yref": "y"
         }
        ],
        "template": {
         "data": {
          "bar": [
           {
            "error_x": {
             "color": "#2a3f5f"
            },
            "error_y": {
             "color": "#2a3f5f"
            },
            "marker": {
             "line": {
              "color": "#E5ECF6",
              "width": 0.5
             },
             "pattern": {
              "fillmode": "overlay",
              "size": 10,
              "solidity": 0.2
             }
            },
            "type": "bar"
           }
          ],
          "barpolar": [
           {
            "marker": {
             "line": {
              "color": "#E5ECF6",
              "width": 0.5
             },
             "pattern": {
              "fillmode": "overlay",
              "size": 10,
              "solidity": 0.2
             }
            },
            "type": "barpolar"
           }
          ],
          "carpet": [
           {
            "aaxis": {
             "endlinecolor": "#2a3f5f",
             "gridcolor": "white",
             "linecolor": "white",
             "minorgridcolor": "white",
             "startlinecolor": "#2a3f5f"
            },
            "baxis": {
             "endlinecolor": "#2a3f5f",
             "gridcolor": "white",
             "linecolor": "white",
             "minorgridcolor": "white",
             "startlinecolor": "#2a3f5f"
            },
            "type": "carpet"
           }
          ],
          "choropleth": [
           {
            "colorbar": {
             "outlinewidth": 0,
             "ticks": ""
            },
            "type": "choropleth"
           }
          ],
          "contour": [
           {
            "colorbar": {
             "outlinewidth": 0,
             "ticks": ""
            },
            "colorscale": [
             [
              0,
              "#0d0887"
             ],
             [
              0.1111111111111111,
              "#46039f"
             ],
             [
              0.2222222222222222,
              "#7201a8"
             ],
             [
              0.3333333333333333,
              "#9c179e"
             ],
             [
              0.4444444444444444,
              "#bd3786"
             ],
             [
              0.5555555555555556,
              "#d8576b"
             ],
             [
              0.6666666666666666,
              "#ed7953"
             ],
             [
              0.7777777777777778,
              "#fb9f3a"
             ],
             [
              0.8888888888888888,
              "#fdca26"
             ],
             [
              1,
              "#f0f921"
             ]
            ],
            "type": "contour"
           }
          ],
          "contourcarpet": [
           {
            "colorbar": {
             "outlinewidth": 0,
             "ticks": ""
            },
            "type": "contourcarpet"
           }
          ],
          "heatmap": [
           {
            "colorbar": {
             "outlinewidth": 0,
             "ticks": ""
            },
            "colorscale": [
             [
              0,
              "#0d0887"
             ],
             [
              0.1111111111111111,
              "#46039f"
             ],
             [
              0.2222222222222222,
              "#7201a8"
             ],
             [
              0.3333333333333333,
              "#9c179e"
             ],
             [
              0.4444444444444444,
              "#bd3786"
             ],
             [
              0.5555555555555556,
              "#d8576b"
             ],
             [
              0.6666666666666666,
              "#ed7953"
             ],
             [
              0.7777777777777778,
              "#fb9f3a"
             ],
             [
              0.8888888888888888,
              "#fdca26"
             ],
             [
              1,
              "#f0f921"
             ]
            ],
            "type": "heatmap"
           }
          ],
          "heatmapgl": [
           {
            "colorbar": {
             "outlinewidth": 0,
             "ticks": ""
            },
            "colorscale": [
             [
              0,
              "#0d0887"
             ],
             [
              0.1111111111111111,
              "#46039f"
             ],
             [
              0.2222222222222222,
              "#7201a8"
             ],
             [
              0.3333333333333333,
              "#9c179e"
             ],
             [
              0.4444444444444444,
              "#bd3786"
             ],
             [
              0.5555555555555556,
              "#d8576b"
             ],
             [
              0.6666666666666666,
              "#ed7953"
             ],
             [
              0.7777777777777778,
              "#fb9f3a"
             ],
             [
              0.8888888888888888,
              "#fdca26"
             ],
             [
              1,
              "#f0f921"
             ]
            ],
            "type": "heatmapgl"
           }
          ],
          "histogram": [
           {
            "marker": {
             "pattern": {
              "fillmode": "overlay",
              "size": 10,
              "solidity": 0.2
             }
            },
            "type": "histogram"
           }
          ],
          "histogram2d": [
           {
            "colorbar": {
             "outlinewidth": 0,
             "ticks": ""
            },
            "colorscale": [
             [
              0,
              "#0d0887"
             ],
             [
              0.1111111111111111,
              "#46039f"
             ],
             [
              0.2222222222222222,
              "#7201a8"
             ],
             [
              0.3333333333333333,
              "#9c179e"
             ],
             [
              0.4444444444444444,
              "#bd3786"
             ],
             [
              0.5555555555555556,
              "#d8576b"
             ],
             [
              0.6666666666666666,
              "#ed7953"
             ],
             [
              0.7777777777777778,
              "#fb9f3a"
             ],
             [
              0.8888888888888888,
              "#fdca26"
             ],
             [
              1,
              "#f0f921"
             ]
            ],
            "type": "histogram2d"
           }
          ],
          "histogram2dcontour": [
           {
            "colorbar": {
             "outlinewidth": 0,
             "ticks": ""
            },
            "colorscale": [
             [
              0,
              "#0d0887"
             ],
             [
              0.1111111111111111,
              "#46039f"
             ],
             [
              0.2222222222222222,
              "#7201a8"
             ],
             [
              0.3333333333333333,
              "#9c179e"
             ],
             [
              0.4444444444444444,
              "#bd3786"
             ],
             [
              0.5555555555555556,
              "#d8576b"
             ],
             [
              0.6666666666666666,
              "#ed7953"
             ],
             [
              0.7777777777777778,
              "#fb9f3a"
             ],
             [
              0.8888888888888888,
              "#fdca26"
             ],
             [
              1,
              "#f0f921"
             ]
            ],
            "type": "histogram2dcontour"
           }
          ],
          "mesh3d": [
           {
            "colorbar": {
             "outlinewidth": 0,
             "ticks": ""
            },
            "type": "mesh3d"
           }
          ],
          "parcoords": [
           {
            "line": {
             "colorbar": {
              "outlinewidth": 0,
              "ticks": ""
             }
            },
            "type": "parcoords"
           }
          ],
          "pie": [
           {
            "automargin": true,
            "type": "pie"
           }
          ],
          "scatter": [
           {
            "fillpattern": {
             "fillmode": "overlay",
             "size": 10,
             "solidity": 0.2
            },
            "type": "scatter"
           }
          ],
          "scatter3d": [
           {
            "line": {
             "colorbar": {
              "outlinewidth": 0,
              "ticks": ""
             }
            },
            "marker": {
             "colorbar": {
              "outlinewidth": 0,
              "ticks": ""
             }
            },
            "type": "scatter3d"
           }
          ],
          "scattercarpet": [
           {
            "marker": {
             "colorbar": {
              "outlinewidth": 0,
              "ticks": ""
             }
            },
            "type": "scattercarpet"
           }
          ],
          "scattergeo": [
           {
            "marker": {
             "colorbar": {
              "outlinewidth": 0,
              "ticks": ""
             }
            },
            "type": "scattergeo"
           }
          ],
          "scattergl": [
           {
            "marker": {
             "colorbar": {
              "outlinewidth": 0,
              "ticks": ""
             }
            },
            "type": "scattergl"
           }
          ],
          "scattermapbox": [
           {
            "marker": {
             "colorbar": {
              "outlinewidth": 0,
              "ticks": ""
             }
            },
            "type": "scattermapbox"
           }
          ],
          "scatterpolar": [
           {
            "marker": {
             "colorbar": {
              "outlinewidth": 0,
              "ticks": ""
             }
            },
            "type": "scatterpolar"
           }
          ],
          "scatterpolargl": [
           {
            "marker": {
             "colorbar": {
              "outlinewidth": 0,
              "ticks": ""
             }
            },
            "type": "scatterpolargl"
           }
          ],
          "scatterternary": [
           {
            "marker": {
             "colorbar": {
              "outlinewidth": 0,
              "ticks": ""
             }
            },
            "type": "scatterternary"
           }
          ],
          "surface": [
           {
            "colorbar": {
             "outlinewidth": 0,
             "ticks": ""
            },
            "colorscale": [
             [
              0,
              "#0d0887"
             ],
             [
              0.1111111111111111,
              "#46039f"
             ],
             [
              0.2222222222222222,
              "#7201a8"
             ],
             [
              0.3333333333333333,
              "#9c179e"
             ],
             [
              0.4444444444444444,
              "#bd3786"
             ],
             [
              0.5555555555555556,
              "#d8576b"
             ],
             [
              0.6666666666666666,
              "#ed7953"
             ],
             [
              0.7777777777777778,
              "#fb9f3a"
             ],
             [
              0.8888888888888888,
              "#fdca26"
             ],
             [
              1,
              "#f0f921"
             ]
            ],
            "type": "surface"
           }
          ],
          "table": [
           {
            "cells": {
             "fill": {
              "color": "#EBF0F8"
             },
             "line": {
              "color": "white"
             }
            },
            "header": {
             "fill": {
              "color": "#C8D4E3"
             },
             "line": {
              "color": "white"
             }
            },
            "type": "table"
           }
          ]
         },
         "layout": {
          "annotationdefaults": {
           "arrowcolor": "#2a3f5f",
           "arrowhead": 0,
           "arrowwidth": 1
          },
          "autotypenumbers": "strict",
          "coloraxis": {
           "colorbar": {
            "outlinewidth": 0,
            "ticks": ""
           }
          },
          "colorscale": {
           "diverging": [
            [
             0,
             "#8e0152"
            ],
            [
             0.1,
             "#c51b7d"
            ],
            [
             0.2,
             "#de77ae"
            ],
            [
             0.3,
             "#f1b6da"
            ],
            [
             0.4,
             "#fde0ef"
            ],
            [
             0.5,
             "#f7f7f7"
            ],
            [
             0.6,
             "#e6f5d0"
            ],
            [
             0.7,
             "#b8e186"
            ],
            [
             0.8,
             "#7fbc41"
            ],
            [
             0.9,
             "#4d9221"
            ],
            [
             1,
             "#276419"
            ]
           ],
           "sequential": [
            [
             0,
             "#0d0887"
            ],
            [
             0.1111111111111111,
             "#46039f"
            ],
            [
             0.2222222222222222,
             "#7201a8"
            ],
            [
             0.3333333333333333,
             "#9c179e"
            ],
            [
             0.4444444444444444,
             "#bd3786"
            ],
            [
             0.5555555555555556,
             "#d8576b"
            ],
            [
             0.6666666666666666,
             "#ed7953"
            ],
            [
             0.7777777777777778,
             "#fb9f3a"
            ],
            [
             0.8888888888888888,
             "#fdca26"
            ],
            [
             1,
             "#f0f921"
            ]
           ],
           "sequentialminus": [
            [
             0,
             "#0d0887"
            ],
            [
             0.1111111111111111,
             "#46039f"
            ],
            [
             0.2222222222222222,
             "#7201a8"
            ],
            [
             0.3333333333333333,
             "#9c179e"
            ],
            [
             0.4444444444444444,
             "#bd3786"
            ],
            [
             0.5555555555555556,
             "#d8576b"
            ],
            [
             0.6666666666666666,
             "#ed7953"
            ],
            [
             0.7777777777777778,
             "#fb9f3a"
            ],
            [
             0.8888888888888888,
             "#fdca26"
            ],
            [
             1,
             "#f0f921"
            ]
           ]
          },
          "colorway": [
           "#636efa",
           "#EF553B",
           "#00cc96",
           "#ab63fa",
           "#FFA15A",
           "#19d3f3",
           "#FF6692",
           "#B6E880",
           "#FF97FF",
           "#FECB52"
          ],
          "font": {
           "color": "#2a3f5f"
          },
          "geo": {
           "bgcolor": "white",
           "lakecolor": "white",
           "landcolor": "#E5ECF6",
           "showlakes": true,
           "showland": true,
           "subunitcolor": "white"
          },
          "hoverlabel": {
           "align": "left"
          },
          "hovermode": "closest",
          "mapbox": {
           "style": "light"
          },
          "paper_bgcolor": "white",
          "plot_bgcolor": "#E5ECF6",
          "polar": {
           "angularaxis": {
            "gridcolor": "white",
            "linecolor": "white",
            "ticks": ""
           },
           "bgcolor": "#E5ECF6",
           "radialaxis": {
            "gridcolor": "white",
            "linecolor": "white",
            "ticks": ""
           }
          },
          "scene": {
           "xaxis": {
            "backgroundcolor": "#E5ECF6",
            "gridcolor": "white",
            "gridwidth": 2,
            "linecolor": "white",
            "showbackground": true,
            "ticks": "",
            "zerolinecolor": "white"
           },
           "yaxis": {
            "backgroundcolor": "#E5ECF6",
            "gridcolor": "white",
            "gridwidth": 2,
            "linecolor": "white",
            "showbackground": true,
            "ticks": "",
            "zerolinecolor": "white"
           },
           "zaxis": {
            "backgroundcolor": "#E5ECF6",
            "gridcolor": "white",
            "gridwidth": 2,
            "linecolor": "white",
            "showbackground": true,
            "ticks": "",
            "zerolinecolor": "white"
           }
          },
          "shapedefaults": {
           "line": {
            "color": "#2a3f5f"
           }
          },
          "ternary": {
           "aaxis": {
            "gridcolor": "white",
            "linecolor": "white",
            "ticks": ""
           },
           "baxis": {
            "gridcolor": "white",
            "linecolor": "white",
            "ticks": ""
           },
           "bgcolor": "#E5ECF6",
           "caxis": {
            "gridcolor": "white",
            "linecolor": "white",
            "ticks": ""
           }
          },
          "title": {
           "x": 0.05
          },
          "xaxis": {
           "automargin": true,
           "gridcolor": "white",
           "linecolor": "white",
           "ticks": "",
           "title": {
            "standoff": 15
           },
           "zerolinecolor": "white",
           "zerolinewidth": 2
          },
          "yaxis": {
           "automargin": true,
           "gridcolor": "white",
           "linecolor": "white",
           "ticks": "",
           "title": {
            "standoff": 15
           },
           "zerolinecolor": "white",
           "zerolinewidth": 2
          }
         }
        },
        "title": {
         "font": {
          "family": "serif",
          "size": 20
         },
         "text": "Best hole cards flavors for 7 Players"
        },
        "xaxis": {
         "anchor": "y",
         "domain": [
          0,
          1
         ],
         "showgrid": false,
         "title": {
          "text": ""
         }
        },
        "yaxis": {
         "anchor": "x",
         "domain": [
          0,
          1
         ],
         "range": [
          0,
          1
         ],
         "showgrid": false,
         "showticklabels": false,
         "title": {
          "text": ""
         }
        }
       }
      }
     },
     "metadata": {},
     "output_type": "display_data"
    },
    {
     "name": "stderr",
     "output_type": "stream",
     "text": [
      "INFO: Not saving plot - pass save_plot=True to save it.\n",
      "INFO: Making plotly figure and axis objects\n",
      "c:\\Users\\david\\Documents\\Projects\\holdem_simulator\\src\\plot_builders_plotly.py:158: SettingWithCopyWarning:\n",
      "\n",
      "\n",
      "A value is trying to be set on a copy of a slice from a DataFrame.\n",
      "Try using .loc[row_indexer,col_indexer] = value instead\n",
      "\n",
      "See the caveats in the documentation: https://pandas.pydata.org/pandas-docs/stable/user_guide/indexing.html#returning-a-view-versus-a-copy\n",
      "\n",
      "INFO: Sorting data frame ascending by n_players\n",
      "INFO: Sorting data frame descending by win ratio, win ratio rounded down to nearest 5%\n",
      "INFO: Showing plot object\n"
     ]
    },
    {
     "data": {
      "application/vnd.plotly.v1+json": {
       "config": {
        "plotlyServerURL": "https://plot.ly"
       },
       "data": [
        {
         "alignmentgroup": "True",
         "customdata": [
          [
           0.3866
          ],
          [
           0.3297
          ],
          [
           0.2878
          ],
          [
           0.2672
          ],
          [
           0.2596
          ],
          [
           0.2445
          ],
          [
           0.2372
          ],
          [
           0.2371
          ],
          [
           0.2318
          ],
          [
           0.2301
          ],
          [
           0.2258
          ],
          [
           0.2236
          ],
          [
           0.2188
          ],
          [
           0.2102
          ],
          [
           0.2097
          ],
          [
           0.2063
          ],
          [
           0.2048
          ],
          [
           0.2043
          ],
          [
           0.2038
          ],
          [
           0.2013
          ],
          [
           0.2013
          ],
          [
           0.2007
          ],
          [
           0.1998
          ],
          [
           0.1977
          ],
          [
           0.1903
          ],
          [
           0.1895
          ],
          [
           0.1888
          ],
          [
           0.1881
          ],
          [
           0.1876
          ],
          [
           0.1857
          ],
          [
           0.1857
          ],
          [
           0.1839
          ],
          [
           0.1828
          ],
          [
           0.1827
          ],
          [
           0.182
          ],
          [
           0.1809
          ],
          [
           0.1786
          ],
          [
           0.1784
          ],
          [
           0.1783
          ],
          [
           0.1782
          ],
          [
           0.1771
          ],
          [
           0.1762
          ],
          [
           0.1761
          ],
          [
           0.1733
          ],
          [
           0.1726
          ],
          [
           0.1689
          ],
          [
           0.1682
          ],
          [
           0.1656
          ],
          [
           0.1652
          ],
          [
           0.1642
          ],
          [
           0.1626
          ],
          [
           0.1606
          ],
          [
           0.1604
          ],
          [
           0.1603
          ],
          [
           0.1598
          ],
          [
           0.1587
          ],
          [
           0.158
          ],
          [
           0.1578
          ],
          [
           0.1571
          ],
          [
           0.1565
          ],
          [
           0.1559
          ],
          [
           0.1557
          ],
          [
           0.1555
          ],
          [
           0.1542
          ],
          [
           0.1538
          ],
          [
           0.1525
          ],
          [
           0.1522
          ],
          [
           0.1522
          ],
          [
           0.1518
          ],
          [
           0.1517
          ],
          [
           0.1511
          ],
          [
           0.1501
          ],
          [
           0.1492
          ],
          [
           0.1479
          ],
          [
           0.1477
          ],
          [
           0.1463
          ],
          [
           0.1459
          ],
          [
           0.1457
          ],
          [
           0.1455
          ],
          [
           0.1442
          ],
          [
           0.1436
          ],
          [
           0.1436
          ],
          [
           0.1429
          ],
          [
           0.1426
          ],
          [
           0.142
          ],
          [
           0.1412
          ],
          [
           0.1401
          ],
          [
           0.1399
          ],
          [
           0.1397
          ],
          [
           0.1394
          ],
          [
           0.1391
          ],
          [
           0.1386
          ],
          [
           0.1384
          ],
          [
           0.138
          ],
          [
           0.1366
          ],
          [
           0.1365
          ],
          [
           0.136
          ],
          [
           0.1358
          ],
          [
           0.1356
          ],
          [
           0.1348
          ],
          [
           0.1348
          ],
          [
           0.1335
          ],
          [
           0.133
          ],
          [
           0.133
          ],
          [
           0.1321
          ],
          [
           0.132
          ],
          [
           0.1309
          ],
          [
           0.1306
          ],
          [
           0.1301
          ],
          [
           0.1298
          ],
          [
           0.1283
          ],
          [
           0.1279
          ],
          [
           0.1278
          ],
          [
           0.1271
          ],
          [
           0.1263
          ],
          [
           0.1259
          ],
          [
           0.1239
          ],
          [
           0.1235
          ],
          [
           0.1228
          ],
          [
           0.1226
          ],
          [
           0.1223
          ],
          [
           0.1222
          ],
          [
           0.1211
          ],
          [
           0.1206
          ],
          [
           0.1198
          ],
          [
           0.1196
          ],
          [
           0.1193
          ],
          [
           0.1187
          ],
          [
           0.1185
          ],
          [
           0.117
          ],
          [
           0.1168
          ],
          [
           0.1149
          ],
          [
           0.1141
          ],
          [
           0.114
          ],
          [
           0.113
          ],
          [
           0.1128
          ],
          [
           0.1118
          ],
          [
           0.1088
          ],
          [
           0.1083
          ],
          [
           0.1068
          ],
          [
           0.1067
          ],
          [
           0.1038
          ],
          [
           0.1035
          ],
          [
           0.1027
          ],
          [
           0.1026
          ],
          [
           0.1022
          ],
          [
           0.1014
          ],
          [
           0.1004
          ],
          [
           0.0973
          ],
          [
           0.0968
          ],
          [
           0.0944
          ],
          [
           0.0943
          ],
          [
           0.0936
          ],
          [
           0.0928
          ],
          [
           0.0928
          ],
          [
           0.0925
          ],
          [
           0.0896
          ],
          [
           0.0869
          ],
          [
           0.0861
          ],
          [
           0.0853
          ],
          [
           0.0845
          ],
          [
           0.0823
          ],
          [
           0.0822
          ],
          [
           0.081
          ],
          [
           0.0805
          ],
          [
           0.0801
          ],
          [
           0.0791
          ],
          [
           0.0786
          ],
          [
           0.0762
          ]
         ],
         "hovertemplate": "hole cards flavor=%{x}<br>win ratio rounded down to nearest 5%=%{y:.0%}<br>win ratio=%{customdata[0]:.2%}<br>appearances=%{marker.color}<extra></extra>",
         "legendgroup": "",
         "marker": {
          "color": [
           3231,
           3170,
           3172,
           2182,
           3105,
           2155,
           2133,
           2126,
           2058,
           2108,
           3207,
           2120,
           6344,
           2169,
           6420,
           2186,
           2153,
           2070,
           3160,
           6368,
           2096,
           6297,
           2157,
           2089,
           2128,
           2011,
           6451,
           2073,
           2169,
           6364,
           2138,
           2148,
           2090,
           6217,
           6484,
           6306,
           2139,
           2130,
           6286,
           2104,
           2163,
           3115,
           2146,
           2124,
           2091,
           2096,
           6278,
           2119,
           2107,
           2131,
           2097,
           6296,
           3210,
           2059,
           2090,
           3106,
           2127,
           2148,
           6371,
           2096,
           6369,
           2049,
           6284,
           6247,
           2081,
           2111,
           2037,
           1998,
           2115,
           6393,
           2118,
           2172,
           2084,
           6464,
           2146,
           2105,
           2193,
           6443,
           2041,
           6427,
           2165,
           2124,
           2163,
           6361,
           6409,
           2097,
           2106,
           3260,
           2140,
           2052,
           6335,
           3125,
           2175,
           2051,
           6302,
           2183,
           6420,
           6235,
           6311,
           2040,
           2100,
           2082,
           6398,
           2112,
           3150,
           2099,
           2116,
           2067,
           6310,
           3129,
           6284,
           2142,
           2065,
           2140,
           6194,
           2057,
           2107,
           6323,
           6484,
           6401,
           6441,
           2136,
           6357,
           6417,
           6234,
           6314,
           6247,
           6277,
           2168,
           6177,
           2132,
           6344,
           6353,
           6359,
           6275,
           6356,
           2076,
           6259,
           2169,
           6323,
           6168,
           6321,
           6326,
           6496,
           6228,
           6361,
           6292,
           6227,
           6393,
           6676,
           6334,
           6321,
           6280,
           6248,
           6402,
           6273,
           6361,
           6194,
           6317,
           6203,
           6274,
           6236,
           6314,
           6282,
           6346,
           6376,
           6411,
           6374,
           6377
          ],
          "coloraxis": "coloraxis",
          "pattern": {
           "shape": ""
          }
         },
         "name": "",
         "offsetgroup": "",
         "orientation": "v",
         "showlegend": false,
         "textposition": "auto",
         "type": "bar",
         "x": [
          "Aces paired",
          "Kings paired",
          "Queens paired",
          "Ace, King suited",
          "Jacks paired",
          "Ace, Jack suited",
          "King, Queen suited",
          "Ace, Queen suited",
          "King, Jack suited",
          "Ace, 10 suited",
          "10s paired",
          "Queen, Jack suited",
          "Ace, King off suit",
          "King, 10 suited",
          "Ace, Queen off suit",
          "King, 9 suited",
          "Queen, 10 suited",
          "Jack, 10 suited",
          "9s paired",
          "King, Queen off suit",
          "Ace, 5 suited",
          "Ace, Jack off suit",
          "Ace, 7 suited",
          "Ace, 8 suited",
          "Ace, 3 suited",
          "Jack, 9 suited",
          "Queen, Jack off suit",
          "Ace, 9 suited",
          "Ace, 4 suited",
          "King, Jack off suit",
          "10, 9 suited",
          "King, 7 suited",
          "King, 4 suited",
          "Ace, 10 off suit",
          "King, 10 off suit",
          "Jack, 10 off suit",
          "King, 8 suited",
          "King, 6 suited",
          "Queen, 10 off suit",
          "Jack, 8 suited",
          "Ace, 2 suited",
          "8s paired",
          "9, 8 suited",
          "Ace, 6 suited",
          "Queen, 9 suited",
          "10, 8 suited",
          "Ace, 9 off suit",
          "Queen, 8 suited",
          "6, 5 suited",
          "9, 6 suited",
          "Queen, 7 suited",
          "King, 9 off suit",
          "7s paired",
          "10, 7 suited",
          "King, 3 suited",
          "6s paired",
          "9, 7 suited",
          "8, 7 suited",
          "Ace, 5 off suit",
          "5, 4 suited",
          "10, 9 off suit",
          "King, 5 suited",
          "Ace, 7 off suit",
          "Ace, 8 off suit",
          "Queen, 6 suited",
          "7, 5 suited",
          "King, 2 suited",
          "7, 6 suited",
          "Queen, 4 suited",
          "Queen, 9 off suit",
          "Jack, 7 suited",
          "Queen, 3 suited",
          "8, 5 suited",
          "Ace, 6 off suit",
          "10, 4 suited",
          "Queen, 2 suited",
          "Jack, 6 suited",
          "King, 8 off suit",
          "Queen, 5 suited",
          "10, 8 off suit",
          "8, 6 suited",
          "7, 4 suited",
          "9, 5 suited",
          "Ace, 4 off suit",
          "Jack, 9 off suit",
          "8, 4 suited",
          "10, 2 suited",
          "5s paired",
          "Jack, 3 suited",
          "Jack, 2 suited",
          "Queen, 8 off suit",
          "3s paired",
          "5, 3 suited",
          "4, 3 suited",
          "Ace, 2 off suit",
          "10, 5 suited",
          "Ace, 3 off suit",
          "9, 8 off suit",
          "Jack, 8 off suit",
          "9, 2 suited",
          "Jack, 4 suited",
          "5, 2 suited",
          "King, 7 off suit",
          "10, 6 suited",
          "4s paired",
          "Jack, 5 suited",
          "6, 4 suited",
          "9, 4 suited",
          "King, 6 off suit",
          "2s paired",
          "8, 7 off suit",
          "9, 3 suited",
          "8, 3 suited",
          "10, 3 suited",
          "King, 5 off suit",
          "6, 3 suited",
          "4, 2 suited",
          "Queen, 6 off suit",
          "9, 7 off suit",
          "King, 4 off suit",
          "Jack, 7 off suit",
          "8, 2 suited",
          "7, 6 off suit",
          "Queen, 5 off suit",
          "8, 6 off suit",
          "Queen, 7 off suit",
          "9, 6 off suit",
          "King, 3 off suit",
          "7, 3 suited",
          "10, 7 off suit",
          "3, 2 suited",
          "Jack, 6 off suit",
          "5, 4 off suit",
          "10, 6 off suit",
          "7, 5 off suit",
          "King, 2 off suit",
          "7, 2 suited",
          "6, 5 off suit",
          "6, 2 suited",
          "6, 4 off suit",
          "Jack, 5 off suit",
          "Jack, 4 off suit",
          "8, 5 off suit",
          "9, 5 off suit",
          "Queen, 4 off suit",
          "7, 4 off suit",
          "Queen, 3 off suit",
          "10, 5 off suit",
          "5, 3 off suit",
          "Jack, 2 off suit",
          "Queen, 2 off suit",
          "8, 4 off suit",
          "Jack, 3 off suit",
          "10, 4 off suit",
          "5, 2 off suit",
          "9, 4 off suit",
          "10, 3 off suit",
          "6, 3 off suit",
          "9, 3 off suit",
          "4, 3 off suit",
          "10, 2 off suit",
          "8, 3 off suit",
          "4, 2 off suit",
          "6, 2 off suit",
          "7, 2 off suit",
          "7, 3 off suit",
          "3, 2 off suit",
          "9, 2 off suit",
          "8, 2 off suit"
         ],
         "xaxis": "x",
         "y": [
          0.35,
          0.3,
          0.25,
          0.25,
          0.25,
          0.2,
          0.2,
          0.2,
          0.2,
          0.2,
          0.2,
          0.2,
          0.2,
          0.2,
          0.2,
          0.2,
          0.2,
          0.2,
          0.2,
          0.2,
          0.2,
          0.2,
          0.15,
          0.15,
          0.15,
          0.15,
          0.15,
          0.15,
          0.15,
          0.15,
          0.15,
          0.15,
          0.15,
          0.15,
          0.15,
          0.15,
          0.15,
          0.15,
          0.15,
          0.15,
          0.15,
          0.15,
          0.15,
          0.15,
          0.15,
          0.15,
          0.15,
          0.15,
          0.15,
          0.15,
          0.15,
          0.15,
          0.15,
          0.15,
          0.15,
          0.15,
          0.15,
          0.15,
          0.15,
          0.15,
          0.15,
          0.15,
          0.15,
          0.15,
          0.15,
          0.15,
          0.15,
          0.15,
          0.15,
          0.15,
          0.15,
          0.15,
          0.1,
          0.1,
          0.1,
          0.1,
          0.1,
          0.1,
          0.1,
          0.1,
          0.1,
          0.1,
          0.1,
          0.1,
          0.1,
          0.1,
          0.1,
          0.1,
          0.1,
          0.1,
          0.1,
          0.1,
          0.1,
          0.1,
          0.1,
          0.1,
          0.1,
          0.1,
          0.1,
          0.1,
          0.1,
          0.1,
          0.1,
          0.1,
          0.1,
          0.1,
          0.1,
          0.1,
          0.1,
          0.1,
          0.1,
          0.1,
          0.1,
          0.1,
          0.1,
          0.1,
          0.1,
          0.1,
          0.1,
          0.1,
          0.1,
          0.1,
          0.1,
          0.1,
          0.1,
          0.1,
          0.1,
          0.1,
          0.1,
          0.1,
          0.1,
          0.1,
          0.1,
          0.1,
          0.1,
          0.1,
          0.1,
          0.1,
          0.1,
          0.1,
          0.1,
          0.1,
          0.1,
          0.1,
          0.1,
          0.1,
          0.1,
          0.1,
          0.05,
          0.05,
          0.05,
          0.05,
          0.05,
          0.05,
          0.05,
          0.05,
          0.05,
          0.05,
          0.05,
          0.05,
          0.05,
          0.05,
          0.05,
          0.05,
          0.05,
          0.05,
          0.05,
          0.05,
          0.05
         ],
         "yaxis": "y"
        },
        {
         "line": {
          "color": "red",
          "width": 1
         },
         "mode": "lines",
         "name": "Likely Win/Lose Threshold",
         "showlegend": true,
         "type": "scatter",
         "x": [
          null
         ],
         "y": [
          null
         ]
        }
       ],
       "layout": {
        "barmode": "relative",
        "coloraxis": {
         "colorbar": {
          "thickness": 10,
          "tickfont": {
           "family": "monospace",
           "size": 12
          },
          "title": {
           "font": {
            "family": "sans-serif",
            "size": 14
           },
           "text": "Appearances"
          }
         },
         "colorscale": [
          [
           0,
           "#fcfdbf"
          ],
          [
           0.1111111111111111,
           "#feca8d"
          ],
          [
           0.2222222222222222,
           "#fd9668"
          ],
          [
           0.3333333333333333,
           "#f1605d"
          ],
          [
           0.4444444444444444,
           "#cd4071"
          ],
          [
           0.5555555555555556,
           "#9e2f7f"
          ],
          [
           0.6666666666666666,
           "#721f81"
          ],
          [
           0.7777777777777778,
           "#440f76"
          ],
          [
           0.8888888888888888,
           "#180f3d"
          ],
          [
           1,
           "#000004"
          ]
         ]
        },
        "legend": {
         "font": {
          "family": "sans-serif",
          "size": 12
         },
         "tracegroupgap": 0,
         "x": 0.5,
         "xanchor": "center",
         "y": 0.99,
         "yanchor": "top"
        },
        "margin": {
         "t": 60
        },
        "plot_bgcolor": "white",
        "shapes": [
         {
          "line": {
           "color": "red",
           "width": 1
          },
          "type": "line",
          "x0": 0,
          "x1": 1,
          "xref": "paper",
          "y0": 0.87,
          "y1": 0.87,
          "yref": "y"
         },
         {
          "fillcolor": "limegreen",
          "layer": "below",
          "line": {
           "width": 0
          },
          "opacity": 0.1,
          "type": "rect",
          "x0": 0,
          "x1": 1,
          "xref": "paper",
          "y0": 0.87,
          "y1": 1,
          "yref": "y"
         },
         {
          "fillcolor": "red",
          "layer": "below",
          "line": {
           "width": 0
          },
          "opacity": 0.1,
          "type": "rect",
          "x0": 0,
          "x1": 1,
          "xref": "paper",
          "y0": 0,
          "y1": 0.87,
          "yref": "y"
         }
        ],
        "template": {
         "data": {
          "bar": [
           {
            "error_x": {
             "color": "#2a3f5f"
            },
            "error_y": {
             "color": "#2a3f5f"
            },
            "marker": {
             "line": {
              "color": "#E5ECF6",
              "width": 0.5
             },
             "pattern": {
              "fillmode": "overlay",
              "size": 10,
              "solidity": 0.2
             }
            },
            "type": "bar"
           }
          ],
          "barpolar": [
           {
            "marker": {
             "line": {
              "color": "#E5ECF6",
              "width": 0.5
             },
             "pattern": {
              "fillmode": "overlay",
              "size": 10,
              "solidity": 0.2
             }
            },
            "type": "barpolar"
           }
          ],
          "carpet": [
           {
            "aaxis": {
             "endlinecolor": "#2a3f5f",
             "gridcolor": "white",
             "linecolor": "white",
             "minorgridcolor": "white",
             "startlinecolor": "#2a3f5f"
            },
            "baxis": {
             "endlinecolor": "#2a3f5f",
             "gridcolor": "white",
             "linecolor": "white",
             "minorgridcolor": "white",
             "startlinecolor": "#2a3f5f"
            },
            "type": "carpet"
           }
          ],
          "choropleth": [
           {
            "colorbar": {
             "outlinewidth": 0,
             "ticks": ""
            },
            "type": "choropleth"
           }
          ],
          "contour": [
           {
            "colorbar": {
             "outlinewidth": 0,
             "ticks": ""
            },
            "colorscale": [
             [
              0,
              "#0d0887"
             ],
             [
              0.1111111111111111,
              "#46039f"
             ],
             [
              0.2222222222222222,
              "#7201a8"
             ],
             [
              0.3333333333333333,
              "#9c179e"
             ],
             [
              0.4444444444444444,
              "#bd3786"
             ],
             [
              0.5555555555555556,
              "#d8576b"
             ],
             [
              0.6666666666666666,
              "#ed7953"
             ],
             [
              0.7777777777777778,
              "#fb9f3a"
             ],
             [
              0.8888888888888888,
              "#fdca26"
             ],
             [
              1,
              "#f0f921"
             ]
            ],
            "type": "contour"
           }
          ],
          "contourcarpet": [
           {
            "colorbar": {
             "outlinewidth": 0,
             "ticks": ""
            },
            "type": "contourcarpet"
           }
          ],
          "heatmap": [
           {
            "colorbar": {
             "outlinewidth": 0,
             "ticks": ""
            },
            "colorscale": [
             [
              0,
              "#0d0887"
             ],
             [
              0.1111111111111111,
              "#46039f"
             ],
             [
              0.2222222222222222,
              "#7201a8"
             ],
             [
              0.3333333333333333,
              "#9c179e"
             ],
             [
              0.4444444444444444,
              "#bd3786"
             ],
             [
              0.5555555555555556,
              "#d8576b"
             ],
             [
              0.6666666666666666,
              "#ed7953"
             ],
             [
              0.7777777777777778,
              "#fb9f3a"
             ],
             [
              0.8888888888888888,
              "#fdca26"
             ],
             [
              1,
              "#f0f921"
             ]
            ],
            "type": "heatmap"
           }
          ],
          "heatmapgl": [
           {
            "colorbar": {
             "outlinewidth": 0,
             "ticks": ""
            },
            "colorscale": [
             [
              0,
              "#0d0887"
             ],
             [
              0.1111111111111111,
              "#46039f"
             ],
             [
              0.2222222222222222,
              "#7201a8"
             ],
             [
              0.3333333333333333,
              "#9c179e"
             ],
             [
              0.4444444444444444,
              "#bd3786"
             ],
             [
              0.5555555555555556,
              "#d8576b"
             ],
             [
              0.6666666666666666,
              "#ed7953"
             ],
             [
              0.7777777777777778,
              "#fb9f3a"
             ],
             [
              0.8888888888888888,
              "#fdca26"
             ],
             [
              1,
              "#f0f921"
             ]
            ],
            "type": "heatmapgl"
           }
          ],
          "histogram": [
           {
            "marker": {
             "pattern": {
              "fillmode": "overlay",
              "size": 10,
              "solidity": 0.2
             }
            },
            "type": "histogram"
           }
          ],
          "histogram2d": [
           {
            "colorbar": {
             "outlinewidth": 0,
             "ticks": ""
            },
            "colorscale": [
             [
              0,
              "#0d0887"
             ],
             [
              0.1111111111111111,
              "#46039f"
             ],
             [
              0.2222222222222222,
              "#7201a8"
             ],
             [
              0.3333333333333333,
              "#9c179e"
             ],
             [
              0.4444444444444444,
              "#bd3786"
             ],
             [
              0.5555555555555556,
              "#d8576b"
             ],
             [
              0.6666666666666666,
              "#ed7953"
             ],
             [
              0.7777777777777778,
              "#fb9f3a"
             ],
             [
              0.8888888888888888,
              "#fdca26"
             ],
             [
              1,
              "#f0f921"
             ]
            ],
            "type": "histogram2d"
           }
          ],
          "histogram2dcontour": [
           {
            "colorbar": {
             "outlinewidth": 0,
             "ticks": ""
            },
            "colorscale": [
             [
              0,
              "#0d0887"
             ],
             [
              0.1111111111111111,
              "#46039f"
             ],
             [
              0.2222222222222222,
              "#7201a8"
             ],
             [
              0.3333333333333333,
              "#9c179e"
             ],
             [
              0.4444444444444444,
              "#bd3786"
             ],
             [
              0.5555555555555556,
              "#d8576b"
             ],
             [
              0.6666666666666666,
              "#ed7953"
             ],
             [
              0.7777777777777778,
              "#fb9f3a"
             ],
             [
              0.8888888888888888,
              "#fdca26"
             ],
             [
              1,
              "#f0f921"
             ]
            ],
            "type": "histogram2dcontour"
           }
          ],
          "mesh3d": [
           {
            "colorbar": {
             "outlinewidth": 0,
             "ticks": ""
            },
            "type": "mesh3d"
           }
          ],
          "parcoords": [
           {
            "line": {
             "colorbar": {
              "outlinewidth": 0,
              "ticks": ""
             }
            },
            "type": "parcoords"
           }
          ],
          "pie": [
           {
            "automargin": true,
            "type": "pie"
           }
          ],
          "scatter": [
           {
            "fillpattern": {
             "fillmode": "overlay",
             "size": 10,
             "solidity": 0.2
            },
            "type": "scatter"
           }
          ],
          "scatter3d": [
           {
            "line": {
             "colorbar": {
              "outlinewidth": 0,
              "ticks": ""
             }
            },
            "marker": {
             "colorbar": {
              "outlinewidth": 0,
              "ticks": ""
             }
            },
            "type": "scatter3d"
           }
          ],
          "scattercarpet": [
           {
            "marker": {
             "colorbar": {
              "outlinewidth": 0,
              "ticks": ""
             }
            },
            "type": "scattercarpet"
           }
          ],
          "scattergeo": [
           {
            "marker": {
             "colorbar": {
              "outlinewidth": 0,
              "ticks": ""
             }
            },
            "type": "scattergeo"
           }
          ],
          "scattergl": [
           {
            "marker": {
             "colorbar": {
              "outlinewidth": 0,
              "ticks": ""
             }
            },
            "type": "scattergl"
           }
          ],
          "scattermapbox": [
           {
            "marker": {
             "colorbar": {
              "outlinewidth": 0,
              "ticks": ""
             }
            },
            "type": "scattermapbox"
           }
          ],
          "scatterpolar": [
           {
            "marker": {
             "colorbar": {
              "outlinewidth": 0,
              "ticks": ""
             }
            },
            "type": "scatterpolar"
           }
          ],
          "scatterpolargl": [
           {
            "marker": {
             "colorbar": {
              "outlinewidth": 0,
              "ticks": ""
             }
            },
            "type": "scatterpolargl"
           }
          ],
          "scatterternary": [
           {
            "marker": {
             "colorbar": {
              "outlinewidth": 0,
              "ticks": ""
             }
            },
            "type": "scatterternary"
           }
          ],
          "surface": [
           {
            "colorbar": {
             "outlinewidth": 0,
             "ticks": ""
            },
            "colorscale": [
             [
              0,
              "#0d0887"
             ],
             [
              0.1111111111111111,
              "#46039f"
             ],
             [
              0.2222222222222222,
              "#7201a8"
             ],
             [
              0.3333333333333333,
              "#9c179e"
             ],
             [
              0.4444444444444444,
              "#bd3786"
             ],
             [
              0.5555555555555556,
              "#d8576b"
             ],
             [
              0.6666666666666666,
              "#ed7953"
             ],
             [
              0.7777777777777778,
              "#fb9f3a"
             ],
             [
              0.8888888888888888,
              "#fdca26"
             ],
             [
              1,
              "#f0f921"
             ]
            ],
            "type": "surface"
           }
          ],
          "table": [
           {
            "cells": {
             "fill": {
              "color": "#EBF0F8"
             },
             "line": {
              "color": "white"
             }
            },
            "header": {
             "fill": {
              "color": "#C8D4E3"
             },
             "line": {
              "color": "white"
             }
            },
            "type": "table"
           }
          ]
         },
         "layout": {
          "annotationdefaults": {
           "arrowcolor": "#2a3f5f",
           "arrowhead": 0,
           "arrowwidth": 1
          },
          "autotypenumbers": "strict",
          "coloraxis": {
           "colorbar": {
            "outlinewidth": 0,
            "ticks": ""
           }
          },
          "colorscale": {
           "diverging": [
            [
             0,
             "#8e0152"
            ],
            [
             0.1,
             "#c51b7d"
            ],
            [
             0.2,
             "#de77ae"
            ],
            [
             0.3,
             "#f1b6da"
            ],
            [
             0.4,
             "#fde0ef"
            ],
            [
             0.5,
             "#f7f7f7"
            ],
            [
             0.6,
             "#e6f5d0"
            ],
            [
             0.7,
             "#b8e186"
            ],
            [
             0.8,
             "#7fbc41"
            ],
            [
             0.9,
             "#4d9221"
            ],
            [
             1,
             "#276419"
            ]
           ],
           "sequential": [
            [
             0,
             "#0d0887"
            ],
            [
             0.1111111111111111,
             "#46039f"
            ],
            [
             0.2222222222222222,
             "#7201a8"
            ],
            [
             0.3333333333333333,
             "#9c179e"
            ],
            [
             0.4444444444444444,
             "#bd3786"
            ],
            [
             0.5555555555555556,
             "#d8576b"
            ],
            [
             0.6666666666666666,
             "#ed7953"
            ],
            [
             0.7777777777777778,
             "#fb9f3a"
            ],
            [
             0.8888888888888888,
             "#fdca26"
            ],
            [
             1,
             "#f0f921"
            ]
           ],
           "sequentialminus": [
            [
             0,
             "#0d0887"
            ],
            [
             0.1111111111111111,
             "#46039f"
            ],
            [
             0.2222222222222222,
             "#7201a8"
            ],
            [
             0.3333333333333333,
             "#9c179e"
            ],
            [
             0.4444444444444444,
             "#bd3786"
            ],
            [
             0.5555555555555556,
             "#d8576b"
            ],
            [
             0.6666666666666666,
             "#ed7953"
            ],
            [
             0.7777777777777778,
             "#fb9f3a"
            ],
            [
             0.8888888888888888,
             "#fdca26"
            ],
            [
             1,
             "#f0f921"
            ]
           ]
          },
          "colorway": [
           "#636efa",
           "#EF553B",
           "#00cc96",
           "#ab63fa",
           "#FFA15A",
           "#19d3f3",
           "#FF6692",
           "#B6E880",
           "#FF97FF",
           "#FECB52"
          ],
          "font": {
           "color": "#2a3f5f"
          },
          "geo": {
           "bgcolor": "white",
           "lakecolor": "white",
           "landcolor": "#E5ECF6",
           "showlakes": true,
           "showland": true,
           "subunitcolor": "white"
          },
          "hoverlabel": {
           "align": "left"
          },
          "hovermode": "closest",
          "mapbox": {
           "style": "light"
          },
          "paper_bgcolor": "white",
          "plot_bgcolor": "#E5ECF6",
          "polar": {
           "angularaxis": {
            "gridcolor": "white",
            "linecolor": "white",
            "ticks": ""
           },
           "bgcolor": "#E5ECF6",
           "radialaxis": {
            "gridcolor": "white",
            "linecolor": "white",
            "ticks": ""
           }
          },
          "scene": {
           "xaxis": {
            "backgroundcolor": "#E5ECF6",
            "gridcolor": "white",
            "gridwidth": 2,
            "linecolor": "white",
            "showbackground": true,
            "ticks": "",
            "zerolinecolor": "white"
           },
           "yaxis": {
            "backgroundcolor": "#E5ECF6",
            "gridcolor": "white",
            "gridwidth": 2,
            "linecolor": "white",
            "showbackground": true,
            "ticks": "",
            "zerolinecolor": "white"
           },
           "zaxis": {
            "backgroundcolor": "#E5ECF6",
            "gridcolor": "white",
            "gridwidth": 2,
            "linecolor": "white",
            "showbackground": true,
            "ticks": "",
            "zerolinecolor": "white"
           }
          },
          "shapedefaults": {
           "line": {
            "color": "#2a3f5f"
           }
          },
          "ternary": {
           "aaxis": {
            "gridcolor": "white",
            "linecolor": "white",
            "ticks": ""
           },
           "baxis": {
            "gridcolor": "white",
            "linecolor": "white",
            "ticks": ""
           },
           "bgcolor": "#E5ECF6",
           "caxis": {
            "gridcolor": "white",
            "linecolor": "white",
            "ticks": ""
           }
          },
          "title": {
           "x": 0.05
          },
          "xaxis": {
           "automargin": true,
           "gridcolor": "white",
           "linecolor": "white",
           "ticks": "",
           "title": {
            "standoff": 15
           },
           "zerolinecolor": "white",
           "zerolinewidth": 2
          },
          "yaxis": {
           "automargin": true,
           "gridcolor": "white",
           "linecolor": "white",
           "ticks": "",
           "title": {
            "standoff": 15
           },
           "zerolinecolor": "white",
           "zerolinewidth": 2
          }
         }
        },
        "title": {
         "font": {
          "family": "serif",
          "size": 20
         },
         "text": "Best hole cards flavors for 8 Players"
        },
        "xaxis": {
         "anchor": "y",
         "domain": [
          0,
          1
         ],
         "showgrid": false,
         "title": {
          "text": ""
         }
        },
        "yaxis": {
         "anchor": "x",
         "domain": [
          0,
          1
         ],
         "range": [
          0,
          1
         ],
         "showgrid": false,
         "showticklabels": false,
         "title": {
          "text": ""
         }
        }
       }
      }
     },
     "metadata": {},
     "output_type": "display_data"
    },
    {
     "name": "stderr",
     "output_type": "stream",
     "text": [
      "INFO: Not saving plot - pass save_plot=True to save it.\n",
      "INFO: Making plotly figure and axis objects\n",
      "c:\\Users\\david\\Documents\\Projects\\holdem_simulator\\src\\plot_builders_plotly.py:158: SettingWithCopyWarning:\n",
      "\n",
      "\n",
      "A value is trying to be set on a copy of a slice from a DataFrame.\n",
      "Try using .loc[row_indexer,col_indexer] = value instead\n",
      "\n",
      "See the caveats in the documentation: https://pandas.pydata.org/pandas-docs/stable/user_guide/indexing.html#returning-a-view-versus-a-copy\n",
      "\n",
      "INFO: Sorting data frame ascending by n_players\n",
      "INFO: Sorting data frame descending by win ratio, win ratio rounded down to nearest 5%\n",
      "INFO: Showing plot object\n"
     ]
    },
    {
     "data": {
      "application/vnd.plotly.v1+json": {
       "config": {
        "plotlyServerURL": "https://plot.ly"
       },
       "data": [
        {
         "alignmentgroup": "True",
         "customdata": [
          [
           0.3436
          ],
          [
           0.3006
          ],
          [
           0.2642
          ],
          [
           0.238
          ],
          [
           0.2215
          ],
          [
           0.2205
          ],
          [
           0.2179
          ],
          [
           0.2158
          ],
          [
           0.2125
          ],
          [
           0.2044
          ],
          [
           0.2041
          ],
          [
           0.2036
          ],
          [
           0.1993
          ],
          [
           0.1989
          ],
          [
           0.1858
          ],
          [
           0.1832
          ],
          [
           0.1831
          ],
          [
           0.1819
          ],
          [
           0.1819
          ],
          [
           0.1811
          ],
          [
           0.1794
          ],
          [
           0.1793
          ],
          [
           0.1779
          ],
          [
           0.1763
          ],
          [
           0.173
          ],
          [
           0.1728
          ],
          [
           0.172
          ],
          [
           0.1718
          ],
          [
           0.1715
          ],
          [
           0.1702
          ],
          [
           0.1695
          ],
          [
           0.1691
          ],
          [
           0.169
          ],
          [
           0.1672
          ],
          [
           0.167
          ],
          [
           0.167
          ],
          [
           0.1667
          ],
          [
           0.1646
          ],
          [
           0.1645
          ],
          [
           0.1641
          ],
          [
           0.1619
          ],
          [
           0.1617
          ],
          [
           0.1578
          ],
          [
           0.1578
          ],
          [
           0.1556
          ],
          [
           0.1539
          ],
          [
           0.1539
          ],
          [
           0.1538
          ],
          [
           0.153
          ],
          [
           0.1509
          ],
          [
           0.1505
          ],
          [
           0.1503
          ],
          [
           0.149
          ],
          [
           0.1488
          ],
          [
           0.1485
          ],
          [
           0.1481
          ],
          [
           0.1474
          ],
          [
           0.1472
          ],
          [
           0.1452
          ],
          [
           0.1439
          ],
          [
           0.1434
          ],
          [
           0.1429
          ],
          [
           0.1422
          ],
          [
           0.1418
          ],
          [
           0.1402
          ],
          [
           0.1401
          ],
          [
           0.14
          ],
          [
           0.1398
          ],
          [
           0.1385
          ],
          [
           0.1366
          ],
          [
           0.1349
          ],
          [
           0.1345
          ],
          [
           0.1341
          ],
          [
           0.1335
          ],
          [
           0.1335
          ],
          [
           0.1335
          ],
          [
           0.1332
          ],
          [
           0.1332
          ],
          [
           0.1324
          ],
          [
           0.1323
          ],
          [
           0.132
          ],
          [
           0.1319
          ],
          [
           0.1319
          ],
          [
           0.131
          ],
          [
           0.1308
          ],
          [
           0.1308
          ],
          [
           0.1298
          ],
          [
           0.1291
          ],
          [
           0.1284
          ],
          [
           0.1284
          ],
          [
           0.1282
          ],
          [
           0.1268
          ],
          [
           0.1262
          ],
          [
           0.126
          ],
          [
           0.1259
          ],
          [
           0.1241
          ],
          [
           0.1237
          ],
          [
           0.123
          ],
          [
           0.1229
          ],
          [
           0.1227
          ],
          [
           0.1218
          ],
          [
           0.1207
          ],
          [
           0.1206
          ],
          [
           0.1198
          ],
          [
           0.1174
          ],
          [
           0.115
          ],
          [
           0.1146
          ],
          [
           0.1142
          ],
          [
           0.1139
          ],
          [
           0.1131
          ],
          [
           0.1127
          ],
          [
           0.1115
          ],
          [
           0.1111
          ],
          [
           0.1107
          ],
          [
           0.1106
          ],
          [
           0.1105
          ],
          [
           0.1104
          ],
          [
           0.1097
          ],
          [
           0.1087
          ],
          [
           0.1084
          ],
          [
           0.1081
          ],
          [
           0.1081
          ],
          [
           0.1079
          ],
          [
           0.1049
          ],
          [
           0.1045
          ],
          [
           0.1041
          ],
          [
           0.1031
          ],
          [
           0.1029
          ],
          [
           0.1021
          ],
          [
           0.1018
          ],
          [
           0.1015
          ],
          [
           0.1015
          ],
          [
           0.101
          ],
          [
           0.1007
          ],
          [
           0.0999
          ],
          [
           0.0999
          ],
          [
           0.0983
          ],
          [
           0.0971
          ],
          [
           0.0958
          ],
          [
           0.0946
          ],
          [
           0.0944
          ],
          [
           0.0939
          ],
          [
           0.0938
          ],
          [
           0.0929
          ],
          [
           0.0927
          ],
          [
           0.0915
          ],
          [
           0.0913
          ],
          [
           0.0898
          ],
          [
           0.0891
          ],
          [
           0.0885
          ],
          [
           0.0865
          ],
          [
           0.0863
          ],
          [
           0.086
          ],
          [
           0.0857
          ],
          [
           0.085
          ],
          [
           0.0839
          ],
          [
           0.0829
          ],
          [
           0.0822
          ],
          [
           0.0815
          ],
          [
           0.0791
          ],
          [
           0.0782
          ],
          [
           0.0772
          ],
          [
           0.0759
          ],
          [
           0.0755
          ],
          [
           0.073
          ],
          [
           0.0701
          ],
          [
           0.0692
          ],
          [
           0.0671
          ],
          [
           0.0627
          ]
         ],
         "hovertemplate": "hole cards flavor=%{x}<br>win ratio rounded down to nearest 5%=%{y:.0%}<br>win ratio=%{customdata[0]:.2%}<br>appearances=%{marker.color}<extra></extra>",
         "legendgroup": "",
         "marker": {
          "color": [
           3024,
           3160,
           3180,
           2021,
           2194,
           2154,
           2194,
           2141,
           3096,
           3259,
           2121,
           6449,
           2057,
           2091,
           1991,
           6293,
           2114,
           2122,
           6437,
           2082,
           2090,
           2075,
           2108,
           2161,
           2064,
           6338,
           6320,
           2113,
           2082,
           6175,
           2153,
           3277,
           2100,
           2063,
           2108,
           2144,
           3246,
           1969,
           6336,
           2066,
           2057,
           6232,
           2041,
           6339,
           2024,
           2034,
           2099,
           6273,
           2144,
           3181,
           2139,
           3201,
           2201,
           2056,
           2155,
           2113,
           2164,
           3145,
           2039,
           3259,
           2210,
           2114,
           6338,
           2194,
           2069,
           2055,
           6307,
           6266,
           6237,
           2086,
           2031,
           2141,
           2155,
           2202,
           2075,
           6391,
           2154,
           2057,
           6308,
           2131,
           2128,
           6261,
           2198,
           6327,
           2141,
           6383,
           2118,
           6274,
           2149,
           3186,
           6359,
           6327,
           2061,
           6342,
           3138,
           2136,
           6450,
           2106,
           2115,
           6415,
           6411,
           6365,
           2114,
           2153,
           2121,
           6207,
           6460,
           6234,
           2081,
           2095,
           2023,
           6466,
           1981,
           2122,
           2152,
           2172,
           6297,
           2197,
           2135,
           6340,
           2118,
           2193,
           6292,
           6433,
           6221,
           6251,
           6286,
           6373,
           6248,
           6346,
           6362,
           6394,
           2109,
           6393,
           6335,
           6388,
           2085,
           6343,
           6316,
           6261,
           6432,
           6346,
           6304,
           6319,
           6366,
           6361,
           6289,
           6157,
           6395,
           6286,
           6357,
           6292,
           6457,
           6350,
           6296,
           6260,
           6297,
           6354,
           6353,
           6319,
           6470,
           6361,
           6257,
           6342,
           6318,
           6419,
           6370,
           6449,
           6345
          ],
          "coloraxis": "coloraxis",
          "pattern": {
           "shape": ""
          }
         },
         "name": "",
         "offsetgroup": "",
         "orientation": "v",
         "showlegend": false,
         "textposition": "auto",
         "type": "bar",
         "x": [
          "Aces paired",
          "Kings paired",
          "Queens paired",
          "Ace, King suited",
          "Ace, Queen suited",
          "Ace, Jack suited",
          "Ace, 10 suited",
          "King, Queen suited",
          "Jacks paired",
          "10s paired",
          "Queen, Jack suited",
          "Ace, King off suit",
          "King, Jack suited",
          "Jack, 10 suited",
          "King, 10 suited",
          "Ace, Queen off suit",
          "10, 9 suited",
          "Ace, 7 suited",
          "King, Queen off suit",
          "Queen, 9 suited",
          "Queen, 10 suited",
          "Ace, 5 suited",
          "King, 9 suited",
          "King, 7 suited",
          "Ace, 8 suited",
          "King, Jack off suit",
          "Ace, 10 off suit",
          "Ace, 9 suited",
          "Jack, 9 suited",
          "Ace, Jack off suit",
          "Ace, 6 suited",
          "9s paired",
          "Ace, 3 suited",
          "Ace, 2 suited",
          "Ace, 4 suited",
          "King, 8 suited",
          "8s paired",
          "10, 8 suited",
          "Jack, 10 off suit",
          "9, 8 suited",
          "King, 5 suited",
          "Queen, Jack off suit",
          "King, 6 suited",
          "King, 10 off suit",
          "Queen, 8 suited",
          "8, 7 suited",
          "King, 3 suited",
          "Queen, 10 off suit",
          "Queen, 7 suited",
          "5s paired",
          "King, 2 suited",
          "7s paired",
          "9, 7 suited",
          "Jack, 8 suited",
          "Jack, 7 suited",
          "10, 7 suited",
          "7, 6 suited",
          "6s paired",
          "Queen, 6 suited",
          "4s paired",
          "8, 6 suited",
          "King, 4 suited",
          "Jack, 9 off suit",
          "Queen, 5 suited",
          "6, 4 suited",
          "5, 4 suited",
          "10, 9 off suit",
          "Ace, 5 off suit",
          "Ace, 9 off suit",
          "7, 5 suited",
          "10, 6 suited",
          "9, 5 suited",
          "Jack, 2 suited",
          "Queen, 3 suited",
          "Jack, 6 suited",
          "Ace, 8 off suit",
          "Queen, 2 suited",
          "6, 5 suited",
          "King, 9 off suit",
          "10, 4 suited",
          "5, 3 suited",
          "Queen, 9 off suit",
          "9, 6 suited",
          "Ace, 7 off suit",
          "10, 5 suited",
          "10, 8 off suit",
          "Queen, 4 suited",
          "Ace, 6 off suit",
          "Jack, 4 suited",
          "3s paired",
          "9, 8 off suit",
          "Ace, 2 off suit",
          "4, 3 suited",
          "Ace, 3 off suit",
          "2s paired",
          "8, 5 suited",
          "Jack, 8 off suit",
          "Jack, 5 suited",
          "Jack, 3 suited",
          "King, 8 off suit",
          "Ace, 4 off suit",
          "Queen, 8 off suit",
          "7, 4 suited",
          "9, 4 suited",
          "10, 3 suited",
          "10, 7 off suit",
          "8, 7 off suit",
          "King, 7 off suit",
          "5, 2 suited",
          "9, 3 suited",
          "6, 3 suited",
          "9, 7 off suit",
          "8, 3 suited",
          "10, 2 suited",
          "8, 4 suited",
          "7, 3 suited",
          "7, 6 off suit",
          "4, 2 suited",
          "6, 2 suited",
          "King, 5 off suit",
          "3, 2 suited",
          "9, 2 suited",
          "Queen, 6 off suit",
          "King, 6 off suit",
          "Queen, 7 off suit",
          "8, 6 off suit",
          "5, 4 off suit",
          "King, 4 off suit",
          "Queen, 5 off suit",
          "Jack, 7 off suit",
          "Jack, 5 off suit",
          "6, 5 off suit",
          "7, 2 suited",
          "7, 5 off suit",
          "10, 6 off suit",
          "King, 3 off suit",
          "8, 2 suited",
          "King, 2 off suit",
          "Jack, 6 off suit",
          "6, 4 off suit",
          "9, 5 off suit",
          "9, 6 off suit",
          "8, 5 off suit",
          "Queen, 3 off suit",
          "Queen, 4 off suit",
          "Jack, 3 off suit",
          "10, 5 off suit",
          "5, 3 off suit",
          "7, 4 off suit",
          "4, 3 off suit",
          "Queen, 2 off suit",
          "Jack, 4 off suit",
          "Jack, 2 off suit",
          "5, 2 off suit",
          "8, 4 off suit",
          "10, 4 off suit",
          "10, 3 off suit",
          "6, 3 off suit",
          "7, 3 off suit",
          "10, 2 off suit",
          "4, 2 off suit",
          "8, 3 off suit",
          "6, 2 off suit",
          "3, 2 off suit",
          "9, 2 off suit",
          "9, 3 off suit",
          "9, 4 off suit",
          "8, 2 off suit",
          "7, 2 off suit"
         ],
         "xaxis": "x",
         "y": [
          0.3,
          0.3,
          0.25,
          0.2,
          0.2,
          0.2,
          0.2,
          0.2,
          0.2,
          0.2,
          0.2,
          0.2,
          0.15,
          0.15,
          0.15,
          0.15,
          0.15,
          0.15,
          0.15,
          0.15,
          0.15,
          0.15,
          0.15,
          0.15,
          0.15,
          0.15,
          0.15,
          0.15,
          0.15,
          0.15,
          0.15,
          0.15,
          0.15,
          0.15,
          0.15,
          0.15,
          0.15,
          0.15,
          0.15,
          0.15,
          0.15,
          0.15,
          0.15,
          0.15,
          0.15,
          0.15,
          0.15,
          0.15,
          0.15,
          0.15,
          0.15,
          0.15,
          0.1,
          0.1,
          0.1,
          0.1,
          0.1,
          0.1,
          0.1,
          0.1,
          0.1,
          0.1,
          0.1,
          0.1,
          0.1,
          0.1,
          0.1,
          0.1,
          0.1,
          0.1,
          0.1,
          0.1,
          0.1,
          0.1,
          0.1,
          0.1,
          0.1,
          0.1,
          0.1,
          0.1,
          0.1,
          0.1,
          0.1,
          0.1,
          0.1,
          0.1,
          0.1,
          0.1,
          0.1,
          0.1,
          0.1,
          0.1,
          0.1,
          0.1,
          0.1,
          0.1,
          0.1,
          0.1,
          0.1,
          0.1,
          0.1,
          0.1,
          0.1,
          0.1,
          0.1,
          0.1,
          0.1,
          0.1,
          0.1,
          0.1,
          0.1,
          0.1,
          0.1,
          0.1,
          0.1,
          0.1,
          0.1,
          0.1,
          0.1,
          0.1,
          0.1,
          0.1,
          0.1,
          0.1,
          0.1,
          0.1,
          0.1,
          0.1,
          0.1,
          0.1,
          0.1,
          0.1,
          0.1,
          0.1,
          0.05,
          0.05,
          0.05,
          0.05,
          0.05,
          0.05,
          0.05,
          0.05,
          0.05,
          0.05,
          0.05,
          0.05,
          0.05,
          0.05,
          0.05,
          0.05,
          0.05,
          0.05,
          0.05,
          0.05,
          0.05,
          0.05,
          0.05,
          0.05,
          0.05,
          0.05,
          0.05,
          0.05,
          0.05,
          0.05,
          0.05,
          0.05,
          0.05,
          0.05,
          0.05
         ],
         "yaxis": "y"
        },
        {
         "line": {
          "color": "red",
          "width": 1
         },
         "mode": "lines",
         "name": "Likely Win/Lose Threshold",
         "showlegend": true,
         "type": "scatter",
         "x": [
          null
         ],
         "y": [
          null
         ]
        }
       ],
       "layout": {
        "barmode": "relative",
        "coloraxis": {
         "colorbar": {
          "thickness": 10,
          "tickfont": {
           "family": "monospace",
           "size": 12
          },
          "title": {
           "font": {
            "family": "sans-serif",
            "size": 14
           },
           "text": "Appearances"
          }
         },
         "colorscale": [
          [
           0,
           "#fcfdbf"
          ],
          [
           0.1111111111111111,
           "#feca8d"
          ],
          [
           0.2222222222222222,
           "#fd9668"
          ],
          [
           0.3333333333333333,
           "#f1605d"
          ],
          [
           0.4444444444444444,
           "#cd4071"
          ],
          [
           0.5555555555555556,
           "#9e2f7f"
          ],
          [
           0.6666666666666666,
           "#721f81"
          ],
          [
           0.7777777777777778,
           "#440f76"
          ],
          [
           0.8888888888888888,
           "#180f3d"
          ],
          [
           1,
           "#000004"
          ]
         ]
        },
        "legend": {
         "font": {
          "family": "sans-serif",
          "size": 12
         },
         "tracegroupgap": 0,
         "x": 0.5,
         "xanchor": "center",
         "y": 0.99,
         "yanchor": "top"
        },
        "margin": {
         "t": 60
        },
        "plot_bgcolor": "white",
        "shapes": [
         {
          "line": {
           "color": "red",
           "width": 1
          },
          "type": "line",
          "x0": 0,
          "x1": 1,
          "xref": "paper",
          "y0": 0.8838888888888888,
          "y1": 0.8838888888888888,
          "yref": "y"
         },
         {
          "fillcolor": "limegreen",
          "layer": "below",
          "line": {
           "width": 0
          },
          "opacity": 0.1,
          "type": "rect",
          "x0": 0,
          "x1": 1,
          "xref": "paper",
          "y0": 0.8838888888888888,
          "y1": 1,
          "yref": "y"
         },
         {
          "fillcolor": "red",
          "layer": "below",
          "line": {
           "width": 0
          },
          "opacity": 0.1,
          "type": "rect",
          "x0": 0,
          "x1": 1,
          "xref": "paper",
          "y0": 0,
          "y1": 0.8838888888888888,
          "yref": "y"
         }
        ],
        "template": {
         "data": {
          "bar": [
           {
            "error_x": {
             "color": "#2a3f5f"
            },
            "error_y": {
             "color": "#2a3f5f"
            },
            "marker": {
             "line": {
              "color": "#E5ECF6",
              "width": 0.5
             },
             "pattern": {
              "fillmode": "overlay",
              "size": 10,
              "solidity": 0.2
             }
            },
            "type": "bar"
           }
          ],
          "barpolar": [
           {
            "marker": {
             "line": {
              "color": "#E5ECF6",
              "width": 0.5
             },
             "pattern": {
              "fillmode": "overlay",
              "size": 10,
              "solidity": 0.2
             }
            },
            "type": "barpolar"
           }
          ],
          "carpet": [
           {
            "aaxis": {
             "endlinecolor": "#2a3f5f",
             "gridcolor": "white",
             "linecolor": "white",
             "minorgridcolor": "white",
             "startlinecolor": "#2a3f5f"
            },
            "baxis": {
             "endlinecolor": "#2a3f5f",
             "gridcolor": "white",
             "linecolor": "white",
             "minorgridcolor": "white",
             "startlinecolor": "#2a3f5f"
            },
            "type": "carpet"
           }
          ],
          "choropleth": [
           {
            "colorbar": {
             "outlinewidth": 0,
             "ticks": ""
            },
            "type": "choropleth"
           }
          ],
          "contour": [
           {
            "colorbar": {
             "outlinewidth": 0,
             "ticks": ""
            },
            "colorscale": [
             [
              0,
              "#0d0887"
             ],
             [
              0.1111111111111111,
              "#46039f"
             ],
             [
              0.2222222222222222,
              "#7201a8"
             ],
             [
              0.3333333333333333,
              "#9c179e"
             ],
             [
              0.4444444444444444,
              "#bd3786"
             ],
             [
              0.5555555555555556,
              "#d8576b"
             ],
             [
              0.6666666666666666,
              "#ed7953"
             ],
             [
              0.7777777777777778,
              "#fb9f3a"
             ],
             [
              0.8888888888888888,
              "#fdca26"
             ],
             [
              1,
              "#f0f921"
             ]
            ],
            "type": "contour"
           }
          ],
          "contourcarpet": [
           {
            "colorbar": {
             "outlinewidth": 0,
             "ticks": ""
            },
            "type": "contourcarpet"
           }
          ],
          "heatmap": [
           {
            "colorbar": {
             "outlinewidth": 0,
             "ticks": ""
            },
            "colorscale": [
             [
              0,
              "#0d0887"
             ],
             [
              0.1111111111111111,
              "#46039f"
             ],
             [
              0.2222222222222222,
              "#7201a8"
             ],
             [
              0.3333333333333333,
              "#9c179e"
             ],
             [
              0.4444444444444444,
              "#bd3786"
             ],
             [
              0.5555555555555556,
              "#d8576b"
             ],
             [
              0.6666666666666666,
              "#ed7953"
             ],
             [
              0.7777777777777778,
              "#fb9f3a"
             ],
             [
              0.8888888888888888,
              "#fdca26"
             ],
             [
              1,
              "#f0f921"
             ]
            ],
            "type": "heatmap"
           }
          ],
          "heatmapgl": [
           {
            "colorbar": {
             "outlinewidth": 0,
             "ticks": ""
            },
            "colorscale": [
             [
              0,
              "#0d0887"
             ],
             [
              0.1111111111111111,
              "#46039f"
             ],
             [
              0.2222222222222222,
              "#7201a8"
             ],
             [
              0.3333333333333333,
              "#9c179e"
             ],
             [
              0.4444444444444444,
              "#bd3786"
             ],
             [
              0.5555555555555556,
              "#d8576b"
             ],
             [
              0.6666666666666666,
              "#ed7953"
             ],
             [
              0.7777777777777778,
              "#fb9f3a"
             ],
             [
              0.8888888888888888,
              "#fdca26"
             ],
             [
              1,
              "#f0f921"
             ]
            ],
            "type": "heatmapgl"
           }
          ],
          "histogram": [
           {
            "marker": {
             "pattern": {
              "fillmode": "overlay",
              "size": 10,
              "solidity": 0.2
             }
            },
            "type": "histogram"
           }
          ],
          "histogram2d": [
           {
            "colorbar": {
             "outlinewidth": 0,
             "ticks": ""
            },
            "colorscale": [
             [
              0,
              "#0d0887"
             ],
             [
              0.1111111111111111,
              "#46039f"
             ],
             [
              0.2222222222222222,
              "#7201a8"
             ],
             [
              0.3333333333333333,
              "#9c179e"
             ],
             [
              0.4444444444444444,
              "#bd3786"
             ],
             [
              0.5555555555555556,
              "#d8576b"
             ],
             [
              0.6666666666666666,
              "#ed7953"
             ],
             [
              0.7777777777777778,
              "#fb9f3a"
             ],
             [
              0.8888888888888888,
              "#fdca26"
             ],
             [
              1,
              "#f0f921"
             ]
            ],
            "type": "histogram2d"
           }
          ],
          "histogram2dcontour": [
           {
            "colorbar": {
             "outlinewidth": 0,
             "ticks": ""
            },
            "colorscale": [
             [
              0,
              "#0d0887"
             ],
             [
              0.1111111111111111,
              "#46039f"
             ],
             [
              0.2222222222222222,
              "#7201a8"
             ],
             [
              0.3333333333333333,
              "#9c179e"
             ],
             [
              0.4444444444444444,
              "#bd3786"
             ],
             [
              0.5555555555555556,
              "#d8576b"
             ],
             [
              0.6666666666666666,
              "#ed7953"
             ],
             [
              0.7777777777777778,
              "#fb9f3a"
             ],
             [
              0.8888888888888888,
              "#fdca26"
             ],
             [
              1,
              "#f0f921"
             ]
            ],
            "type": "histogram2dcontour"
           }
          ],
          "mesh3d": [
           {
            "colorbar": {
             "outlinewidth": 0,
             "ticks": ""
            },
            "type": "mesh3d"
           }
          ],
          "parcoords": [
           {
            "line": {
             "colorbar": {
              "outlinewidth": 0,
              "ticks": ""
             }
            },
            "type": "parcoords"
           }
          ],
          "pie": [
           {
            "automargin": true,
            "type": "pie"
           }
          ],
          "scatter": [
           {
            "fillpattern": {
             "fillmode": "overlay",
             "size": 10,
             "solidity": 0.2
            },
            "type": "scatter"
           }
          ],
          "scatter3d": [
           {
            "line": {
             "colorbar": {
              "outlinewidth": 0,
              "ticks": ""
             }
            },
            "marker": {
             "colorbar": {
              "outlinewidth": 0,
              "ticks": ""
             }
            },
            "type": "scatter3d"
           }
          ],
          "scattercarpet": [
           {
            "marker": {
             "colorbar": {
              "outlinewidth": 0,
              "ticks": ""
             }
            },
            "type": "scattercarpet"
           }
          ],
          "scattergeo": [
           {
            "marker": {
             "colorbar": {
              "outlinewidth": 0,
              "ticks": ""
             }
            },
            "type": "scattergeo"
           }
          ],
          "scattergl": [
           {
            "marker": {
             "colorbar": {
              "outlinewidth": 0,
              "ticks": ""
             }
            },
            "type": "scattergl"
           }
          ],
          "scattermapbox": [
           {
            "marker": {
             "colorbar": {
              "outlinewidth": 0,
              "ticks": ""
             }
            },
            "type": "scattermapbox"
           }
          ],
          "scatterpolar": [
           {
            "marker": {
             "colorbar": {
              "outlinewidth": 0,
              "ticks": ""
             }
            },
            "type": "scatterpolar"
           }
          ],
          "scatterpolargl": [
           {
            "marker": {
             "colorbar": {
              "outlinewidth": 0,
              "ticks": ""
             }
            },
            "type": "scatterpolargl"
           }
          ],
          "scatterternary": [
           {
            "marker": {
             "colorbar": {
              "outlinewidth": 0,
              "ticks": ""
             }
            },
            "type": "scatterternary"
           }
          ],
          "surface": [
           {
            "colorbar": {
             "outlinewidth": 0,
             "ticks": ""
            },
            "colorscale": [
             [
              0,
              "#0d0887"
             ],
             [
              0.1111111111111111,
              "#46039f"
             ],
             [
              0.2222222222222222,
              "#7201a8"
             ],
             [
              0.3333333333333333,
              "#9c179e"
             ],
             [
              0.4444444444444444,
              "#bd3786"
             ],
             [
              0.5555555555555556,
              "#d8576b"
             ],
             [
              0.6666666666666666,
              "#ed7953"
             ],
             [
              0.7777777777777778,
              "#fb9f3a"
             ],
             [
              0.8888888888888888,
              "#fdca26"
             ],
             [
              1,
              "#f0f921"
             ]
            ],
            "type": "surface"
           }
          ],
          "table": [
           {
            "cells": {
             "fill": {
              "color": "#EBF0F8"
             },
             "line": {
              "color": "white"
             }
            },
            "header": {
             "fill": {
              "color": "#C8D4E3"
             },
             "line": {
              "color": "white"
             }
            },
            "type": "table"
           }
          ]
         },
         "layout": {
          "annotationdefaults": {
           "arrowcolor": "#2a3f5f",
           "arrowhead": 0,
           "arrowwidth": 1
          },
          "autotypenumbers": "strict",
          "coloraxis": {
           "colorbar": {
            "outlinewidth": 0,
            "ticks": ""
           }
          },
          "colorscale": {
           "diverging": [
            [
             0,
             "#8e0152"
            ],
            [
             0.1,
             "#c51b7d"
            ],
            [
             0.2,
             "#de77ae"
            ],
            [
             0.3,
             "#f1b6da"
            ],
            [
             0.4,
             "#fde0ef"
            ],
            [
             0.5,
             "#f7f7f7"
            ],
            [
             0.6,
             "#e6f5d0"
            ],
            [
             0.7,
             "#b8e186"
            ],
            [
             0.8,
             "#7fbc41"
            ],
            [
             0.9,
             "#4d9221"
            ],
            [
             1,
             "#276419"
            ]
           ],
           "sequential": [
            [
             0,
             "#0d0887"
            ],
            [
             0.1111111111111111,
             "#46039f"
            ],
            [
             0.2222222222222222,
             "#7201a8"
            ],
            [
             0.3333333333333333,
             "#9c179e"
            ],
            [
             0.4444444444444444,
             "#bd3786"
            ],
            [
             0.5555555555555556,
             "#d8576b"
            ],
            [
             0.6666666666666666,
             "#ed7953"
            ],
            [
             0.7777777777777778,
             "#fb9f3a"
            ],
            [
             0.8888888888888888,
             "#fdca26"
            ],
            [
             1,
             "#f0f921"
            ]
           ],
           "sequentialminus": [
            [
             0,
             "#0d0887"
            ],
            [
             0.1111111111111111,
             "#46039f"
            ],
            [
             0.2222222222222222,
             "#7201a8"
            ],
            [
             0.3333333333333333,
             "#9c179e"
            ],
            [
             0.4444444444444444,
             "#bd3786"
            ],
            [
             0.5555555555555556,
             "#d8576b"
            ],
            [
             0.6666666666666666,
             "#ed7953"
            ],
            [
             0.7777777777777778,
             "#fb9f3a"
            ],
            [
             0.8888888888888888,
             "#fdca26"
            ],
            [
             1,
             "#f0f921"
            ]
           ]
          },
          "colorway": [
           "#636efa",
           "#EF553B",
           "#00cc96",
           "#ab63fa",
           "#FFA15A",
           "#19d3f3",
           "#FF6692",
           "#B6E880",
           "#FF97FF",
           "#FECB52"
          ],
          "font": {
           "color": "#2a3f5f"
          },
          "geo": {
           "bgcolor": "white",
           "lakecolor": "white",
           "landcolor": "#E5ECF6",
           "showlakes": true,
           "showland": true,
           "subunitcolor": "white"
          },
          "hoverlabel": {
           "align": "left"
          },
          "hovermode": "closest",
          "mapbox": {
           "style": "light"
          },
          "paper_bgcolor": "white",
          "plot_bgcolor": "#E5ECF6",
          "polar": {
           "angularaxis": {
            "gridcolor": "white",
            "linecolor": "white",
            "ticks": ""
           },
           "bgcolor": "#E5ECF6",
           "radialaxis": {
            "gridcolor": "white",
            "linecolor": "white",
            "ticks": ""
           }
          },
          "scene": {
           "xaxis": {
            "backgroundcolor": "#E5ECF6",
            "gridcolor": "white",
            "gridwidth": 2,
            "linecolor": "white",
            "showbackground": true,
            "ticks": "",
            "zerolinecolor": "white"
           },
           "yaxis": {
            "backgroundcolor": "#E5ECF6",
            "gridcolor": "white",
            "gridwidth": 2,
            "linecolor": "white",
            "showbackground": true,
            "ticks": "",
            "zerolinecolor": "white"
           },
           "zaxis": {
            "backgroundcolor": "#E5ECF6",
            "gridcolor": "white",
            "gridwidth": 2,
            "linecolor": "white",
            "showbackground": true,
            "ticks": "",
            "zerolinecolor": "white"
           }
          },
          "shapedefaults": {
           "line": {
            "color": "#2a3f5f"
           }
          },
          "ternary": {
           "aaxis": {
            "gridcolor": "white",
            "linecolor": "white",
            "ticks": ""
           },
           "baxis": {
            "gridcolor": "white",
            "linecolor": "white",
            "ticks": ""
           },
           "bgcolor": "#E5ECF6",
           "caxis": {
            "gridcolor": "white",
            "linecolor": "white",
            "ticks": ""
           }
          },
          "title": {
           "x": 0.05
          },
          "xaxis": {
           "automargin": true,
           "gridcolor": "white",
           "linecolor": "white",
           "ticks": "",
           "title": {
            "standoff": 15
           },
           "zerolinecolor": "white",
           "zerolinewidth": 2
          },
          "yaxis": {
           "automargin": true,
           "gridcolor": "white",
           "linecolor": "white",
           "ticks": "",
           "title": {
            "standoff": 15
           },
           "zerolinecolor": "white",
           "zerolinewidth": 2
          }
         }
        },
        "title": {
         "font": {
          "family": "serif",
          "size": 20
         },
         "text": "Best hole cards flavors for 9 Players"
        },
        "xaxis": {
         "anchor": "y",
         "domain": [
          0,
          1
         ],
         "showgrid": false,
         "title": {
          "text": ""
         }
        },
        "yaxis": {
         "anchor": "x",
         "domain": [
          0,
          1
         ],
         "range": [
          0,
          1
         ],
         "showgrid": false,
         "showticklabels": false,
         "title": {
          "text": ""
         }
        }
       }
      }
     },
     "metadata": {},
     "output_type": "display_data"
    },
    {
     "name": "stderr",
     "output_type": "stream",
     "text": [
      "INFO: Not saving plot - pass save_plot=True to save it.\n",
      "INFO: Making plotly figure and axis objects\n",
      "c:\\Users\\david\\Documents\\Projects\\holdem_simulator\\src\\plot_builders_plotly.py:158: SettingWithCopyWarning:\n",
      "\n",
      "\n",
      "A value is trying to be set on a copy of a slice from a DataFrame.\n",
      "Try using .loc[row_indexer,col_indexer] = value instead\n",
      "\n",
      "See the caveats in the documentation: https://pandas.pydata.org/pandas-docs/stable/user_guide/indexing.html#returning-a-view-versus-a-copy\n",
      "\n",
      "INFO: Sorting data frame ascending by n_players\n",
      "INFO: Sorting data frame descending by win ratio, win ratio rounded down to nearest 5%\n",
      "INFO: Showing plot object\n"
     ]
    },
    {
     "data": {
      "application/vnd.plotly.v1+json": {
       "config": {
        "plotlyServerURL": "https://plot.ly"
       },
       "data": [
        {
         "alignmentgroup": "True",
         "customdata": [
          [
           0.3089
          ],
          [
           0.2522
          ],
          [
           0.2305
          ],
          [
           0.2086
          ],
          [
           0.208
          ],
          [
           0.204
          ],
          [
           0.1984
          ],
          [
           0.1944
          ],
          [
           0.1884
          ],
          [
           0.1858
          ],
          [
           0.1849
          ],
          [
           0.1845
          ],
          [
           0.1828
          ],
          [
           0.1826
          ],
          [
           0.1785
          ],
          [
           0.1777
          ],
          [
           0.1751
          ],
          [
           0.1733
          ],
          [
           0.1731
          ],
          [
           0.1686
          ],
          [
           0.1624
          ],
          [
           0.1624
          ],
          [
           0.1614
          ],
          [
           0.1611
          ],
          [
           0.1602
          ],
          [
           0.1574
          ],
          [
           0.1574
          ],
          [
           0.1572
          ],
          [
           0.1569
          ],
          [
           0.1563
          ],
          [
           0.1547
          ],
          [
           0.1545
          ],
          [
           0.1545
          ],
          [
           0.1532
          ],
          [
           0.1522
          ],
          [
           0.1516
          ],
          [
           0.1496
          ],
          [
           0.1492
          ],
          [
           0.1485
          ],
          [
           0.1479
          ],
          [
           0.1467
          ],
          [
           0.1464
          ],
          [
           0.1464
          ],
          [
           0.1461
          ],
          [
           0.1451
          ],
          [
           0.1432
          ],
          [
           0.1409
          ],
          [
           0.1408
          ],
          [
           0.1367
          ],
          [
           0.1367
          ],
          [
           0.1362
          ],
          [
           0.1354
          ],
          [
           0.1353
          ],
          [
           0.1353
          ],
          [
           0.134
          ],
          [
           0.1328
          ],
          [
           0.1324
          ],
          [
           0.1321
          ],
          [
           0.1318
          ],
          [
           0.1318
          ],
          [
           0.1301
          ],
          [
           0.1291
          ],
          [
           0.1287
          ],
          [
           0.1286
          ],
          [
           0.1283
          ],
          [
           0.1283
          ],
          [
           0.1282
          ],
          [
           0.1282
          ],
          [
           0.1278
          ],
          [
           0.1277
          ],
          [
           0.1273
          ],
          [
           0.127
          ],
          [
           0.1262
          ],
          [
           0.1254
          ],
          [
           0.1249
          ],
          [
           0.1245
          ],
          [
           0.1236
          ],
          [
           0.1233
          ],
          [
           0.123
          ],
          [
           0.122
          ],
          [
           0.1218
          ],
          [
           0.1205
          ],
          [
           0.1201
          ],
          [
           0.12
          ],
          [
           0.1196
          ],
          [
           0.1193
          ],
          [
           0.1193
          ],
          [
           0.1185
          ],
          [
           0.1181
          ],
          [
           0.1178
          ],
          [
           0.1175
          ],
          [
           0.1162
          ],
          [
           0.1153
          ],
          [
           0.1146
          ],
          [
           0.1141
          ],
          [
           0.1128
          ],
          [
           0.1112
          ],
          [
           0.111
          ],
          [
           0.1109
          ],
          [
           0.1101
          ],
          [
           0.1096
          ],
          [
           0.109
          ],
          [
           0.1089
          ],
          [
           0.1083
          ],
          [
           0.1072
          ],
          [
           0.1057
          ],
          [
           0.1056
          ],
          [
           0.1054
          ],
          [
           0.105
          ],
          [
           0.1042
          ],
          [
           0.1041
          ],
          [
           0.104
          ],
          [
           0.1039
          ],
          [
           0.103
          ],
          [
           0.1026
          ],
          [
           0.102
          ],
          [
           0.1015
          ],
          [
           0.1005
          ],
          [
           0.0981
          ],
          [
           0.0977
          ],
          [
           0.0969
          ],
          [
           0.0966
          ],
          [
           0.0961
          ],
          [
           0.0959
          ],
          [
           0.0956
          ],
          [
           0.0954
          ],
          [
           0.0951
          ],
          [
           0.0942
          ],
          [
           0.0936
          ],
          [
           0.0933
          ],
          [
           0.0928
          ],
          [
           0.0922
          ],
          [
           0.092
          ],
          [
           0.0916
          ],
          [
           0.0915
          ],
          [
           0.0906
          ],
          [
           0.0897
          ],
          [
           0.0888
          ],
          [
           0.0881
          ],
          [
           0.088
          ],
          [
           0.0871
          ],
          [
           0.085
          ],
          [
           0.085
          ],
          [
           0.085
          ],
          [
           0.085
          ],
          [
           0.0847
          ],
          [
           0.0829
          ],
          [
           0.0827
          ],
          [
           0.0776
          ],
          [
           0.0773
          ],
          [
           0.0771
          ],
          [
           0.0747
          ],
          [
           0.0739
          ],
          [
           0.0737
          ],
          [
           0.0736
          ],
          [
           0.073
          ],
          [
           0.0721
          ],
          [
           0.072
          ],
          [
           0.0715
          ],
          [
           0.0701
          ],
          [
           0.069
          ],
          [
           0.0679
          ],
          [
           0.0677
          ],
          [
           0.0655
          ],
          [
           0.0648
          ],
          [
           0.0639
          ],
          [
           0.0616
          ],
          [
           0.0598
          ],
          [
           0.0543
          ]
         ],
         "hovertemplate": "hole cards flavor=%{x}<br>win ratio rounded down to nearest 5%=%{y:.0%}<br>win ratio=%{customdata[0]:.2%}<br>appearances=%{marker.color}<extra></extra>",
         "legendgroup": "",
         "marker": {
          "color": [
           3020,
           3085,
           3163,
           2109,
           2082,
           2069,
           2031,
           3195,
           2075,
           2142,
           2093,
           2097,
           2144,
           2158,
           3082,
           6431,
           2147,
           2077,
           6175,
           2207,
           2069,
           3208,
           2168,
           6288,
           2073,
           2141,
           2192,
           2157,
           6247,
           6186,
           2081,
           2110,
           6338,
           2089,
           2050,
           6365,
           2072,
           2111,
           6379,
           2225,
           2120,
           6333,
           2036,
           3163,
           2088,
           3171,
           2143,
           2123,
           2114,
           2129,
           2129,
           2164,
           2085,
           6336,
           2067,
           2041,
           2100,
           3119,
           3232,
           6413,
           2129,
           2130,
           2082,
           2200,
           2081,
           6172,
           2082,
           2036,
           6299,
           6274,
           2113,
           3119,
           2140,
           6269,
           2105,
           2128,
           3163,
           6373,
           2147,
           6343,
           2184,
           2133,
           2048,
           2108,
           2048,
           2163,
           2129,
           6320,
           2235,
           6436,
           2154,
           6444,
           3184,
           2121,
           2200,
           6221,
           6306,
           6345,
           2110,
           2135,
           2154,
           6255,
           6366,
           6298,
           2089,
           2035,
           2168,
           6369,
           6296,
           6230,
           6225,
           6394,
           6326,
           2019,
           6323,
           6274,
           6255,
           2149,
           6319,
           2159,
           2167,
           2164,
           2134,
           6400,
           1997,
           2128,
           6265,
           6307,
           6412,
           6187,
           2155,
           6420,
           6371,
           6345,
           6435,
           6271,
           6265,
           6275,
           2180,
           6351,
           6270,
           6432,
           6422,
           6411,
           6521,
           6259,
           6512,
           6240,
           6473,
           6352,
           6264,
           6343,
           6350,
           6271,
           6417,
           6135,
           6370,
           6456,
           6379,
           6275,
           6307,
           6394,
           6340,
           6371,
           6345,
           6388,
           6426,
           6270,
           6429
          ],
          "coloraxis": "coloraxis",
          "pattern": {
           "shape": ""
          }
         },
         "name": "",
         "offsetgroup": "",
         "orientation": "v",
         "showlegend": false,
         "textposition": "auto",
         "type": "bar",
         "x": [
          "Aces paired",
          "Kings paired",
          "Queens paired",
          "Ace, Queen suited",
          "King, Queen suited",
          "Ace, King suited",
          "Ace, Jack suited",
          "Jacks paired",
          "Queen, 10 suited",
          "Ace, 10 suited",
          "Jack, 10 suited",
          "King, Jack suited",
          "King, 10 suited",
          "Queen, Jack suited",
          "10s paired",
          "Ace, King off suit",
          "10, 9 suited",
          "Jack, 9 suited",
          "Ace, Queen off suit",
          "Ace, 8 suited",
          "Queen, 9 suited",
          "9s paired",
          "King, 9 suited",
          "King, Jack off suit",
          "Ace, 7 suited",
          "King, 8 suited",
          "9, 7 suited",
          "Ace, 9 suited",
          "King, Queen off suit",
          "Ace, Jack off suit",
          "Ace, 3 suited",
          "Ace, 5 suited",
          "Ace, 10 off suit",
          "10, 8 suited",
          "9, 8 suited",
          "King, 10 off suit",
          "King, 7 suited",
          "Ace, 6 suited",
          "Jack, 10 off suit",
          "Ace, 4 suited",
          "Ace, 2 suited",
          "Queen, Jack off suit",
          "Queen, 8 suited",
          "8s paired",
          "Jack, 8 suited",
          "7s paired",
          "Queen, 5 suited",
          "8, 7 suited",
          "King, 6 suited",
          "Queen, 6 suited",
          "King, 4 suited",
          "9, 6 suited",
          "8, 5 suited",
          "Queen, 10 off suit",
          "Queen, 7 suited",
          "6, 5 suited",
          "Queen, 3 suited",
          "5s paired",
          "6s paired",
          "King, 9 off suit",
          "King, 3 suited",
          "King, 2 suited",
          "8, 6 suited",
          "10, 3 suited",
          "10, 5 suited",
          "10, 9 off suit",
          "10, 7 suited",
          "10, 6 suited",
          "Ace, 9 off suit",
          "Queen, 9 off suit",
          "King, 5 suited",
          "4s paired",
          "Queen, 4 suited",
          "Ace, 8 off suit",
          "7, 6 suited",
          "Queen, 2 suited",
          "2s paired",
          "Ace, 5 off suit",
          "Jack, 4 suited",
          "Jack, 9 off suit",
          "Jack, 2 suited",
          "Jack, 5 suited",
          "5, 2 suited",
          "7, 5 suited",
          "5, 3 suited",
          "7, 4 suited",
          "5, 4 suited",
          "Ace, 3 off suit",
          "Jack, 7 suited",
          "10, 8 off suit",
          "Jack, 6 suited",
          "Ace, 7 off suit",
          "3s paired",
          "4, 3 suited",
          "Jack, 3 suited",
          "Jack, 8 off suit",
          "9, 8 off suit",
          "Ace, 4 off suit",
          "9, 5 suited",
          "10, 4 suited",
          "8, 4 suited",
          "King, 8 off suit",
          "Ace, 6 off suit",
          "Ace, 2 off suit",
          "8, 2 suited",
          "10, 2 suited",
          "9, 4 suited",
          "Queen, 8 off suit",
          "King, 6 off suit",
          "10, 7 off suit",
          "9, 7 off suit",
          "King, 7 off suit",
          "King, 5 off suit",
          "6, 4 suited",
          "7, 6 off suit",
          "Jack, 7 off suit",
          "8, 7 off suit",
          "9, 2 suited",
          "8, 6 off suit",
          "6, 3 suited",
          "8, 3 suited",
          "7, 2 suited",
          "3, 2 suited",
          "King, 4 off suit",
          "7, 3 suited",
          "9, 3 suited",
          "7, 5 off suit",
          "King, 3 off suit",
          "5, 4 off suit",
          "5, 3 off suit",
          "4, 2 suited",
          "9, 6 off suit",
          "6, 5 off suit",
          "Queen, 7 off suit",
          "Queen, 5 off suit",
          "Queen, 6 off suit",
          "Queen, 3 off suit",
          "6, 4 off suit",
          "6, 2 suited",
          "Jack, 5 off suit",
          "King, 2 off suit",
          "Queen, 2 off suit",
          "8, 5 off suit",
          "Jack, 6 off suit",
          "10, 6 off suit",
          "Queen, 4 off suit",
          "4, 3 off suit",
          "7, 4 off suit",
          "10, 5 off suit",
          "6, 3 off suit",
          "Jack, 4 off suit",
          "9, 5 off suit",
          "10, 3 off suit",
          "5, 2 off suit",
          "10, 4 off suit",
          "8, 4 off suit",
          "Jack, 2 off suit",
          "4, 2 off suit",
          "7, 3 off suit",
          "Jack, 3 off suit",
          "6, 2 off suit",
          "9, 3 off suit",
          "10, 2 off suit",
          "9, 4 off suit",
          "3, 2 off suit",
          "8, 3 off suit",
          "8, 2 off suit",
          "9, 2 off suit",
          "7, 2 off suit"
         ],
         "xaxis": "x",
         "y": [
          0.3,
          0.25,
          0.2,
          0.2,
          0.2,
          0.2,
          0.15,
          0.15,
          0.15,
          0.15,
          0.15,
          0.15,
          0.15,
          0.15,
          0.15,
          0.15,
          0.15,
          0.15,
          0.15,
          0.15,
          0.15,
          0.15,
          0.15,
          0.15,
          0.15,
          0.15,
          0.15,
          0.15,
          0.15,
          0.15,
          0.15,
          0.15,
          0.15,
          0.15,
          0.15,
          0.15,
          0.1,
          0.1,
          0.1,
          0.1,
          0.1,
          0.1,
          0.1,
          0.1,
          0.1,
          0.1,
          0.1,
          0.1,
          0.1,
          0.1,
          0.1,
          0.1,
          0.1,
          0.1,
          0.1,
          0.1,
          0.1,
          0.1,
          0.1,
          0.1,
          0.1,
          0.1,
          0.1,
          0.1,
          0.1,
          0.1,
          0.1,
          0.1,
          0.1,
          0.1,
          0.1,
          0.1,
          0.1,
          0.1,
          0.1,
          0.1,
          0.1,
          0.1,
          0.1,
          0.1,
          0.1,
          0.1,
          0.1,
          0.1,
          0.1,
          0.1,
          0.1,
          0.1,
          0.1,
          0.1,
          0.1,
          0.1,
          0.1,
          0.1,
          0.1,
          0.1,
          0.1,
          0.1,
          0.1,
          0.1,
          0.1,
          0.1,
          0.1,
          0.1,
          0.1,
          0.1,
          0.1,
          0.1,
          0.1,
          0.1,
          0.1,
          0.1,
          0.1,
          0.1,
          0.1,
          0.1,
          0.1,
          0.1,
          0.05,
          0.05,
          0.05,
          0.05,
          0.05,
          0.05,
          0.05,
          0.05,
          0.05,
          0.05,
          0.05,
          0.05,
          0.05,
          0.05,
          0.05,
          0.05,
          0.05,
          0.05,
          0.05,
          0.05,
          0.05,
          0.05,
          0.05,
          0.05,
          0.05,
          0.05,
          0.05,
          0.05,
          0.05,
          0.05,
          0.05,
          0.05,
          0.05,
          0.05,
          0.05,
          0.05,
          0.05,
          0.05,
          0.05,
          0.05,
          0.05,
          0.05,
          0.05,
          0.05,
          0.05,
          0.05,
          0.05,
          0.05,
          0.05,
          0.05,
          0.05
         ],
         "yaxis": "y"
        },
        {
         "line": {
          "color": "red",
          "width": 1
         },
         "mode": "lines",
         "name": "Likely Win/Lose Threshold",
         "showlegend": true,
         "type": "scatter",
         "x": [
          null
         ],
         "y": [
          null
         ]
        }
       ],
       "layout": {
        "barmode": "relative",
        "coloraxis": {
         "colorbar": {
          "thickness": 10,
          "tickfont": {
           "family": "monospace",
           "size": 12
          },
          "title": {
           "font": {
            "family": "sans-serif",
            "size": 14
           },
           "text": "Appearances"
          }
         },
         "colorscale": [
          [
           0,
           "#fcfdbf"
          ],
          [
           0.1111111111111111,
           "#feca8d"
          ],
          [
           0.2222222222222222,
           "#fd9668"
          ],
          [
           0.3333333333333333,
           "#f1605d"
          ],
          [
           0.4444444444444444,
           "#cd4071"
          ],
          [
           0.5555555555555556,
           "#9e2f7f"
          ],
          [
           0.6666666666666666,
           "#721f81"
          ],
          [
           0.7777777777777778,
           "#440f76"
          ],
          [
           0.8888888888888888,
           "#180f3d"
          ],
          [
           1,
           "#000004"
          ]
         ]
        },
        "legend": {
         "font": {
          "family": "sans-serif",
          "size": 12
         },
         "tracegroupgap": 0,
         "x": 0.5,
         "xanchor": "center",
         "y": 0.99,
         "yanchor": "top"
        },
        "margin": {
         "t": 60
        },
        "plot_bgcolor": "white",
        "shapes": [
         {
          "line": {
           "color": "red",
           "width": 1
          },
          "type": "line",
          "x0": 0,
          "x1": 1,
          "xref": "paper",
          "y0": 0.895,
          "y1": 0.895,
          "yref": "y"
         },
         {
          "fillcolor": "limegreen",
          "layer": "below",
          "line": {
           "width": 0
          },
          "opacity": 0.1,
          "type": "rect",
          "x0": 0,
          "x1": 1,
          "xref": "paper",
          "y0": 0.895,
          "y1": 1,
          "yref": "y"
         },
         {
          "fillcolor": "red",
          "layer": "below",
          "line": {
           "width": 0
          },
          "opacity": 0.1,
          "type": "rect",
          "x0": 0,
          "x1": 1,
          "xref": "paper",
          "y0": 0,
          "y1": 0.895,
          "yref": "y"
         }
        ],
        "template": {
         "data": {
          "bar": [
           {
            "error_x": {
             "color": "#2a3f5f"
            },
            "error_y": {
             "color": "#2a3f5f"
            },
            "marker": {
             "line": {
              "color": "#E5ECF6",
              "width": 0.5
             },
             "pattern": {
              "fillmode": "overlay",
              "size": 10,
              "solidity": 0.2
             }
            },
            "type": "bar"
           }
          ],
          "barpolar": [
           {
            "marker": {
             "line": {
              "color": "#E5ECF6",
              "width": 0.5
             },
             "pattern": {
              "fillmode": "overlay",
              "size": 10,
              "solidity": 0.2
             }
            },
            "type": "barpolar"
           }
          ],
          "carpet": [
           {
            "aaxis": {
             "endlinecolor": "#2a3f5f",
             "gridcolor": "white",
             "linecolor": "white",
             "minorgridcolor": "white",
             "startlinecolor": "#2a3f5f"
            },
            "baxis": {
             "endlinecolor": "#2a3f5f",
             "gridcolor": "white",
             "linecolor": "white",
             "minorgridcolor": "white",
             "startlinecolor": "#2a3f5f"
            },
            "type": "carpet"
           }
          ],
          "choropleth": [
           {
            "colorbar": {
             "outlinewidth": 0,
             "ticks": ""
            },
            "type": "choropleth"
           }
          ],
          "contour": [
           {
            "colorbar": {
             "outlinewidth": 0,
             "ticks": ""
            },
            "colorscale": [
             [
              0,
              "#0d0887"
             ],
             [
              0.1111111111111111,
              "#46039f"
             ],
             [
              0.2222222222222222,
              "#7201a8"
             ],
             [
              0.3333333333333333,
              "#9c179e"
             ],
             [
              0.4444444444444444,
              "#bd3786"
             ],
             [
              0.5555555555555556,
              "#d8576b"
             ],
             [
              0.6666666666666666,
              "#ed7953"
             ],
             [
              0.7777777777777778,
              "#fb9f3a"
             ],
             [
              0.8888888888888888,
              "#fdca26"
             ],
             [
              1,
              "#f0f921"
             ]
            ],
            "type": "contour"
           }
          ],
          "contourcarpet": [
           {
            "colorbar": {
             "outlinewidth": 0,
             "ticks": ""
            },
            "type": "contourcarpet"
           }
          ],
          "heatmap": [
           {
            "colorbar": {
             "outlinewidth": 0,
             "ticks": ""
            },
            "colorscale": [
             [
              0,
              "#0d0887"
             ],
             [
              0.1111111111111111,
              "#46039f"
             ],
             [
              0.2222222222222222,
              "#7201a8"
             ],
             [
              0.3333333333333333,
              "#9c179e"
             ],
             [
              0.4444444444444444,
              "#bd3786"
             ],
             [
              0.5555555555555556,
              "#d8576b"
             ],
             [
              0.6666666666666666,
              "#ed7953"
             ],
             [
              0.7777777777777778,
              "#fb9f3a"
             ],
             [
              0.8888888888888888,
              "#fdca26"
             ],
             [
              1,
              "#f0f921"
             ]
            ],
            "type": "heatmap"
           }
          ],
          "heatmapgl": [
           {
            "colorbar": {
             "outlinewidth": 0,
             "ticks": ""
            },
            "colorscale": [
             [
              0,
              "#0d0887"
             ],
             [
              0.1111111111111111,
              "#46039f"
             ],
             [
              0.2222222222222222,
              "#7201a8"
             ],
             [
              0.3333333333333333,
              "#9c179e"
             ],
             [
              0.4444444444444444,
              "#bd3786"
             ],
             [
              0.5555555555555556,
              "#d8576b"
             ],
             [
              0.6666666666666666,
              "#ed7953"
             ],
             [
              0.7777777777777778,
              "#fb9f3a"
             ],
             [
              0.8888888888888888,
              "#fdca26"
             ],
             [
              1,
              "#f0f921"
             ]
            ],
            "type": "heatmapgl"
           }
          ],
          "histogram": [
           {
            "marker": {
             "pattern": {
              "fillmode": "overlay",
              "size": 10,
              "solidity": 0.2
             }
            },
            "type": "histogram"
           }
          ],
          "histogram2d": [
           {
            "colorbar": {
             "outlinewidth": 0,
             "ticks": ""
            },
            "colorscale": [
             [
              0,
              "#0d0887"
             ],
             [
              0.1111111111111111,
              "#46039f"
             ],
             [
              0.2222222222222222,
              "#7201a8"
             ],
             [
              0.3333333333333333,
              "#9c179e"
             ],
             [
              0.4444444444444444,
              "#bd3786"
             ],
             [
              0.5555555555555556,
              "#d8576b"
             ],
             [
              0.6666666666666666,
              "#ed7953"
             ],
             [
              0.7777777777777778,
              "#fb9f3a"
             ],
             [
              0.8888888888888888,
              "#fdca26"
             ],
             [
              1,
              "#f0f921"
             ]
            ],
            "type": "histogram2d"
           }
          ],
          "histogram2dcontour": [
           {
            "colorbar": {
             "outlinewidth": 0,
             "ticks": ""
            },
            "colorscale": [
             [
              0,
              "#0d0887"
             ],
             [
              0.1111111111111111,
              "#46039f"
             ],
             [
              0.2222222222222222,
              "#7201a8"
             ],
             [
              0.3333333333333333,
              "#9c179e"
             ],
             [
              0.4444444444444444,
              "#bd3786"
             ],
             [
              0.5555555555555556,
              "#d8576b"
             ],
             [
              0.6666666666666666,
              "#ed7953"
             ],
             [
              0.7777777777777778,
              "#fb9f3a"
             ],
             [
              0.8888888888888888,
              "#fdca26"
             ],
             [
              1,
              "#f0f921"
             ]
            ],
            "type": "histogram2dcontour"
           }
          ],
          "mesh3d": [
           {
            "colorbar": {
             "outlinewidth": 0,
             "ticks": ""
            },
            "type": "mesh3d"
           }
          ],
          "parcoords": [
           {
            "line": {
             "colorbar": {
              "outlinewidth": 0,
              "ticks": ""
             }
            },
            "type": "parcoords"
           }
          ],
          "pie": [
           {
            "automargin": true,
            "type": "pie"
           }
          ],
          "scatter": [
           {
            "fillpattern": {
             "fillmode": "overlay",
             "size": 10,
             "solidity": 0.2
            },
            "type": "scatter"
           }
          ],
          "scatter3d": [
           {
            "line": {
             "colorbar": {
              "outlinewidth": 0,
              "ticks": ""
             }
            },
            "marker": {
             "colorbar": {
              "outlinewidth": 0,
              "ticks": ""
             }
            },
            "type": "scatter3d"
           }
          ],
          "scattercarpet": [
           {
            "marker": {
             "colorbar": {
              "outlinewidth": 0,
              "ticks": ""
             }
            },
            "type": "scattercarpet"
           }
          ],
          "scattergeo": [
           {
            "marker": {
             "colorbar": {
              "outlinewidth": 0,
              "ticks": ""
             }
            },
            "type": "scattergeo"
           }
          ],
          "scattergl": [
           {
            "marker": {
             "colorbar": {
              "outlinewidth": 0,
              "ticks": ""
             }
            },
            "type": "scattergl"
           }
          ],
          "scattermapbox": [
           {
            "marker": {
             "colorbar": {
              "outlinewidth": 0,
              "ticks": ""
             }
            },
            "type": "scattermapbox"
           }
          ],
          "scatterpolar": [
           {
            "marker": {
             "colorbar": {
              "outlinewidth": 0,
              "ticks": ""
             }
            },
            "type": "scatterpolar"
           }
          ],
          "scatterpolargl": [
           {
            "marker": {
             "colorbar": {
              "outlinewidth": 0,
              "ticks": ""
             }
            },
            "type": "scatterpolargl"
           }
          ],
          "scatterternary": [
           {
            "marker": {
             "colorbar": {
              "outlinewidth": 0,
              "ticks": ""
             }
            },
            "type": "scatterternary"
           }
          ],
          "surface": [
           {
            "colorbar": {
             "outlinewidth": 0,
             "ticks": ""
            },
            "colorscale": [
             [
              0,
              "#0d0887"
             ],
             [
              0.1111111111111111,
              "#46039f"
             ],
             [
              0.2222222222222222,
              "#7201a8"
             ],
             [
              0.3333333333333333,
              "#9c179e"
             ],
             [
              0.4444444444444444,
              "#bd3786"
             ],
             [
              0.5555555555555556,
              "#d8576b"
             ],
             [
              0.6666666666666666,
              "#ed7953"
             ],
             [
              0.7777777777777778,
              "#fb9f3a"
             ],
             [
              0.8888888888888888,
              "#fdca26"
             ],
             [
              1,
              "#f0f921"
             ]
            ],
            "type": "surface"
           }
          ],
          "table": [
           {
            "cells": {
             "fill": {
              "color": "#EBF0F8"
             },
             "line": {
              "color": "white"
             }
            },
            "header": {
             "fill": {
              "color": "#C8D4E3"
             },
             "line": {
              "color": "white"
             }
            },
            "type": "table"
           }
          ]
         },
         "layout": {
          "annotationdefaults": {
           "arrowcolor": "#2a3f5f",
           "arrowhead": 0,
           "arrowwidth": 1
          },
          "autotypenumbers": "strict",
          "coloraxis": {
           "colorbar": {
            "outlinewidth": 0,
            "ticks": ""
           }
          },
          "colorscale": {
           "diverging": [
            [
             0,
             "#8e0152"
            ],
            [
             0.1,
             "#c51b7d"
            ],
            [
             0.2,
             "#de77ae"
            ],
            [
             0.3,
             "#f1b6da"
            ],
            [
             0.4,
             "#fde0ef"
            ],
            [
             0.5,
             "#f7f7f7"
            ],
            [
             0.6,
             "#e6f5d0"
            ],
            [
             0.7,
             "#b8e186"
            ],
            [
             0.8,
             "#7fbc41"
            ],
            [
             0.9,
             "#4d9221"
            ],
            [
             1,
             "#276419"
            ]
           ],
           "sequential": [
            [
             0,
             "#0d0887"
            ],
            [
             0.1111111111111111,
             "#46039f"
            ],
            [
             0.2222222222222222,
             "#7201a8"
            ],
            [
             0.3333333333333333,
             "#9c179e"
            ],
            [
             0.4444444444444444,
             "#bd3786"
            ],
            [
             0.5555555555555556,
             "#d8576b"
            ],
            [
             0.6666666666666666,
             "#ed7953"
            ],
            [
             0.7777777777777778,
             "#fb9f3a"
            ],
            [
             0.8888888888888888,
             "#fdca26"
            ],
            [
             1,
             "#f0f921"
            ]
           ],
           "sequentialminus": [
            [
             0,
             "#0d0887"
            ],
            [
             0.1111111111111111,
             "#46039f"
            ],
            [
             0.2222222222222222,
             "#7201a8"
            ],
            [
             0.3333333333333333,
             "#9c179e"
            ],
            [
             0.4444444444444444,
             "#bd3786"
            ],
            [
             0.5555555555555556,
             "#d8576b"
            ],
            [
             0.6666666666666666,
             "#ed7953"
            ],
            [
             0.7777777777777778,
             "#fb9f3a"
            ],
            [
             0.8888888888888888,
             "#fdca26"
            ],
            [
             1,
             "#f0f921"
            ]
           ]
          },
          "colorway": [
           "#636efa",
           "#EF553B",
           "#00cc96",
           "#ab63fa",
           "#FFA15A",
           "#19d3f3",
           "#FF6692",
           "#B6E880",
           "#FF97FF",
           "#FECB52"
          ],
          "font": {
           "color": "#2a3f5f"
          },
          "geo": {
           "bgcolor": "white",
           "lakecolor": "white",
           "landcolor": "#E5ECF6",
           "showlakes": true,
           "showland": true,
           "subunitcolor": "white"
          },
          "hoverlabel": {
           "align": "left"
          },
          "hovermode": "closest",
          "mapbox": {
           "style": "light"
          },
          "paper_bgcolor": "white",
          "plot_bgcolor": "#E5ECF6",
          "polar": {
           "angularaxis": {
            "gridcolor": "white",
            "linecolor": "white",
            "ticks": ""
           },
           "bgcolor": "#E5ECF6",
           "radialaxis": {
            "gridcolor": "white",
            "linecolor": "white",
            "ticks": ""
           }
          },
          "scene": {
           "xaxis": {
            "backgroundcolor": "#E5ECF6",
            "gridcolor": "white",
            "gridwidth": 2,
            "linecolor": "white",
            "showbackground": true,
            "ticks": "",
            "zerolinecolor": "white"
           },
           "yaxis": {
            "backgroundcolor": "#E5ECF6",
            "gridcolor": "white",
            "gridwidth": 2,
            "linecolor": "white",
            "showbackground": true,
            "ticks": "",
            "zerolinecolor": "white"
           },
           "zaxis": {
            "backgroundcolor": "#E5ECF6",
            "gridcolor": "white",
            "gridwidth": 2,
            "linecolor": "white",
            "showbackground": true,
            "ticks": "",
            "zerolinecolor": "white"
           }
          },
          "shapedefaults": {
           "line": {
            "color": "#2a3f5f"
           }
          },
          "ternary": {
           "aaxis": {
            "gridcolor": "white",
            "linecolor": "white",
            "ticks": ""
           },
           "baxis": {
            "gridcolor": "white",
            "linecolor": "white",
            "ticks": ""
           },
           "bgcolor": "#E5ECF6",
           "caxis": {
            "gridcolor": "white",
            "linecolor": "white",
            "ticks": ""
           }
          },
          "title": {
           "x": 0.05
          },
          "xaxis": {
           "automargin": true,
           "gridcolor": "white",
           "linecolor": "white",
           "ticks": "",
           "title": {
            "standoff": 15
           },
           "zerolinecolor": "white",
           "zerolinewidth": 2
          },
          "yaxis": {
           "automargin": true,
           "gridcolor": "white",
           "linecolor": "white",
           "ticks": "",
           "title": {
            "standoff": 15
           },
           "zerolinecolor": "white",
           "zerolinewidth": 2
          }
         }
        },
        "title": {
         "font": {
          "family": "serif",
          "size": 20
         },
         "text": "Best hole cards flavors for 10 Players"
        },
        "xaxis": {
         "anchor": "y",
         "domain": [
          0,
          1
         ],
         "showgrid": false,
         "title": {
          "text": ""
         }
        },
        "yaxis": {
         "anchor": "x",
         "domain": [
          0,
          1
         ],
         "range": [
          0,
          1
         ],
         "showgrid": false,
         "showticklabels": false,
         "title": {
          "text": ""
         }
        }
       }
      }
     },
     "metadata": {},
     "output_type": "display_data"
    },
    {
     "name": "stderr",
     "output_type": "stream",
     "text": [
      "INFO: Not saving plot - pass save_plot=True to save it.\n"
     ]
    }
   ],
   "source": [
    "import importlib\n",
    "import src.plot_data\n",
    "importlib.reload(src.plot_data)\n",
    "\n",
    "from src.plot_data import plot_data\n",
    "\n",
    "for players in [*range(2, 11)]:\n",
    "# for players in [2, 10]:\n",
    "# for players in [10]:\n",
    "    plot_data(show_plot=True, n_players_to_plot=players)"
   ]
  },
  {
   "cell_type": "code",
   "execution_count": 1,
   "metadata": {},
   "outputs": [
    {
     "name": "stderr",
     "output_type": "stream",
     "text": [
      "INFO: Making plotly figure and axis objects\n",
      "c:\\Users\\david\\Documents\\Projects\\holdem_simulator\\src\\plot_builders_plotly.py:158: SettingWithCopyWarning: \n",
      "A value is trying to be set on a copy of a slice from a DataFrame.\n",
      "Try using .loc[row_indexer,col_indexer] = value instead\n",
      "\n",
      "See the caveats in the documentation: https://pandas.pydata.org/pandas-docs/stable/user_guide/indexing.html#returning-a-view-versus-a-copy\n",
      "  dataframe[y3_var] = dataframe[y3_var].round(4)\n",
      "INFO: Sorting data frame ascending by n_players\n",
      "INFO: Sorting data frame descending by win ratio, win ratio rounded down to nearest 5%\n",
      "INFO: Showing plot object\n"
     ]
    },
    {
     "data": {
      "application/vnd.plotly.v1+json": {
       "config": {
        "plotlyServerURL": "https://plot.ly"
       },
       "data": [
        {
         "alignmentgroup": "True",
         "customdata": [
          [
           0.8575
          ],
          [
           0.7595
          ],
          [
           0.6483
          ],
          [
           0.5669
          ],
          [
           0.5102
          ],
          [
           0.435
          ],
          [
           0.3904
          ],
          [
           0.3448
          ],
          [
           0.3153
          ]
         ],
         "hovertemplate": "hole cards flavor=Aces paired<br>n_players=%{x}<br>win ratio rounded down to nearest 5%=%{y:.0%}<br>win ratio=%{customdata[0]:.2%}<br>appearances=%{marker.color}<extra></extra>",
         "legendgroup": "",
         "marker": {
          "color": [
           1782,
           3193,
           1871,
           2198,
           2258,
           2299,
           2331,
           2181,
           2141
          ],
          "coloraxis": "coloraxis",
          "pattern": {
           "shape": ""
          }
         },
         "name": "",
         "offsetgroup": "",
         "orientation": "v",
         "showlegend": false,
         "textposition": "auto",
         "type": "bar",
         "x": [
          2,
          3,
          4,
          5,
          6,
          7,
          8,
          9,
          10
         ],
         "xaxis": "x",
         "y": [
          0.8500000000000001,
          0.75,
          0.6000000000000001,
          0.55,
          0.5,
          0.4,
          0.35,
          0.3,
          0.3
         ],
         "yaxis": "y"
        },
        {
         "alignmentgroup": "True",
         "customdata": [
          [
           0.3681
          ],
          [
           0.2139
          ],
          [
           0.1567
          ],
          [
           0.1105
          ],
          [
           0.1016
          ],
          [
           0.0855
          ],
          [
           0.0777
          ],
          [
           0.0725
          ],
          [
           0.0631
          ]
         ],
         "hovertemplate": "hole cards flavor=3, 2 off suit<br>n_players=%{x}<br>win ratio rounded down to nearest 5%=%{y:.0%}<br>win ratio=%{customdata[0]:.2%}<br>appearances=%{marker.color}<extra></extra>",
         "legendgroup": "",
         "marker": {
          "color": [
           3581,
           6264,
           3810,
           4345,
           4577,
           4434,
           4631,
           4527,
           4529
          ],
          "coloraxis": "coloraxis",
          "pattern": {
           "shape": ""
          }
         },
         "name": "",
         "offsetgroup": "",
         "orientation": "v",
         "showlegend": false,
         "textposition": "auto",
         "type": "bar",
         "x": [
          2,
          3,
          4,
          5,
          6,
          7,
          8,
          9,
          10
         ],
         "xaxis": "x2",
         "y": [
          0.35,
          0.2,
          0.15,
          0.1,
          0.1,
          0.05,
          0.05,
          0.05,
          0.05
         ],
         "yaxis": "y2"
        }
       ],
       "layout": {
        "annotations": [
         {
          "showarrow": false,
          "text": "Aces paired",
          "x": 0.245,
          "xanchor": "center",
          "xref": "paper",
          "y": 1,
          "yanchor": "bottom",
          "yref": "paper"
         },
         {
          "showarrow": false,
          "text": "3, 2 off suit",
          "x": 0.755,
          "xanchor": "center",
          "xref": "paper",
          "y": 1,
          "yanchor": "bottom",
          "yref": "paper"
         },
         {
          "font": {
           "family": "sans-serif",
           "size": 14
          },
          "showarrow": false,
          "text": "n_players",
          "x": 0.5,
          "xref": "paper",
          "y": -0.15,
          "yref": "paper"
         }
        ],
        "barmode": "relative",
        "coloraxis": {
         "colorbar": {
          "thickness": 10,
          "tickfont": {
           "family": "monospace",
           "size": 12
          },
          "title": {
           "font": {
            "family": "sans-serif",
            "size": 14
           },
           "text": "Appearances"
          }
         },
         "colorscale": [
          [
           0,
           "#fcfdbf"
          ],
          [
           0.1111111111111111,
           "#feca8d"
          ],
          [
           0.2222222222222222,
           "#fd9668"
          ],
          [
           0.3333333333333333,
           "#f1605d"
          ],
          [
           0.4444444444444444,
           "#cd4071"
          ],
          [
           0.5555555555555556,
           "#9e2f7f"
          ],
          [
           0.6666666666666666,
           "#721f81"
          ],
          [
           0.7777777777777778,
           "#440f76"
          ],
          [
           0.8888888888888888,
           "#180f3d"
          ],
          [
           1,
           "#000004"
          ]
         ]
        },
        "legend": {
         "tracegroupgap": 0
        },
        "margin": {
         "t": 60
        },
        "plot_bgcolor": "white",
        "template": {
         "data": {
          "bar": [
           {
            "error_x": {
             "color": "#2a3f5f"
            },
            "error_y": {
             "color": "#2a3f5f"
            },
            "marker": {
             "line": {
              "color": "#E5ECF6",
              "width": 0.5
             },
             "pattern": {
              "fillmode": "overlay",
              "size": 10,
              "solidity": 0.2
             }
            },
            "type": "bar"
           }
          ],
          "barpolar": [
           {
            "marker": {
             "line": {
              "color": "#E5ECF6",
              "width": 0.5
             },
             "pattern": {
              "fillmode": "overlay",
              "size": 10,
              "solidity": 0.2
             }
            },
            "type": "barpolar"
           }
          ],
          "carpet": [
           {
            "aaxis": {
             "endlinecolor": "#2a3f5f",
             "gridcolor": "white",
             "linecolor": "white",
             "minorgridcolor": "white",
             "startlinecolor": "#2a3f5f"
            },
            "baxis": {
             "endlinecolor": "#2a3f5f",
             "gridcolor": "white",
             "linecolor": "white",
             "minorgridcolor": "white",
             "startlinecolor": "#2a3f5f"
            },
            "type": "carpet"
           }
          ],
          "choropleth": [
           {
            "colorbar": {
             "outlinewidth": 0,
             "ticks": ""
            },
            "type": "choropleth"
           }
          ],
          "contour": [
           {
            "colorbar": {
             "outlinewidth": 0,
             "ticks": ""
            },
            "colorscale": [
             [
              0,
              "#0d0887"
             ],
             [
              0.1111111111111111,
              "#46039f"
             ],
             [
              0.2222222222222222,
              "#7201a8"
             ],
             [
              0.3333333333333333,
              "#9c179e"
             ],
             [
              0.4444444444444444,
              "#bd3786"
             ],
             [
              0.5555555555555556,
              "#d8576b"
             ],
             [
              0.6666666666666666,
              "#ed7953"
             ],
             [
              0.7777777777777778,
              "#fb9f3a"
             ],
             [
              0.8888888888888888,
              "#fdca26"
             ],
             [
              1,
              "#f0f921"
             ]
            ],
            "type": "contour"
           }
          ],
          "contourcarpet": [
           {
            "colorbar": {
             "outlinewidth": 0,
             "ticks": ""
            },
            "type": "contourcarpet"
           }
          ],
          "heatmap": [
           {
            "colorbar": {
             "outlinewidth": 0,
             "ticks": ""
            },
            "colorscale": [
             [
              0,
              "#0d0887"
             ],
             [
              0.1111111111111111,
              "#46039f"
             ],
             [
              0.2222222222222222,
              "#7201a8"
             ],
             [
              0.3333333333333333,
              "#9c179e"
             ],
             [
              0.4444444444444444,
              "#bd3786"
             ],
             [
              0.5555555555555556,
              "#d8576b"
             ],
             [
              0.6666666666666666,
              "#ed7953"
             ],
             [
              0.7777777777777778,
              "#fb9f3a"
             ],
             [
              0.8888888888888888,
              "#fdca26"
             ],
             [
              1,
              "#f0f921"
             ]
            ],
            "type": "heatmap"
           }
          ],
          "heatmapgl": [
           {
            "colorbar": {
             "outlinewidth": 0,
             "ticks": ""
            },
            "colorscale": [
             [
              0,
              "#0d0887"
             ],
             [
              0.1111111111111111,
              "#46039f"
             ],
             [
              0.2222222222222222,
              "#7201a8"
             ],
             [
              0.3333333333333333,
              "#9c179e"
             ],
             [
              0.4444444444444444,
              "#bd3786"
             ],
             [
              0.5555555555555556,
              "#d8576b"
             ],
             [
              0.6666666666666666,
              "#ed7953"
             ],
             [
              0.7777777777777778,
              "#fb9f3a"
             ],
             [
              0.8888888888888888,
              "#fdca26"
             ],
             [
              1,
              "#f0f921"
             ]
            ],
            "type": "heatmapgl"
           }
          ],
          "histogram": [
           {
            "marker": {
             "pattern": {
              "fillmode": "overlay",
              "size": 10,
              "solidity": 0.2
             }
            },
            "type": "histogram"
           }
          ],
          "histogram2d": [
           {
            "colorbar": {
             "outlinewidth": 0,
             "ticks": ""
            },
            "colorscale": [
             [
              0,
              "#0d0887"
             ],
             [
              0.1111111111111111,
              "#46039f"
             ],
             [
              0.2222222222222222,
              "#7201a8"
             ],
             [
              0.3333333333333333,
              "#9c179e"
             ],
             [
              0.4444444444444444,
              "#bd3786"
             ],
             [
              0.5555555555555556,
              "#d8576b"
             ],
             [
              0.6666666666666666,
              "#ed7953"
             ],
             [
              0.7777777777777778,
              "#fb9f3a"
             ],
             [
              0.8888888888888888,
              "#fdca26"
             ],
             [
              1,
              "#f0f921"
             ]
            ],
            "type": "histogram2d"
           }
          ],
          "histogram2dcontour": [
           {
            "colorbar": {
             "outlinewidth": 0,
             "ticks": ""
            },
            "colorscale": [
             [
              0,
              "#0d0887"
             ],
             [
              0.1111111111111111,
              "#46039f"
             ],
             [
              0.2222222222222222,
              "#7201a8"
             ],
             [
              0.3333333333333333,
              "#9c179e"
             ],
             [
              0.4444444444444444,
              "#bd3786"
             ],
             [
              0.5555555555555556,
              "#d8576b"
             ],
             [
              0.6666666666666666,
              "#ed7953"
             ],
             [
              0.7777777777777778,
              "#fb9f3a"
             ],
             [
              0.8888888888888888,
              "#fdca26"
             ],
             [
              1,
              "#f0f921"
             ]
            ],
            "type": "histogram2dcontour"
           }
          ],
          "mesh3d": [
           {
            "colorbar": {
             "outlinewidth": 0,
             "ticks": ""
            },
            "type": "mesh3d"
           }
          ],
          "parcoords": [
           {
            "line": {
             "colorbar": {
              "outlinewidth": 0,
              "ticks": ""
             }
            },
            "type": "parcoords"
           }
          ],
          "pie": [
           {
            "automargin": true,
            "type": "pie"
           }
          ],
          "scatter": [
           {
            "fillpattern": {
             "fillmode": "overlay",
             "size": 10,
             "solidity": 0.2
            },
            "type": "scatter"
           }
          ],
          "scatter3d": [
           {
            "line": {
             "colorbar": {
              "outlinewidth": 0,
              "ticks": ""
             }
            },
            "marker": {
             "colorbar": {
              "outlinewidth": 0,
              "ticks": ""
             }
            },
            "type": "scatter3d"
           }
          ],
          "scattercarpet": [
           {
            "marker": {
             "colorbar": {
              "outlinewidth": 0,
              "ticks": ""
             }
            },
            "type": "scattercarpet"
           }
          ],
          "scattergeo": [
           {
            "marker": {
             "colorbar": {
              "outlinewidth": 0,
              "ticks": ""
             }
            },
            "type": "scattergeo"
           }
          ],
          "scattergl": [
           {
            "marker": {
             "colorbar": {
              "outlinewidth": 0,
              "ticks": ""
             }
            },
            "type": "scattergl"
           }
          ],
          "scattermapbox": [
           {
            "marker": {
             "colorbar": {
              "outlinewidth": 0,
              "ticks": ""
             }
            },
            "type": "scattermapbox"
           }
          ],
          "scatterpolar": [
           {
            "marker": {
             "colorbar": {
              "outlinewidth": 0,
              "ticks": ""
             }
            },
            "type": "scatterpolar"
           }
          ],
          "scatterpolargl": [
           {
            "marker": {
             "colorbar": {
              "outlinewidth": 0,
              "ticks": ""
             }
            },
            "type": "scatterpolargl"
           }
          ],
          "scatterternary": [
           {
            "marker": {
             "colorbar": {
              "outlinewidth": 0,
              "ticks": ""
             }
            },
            "type": "scatterternary"
           }
          ],
          "surface": [
           {
            "colorbar": {
             "outlinewidth": 0,
             "ticks": ""
            },
            "colorscale": [
             [
              0,
              "#0d0887"
             ],
             [
              0.1111111111111111,
              "#46039f"
             ],
             [
              0.2222222222222222,
              "#7201a8"
             ],
             [
              0.3333333333333333,
              "#9c179e"
             ],
             [
              0.4444444444444444,
              "#bd3786"
             ],
             [
              0.5555555555555556,
              "#d8576b"
             ],
             [
              0.6666666666666666,
              "#ed7953"
             ],
             [
              0.7777777777777778,
              "#fb9f3a"
             ],
             [
              0.8888888888888888,
              "#fdca26"
             ],
             [
              1,
              "#f0f921"
             ]
            ],
            "type": "surface"
           }
          ],
          "table": [
           {
            "cells": {
             "fill": {
              "color": "#EBF0F8"
             },
             "line": {
              "color": "white"
             }
            },
            "header": {
             "fill": {
              "color": "#C8D4E3"
             },
             "line": {
              "color": "white"
             }
            },
            "type": "table"
           }
          ]
         },
         "layout": {
          "annotationdefaults": {
           "arrowcolor": "#2a3f5f",
           "arrowhead": 0,
           "arrowwidth": 1
          },
          "autotypenumbers": "strict",
          "coloraxis": {
           "colorbar": {
            "outlinewidth": 0,
            "ticks": ""
           }
          },
          "colorscale": {
           "diverging": [
            [
             0,
             "#8e0152"
            ],
            [
             0.1,
             "#c51b7d"
            ],
            [
             0.2,
             "#de77ae"
            ],
            [
             0.3,
             "#f1b6da"
            ],
            [
             0.4,
             "#fde0ef"
            ],
            [
             0.5,
             "#f7f7f7"
            ],
            [
             0.6,
             "#e6f5d0"
            ],
            [
             0.7,
             "#b8e186"
            ],
            [
             0.8,
             "#7fbc41"
            ],
            [
             0.9,
             "#4d9221"
            ],
            [
             1,
             "#276419"
            ]
           ],
           "sequential": [
            [
             0,
             "#0d0887"
            ],
            [
             0.1111111111111111,
             "#46039f"
            ],
            [
             0.2222222222222222,
             "#7201a8"
            ],
            [
             0.3333333333333333,
             "#9c179e"
            ],
            [
             0.4444444444444444,
             "#bd3786"
            ],
            [
             0.5555555555555556,
             "#d8576b"
            ],
            [
             0.6666666666666666,
             "#ed7953"
            ],
            [
             0.7777777777777778,
             "#fb9f3a"
            ],
            [
             0.8888888888888888,
             "#fdca26"
            ],
            [
             1,
             "#f0f921"
            ]
           ],
           "sequentialminus": [
            [
             0,
             "#0d0887"
            ],
            [
             0.1111111111111111,
             "#46039f"
            ],
            [
             0.2222222222222222,
             "#7201a8"
            ],
            [
             0.3333333333333333,
             "#9c179e"
            ],
            [
             0.4444444444444444,
             "#bd3786"
            ],
            [
             0.5555555555555556,
             "#d8576b"
            ],
            [
             0.6666666666666666,
             "#ed7953"
            ],
            [
             0.7777777777777778,
             "#fb9f3a"
            ],
            [
             0.8888888888888888,
             "#fdca26"
            ],
            [
             1,
             "#f0f921"
            ]
           ]
          },
          "colorway": [
           "#636efa",
           "#EF553B",
           "#00cc96",
           "#ab63fa",
           "#FFA15A",
           "#19d3f3",
           "#FF6692",
           "#B6E880",
           "#FF97FF",
           "#FECB52"
          ],
          "font": {
           "color": "#2a3f5f"
          },
          "geo": {
           "bgcolor": "white",
           "lakecolor": "white",
           "landcolor": "#E5ECF6",
           "showlakes": true,
           "showland": true,
           "subunitcolor": "white"
          },
          "hoverlabel": {
           "align": "left"
          },
          "hovermode": "closest",
          "mapbox": {
           "style": "light"
          },
          "paper_bgcolor": "white",
          "plot_bgcolor": "#E5ECF6",
          "polar": {
           "angularaxis": {
            "gridcolor": "white",
            "linecolor": "white",
            "ticks": ""
           },
           "bgcolor": "#E5ECF6",
           "radialaxis": {
            "gridcolor": "white",
            "linecolor": "white",
            "ticks": ""
           }
          },
          "scene": {
           "xaxis": {
            "backgroundcolor": "#E5ECF6",
            "gridcolor": "white",
            "gridwidth": 2,
            "linecolor": "white",
            "showbackground": true,
            "ticks": "",
            "zerolinecolor": "white"
           },
           "yaxis": {
            "backgroundcolor": "#E5ECF6",
            "gridcolor": "white",
            "gridwidth": 2,
            "linecolor": "white",
            "showbackground": true,
            "ticks": "",
            "zerolinecolor": "white"
           },
           "zaxis": {
            "backgroundcolor": "#E5ECF6",
            "gridcolor": "white",
            "gridwidth": 2,
            "linecolor": "white",
            "showbackground": true,
            "ticks": "",
            "zerolinecolor": "white"
           }
          },
          "shapedefaults": {
           "line": {
            "color": "#2a3f5f"
           }
          },
          "ternary": {
           "aaxis": {
            "gridcolor": "white",
            "linecolor": "white",
            "ticks": ""
           },
           "baxis": {
            "gridcolor": "white",
            "linecolor": "white",
            "ticks": ""
           },
           "bgcolor": "#E5ECF6",
           "caxis": {
            "gridcolor": "white",
            "linecolor": "white",
            "ticks": ""
           }
          },
          "title": {
           "x": 0.05
          },
          "xaxis": {
           "automargin": true,
           "gridcolor": "white",
           "linecolor": "white",
           "ticks": "",
           "title": {
            "standoff": 15
           },
           "zerolinecolor": "white",
           "zerolinewidth": 2
          },
          "yaxis": {
           "automargin": true,
           "gridcolor": "white",
           "linecolor": "white",
           "ticks": "",
           "title": {
            "standoff": 15
           },
           "zerolinecolor": "white",
           "zerolinewidth": 2
          }
         }
        },
        "title": {
         "font": {
          "family": "serif",
          "size": 20
         },
         "text": "Drop-off in Win Ratio for Best & Worst Hole Cards Flavors by Table Size"
        },
        "xaxis": {
         "anchor": "y",
         "domain": [
          0,
          0.49
         ],
         "showgrid": false,
         "tickfont": {
          "family": "monospace",
          "size": 12
         },
         "title": {
          "text": ""
         }
        },
        "xaxis2": {
         "anchor": "y2",
         "domain": [
          0.51,
          1
         ],
         "matches": "x",
         "showgrid": false,
         "tickfont": {
          "family": "monospace",
          "size": 12
         },
         "title": {
          "text": ""
         }
        },
        "yaxis": {
         "anchor": "x",
         "domain": [
          0,
          1
         ],
         "range": [
          0,
          1
         ],
         "showgrid": false,
         "showticklabels": false,
         "title": {
          "text": ""
         }
        },
        "yaxis2": {
         "anchor": "x2",
         "domain": [
          0,
          1
         ],
         "matches": "y",
         "range": [
          0,
          1
         ],
         "showgrid": false,
         "showticklabels": false,
         "title": {
          "text": ""
         }
        }
       }
      }
     },
     "metadata": {},
     "output_type": "display_data"
    },
    {
     "name": "stderr",
     "output_type": "stream",
     "text": [
      "INFO: Not saving plot - pass save_plot=True to save it.\n"
     ]
    }
   ],
   "source": [
    "import importlib\n",
    "import src.plot_data\n",
    "\n",
    "importlib.reload(src.plot_data)\n",
    "\n",
    "from src.plot_data import plot_data\n",
    "\n",
    "\n",
    "plot_data(show_plot=True, n_players_to_plot=\"All\")"
   ]
  },
  {
   "cell_type": "code",
   "execution_count": null,
   "metadata": {},
   "outputs": [],
   "source": []
  }
 ],
 "metadata": {
  "kernelspec": {
   "display_name": ".venv",
   "language": "python",
   "name": "python3"
  },
  "language_info": {
   "codemirror_mode": {
    "name": "ipython",
    "version": 3
   },
   "file_extension": ".py",
   "mimetype": "text/x-python",
   "name": "python",
   "nbconvert_exporter": "python",
   "pygments_lexer": "ipython3",
   "version": "3.12.0"
  }
 },
 "nbformat": 4,
 "nbformat_minor": 2
}
