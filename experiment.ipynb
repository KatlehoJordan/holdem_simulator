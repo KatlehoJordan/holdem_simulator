{
 "cells": [
  {
   "cell_type": "code",
   "execution_count": 1,
   "metadata": {},
   "outputs": [
    {
     "name": "stderr",
     "output_type": "stream",
     "text": [
      "INFO: Making plotly figure and axis objects\n",
      "c:\\Users\\david\\Documents\\Projects\\holdem_simulator\\src\\plot_builders_plotly.py:94: SettingWithCopyWarning: \n",
      "A value is trying to be set on a copy of a slice from a DataFrame.\n",
      "Try using .loc[row_indexer,col_indexer] = value instead\n",
      "\n",
      "See the caveats in the documentation: https://pandas.pydata.org/pandas-docs/stable/user_guide/indexing.html#returning-a-view-versus-a-copy\n",
      "  dataframe[y3_var] = dataframe[y3_var].round(4)\n",
      "INFO: Sorting data frame descending by win ratio rounded down to nearest 5%\n",
      "INFO: Showing plot object\n"
     ]
    },
    {
     "data": {
      "application/vnd.plotly.v1+json": {
       "config": {
        "plotlyServerURL": "https://plot.ly"
       },
       "data": [
        {
         "alignmentgroup": "True",
         "customdata": [
          [
           0.8575
          ],
          [
           0.8321
          ],
          [
           0.7952
          ],
          [
           0.7839
          ],
          [
           0.7734
          ],
          [
           0.7123
          ],
          [
           0.7041
          ],
          [
           0.6968
          ],
          [
           0.6753
          ],
          [
           0.6676
          ],
          [
           0.6667
          ],
          [
           0.6664
          ],
          [
           0.665
          ],
          [
           0.6639
          ],
          [
           0.66
          ],
          [
           0.6553
          ],
          [
           0.6495
          ],
          [
           0.6435
          ],
          [
           0.6415
          ],
          [
           0.6393
          ],
          [
           0.6391
          ],
          [
           0.6386
          ],
          [
           0.6213
          ],
          [
           0.6206
          ],
          [
           0.619
          ],
          [
           0.6183
          ],
          [
           0.6175
          ],
          [
           0.6168
          ],
          [
           0.6149
          ],
          [
           0.6132
          ],
          [
           0.6129
          ],
          [
           0.611
          ],
          [
           0.6105
          ],
          [
           0.6099
          ],
          [
           0.6086
          ],
          [
           0.6073
          ],
          [
           0.6046
          ],
          [
           0.6016
          ],
          [
           0.5998
          ],
          [
           0.5998
          ],
          [
           0.5978
          ],
          [
           0.5972
          ],
          [
           0.5958
          ],
          [
           0.5958
          ],
          [
           0.5874
          ],
          [
           0.5867
          ],
          [
           0.5858
          ],
          [
           0.5856
          ],
          [
           0.5824
          ],
          [
           0.5799
          ],
          [
           0.5758
          ],
          [
           0.5742
          ],
          [
           0.574
          ],
          [
           0.5735
          ],
          [
           0.5732
          ],
          [
           0.5712
          ],
          [
           0.5688
          ],
          [
           0.5652
          ],
          [
           0.564
          ],
          [
           0.5635
          ],
          [
           0.5625
          ],
          [
           0.5606
          ],
          [
           0.5599
          ],
          [
           0.5592
          ],
          [
           0.5572
          ],
          [
           0.5562
          ],
          [
           0.5559
          ],
          [
           0.5534
          ],
          [
           0.5534
          ],
          [
           0.552
          ],
          [
           0.5485
          ],
          [
           0.546
          ],
          [
           0.5456
          ],
          [
           0.5431
          ],
          [
           0.5428
          ],
          [
           0.5403
          ],
          [
           0.5388
          ],
          [
           0.5387
          ],
          [
           0.5326
          ],
          [
           0.5322
          ],
          [
           0.5319
          ],
          [
           0.5318
          ],
          [
           0.5305
          ],
          [
           0.5296
          ],
          [
           0.5288
          ],
          [
           0.5266
          ],
          [
           0.5242
          ],
          [
           0.5237
          ],
          [
           0.5232
          ],
          [
           0.5216
          ],
          [
           0.5191
          ],
          [
           0.5188
          ],
          [
           0.5166
          ],
          [
           0.5166
          ],
          [
           0.5163
          ],
          [
           0.5146
          ],
          [
           0.5078
          ],
          [
           0.5065
          ],
          [
           0.502
          ],
          [
           0.5009
          ],
          [
           0.4988
          ],
          [
           0.4979
          ],
          [
           0.4952
          ],
          [
           0.4951
          ],
          [
           0.4944
          ],
          [
           0.4939
          ],
          [
           0.4933
          ],
          [
           0.4916
          ],
          [
           0.4913
          ],
          [
           0.4885
          ],
          [
           0.488
          ],
          [
           0.4848
          ],
          [
           0.4848
          ],
          [
           0.4844
          ],
          [
           0.4814
          ],
          [
           0.4795
          ],
          [
           0.4793
          ],
          [
           0.4777
          ],
          [
           0.4764
          ],
          [
           0.4693
          ],
          [
           0.4687
          ],
          [
           0.4674
          ],
          [
           0.465
          ],
          [
           0.4646
          ],
          [
           0.464
          ],
          [
           0.4615
          ],
          [
           0.4602
          ],
          [
           0.4591
          ],
          [
           0.457
          ],
          [
           0.4563
          ],
          [
           0.4546
          ],
          [
           0.4497
          ],
          [
           0.4494
          ],
          [
           0.449
          ],
          [
           0.4428
          ],
          [
           0.4406
          ],
          [
           0.438
          ],
          [
           0.4375
          ],
          [
           0.4334
          ],
          [
           0.4281
          ],
          [
           0.4277
          ],
          [
           0.4276
          ],
          [
           0.4253
          ],
          [
           0.4235
          ],
          [
           0.4234
          ],
          [
           0.4197
          ],
          [
           0.4194
          ],
          [
           0.4186
          ],
          [
           0.4175
          ],
          [
           0.4141
          ],
          [
           0.4141
          ],
          [
           0.4126
          ],
          [
           0.4119
          ],
          [
           0.4019
          ],
          [
           0.401
          ],
          [
           0.4009
          ],
          [
           0.3978
          ],
          [
           0.3909
          ],
          [
           0.3898
          ],
          [
           0.3876
          ],
          [
           0.3876
          ],
          [
           0.3875
          ],
          [
           0.3867
          ],
          [
           0.3795
          ],
          [
           0.3772
          ],
          [
           0.3722
          ],
          [
           0.3692
          ],
          [
           0.3681
          ],
          [
           0.3523
          ]
         ],
         "hovertemplate": "hole cards flavor=%{x}<br>win ratio rounded down to nearest 5%=%{y:.0%}<br>win ratio=%{customdata[0]:.2%}<br>appearances=%{marker.color}<extra></extra>",
         "legendgroup": "",
         "marker": {
          "color": [
           1782,
           1793,
           1821,
           1772,
           1898,
           1870,
           1744,
           1692,
           1281,
           3646,
           1188,
           1157,
           3582,
           1187,
           1197,
           1178,
           1789,
           1178,
           3623,
           3596,
           1100,
           1165,
           1175,
           3571,
           1231,
           3581,
           1260,
           1182,
           1153,
           1197,
           3756,
           1198,
           3556,
           3679,
           3623,
           1151,
           1186,
           3569,
           3593,
           1744,
           1206,
           3553,
           3585,
           1232,
           3667,
           3562,
           1236,
           1221,
           1281,
           1195,
           3654,
           1254,
           3697,
           1245,
           1237,
           1819,
           3641,
           1173,
           3784,
           1189,
           3586,
           3603,
           1161,
           1225,
           3489,
           3594,
           1225,
           3612,
           3533,
           3594,
           1185,
           1260,
           1140,
           1810,
           1227,
           1216,
           1199,
           1162,
           1196,
           3615,
           3642,
           1824,
           3608,
           3552,
           1199,
           3536,
           1238,
           1268,
           3649,
           3549,
           1202,
           3570,
           1206,
           1206,
           1166,
           3634,
           3645,
           1226,
           1231,
           3713,
           1245,
           3621,
           3526,
           1232,
           1169,
           1306,
           1261,
           3631,
           3576,
           1308,
           1209,
           3655,
           3616,
           1119,
           3652,
           1197,
           3626,
           3609,
           3650,
           3605,
           1199,
           3680,
           3645,
           1216,
           3698,
           3606,
           3572,
           3546,
           1199,
           1166,
           1223,
           3609,
           1246,
           1216,
           3735,
           1212,
           1178,
           1184,
           3528,
           1189,
           3582,
           3627,
           3776,
           3691,
           1207,
           3636,
           1185,
           3650,
           3650,
           1176,
           1222,
           3587,
           1294,
           3655,
           3621,
           3642,
           1209,
           3617,
           3661,
           1197,
           3692,
           3572,
           1244,
           1183,
           3632,
           3678,
           3592,
           3581,
           3710
          ],
          "coloraxis": "coloraxis",
          "pattern": {
           "shape": ""
          }
         },
         "name": "",
         "offsetgroup": "",
         "orientation": "v",
         "showlegend": false,
         "textposition": "auto",
         "type": "bar",
         "x": [
          "Aces paired",
          "Kings paired",
          "Queens paired",
          "Jacks paired",
          "10s paired",
          "8s paired",
          "9s paired",
          "7s paired",
          "Ace, Queen suited",
          "Ace, 10 off suit",
          "Ace, Jack suited",
          "Ace, 10 suited",
          "Ace, King off suit",
          "Ace, King suited",
          "King, Queen suited",
          "Ace, 9 suited",
          "6s paired",
          "King, Jack suited",
          "Ace, Queen off suit",
          "Ace, Jack off suit",
          "Ace, 8 suited",
          "Ace, 7 suited",
          "King, 10 suited",
          "King, Jack off suit",
          "Ace, 5 suited",
          "King, Queen off suit",
          "Ace, 3 suited",
          "King, 8 suited",
          "King, 9 suited",
          "Queen, Jack suited",
          "Ace, 9 off suit",
          "Ace, 6 suited",
          "Ace, 8 off suit",
          "Ace, 7 off suit",
          "King, 10 off suit",
          "King, 7 suited",
          "Ace, 4 suited",
          "Ace, 5 off suit",
          "Ace, 6 off suit",
          "5s paired",
          "King, 4 suited",
          "King, 9 off suit",
          "Queen, 10 off suit",
          "Jack, 10 suited",
          "Ace, 4 off suit",
          "Queen, Jack off suit",
          "Queen, 8 suited",
          "Queen, 10 suited",
          "Queen, 9 suited",
          "King, 6 suited",
          "King, 6 off suit",
          "Ace, 2 suited",
          "Ace, 3 off suit",
          "Jack, 8 suited",
          "King, 5 suited",
          "4s paired",
          "King, 8 off suit",
          "King, 3 suited",
          "Jack, 10 off suit",
          "Queen, 3 suited",
          "Jack, 9 off suit",
          "King, 4 off suit",
          "Jack, 9 suited",
          "Jack, 7 suited",
          "Queen, 8 off suit",
          "Queen, 9 off suit",
          "Queen, 5 suited",
          "King, 7 off suit",
          "King, 5 off suit",
          "Ace, 2 off suit",
          "Queen, 4 suited",
          "Queen, 7 suited",
          "Queen, 6 suited",
          "3s paired",
          "King, 2 suited",
          "Jack, 4 suited",
          "10, 8 suited",
          "9, 8 suited",
          "10, 7 suited",
          "10, 9 off suit",
          "Jack, 8 off suit",
          "2s paired",
          "King, 2 off suit",
          "Queen, 6 off suit",
          "Jack, 6 suited",
          "King, 3 off suit",
          "Jack, 3 suited",
          "10, 9 suited",
          "Queen, 7 off suit",
          "Queen, 5 off suit",
          "9, 7 suited",
          "Jack, 7 off suit",
          "10, 6 suited",
          "Queen, 2 suited",
          "8, 6 suited",
          "9, 8 off suit",
          "Queen, 4 off suit",
          "Jack, 5 suited",
          "8, 7 suited",
          "10, 7 off suit",
          "10, 5 suited",
          "Queen, 3 off suit",
          "10, 8 off suit",
          "Jack, 2 suited",
          "10, 2 suited",
          "9, 6 suited",
          "9, 5 suited",
          "Jack, 5 off suit",
          "Jack, 4 off suit",
          "7, 6 suited",
          "8, 5 suited",
          "Jack, 3 off suit",
          "Queen, 2 off suit",
          "9, 4 suited",
          "10, 6 off suit",
          "6, 5 suited",
          "9, 7 off suit",
          "8, 7 off suit",
          "Jack, 6 off suit",
          "9, 6 off suit",
          "7, 5 suited",
          "10, 5 off suit",
          "10, 3 off suit",
          "7, 4 suited",
          "Jack, 2 off suit",
          "7, 6 off suit",
          "10, 4 off suit",
          "9, 5 off suit",
          "9, 3 suited",
          "10, 3 suited",
          "8, 2 suited",
          "8, 6 off suit",
          "5, 4 suited",
          "10, 4 suited",
          "8, 5 off suit",
          "6, 4 suited",
          "9, 2 suited",
          "8, 4 suited",
          "7, 5 off suit",
          "8, 3 suited",
          "10, 2 off suit",
          "9, 4 off suit",
          "8, 4 off suit",
          "5, 4 off suit",
          "4, 3 suited",
          "6, 5 off suit",
          "5, 3 suited",
          "9, 3 off suit",
          "9, 2 off suit",
          "6, 3 suited",
          "5, 2 suited",
          "6, 4 off suit",
          "7, 2 suited",
          "8, 2 off suit",
          "7, 4 off suit",
          "8, 3 off suit",
          "7, 3 suited",
          "5, 3 off suit",
          "6, 3 off suit",
          "4, 2 suited",
          "4, 3 off suit",
          "7, 2 off suit",
          "6, 2 suited",
          "3, 2 suited",
          "6, 2 off suit",
          "7, 3 off suit",
          "5, 2 off suit",
          "3, 2 off suit",
          "4, 2 off suit"
         ],
         "xaxis": "x",
         "y": [
          0.8500000000000001,
          0.8,
          0.75,
          0.75,
          0.75,
          0.7000000000000001,
          0.7000000000000001,
          0.65,
          0.65,
          0.65,
          0.65,
          0.65,
          0.65,
          0.65,
          0.65,
          0.65,
          0.6000000000000001,
          0.6000000000000001,
          0.6000000000000001,
          0.6000000000000001,
          0.6000000000000001,
          0.6000000000000001,
          0.6000000000000001,
          0.6000000000000001,
          0.6000000000000001,
          0.6000000000000001,
          0.6000000000000001,
          0.6000000000000001,
          0.6000000000000001,
          0.6000000000000001,
          0.6000000000000001,
          0.6000000000000001,
          0.6000000000000001,
          0.6000000000000001,
          0.6000000000000001,
          0.6000000000000001,
          0.6000000000000001,
          0.6000000000000001,
          0.55,
          0.55,
          0.55,
          0.55,
          0.55,
          0.55,
          0.55,
          0.55,
          0.55,
          0.55,
          0.55,
          0.55,
          0.55,
          0.55,
          0.55,
          0.55,
          0.55,
          0.55,
          0.55,
          0.55,
          0.55,
          0.55,
          0.55,
          0.55,
          0.55,
          0.55,
          0.55,
          0.55,
          0.55,
          0.55,
          0.55,
          0.55,
          0.5,
          0.5,
          0.5,
          0.5,
          0.5,
          0.5,
          0.5,
          0.5,
          0.5,
          0.5,
          0.5,
          0.5,
          0.5,
          0.5,
          0.5,
          0.5,
          0.5,
          0.5,
          0.5,
          0.5,
          0.5,
          0.5,
          0.5,
          0.5,
          0.5,
          0.5,
          0.5,
          0.5,
          0.5,
          0.5,
          0.45,
          0.45,
          0.45,
          0.45,
          0.45,
          0.45,
          0.45,
          0.45,
          0.45,
          0.45,
          0.45,
          0.45,
          0.45,
          0.45,
          0.45,
          0.45,
          0.45,
          0.45,
          0.45,
          0.45,
          0.45,
          0.45,
          0.45,
          0.45,
          0.45,
          0.45,
          0.45,
          0.45,
          0.45,
          0.45,
          0.45,
          0.4,
          0.4,
          0.4,
          0.4,
          0.4,
          0.4,
          0.4,
          0.4,
          0.4,
          0.4,
          0.4,
          0.4,
          0.4,
          0.4,
          0.4,
          0.4,
          0.4,
          0.4,
          0.4,
          0.4,
          0.4,
          0.4,
          0.4,
          0.4,
          0.4,
          0.35,
          0.35,
          0.35,
          0.35,
          0.35,
          0.35,
          0.35,
          0.35,
          0.35,
          0.35,
          0.35,
          0.35,
          0.35
         ],
         "yaxis": "y"
        },
        {
         "line": {
          "color": "red",
          "width": 1
         },
         "mode": "lines",
         "name": "Likely Win/Lose Threshold",
         "showlegend": true,
         "type": "scatter",
         "x": [
          null
         ],
         "y": [
          null
         ]
        }
       ],
       "layout": {
        "barmode": "relative",
        "coloraxis": {
         "colorbar": {
          "thickness": 10,
          "tickfont": {
           "family": "monospace",
           "size": 12
          },
          "title": {
           "font": {
            "family": "serif",
            "size": 14
           },
           "text": "Appearances"
          }
         },
         "colorscale": [
          [
           0,
           "#fcfdbf"
          ],
          [
           0.1111111111111111,
           "#feca8d"
          ],
          [
           0.2222222222222222,
           "#fd9668"
          ],
          [
           0.3333333333333333,
           "#f1605d"
          ],
          [
           0.4444444444444444,
           "#cd4071"
          ],
          [
           0.5555555555555556,
           "#9e2f7f"
          ],
          [
           0.6666666666666666,
           "#721f81"
          ],
          [
           0.7777777777777778,
           "#440f76"
          ],
          [
           0.8888888888888888,
           "#180f3d"
          ],
          [
           1,
           "#000004"
          ]
         ]
        },
        "legend": {
         "font": {
          "family": "serif",
          "size": 12
         },
         "tracegroupgap": 0,
         "x": 0.5,
         "xanchor": "center",
         "y": 0.99,
         "yanchor": "top"
        },
        "margin": {
         "t": 60
        },
        "plot_bgcolor": "white",
        "shapes": [
         {
          "line": {
           "color": "red",
           "width": 1
          },
          "type": "line",
          "x0": 0,
          "x1": 1,
          "xref": "paper",
          "y0": 0.495,
          "y1": 0.495,
          "yref": "y"
         },
         {
          "fillcolor": "limegreen",
          "layer": "below",
          "line": {
           "width": 0
          },
          "opacity": 0.1,
          "type": "rect",
          "x0": 0,
          "x1": 1,
          "xref": "paper",
          "y0": 0.495,
          "y1": 1,
          "yref": "y"
         },
         {
          "fillcolor": "red",
          "layer": "below",
          "line": {
           "width": 0
          },
          "opacity": 0.1,
          "type": "rect",
          "x0": 0,
          "x1": 1,
          "xref": "paper",
          "y0": 0,
          "y1": 0.495,
          "yref": "y"
         }
        ],
        "template": {
         "data": {
          "bar": [
           {
            "error_x": {
             "color": "#2a3f5f"
            },
            "error_y": {
             "color": "#2a3f5f"
            },
            "marker": {
             "line": {
              "color": "#E5ECF6",
              "width": 0.5
             },
             "pattern": {
              "fillmode": "overlay",
              "size": 10,
              "solidity": 0.2
             }
            },
            "type": "bar"
           }
          ],
          "barpolar": [
           {
            "marker": {
             "line": {
              "color": "#E5ECF6",
              "width": 0.5
             },
             "pattern": {
              "fillmode": "overlay",
              "size": 10,
              "solidity": 0.2
             }
            },
            "type": "barpolar"
           }
          ],
          "carpet": [
           {
            "aaxis": {
             "endlinecolor": "#2a3f5f",
             "gridcolor": "white",
             "linecolor": "white",
             "minorgridcolor": "white",
             "startlinecolor": "#2a3f5f"
            },
            "baxis": {
             "endlinecolor": "#2a3f5f",
             "gridcolor": "white",
             "linecolor": "white",
             "minorgridcolor": "white",
             "startlinecolor": "#2a3f5f"
            },
            "type": "carpet"
           }
          ],
          "choropleth": [
           {
            "colorbar": {
             "outlinewidth": 0,
             "ticks": ""
            },
            "type": "choropleth"
           }
          ],
          "contour": [
           {
            "colorbar": {
             "outlinewidth": 0,
             "ticks": ""
            },
            "colorscale": [
             [
              0,
              "#0d0887"
             ],
             [
              0.1111111111111111,
              "#46039f"
             ],
             [
              0.2222222222222222,
              "#7201a8"
             ],
             [
              0.3333333333333333,
              "#9c179e"
             ],
             [
              0.4444444444444444,
              "#bd3786"
             ],
             [
              0.5555555555555556,
              "#d8576b"
             ],
             [
              0.6666666666666666,
              "#ed7953"
             ],
             [
              0.7777777777777778,
              "#fb9f3a"
             ],
             [
              0.8888888888888888,
              "#fdca26"
             ],
             [
              1,
              "#f0f921"
             ]
            ],
            "type": "contour"
           }
          ],
          "contourcarpet": [
           {
            "colorbar": {
             "outlinewidth": 0,
             "ticks": ""
            },
            "type": "contourcarpet"
           }
          ],
          "heatmap": [
           {
            "colorbar": {
             "outlinewidth": 0,
             "ticks": ""
            },
            "colorscale": [
             [
              0,
              "#0d0887"
             ],
             [
              0.1111111111111111,
              "#46039f"
             ],
             [
              0.2222222222222222,
              "#7201a8"
             ],
             [
              0.3333333333333333,
              "#9c179e"
             ],
             [
              0.4444444444444444,
              "#bd3786"
             ],
             [
              0.5555555555555556,
              "#d8576b"
             ],
             [
              0.6666666666666666,
              "#ed7953"
             ],
             [
              0.7777777777777778,
              "#fb9f3a"
             ],
             [
              0.8888888888888888,
              "#fdca26"
             ],
             [
              1,
              "#f0f921"
             ]
            ],
            "type": "heatmap"
           }
          ],
          "heatmapgl": [
           {
            "colorbar": {
             "outlinewidth": 0,
             "ticks": ""
            },
            "colorscale": [
             [
              0,
              "#0d0887"
             ],
             [
              0.1111111111111111,
              "#46039f"
             ],
             [
              0.2222222222222222,
              "#7201a8"
             ],
             [
              0.3333333333333333,
              "#9c179e"
             ],
             [
              0.4444444444444444,
              "#bd3786"
             ],
             [
              0.5555555555555556,
              "#d8576b"
             ],
             [
              0.6666666666666666,
              "#ed7953"
             ],
             [
              0.7777777777777778,
              "#fb9f3a"
             ],
             [
              0.8888888888888888,
              "#fdca26"
             ],
             [
              1,
              "#f0f921"
             ]
            ],
            "type": "heatmapgl"
           }
          ],
          "histogram": [
           {
            "marker": {
             "pattern": {
              "fillmode": "overlay",
              "size": 10,
              "solidity": 0.2
             }
            },
            "type": "histogram"
           }
          ],
          "histogram2d": [
           {
            "colorbar": {
             "outlinewidth": 0,
             "ticks": ""
            },
            "colorscale": [
             [
              0,
              "#0d0887"
             ],
             [
              0.1111111111111111,
              "#46039f"
             ],
             [
              0.2222222222222222,
              "#7201a8"
             ],
             [
              0.3333333333333333,
              "#9c179e"
             ],
             [
              0.4444444444444444,
              "#bd3786"
             ],
             [
              0.5555555555555556,
              "#d8576b"
             ],
             [
              0.6666666666666666,
              "#ed7953"
             ],
             [
              0.7777777777777778,
              "#fb9f3a"
             ],
             [
              0.8888888888888888,
              "#fdca26"
             ],
             [
              1,
              "#f0f921"
             ]
            ],
            "type": "histogram2d"
           }
          ],
          "histogram2dcontour": [
           {
            "colorbar": {
             "outlinewidth": 0,
             "ticks": ""
            },
            "colorscale": [
             [
              0,
              "#0d0887"
             ],
             [
              0.1111111111111111,
              "#46039f"
             ],
             [
              0.2222222222222222,
              "#7201a8"
             ],
             [
              0.3333333333333333,
              "#9c179e"
             ],
             [
              0.4444444444444444,
              "#bd3786"
             ],
             [
              0.5555555555555556,
              "#d8576b"
             ],
             [
              0.6666666666666666,
              "#ed7953"
             ],
             [
              0.7777777777777778,
              "#fb9f3a"
             ],
             [
              0.8888888888888888,
              "#fdca26"
             ],
             [
              1,
              "#f0f921"
             ]
            ],
            "type": "histogram2dcontour"
           }
          ],
          "mesh3d": [
           {
            "colorbar": {
             "outlinewidth": 0,
             "ticks": ""
            },
            "type": "mesh3d"
           }
          ],
          "parcoords": [
           {
            "line": {
             "colorbar": {
              "outlinewidth": 0,
              "ticks": ""
             }
            },
            "type": "parcoords"
           }
          ],
          "pie": [
           {
            "automargin": true,
            "type": "pie"
           }
          ],
          "scatter": [
           {
            "fillpattern": {
             "fillmode": "overlay",
             "size": 10,
             "solidity": 0.2
            },
            "type": "scatter"
           }
          ],
          "scatter3d": [
           {
            "line": {
             "colorbar": {
              "outlinewidth": 0,
              "ticks": ""
             }
            },
            "marker": {
             "colorbar": {
              "outlinewidth": 0,
              "ticks": ""
             }
            },
            "type": "scatter3d"
           }
          ],
          "scattercarpet": [
           {
            "marker": {
             "colorbar": {
              "outlinewidth": 0,
              "ticks": ""
             }
            },
            "type": "scattercarpet"
           }
          ],
          "scattergeo": [
           {
            "marker": {
             "colorbar": {
              "outlinewidth": 0,
              "ticks": ""
             }
            },
            "type": "scattergeo"
           }
          ],
          "scattergl": [
           {
            "marker": {
             "colorbar": {
              "outlinewidth": 0,
              "ticks": ""
             }
            },
            "type": "scattergl"
           }
          ],
          "scattermapbox": [
           {
            "marker": {
             "colorbar": {
              "outlinewidth": 0,
              "ticks": ""
             }
            },
            "type": "scattermapbox"
           }
          ],
          "scatterpolar": [
           {
            "marker": {
             "colorbar": {
              "outlinewidth": 0,
              "ticks": ""
             }
            },
            "type": "scatterpolar"
           }
          ],
          "scatterpolargl": [
           {
            "marker": {
             "colorbar": {
              "outlinewidth": 0,
              "ticks": ""
             }
            },
            "type": "scatterpolargl"
           }
          ],
          "scatterternary": [
           {
            "marker": {
             "colorbar": {
              "outlinewidth": 0,
              "ticks": ""
             }
            },
            "type": "scatterternary"
           }
          ],
          "surface": [
           {
            "colorbar": {
             "outlinewidth": 0,
             "ticks": ""
            },
            "colorscale": [
             [
              0,
              "#0d0887"
             ],
             [
              0.1111111111111111,
              "#46039f"
             ],
             [
              0.2222222222222222,
              "#7201a8"
             ],
             [
              0.3333333333333333,
              "#9c179e"
             ],
             [
              0.4444444444444444,
              "#bd3786"
             ],
             [
              0.5555555555555556,
              "#d8576b"
             ],
             [
              0.6666666666666666,
              "#ed7953"
             ],
             [
              0.7777777777777778,
              "#fb9f3a"
             ],
             [
              0.8888888888888888,
              "#fdca26"
             ],
             [
              1,
              "#f0f921"
             ]
            ],
            "type": "surface"
           }
          ],
          "table": [
           {
            "cells": {
             "fill": {
              "color": "#EBF0F8"
             },
             "line": {
              "color": "white"
             }
            },
            "header": {
             "fill": {
              "color": "#C8D4E3"
             },
             "line": {
              "color": "white"
             }
            },
            "type": "table"
           }
          ]
         },
         "layout": {
          "annotationdefaults": {
           "arrowcolor": "#2a3f5f",
           "arrowhead": 0,
           "arrowwidth": 1
          },
          "autotypenumbers": "strict",
          "coloraxis": {
           "colorbar": {
            "outlinewidth": 0,
            "ticks": ""
           }
          },
          "colorscale": {
           "diverging": [
            [
             0,
             "#8e0152"
            ],
            [
             0.1,
             "#c51b7d"
            ],
            [
             0.2,
             "#de77ae"
            ],
            [
             0.3,
             "#f1b6da"
            ],
            [
             0.4,
             "#fde0ef"
            ],
            [
             0.5,
             "#f7f7f7"
            ],
            [
             0.6,
             "#e6f5d0"
            ],
            [
             0.7,
             "#b8e186"
            ],
            [
             0.8,
             "#7fbc41"
            ],
            [
             0.9,
             "#4d9221"
            ],
            [
             1,
             "#276419"
            ]
           ],
           "sequential": [
            [
             0,
             "#0d0887"
            ],
            [
             0.1111111111111111,
             "#46039f"
            ],
            [
             0.2222222222222222,
             "#7201a8"
            ],
            [
             0.3333333333333333,
             "#9c179e"
            ],
            [
             0.4444444444444444,
             "#bd3786"
            ],
            [
             0.5555555555555556,
             "#d8576b"
            ],
            [
             0.6666666666666666,
             "#ed7953"
            ],
            [
             0.7777777777777778,
             "#fb9f3a"
            ],
            [
             0.8888888888888888,
             "#fdca26"
            ],
            [
             1,
             "#f0f921"
            ]
           ],
           "sequentialminus": [
            [
             0,
             "#0d0887"
            ],
            [
             0.1111111111111111,
             "#46039f"
            ],
            [
             0.2222222222222222,
             "#7201a8"
            ],
            [
             0.3333333333333333,
             "#9c179e"
            ],
            [
             0.4444444444444444,
             "#bd3786"
            ],
            [
             0.5555555555555556,
             "#d8576b"
            ],
            [
             0.6666666666666666,
             "#ed7953"
            ],
            [
             0.7777777777777778,
             "#fb9f3a"
            ],
            [
             0.8888888888888888,
             "#fdca26"
            ],
            [
             1,
             "#f0f921"
            ]
           ]
          },
          "colorway": [
           "#636efa",
           "#EF553B",
           "#00cc96",
           "#ab63fa",
           "#FFA15A",
           "#19d3f3",
           "#FF6692",
           "#B6E880",
           "#FF97FF",
           "#FECB52"
          ],
          "font": {
           "color": "#2a3f5f"
          },
          "geo": {
           "bgcolor": "white",
           "lakecolor": "white",
           "landcolor": "#E5ECF6",
           "showlakes": true,
           "showland": true,
           "subunitcolor": "white"
          },
          "hoverlabel": {
           "align": "left"
          },
          "hovermode": "closest",
          "mapbox": {
           "style": "light"
          },
          "paper_bgcolor": "white",
          "plot_bgcolor": "#E5ECF6",
          "polar": {
           "angularaxis": {
            "gridcolor": "white",
            "linecolor": "white",
            "ticks": ""
           },
           "bgcolor": "#E5ECF6",
           "radialaxis": {
            "gridcolor": "white",
            "linecolor": "white",
            "ticks": ""
           }
          },
          "scene": {
           "xaxis": {
            "backgroundcolor": "#E5ECF6",
            "gridcolor": "white",
            "gridwidth": 2,
            "linecolor": "white",
            "showbackground": true,
            "ticks": "",
            "zerolinecolor": "white"
           },
           "yaxis": {
            "backgroundcolor": "#E5ECF6",
            "gridcolor": "white",
            "gridwidth": 2,
            "linecolor": "white",
            "showbackground": true,
            "ticks": "",
            "zerolinecolor": "white"
           },
           "zaxis": {
            "backgroundcolor": "#E5ECF6",
            "gridcolor": "white",
            "gridwidth": 2,
            "linecolor": "white",
            "showbackground": true,
            "ticks": "",
            "zerolinecolor": "white"
           }
          },
          "shapedefaults": {
           "line": {
            "color": "#2a3f5f"
           }
          },
          "ternary": {
           "aaxis": {
            "gridcolor": "white",
            "linecolor": "white",
            "ticks": ""
           },
           "baxis": {
            "gridcolor": "white",
            "linecolor": "white",
            "ticks": ""
           },
           "bgcolor": "#E5ECF6",
           "caxis": {
            "gridcolor": "white",
            "linecolor": "white",
            "ticks": ""
           }
          },
          "title": {
           "x": 0.05
          },
          "xaxis": {
           "automargin": true,
           "gridcolor": "white",
           "linecolor": "white",
           "ticks": "",
           "title": {
            "standoff": 15
           },
           "zerolinecolor": "white",
           "zerolinewidth": 2
          },
          "yaxis": {
           "automargin": true,
           "gridcolor": "white",
           "linecolor": "white",
           "ticks": "",
           "title": {
            "standoff": 15
           },
           "zerolinecolor": "white",
           "zerolinewidth": 2
          }
         }
        },
        "title": {
         "font": {
          "family": "serif",
          "size": 20
         },
         "text": "Best hole cards flavors for 2 Players"
        },
        "xaxis": {
         "anchor": "y",
         "domain": [
          0,
          1
         ],
         "showgrid": false,
         "title": {
          "text": ""
         }
        },
        "yaxis": {
         "anchor": "x",
         "domain": [
          0,
          1
         ],
         "range": [
          0,
          1
         ],
         "showgrid": false,
         "showticklabels": false,
         "title": {
          "text": ""
         }
        }
       }
      }
     },
     "metadata": {},
     "output_type": "display_data"
    },
    {
     "name": "stderr",
     "output_type": "stream",
     "text": [
      "INFO: Not saving plot - pass save_plot=True to save it.\n"
     ]
    }
   ],
   "source": [
    "import importlib\n",
    "import src.plot_data\n",
    "importlib.reload(src.plot_data)\n",
    "\n",
    "from src.plot_data import plot_data\n",
    "\n",
    "\n",
    "plot_data(show_plot=True)"
   ]
  },
  {
   "cell_type": "code",
   "execution_count": 2,
   "metadata": {},
   "outputs": [
    {
     "name": "stderr",
     "output_type": "stream",
     "text": [
      "INFO: Making plotly figure and axis objects\n",
      "c:\\Users\\david\\Documents\\Projects\\holdem_simulator\\src\\plot_builders_plotly.py:94: SettingWithCopyWarning:\n",
      "\n",
      "\n",
      "A value is trying to be set on a copy of a slice from a DataFrame.\n",
      "Try using .loc[row_indexer,col_indexer] = value instead\n",
      "\n",
      "See the caveats in the documentation: https://pandas.pydata.org/pandas-docs/stable/user_guide/indexing.html#returning-a-view-versus-a-copy\n",
      "\n",
      "INFO: Sorting data frame descending by win ratio rounded down to nearest 5%\n"
     ]
    },
    {
     "name": "stderr",
     "output_type": "stream",
     "text": [
      "INFO: Showing plot object\n"
     ]
    },
    {
     "data": {
      "application/vnd.plotly.v1+json": {
       "config": {
        "plotlyServerURL": "https://plot.ly"
       },
       "data": [
        {
         "alignmentgroup": "True",
         "customdata": [
          [
           0.3257
          ],
          [
           0.2555
          ],
          [
           0.2252
          ],
          [
           0.2166
          ],
          [
           0.2075
          ],
          [
           0.2039
          ],
          [
           0.2037
          ],
          [
           0.2013
          ],
          [
           0.1959
          ],
          [
           0.191
          ],
          [
           0.1901
          ],
          [
           0.1873
          ],
          [
           0.1848
          ],
          [
           0.18
          ],
          [
           0.1781
          ],
          [
           0.176
          ],
          [
           0.1758
          ],
          [
           0.1733
          ],
          [
           0.1729
          ],
          [
           0.1693
          ],
          [
           0.1683
          ],
          [
           0.1683
          ],
          [
           0.1682
          ],
          [
           0.1644
          ],
          [
           0.164
          ],
          [
           0.1635
          ],
          [
           0.1589
          ],
          [
           0.1574
          ],
          [
           0.1574
          ],
          [
           0.1558
          ],
          [
           0.1552
          ],
          [
           0.1538
          ],
          [
           0.1525
          ],
          [
           0.1509
          ],
          [
           0.1505
          ],
          [
           0.1497
          ],
          [
           0.1495
          ],
          [
           0.1495
          ],
          [
           0.1494
          ],
          [
           0.1494
          ],
          [
           0.1486
          ],
          [
           0.1479
          ],
          [
           0.1479
          ],
          [
           0.1474
          ],
          [
           0.147
          ],
          [
           0.1462
          ],
          [
           0.1457
          ],
          [
           0.1455
          ],
          [
           0.1448
          ],
          [
           0.1442
          ],
          [
           0.1439
          ],
          [
           0.1438
          ],
          [
           0.1424
          ],
          [
           0.142
          ],
          [
           0.1405
          ],
          [
           0.1387
          ],
          [
           0.1386
          ],
          [
           0.1365
          ],
          [
           0.1354
          ],
          [
           0.1349
          ],
          [
           0.1346
          ],
          [
           0.1336
          ],
          [
           0.1323
          ],
          [
           0.1319
          ],
          [
           0.1294
          ],
          [
           0.1292
          ],
          [
           0.1288
          ],
          [
           0.1279
          ],
          [
           0.1267
          ],
          [
           0.126
          ],
          [
           0.1259
          ],
          [
           0.1255
          ],
          [
           0.1245
          ],
          [
           0.1245
          ],
          [
           0.123
          ],
          [
           0.1217
          ],
          [
           0.1217
          ],
          [
           0.1206
          ],
          [
           0.1206
          ],
          [
           0.1199
          ],
          [
           0.1196
          ],
          [
           0.1187
          ],
          [
           0.1184
          ],
          [
           0.1184
          ],
          [
           0.1178
          ],
          [
           0.1176
          ],
          [
           0.1175
          ],
          [
           0.1175
          ],
          [
           0.117
          ],
          [
           0.117
          ],
          [
           0.1167
          ],
          [
           0.1156
          ],
          [
           0.1155
          ],
          [
           0.1151
          ],
          [
           0.1131
          ],
          [
           0.1121
          ],
          [
           0.1115
          ],
          [
           0.1107
          ],
          [
           0.1103
          ],
          [
           0.11
          ],
          [
           0.1094
          ],
          [
           0.109
          ],
          [
           0.1089
          ],
          [
           0.1084
          ],
          [
           0.1075
          ],
          [
           0.1072
          ],
          [
           0.1066
          ],
          [
           0.1056
          ],
          [
           0.1047
          ],
          [
           0.1047
          ],
          [
           0.1039
          ],
          [
           0.1037
          ],
          [
           0.1006
          ],
          [
           0.0997
          ],
          [
           0.0994
          ],
          [
           0.0994
          ],
          [
           0.0986
          ],
          [
           0.0985
          ],
          [
           0.0975
          ],
          [
           0.097
          ],
          [
           0.0961
          ],
          [
           0.0959
          ],
          [
           0.0956
          ],
          [
           0.0947
          ],
          [
           0.0946
          ],
          [
           0.094
          ],
          [
           0.094
          ],
          [
           0.0939
          ],
          [
           0.093
          ],
          [
           0.0895
          ],
          [
           0.0892
          ],
          [
           0.0879
          ],
          [
           0.0873
          ],
          [
           0.0867
          ],
          [
           0.0866
          ],
          [
           0.0858
          ],
          [
           0.0854
          ],
          [
           0.0831
          ],
          [
           0.0828
          ],
          [
           0.0824
          ],
          [
           0.0824
          ],
          [
           0.0821
          ],
          [
           0.0816
          ],
          [
           0.0816
          ],
          [
           0.0815
          ],
          [
           0.0809
          ],
          [
           0.0808
          ],
          [
           0.0807
          ],
          [
           0.0806
          ],
          [
           0.0794
          ],
          [
           0.0779
          ],
          [
           0.0755
          ],
          [
           0.0754
          ],
          [
           0.0744
          ],
          [
           0.0723
          ],
          [
           0.0722
          ],
          [
           0.0719
          ],
          [
           0.0705
          ],
          [
           0.0699
          ],
          [
           0.0695
          ],
          [
           0.0684
          ],
          [
           0.0656
          ],
          [
           0.0655
          ],
          [
           0.063
          ],
          [
           0.0629
          ],
          [
           0.0594
          ],
          [
           0.0574
          ],
          [
           0.0542
          ],
          [
           0.0481
          ]
         ],
         "hovertemplate": "hole cards flavor=%{x}<br>win ratio rounded down to nearest 5%=%{y:.0%}<br>win ratio=%{customdata[0]:.2%}<br>appearances=%{marker.color}<extra></extra>",
         "legendgroup": "",
         "marker": {
          "color": [
           436,
           458,
           444,
           277,
           294,
           309,
           270,
           303,
           439,
           288,
           342,
           299,
           276,
           300,
           915,
           341,
           876,
           300,
           295,
           319,
           303,
           309,
           321,
           888,
           311,
           471,
           906,
           451,
           305,
           276,
           290,
           442,
           295,
           444,
           299,
           314,
           301,
           301,
           877,
           308,
           848,
           886,
           886,
           312,
           313,
           301,
           920,
           330,
           290,
           319,
           285,
           313,
           309,
           324,
           306,
           310,
           440,
           293,
           325,
           882,
           951,
           449,
           937,
           288,
           309,
           921,
           295,
           305,
           300,
           905,
           294,
           916,
           940,
           932,
           309,
           304,
           863,
           340,
           282,
           292,
           460,
           278,
           304,
           870,
           297,
           901,
           451,
           911,
           282,
           949,
           917,
           874,
           892,
           921,
           327,
           919,
           278,
           298,
           290,
           300,
           896,
           312,
           450,
           323,
           949,
           877,
           272,
           303,
           917,
           917,
           905,
           299,
           318,
           321,
           885,
           312,
           294,
           863,
           913,
           835,
           895,
           928,
           900,
           887,
           856,
           894,
           926,
           309,
           301,
           313,
           863,
           819,
           905,
           323,
           901,
           909,
           949,
           951,
           906,
           934,
           886,
           926,
           956,
           282,
           933,
           890,
           903,
           905,
           310,
           907,
           912,
           940,
           875,
           309,
           899,
           928,
           973,
           880,
           930,
           921,
           307,
           900,
           885,
           873,
           906,
           909,
           871,
           904,
           914
          ],
          "coloraxis": "coloraxis",
          "pattern": {
           "shape": ""
          }
         },
         "name": "",
         "offsetgroup": "",
         "orientation": "v",
         "showlegend": false,
         "textposition": "auto",
         "type": "bar",
         "x": [
          "Aces paired",
          "Kings paired",
          "Queens paired",
          "King, Queen suited",
          "Ace, 10 suited",
          "Queen, 10 suited",
          "Jack, 10 suited",
          "Ace, King suited",
          "Jacks paired",
          "Ace, Queen suited",
          "Queen, Jack suited",
          "King, Jack suited",
          "Queen, 7 suited",
          "Ace, Jack suited",
          "Ace, King off suit",
          "King, 10 suited",
          "Ace, Jack off suit",
          "10, 9 suited",
          "King, 8 suited",
          "Ace, 9 suited",
          "Queen, 9 suited",
          "Ace, 7 suited",
          "Queen, 8 suited",
          "Queen, Jack off suit",
          "King, 7 suited",
          "10s paired",
          "Ace, 10 off suit",
          "9s paired",
          "Jack, 9 suited",
          "Ace, 3 suited",
          "9, 8 suited",
          "5s paired",
          "8, 7 suited",
          "2s paired",
          "9, 6 suited",
          "4, 3 suited",
          "8, 5 suited",
          "Ace, 6 suited",
          "King, Jack off suit",
          "King, 3 suited",
          "Ace, Queen off suit",
          "King, Queen off suit",
          "Ace, 9 off suit",
          "Jack, 8 suited",
          "King, 9 suited",
          "Ace, 4 suited",
          "King, 10 off suit",
          "Queen, 6 suited",
          "10, 8 suited",
          "Ace, 5 suited",
          "Ace, 8 suited",
          "Ace, 2 suited",
          "5, 2 suited",
          "Queen, 5 suited",
          "King, 6 suited",
          "King, 4 suited",
          "4s paired",
          "10, 3 suited",
          "King, 5 suited",
          "Jack, 10 off suit",
          "Queen, 10 off suit",
          "8s paired",
          "King, 9 off suit",
          "7, 5 suited",
          "Jack, 2 suited",
          "Queen, 8 off suit",
          "Jack, 5 suited",
          "7, 4 suited",
          "Queen, 4 suited",
          "10, 9 off suit",
          "10, 4 suited",
          "10, 8 off suit",
          "Jack, 9 off suit",
          "Ace, 7 off suit",
          "Jack, 7 suited",
          "King, 2 suited",
          "9, 8 off suit",
          "Jack, 4 suited",
          "7, 6 suited",
          "6, 5 suited",
          "7s paired",
          "10, 6 suited",
          "6, 2 suited",
          "Jack, 8 off suit",
          "9, 2 suited",
          "Ace, 4 off suit",
          "6s paired",
          "Ace, 8 off suit",
          "6, 4 suited",
          "King, 5 off suit",
          "King, 6 off suit",
          "Ace, 5 off suit",
          "Ace, 3 off suit",
          "King, 8 off suit",
          "Queen, 2 suited",
          "Ace, 2 off suit",
          "5, 3 suited",
          "Queen, 3 suited",
          "10, 2 suited",
          "10, 5 suited",
          "9, 7 off suit",
          "10, 7 suited",
          "3s paired",
          "9, 7 suited",
          "10, 7 off suit",
          "King, 3 off suit",
          "Jack, 3 suited",
          "8, 6 suited",
          "Ace, 6 off suit",
          "8, 6 off suit",
          "Queen, 5 off suit",
          "Jack, 6 suited",
          "6, 3 suited",
          "7, 3 suited",
          "5, 3 off suit",
          "8, 2 suited",
          "5, 4 suited",
          "Queen, 6 off suit",
          "Queen, 7 off suit",
          "Queen, 9 off suit",
          "Queen, 3 off suit",
          "8, 5 off suit",
          "King, 4 off suit",
          "Queen, 4 off suit",
          "7, 5 off suit",
          "Jack, 4 off suit",
          "5, 4 off suit",
          "8, 4 suited",
          "9, 3 suited",
          "9, 5 suited",
          "Jack, 7 off suit",
          "8, 4 off suit",
          "King, 7 off suit",
          "9, 4 suited",
          "7, 6 off suit",
          "6, 5 off suit",
          "10, 3 off suit",
          "9, 6 off suit",
          "7, 4 off suit",
          "4, 3 off suit",
          "8, 7 off suit",
          "Queen, 2 off suit",
          "10, 4 off suit",
          "7, 2 suited",
          "10, 6 off suit",
          "5, 2 off suit",
          "6, 4 off suit",
          "Jack, 2 off suit",
          "4, 2 suited",
          "10, 5 off suit",
          "10, 2 off suit",
          "Jack, 6 off suit",
          "7, 3 off suit",
          "8, 3 suited",
          "9, 5 off suit",
          "6, 3 off suit",
          "8, 3 off suit",
          "Jack, 3 off suit",
          "8, 2 off suit",
          "Jack, 5 off suit",
          "3, 2 suited",
          "9, 4 off suit",
          "9, 2 off suit",
          "King, 2 off suit",
          "6, 2 off suit",
          "4, 2 off suit",
          "9, 3 off suit",
          "7, 2 off suit",
          "3, 2 off suit"
         ],
         "xaxis": "x",
         "y": [
          0.3,
          0.25,
          0.2,
          0.2,
          0.2,
          0.2,
          0.2,
          0.2,
          0.15,
          0.15,
          0.15,
          0.15,
          0.15,
          0.15,
          0.15,
          0.15,
          0.15,
          0.15,
          0.15,
          0.15,
          0.15,
          0.15,
          0.15,
          0.15,
          0.15,
          0.15,
          0.15,
          0.15,
          0.15,
          0.15,
          0.15,
          0.15,
          0.15,
          0.15,
          0.15,
          0.1,
          0.1,
          0.1,
          0.1,
          0.1,
          0.1,
          0.1,
          0.1,
          0.1,
          0.1,
          0.1,
          0.1,
          0.1,
          0.1,
          0.1,
          0.1,
          0.1,
          0.1,
          0.1,
          0.1,
          0.1,
          0.1,
          0.1,
          0.1,
          0.1,
          0.1,
          0.1,
          0.1,
          0.1,
          0.1,
          0.1,
          0.1,
          0.1,
          0.1,
          0.1,
          0.1,
          0.1,
          0.1,
          0.1,
          0.1,
          0.1,
          0.1,
          0.1,
          0.1,
          0.1,
          0.1,
          0.1,
          0.1,
          0.1,
          0.1,
          0.1,
          0.1,
          0.1,
          0.1,
          0.1,
          0.1,
          0.1,
          0.1,
          0.1,
          0.1,
          0.1,
          0.1,
          0.1,
          0.1,
          0.1,
          0.1,
          0.1,
          0.1,
          0.1,
          0.1,
          0.1,
          0.1,
          0.1,
          0.1,
          0.1,
          0.1,
          0.1,
          0.1,
          0.05,
          0.05,
          0.05,
          0.05,
          0.05,
          0.05,
          0.05,
          0.05,
          0.05,
          0.05,
          0.05,
          0.05,
          0.05,
          0.05,
          0.05,
          0.05,
          0.05,
          0.05,
          0.05,
          0.05,
          0.05,
          0.05,
          0.05,
          0.05,
          0.05,
          0.05,
          0.05,
          0.05,
          0.05,
          0.05,
          0.05,
          0.05,
          0.05,
          0.05,
          0.05,
          0.05,
          0.05,
          0.05,
          0.05,
          0.05,
          0.05,
          0.05,
          0.05,
          0.05,
          0.05,
          0.05,
          0.05,
          0.05,
          0.05,
          0.05,
          0.05,
          0.05,
          0.05,
          0.05,
          0.05,
          0
         ],
         "yaxis": "y"
        },
        {
         "line": {
          "color": "red",
          "width": 1
         },
         "mode": "lines",
         "name": "Likely Win/Lose Threshold",
         "showlegend": true,
         "type": "scatter",
         "x": [
          null
         ],
         "y": [
          null
         ]
        }
       ],
       "layout": {
        "barmode": "relative",
        "coloraxis": {
         "colorbar": {
          "thickness": 10,
          "tickfont": {
           "family": "monospace",
           "size": 12
          },
          "title": {
           "font": {
            "family": "serif",
            "size": 14
           },
           "text": "Appearances"
          }
         },
         "colorscale": [
          [
           0,
           "#fcfdbf"
          ],
          [
           0.1111111111111111,
           "#feca8d"
          ],
          [
           0.2222222222222222,
           "#fd9668"
          ],
          [
           0.3333333333333333,
           "#f1605d"
          ],
          [
           0.4444444444444444,
           "#cd4071"
          ],
          [
           0.5555555555555556,
           "#9e2f7f"
          ],
          [
           0.6666666666666666,
           "#721f81"
          ],
          [
           0.7777777777777778,
           "#440f76"
          ],
          [
           0.8888888888888888,
           "#180f3d"
          ],
          [
           1,
           "#000004"
          ]
         ]
        },
        "legend": {
         "font": {
          "family": "serif",
          "size": 12
         },
         "tracegroupgap": 0,
         "x": 0.5,
         "xanchor": "center",
         "y": 0.99,
         "yanchor": "top"
        },
        "margin": {
         "t": 60
        },
        "plot_bgcolor": "white",
        "shapes": [
         {
          "line": {
           "color": "red",
           "width": 1
          },
          "type": "line",
          "x0": 0,
          "x1": 1,
          "xref": "paper",
          "y0": 0.895,
          "y1": 0.895,
          "yref": "y"
         },
         {
          "fillcolor": "limegreen",
          "layer": "below",
          "line": {
           "width": 0
          },
          "opacity": 0.1,
          "type": "rect",
          "x0": 0,
          "x1": 1,
          "xref": "paper",
          "y0": 0.895,
          "y1": 1,
          "yref": "y"
         },
         {
          "fillcolor": "red",
          "layer": "below",
          "line": {
           "width": 0
          },
          "opacity": 0.1,
          "type": "rect",
          "x0": 0,
          "x1": 1,
          "xref": "paper",
          "y0": 0,
          "y1": 0.895,
          "yref": "y"
         }
        ],
        "template": {
         "data": {
          "bar": [
           {
            "error_x": {
             "color": "#2a3f5f"
            },
            "error_y": {
             "color": "#2a3f5f"
            },
            "marker": {
             "line": {
              "color": "#E5ECF6",
              "width": 0.5
             },
             "pattern": {
              "fillmode": "overlay",
              "size": 10,
              "solidity": 0.2
             }
            },
            "type": "bar"
           }
          ],
          "barpolar": [
           {
            "marker": {
             "line": {
              "color": "#E5ECF6",
              "width": 0.5
             },
             "pattern": {
              "fillmode": "overlay",
              "size": 10,
              "solidity": 0.2
             }
            },
            "type": "barpolar"
           }
          ],
          "carpet": [
           {
            "aaxis": {
             "endlinecolor": "#2a3f5f",
             "gridcolor": "white",
             "linecolor": "white",
             "minorgridcolor": "white",
             "startlinecolor": "#2a3f5f"
            },
            "baxis": {
             "endlinecolor": "#2a3f5f",
             "gridcolor": "white",
             "linecolor": "white",
             "minorgridcolor": "white",
             "startlinecolor": "#2a3f5f"
            },
            "type": "carpet"
           }
          ],
          "choropleth": [
           {
            "colorbar": {
             "outlinewidth": 0,
             "ticks": ""
            },
            "type": "choropleth"
           }
          ],
          "contour": [
           {
            "colorbar": {
             "outlinewidth": 0,
             "ticks": ""
            },
            "colorscale": [
             [
              0,
              "#0d0887"
             ],
             [
              0.1111111111111111,
              "#46039f"
             ],
             [
              0.2222222222222222,
              "#7201a8"
             ],
             [
              0.3333333333333333,
              "#9c179e"
             ],
             [
              0.4444444444444444,
              "#bd3786"
             ],
             [
              0.5555555555555556,
              "#d8576b"
             ],
             [
              0.6666666666666666,
              "#ed7953"
             ],
             [
              0.7777777777777778,
              "#fb9f3a"
             ],
             [
              0.8888888888888888,
              "#fdca26"
             ],
             [
              1,
              "#f0f921"
             ]
            ],
            "type": "contour"
           }
          ],
          "contourcarpet": [
           {
            "colorbar": {
             "outlinewidth": 0,
             "ticks": ""
            },
            "type": "contourcarpet"
           }
          ],
          "heatmap": [
           {
            "colorbar": {
             "outlinewidth": 0,
             "ticks": ""
            },
            "colorscale": [
             [
              0,
              "#0d0887"
             ],
             [
              0.1111111111111111,
              "#46039f"
             ],
             [
              0.2222222222222222,
              "#7201a8"
             ],
             [
              0.3333333333333333,
              "#9c179e"
             ],
             [
              0.4444444444444444,
              "#bd3786"
             ],
             [
              0.5555555555555556,
              "#d8576b"
             ],
             [
              0.6666666666666666,
              "#ed7953"
             ],
             [
              0.7777777777777778,
              "#fb9f3a"
             ],
             [
              0.8888888888888888,
              "#fdca26"
             ],
             [
              1,
              "#f0f921"
             ]
            ],
            "type": "heatmap"
           }
          ],
          "heatmapgl": [
           {
            "colorbar": {
             "outlinewidth": 0,
             "ticks": ""
            },
            "colorscale": [
             [
              0,
              "#0d0887"
             ],
             [
              0.1111111111111111,
              "#46039f"
             ],
             [
              0.2222222222222222,
              "#7201a8"
             ],
             [
              0.3333333333333333,
              "#9c179e"
             ],
             [
              0.4444444444444444,
              "#bd3786"
             ],
             [
              0.5555555555555556,
              "#d8576b"
             ],
             [
              0.6666666666666666,
              "#ed7953"
             ],
             [
              0.7777777777777778,
              "#fb9f3a"
             ],
             [
              0.8888888888888888,
              "#fdca26"
             ],
             [
              1,
              "#f0f921"
             ]
            ],
            "type": "heatmapgl"
           }
          ],
          "histogram": [
           {
            "marker": {
             "pattern": {
              "fillmode": "overlay",
              "size": 10,
              "solidity": 0.2
             }
            },
            "type": "histogram"
           }
          ],
          "histogram2d": [
           {
            "colorbar": {
             "outlinewidth": 0,
             "ticks": ""
            },
            "colorscale": [
             [
              0,
              "#0d0887"
             ],
             [
              0.1111111111111111,
              "#46039f"
             ],
             [
              0.2222222222222222,
              "#7201a8"
             ],
             [
              0.3333333333333333,
              "#9c179e"
             ],
             [
              0.4444444444444444,
              "#bd3786"
             ],
             [
              0.5555555555555556,
              "#d8576b"
             ],
             [
              0.6666666666666666,
              "#ed7953"
             ],
             [
              0.7777777777777778,
              "#fb9f3a"
             ],
             [
              0.8888888888888888,
              "#fdca26"
             ],
             [
              1,
              "#f0f921"
             ]
            ],
            "type": "histogram2d"
           }
          ],
          "histogram2dcontour": [
           {
            "colorbar": {
             "outlinewidth": 0,
             "ticks": ""
            },
            "colorscale": [
             [
              0,
              "#0d0887"
             ],
             [
              0.1111111111111111,
              "#46039f"
             ],
             [
              0.2222222222222222,
              "#7201a8"
             ],
             [
              0.3333333333333333,
              "#9c179e"
             ],
             [
              0.4444444444444444,
              "#bd3786"
             ],
             [
              0.5555555555555556,
              "#d8576b"
             ],
             [
              0.6666666666666666,
              "#ed7953"
             ],
             [
              0.7777777777777778,
              "#fb9f3a"
             ],
             [
              0.8888888888888888,
              "#fdca26"
             ],
             [
              1,
              "#f0f921"
             ]
            ],
            "type": "histogram2dcontour"
           }
          ],
          "mesh3d": [
           {
            "colorbar": {
             "outlinewidth": 0,
             "ticks": ""
            },
            "type": "mesh3d"
           }
          ],
          "parcoords": [
           {
            "line": {
             "colorbar": {
              "outlinewidth": 0,
              "ticks": ""
             }
            },
            "type": "parcoords"
           }
          ],
          "pie": [
           {
            "automargin": true,
            "type": "pie"
           }
          ],
          "scatter": [
           {
            "fillpattern": {
             "fillmode": "overlay",
             "size": 10,
             "solidity": 0.2
            },
            "type": "scatter"
           }
          ],
          "scatter3d": [
           {
            "line": {
             "colorbar": {
              "outlinewidth": 0,
              "ticks": ""
             }
            },
            "marker": {
             "colorbar": {
              "outlinewidth": 0,
              "ticks": ""
             }
            },
            "type": "scatter3d"
           }
          ],
          "scattercarpet": [
           {
            "marker": {
             "colorbar": {
              "outlinewidth": 0,
              "ticks": ""
             }
            },
            "type": "scattercarpet"
           }
          ],
          "scattergeo": [
           {
            "marker": {
             "colorbar": {
              "outlinewidth": 0,
              "ticks": ""
             }
            },
            "type": "scattergeo"
           }
          ],
          "scattergl": [
           {
            "marker": {
             "colorbar": {
              "outlinewidth": 0,
              "ticks": ""
             }
            },
            "type": "scattergl"
           }
          ],
          "scattermapbox": [
           {
            "marker": {
             "colorbar": {
              "outlinewidth": 0,
              "ticks": ""
             }
            },
            "type": "scattermapbox"
           }
          ],
          "scatterpolar": [
           {
            "marker": {
             "colorbar": {
              "outlinewidth": 0,
              "ticks": ""
             }
            },
            "type": "scatterpolar"
           }
          ],
          "scatterpolargl": [
           {
            "marker": {
             "colorbar": {
              "outlinewidth": 0,
              "ticks": ""
             }
            },
            "type": "scatterpolargl"
           }
          ],
          "scatterternary": [
           {
            "marker": {
             "colorbar": {
              "outlinewidth": 0,
              "ticks": ""
             }
            },
            "type": "scatterternary"
           }
          ],
          "surface": [
           {
            "colorbar": {
             "outlinewidth": 0,
             "ticks": ""
            },
            "colorscale": [
             [
              0,
              "#0d0887"
             ],
             [
              0.1111111111111111,
              "#46039f"
             ],
             [
              0.2222222222222222,
              "#7201a8"
             ],
             [
              0.3333333333333333,
              "#9c179e"
             ],
             [
              0.4444444444444444,
              "#bd3786"
             ],
             [
              0.5555555555555556,
              "#d8576b"
             ],
             [
              0.6666666666666666,
              "#ed7953"
             ],
             [
              0.7777777777777778,
              "#fb9f3a"
             ],
             [
              0.8888888888888888,
              "#fdca26"
             ],
             [
              1,
              "#f0f921"
             ]
            ],
            "type": "surface"
           }
          ],
          "table": [
           {
            "cells": {
             "fill": {
              "color": "#EBF0F8"
             },
             "line": {
              "color": "white"
             }
            },
            "header": {
             "fill": {
              "color": "#C8D4E3"
             },
             "line": {
              "color": "white"
             }
            },
            "type": "table"
           }
          ]
         },
         "layout": {
          "annotationdefaults": {
           "arrowcolor": "#2a3f5f",
           "arrowhead": 0,
           "arrowwidth": 1
          },
          "autotypenumbers": "strict",
          "coloraxis": {
           "colorbar": {
            "outlinewidth": 0,
            "ticks": ""
           }
          },
          "colorscale": {
           "diverging": [
            [
             0,
             "#8e0152"
            ],
            [
             0.1,
             "#c51b7d"
            ],
            [
             0.2,
             "#de77ae"
            ],
            [
             0.3,
             "#f1b6da"
            ],
            [
             0.4,
             "#fde0ef"
            ],
            [
             0.5,
             "#f7f7f7"
            ],
            [
             0.6,
             "#e6f5d0"
            ],
            [
             0.7,
             "#b8e186"
            ],
            [
             0.8,
             "#7fbc41"
            ],
            [
             0.9,
             "#4d9221"
            ],
            [
             1,
             "#276419"
            ]
           ],
           "sequential": [
            [
             0,
             "#0d0887"
            ],
            [
             0.1111111111111111,
             "#46039f"
            ],
            [
             0.2222222222222222,
             "#7201a8"
            ],
            [
             0.3333333333333333,
             "#9c179e"
            ],
            [
             0.4444444444444444,
             "#bd3786"
            ],
            [
             0.5555555555555556,
             "#d8576b"
            ],
            [
             0.6666666666666666,
             "#ed7953"
            ],
            [
             0.7777777777777778,
             "#fb9f3a"
            ],
            [
             0.8888888888888888,
             "#fdca26"
            ],
            [
             1,
             "#f0f921"
            ]
           ],
           "sequentialminus": [
            [
             0,
             "#0d0887"
            ],
            [
             0.1111111111111111,
             "#46039f"
            ],
            [
             0.2222222222222222,
             "#7201a8"
            ],
            [
             0.3333333333333333,
             "#9c179e"
            ],
            [
             0.4444444444444444,
             "#bd3786"
            ],
            [
             0.5555555555555556,
             "#d8576b"
            ],
            [
             0.6666666666666666,
             "#ed7953"
            ],
            [
             0.7777777777777778,
             "#fb9f3a"
            ],
            [
             0.8888888888888888,
             "#fdca26"
            ],
            [
             1,
             "#f0f921"
            ]
           ]
          },
          "colorway": [
           "#636efa",
           "#EF553B",
           "#00cc96",
           "#ab63fa",
           "#FFA15A",
           "#19d3f3",
           "#FF6692",
           "#B6E880",
           "#FF97FF",
           "#FECB52"
          ],
          "font": {
           "color": "#2a3f5f"
          },
          "geo": {
           "bgcolor": "white",
           "lakecolor": "white",
           "landcolor": "#E5ECF6",
           "showlakes": true,
           "showland": true,
           "subunitcolor": "white"
          },
          "hoverlabel": {
           "align": "left"
          },
          "hovermode": "closest",
          "mapbox": {
           "style": "light"
          },
          "paper_bgcolor": "white",
          "plot_bgcolor": "#E5ECF6",
          "polar": {
           "angularaxis": {
            "gridcolor": "white",
            "linecolor": "white",
            "ticks": ""
           },
           "bgcolor": "#E5ECF6",
           "radialaxis": {
            "gridcolor": "white",
            "linecolor": "white",
            "ticks": ""
           }
          },
          "scene": {
           "xaxis": {
            "backgroundcolor": "#E5ECF6",
            "gridcolor": "white",
            "gridwidth": 2,
            "linecolor": "white",
            "showbackground": true,
            "ticks": "",
            "zerolinecolor": "white"
           },
           "yaxis": {
            "backgroundcolor": "#E5ECF6",
            "gridcolor": "white",
            "gridwidth": 2,
            "linecolor": "white",
            "showbackground": true,
            "ticks": "",
            "zerolinecolor": "white"
           },
           "zaxis": {
            "backgroundcolor": "#E5ECF6",
            "gridcolor": "white",
            "gridwidth": 2,
            "linecolor": "white",
            "showbackground": true,
            "ticks": "",
            "zerolinecolor": "white"
           }
          },
          "shapedefaults": {
           "line": {
            "color": "#2a3f5f"
           }
          },
          "ternary": {
           "aaxis": {
            "gridcolor": "white",
            "linecolor": "white",
            "ticks": ""
           },
           "baxis": {
            "gridcolor": "white",
            "linecolor": "white",
            "ticks": ""
           },
           "bgcolor": "#E5ECF6",
           "caxis": {
            "gridcolor": "white",
            "linecolor": "white",
            "ticks": ""
           }
          },
          "title": {
           "x": 0.05
          },
          "xaxis": {
           "automargin": true,
           "gridcolor": "white",
           "linecolor": "white",
           "ticks": "",
           "title": {
            "standoff": 15
           },
           "zerolinecolor": "white",
           "zerolinewidth": 2
          },
          "yaxis": {
           "automargin": true,
           "gridcolor": "white",
           "linecolor": "white",
           "ticks": "",
           "title": {
            "standoff": 15
           },
           "zerolinecolor": "white",
           "zerolinewidth": 2
          }
         }
        },
        "title": {
         "font": {
          "family": "serif",
          "size": 20
         },
         "text": "Best hole cards flavors for 10 Players"
        },
        "xaxis": {
         "anchor": "y",
         "domain": [
          0,
          1
         ],
         "showgrid": false,
         "title": {
          "text": ""
         }
        },
        "yaxis": {
         "anchor": "x",
         "domain": [
          0,
          1
         ],
         "range": [
          0,
          1
         ],
         "showgrid": false,
         "showticklabels": false,
         "title": {
          "text": ""
         }
        }
       }
      }
     },
     "metadata": {},
     "output_type": "display_data"
    },
    {
     "name": "stderr",
     "output_type": "stream",
     "text": [
      "INFO: Not saving plot - pass save_plot=True to save it.\n"
     ]
    }
   ],
   "source": [
    "import importlib\n",
    "import src.plot_data\n",
    "\n",
    "importlib.reload(src.plot_data)\n",
    "\n",
    "from src.plot_data import plot_data\n",
    "\n",
    "\n",
    "plot_data(show_plot=True, n_players_to_plot=10)"
   ]
  },
  {
   "cell_type": "code",
   "execution_count": 5,
   "metadata": {},
   "outputs": [
    {
     "name": "stderr",
     "output_type": "stream",
     "text": [
      "INFO: Making plotly figure and axis objects\n",
      "c:\\Users\\david\\Documents\\Projects\\holdem_simulator\\src\\plot_builders_plotly.py:109: SettingWithCopyWarning:\n",
      "\n",
      "\n",
      "A value is trying to be set on a copy of a slice from a DataFrame.\n",
      "Try using .loc[row_indexer,col_indexer] = value instead\n",
      "\n",
      "See the caveats in the documentation: https://pandas.pydata.org/pandas-docs/stable/user_guide/indexing.html#returning-a-view-versus-a-copy\n",
      "\n",
      "INFO: Sorting data frame descending by win ratio rounded down to nearest 5%\n",
      "INFO: Showing plot object\n"
     ]
    },
    {
     "data": {
      "application/vnd.plotly.v1+json": {
       "config": {
        "plotlyServerURL": "https://plot.ly"
       },
       "data": [
        {
         "alignmentgroup": "True",
         "customdata": [
          [
           0.8575
          ],
          [
           0.8321
          ],
          [
           0.7952
          ],
          [
           0.7839
          ],
          [
           0.7734
          ],
          [
           0.7123
          ],
          [
           0.7041
          ],
          [
           0.6968
          ],
          [
           0.6753
          ],
          [
           0.6676
          ],
          [
           0.6667
          ],
          [
           0.6664
          ],
          [
           0.665
          ],
          [
           0.6639
          ],
          [
           0.66
          ],
          [
           0.6553
          ],
          [
           0.6495
          ],
          [
           0.6435
          ],
          [
           0.6415
          ],
          [
           0.6393
          ],
          [
           0.6391
          ],
          [
           0.6386
          ],
          [
           0.6213
          ],
          [
           0.6206
          ],
          [
           0.619
          ],
          [
           0.6183
          ],
          [
           0.6175
          ],
          [
           0.6168
          ],
          [
           0.6149
          ],
          [
           0.6132
          ],
          [
           0.6129
          ],
          [
           0.611
          ],
          [
           0.6105
          ],
          [
           0.6099
          ],
          [
           0.6086
          ],
          [
           0.6073
          ],
          [
           0.6046
          ],
          [
           0.6016
          ],
          [
           0.5998
          ],
          [
           0.5998
          ],
          [
           0.5978
          ],
          [
           0.5972
          ],
          [
           0.5958
          ],
          [
           0.5958
          ],
          [
           0.5874
          ],
          [
           0.5867
          ],
          [
           0.5858
          ],
          [
           0.5856
          ],
          [
           0.5824
          ],
          [
           0.5799
          ],
          [
           0.5758
          ],
          [
           0.5742
          ],
          [
           0.574
          ],
          [
           0.5735
          ],
          [
           0.5732
          ],
          [
           0.5712
          ],
          [
           0.5688
          ],
          [
           0.5652
          ],
          [
           0.564
          ],
          [
           0.5635
          ],
          [
           0.5625
          ],
          [
           0.5606
          ],
          [
           0.5599
          ],
          [
           0.5592
          ],
          [
           0.5572
          ],
          [
           0.5562
          ],
          [
           0.5559
          ],
          [
           0.5534
          ],
          [
           0.5534
          ],
          [
           0.552
          ],
          [
           0.5485
          ],
          [
           0.546
          ],
          [
           0.5456
          ],
          [
           0.5431
          ],
          [
           0.5428
          ],
          [
           0.5403
          ],
          [
           0.5388
          ],
          [
           0.5387
          ],
          [
           0.5326
          ],
          [
           0.5322
          ],
          [
           0.5319
          ],
          [
           0.5318
          ],
          [
           0.5305
          ],
          [
           0.5296
          ],
          [
           0.5288
          ],
          [
           0.5266
          ],
          [
           0.5242
          ],
          [
           0.5237
          ],
          [
           0.5232
          ],
          [
           0.5216
          ],
          [
           0.5191
          ],
          [
           0.5188
          ],
          [
           0.5166
          ],
          [
           0.5166
          ],
          [
           0.5163
          ],
          [
           0.5146
          ],
          [
           0.5078
          ],
          [
           0.5065
          ],
          [
           0.502
          ],
          [
           0.5009
          ],
          [
           0.4988
          ],
          [
           0.4979
          ],
          [
           0.4952
          ],
          [
           0.4951
          ],
          [
           0.4944
          ],
          [
           0.4939
          ],
          [
           0.4933
          ],
          [
           0.4916
          ],
          [
           0.4913
          ],
          [
           0.4885
          ],
          [
           0.488
          ],
          [
           0.4848
          ],
          [
           0.4848
          ],
          [
           0.4844
          ],
          [
           0.4814
          ],
          [
           0.4795
          ],
          [
           0.4793
          ],
          [
           0.4777
          ],
          [
           0.4764
          ],
          [
           0.4693
          ],
          [
           0.4687
          ],
          [
           0.4674
          ],
          [
           0.465
          ],
          [
           0.4646
          ],
          [
           0.464
          ],
          [
           0.4615
          ],
          [
           0.4602
          ],
          [
           0.4591
          ],
          [
           0.457
          ],
          [
           0.4563
          ],
          [
           0.4546
          ],
          [
           0.4497
          ],
          [
           0.4494
          ],
          [
           0.449
          ],
          [
           0.4428
          ],
          [
           0.4406
          ],
          [
           0.438
          ],
          [
           0.4375
          ],
          [
           0.4334
          ],
          [
           0.4281
          ],
          [
           0.4277
          ],
          [
           0.4276
          ],
          [
           0.4253
          ],
          [
           0.4235
          ],
          [
           0.4234
          ],
          [
           0.4197
          ],
          [
           0.4194
          ],
          [
           0.4186
          ],
          [
           0.4175
          ],
          [
           0.4141
          ],
          [
           0.4141
          ],
          [
           0.4126
          ],
          [
           0.4119
          ],
          [
           0.4019
          ],
          [
           0.401
          ],
          [
           0.4009
          ],
          [
           0.3978
          ],
          [
           0.3909
          ],
          [
           0.3898
          ],
          [
           0.3876
          ],
          [
           0.3876
          ],
          [
           0.3875
          ],
          [
           0.3867
          ],
          [
           0.3795
          ],
          [
           0.3772
          ],
          [
           0.3722
          ],
          [
           0.3692
          ],
          [
           0.3681
          ],
          [
           0.3523
          ]
         ],
         "hovertemplate": "hole cards flavor=%{x}<br>win ratio rounded down to nearest 5%=%{y:.0%}<br>win ratio=%{customdata[0]:.2%}<br>appearances=%{marker.color}<extra></extra>",
         "legendgroup": "",
         "marker": {
          "color": [
           1782,
           1793,
           1821,
           1772,
           1898,
           1870,
           1744,
           1692,
           1281,
           3646,
           1188,
           1157,
           3582,
           1187,
           1197,
           1178,
           1789,
           1178,
           3623,
           3596,
           1100,
           1165,
           1175,
           3571,
           1231,
           3581,
           1260,
           1182,
           1153,
           1197,
           3756,
           1198,
           3556,
           3679,
           3623,
           1151,
           1186,
           3569,
           3593,
           1744,
           1206,
           3553,
           3585,
           1232,
           3667,
           3562,
           1236,
           1221,
           1281,
           1195,
           3654,
           1254,
           3697,
           1245,
           1237,
           1819,
           3641,
           1173,
           3784,
           1189,
           3586,
           3603,
           1161,
           1225,
           3489,
           3594,
           1225,
           3612,
           3533,
           3594,
           1185,
           1260,
           1140,
           1810,
           1227,
           1216,
           1199,
           1162,
           1196,
           3615,
           3642,
           1824,
           3608,
           3552,
           1199,
           3536,
           1238,
           1268,
           3649,
           3549,
           1202,
           3570,
           1206,
           1206,
           1166,
           3634,
           3645,
           1226,
           1231,
           3713,
           1245,
           3621,
           3526,
           1232,
           1169,
           1306,
           1261,
           3631,
           3576,
           1308,
           1209,
           3655,
           3616,
           1119,
           3652,
           1197,
           3626,
           3609,
           3650,
           3605,
           1199,
           3680,
           3645,
           1216,
           3698,
           3606,
           3572,
           3546,
           1199,
           1166,
           1223,
           3609,
           1246,
           1216,
           3735,
           1212,
           1178,
           1184,
           3528,
           1189,
           3582,
           3627,
           3776,
           3691,
           1207,
           3636,
           1185,
           3650,
           3650,
           1176,
           1222,
           3587,
           1294,
           3655,
           3621,
           3642,
           1209,
           3617,
           3661,
           1197,
           3692,
           3572,
           1244,
           1183,
           3632,
           3678,
           3592,
           3581,
           3710
          ],
          "coloraxis": "coloraxis",
          "pattern": {
           "shape": ""
          }
         },
         "name": "",
         "offsetgroup": "",
         "orientation": "v",
         "showlegend": false,
         "textposition": "auto",
         "type": "bar",
         "x": [
          "Aces paired",
          "Kings paired",
          "Queens paired",
          "Jacks paired",
          "10s paired",
          "8s paired",
          "9s paired",
          "7s paired",
          "Ace, Queen suited",
          "Ace, 10 off suit",
          "Ace, Jack suited",
          "Ace, 10 suited",
          "Ace, King off suit",
          "Ace, King suited",
          "King, Queen suited",
          "Ace, 9 suited",
          "6s paired",
          "King, Jack suited",
          "Ace, Queen off suit",
          "Ace, Jack off suit",
          "Ace, 8 suited",
          "Ace, 7 suited",
          "King, 10 suited",
          "King, Jack off suit",
          "Ace, 5 suited",
          "King, Queen off suit",
          "Ace, 3 suited",
          "King, 8 suited",
          "King, 9 suited",
          "Queen, Jack suited",
          "Ace, 9 off suit",
          "Ace, 6 suited",
          "Ace, 8 off suit",
          "Ace, 7 off suit",
          "King, 10 off suit",
          "King, 7 suited",
          "Ace, 4 suited",
          "Ace, 5 off suit",
          "Ace, 6 off suit",
          "5s paired",
          "King, 4 suited",
          "King, 9 off suit",
          "Queen, 10 off suit",
          "Jack, 10 suited",
          "Ace, 4 off suit",
          "Queen, Jack off suit",
          "Queen, 8 suited",
          "Queen, 10 suited",
          "Queen, 9 suited",
          "King, 6 suited",
          "King, 6 off suit",
          "Ace, 2 suited",
          "Ace, 3 off suit",
          "Jack, 8 suited",
          "King, 5 suited",
          "4s paired",
          "King, 8 off suit",
          "King, 3 suited",
          "Jack, 10 off suit",
          "Queen, 3 suited",
          "Jack, 9 off suit",
          "King, 4 off suit",
          "Jack, 9 suited",
          "Jack, 7 suited",
          "Queen, 8 off suit",
          "Queen, 9 off suit",
          "Queen, 5 suited",
          "King, 7 off suit",
          "King, 5 off suit",
          "Ace, 2 off suit",
          "Queen, 4 suited",
          "Queen, 7 suited",
          "Queen, 6 suited",
          "3s paired",
          "King, 2 suited",
          "Jack, 4 suited",
          "10, 8 suited",
          "9, 8 suited",
          "10, 7 suited",
          "10, 9 off suit",
          "Jack, 8 off suit",
          "2s paired",
          "King, 2 off suit",
          "Queen, 6 off suit",
          "Jack, 6 suited",
          "King, 3 off suit",
          "Jack, 3 suited",
          "10, 9 suited",
          "Queen, 7 off suit",
          "Queen, 5 off suit",
          "9, 7 suited",
          "Jack, 7 off suit",
          "10, 6 suited",
          "Queen, 2 suited",
          "8, 6 suited",
          "9, 8 off suit",
          "Queen, 4 off suit",
          "Jack, 5 suited",
          "8, 7 suited",
          "10, 7 off suit",
          "10, 5 suited",
          "Queen, 3 off suit",
          "10, 8 off suit",
          "Jack, 2 suited",
          "10, 2 suited",
          "9, 6 suited",
          "9, 5 suited",
          "Jack, 5 off suit",
          "Jack, 4 off suit",
          "7, 6 suited",
          "8, 5 suited",
          "Jack, 3 off suit",
          "Queen, 2 off suit",
          "9, 4 suited",
          "10, 6 off suit",
          "6, 5 suited",
          "9, 7 off suit",
          "8, 7 off suit",
          "Jack, 6 off suit",
          "9, 6 off suit",
          "7, 5 suited",
          "10, 5 off suit",
          "10, 3 off suit",
          "7, 4 suited",
          "Jack, 2 off suit",
          "7, 6 off suit",
          "10, 4 off suit",
          "9, 5 off suit",
          "9, 3 suited",
          "10, 3 suited",
          "8, 2 suited",
          "8, 6 off suit",
          "5, 4 suited",
          "10, 4 suited",
          "8, 5 off suit",
          "6, 4 suited",
          "9, 2 suited",
          "8, 4 suited",
          "7, 5 off suit",
          "8, 3 suited",
          "10, 2 off suit",
          "9, 4 off suit",
          "8, 4 off suit",
          "5, 4 off suit",
          "4, 3 suited",
          "6, 5 off suit",
          "5, 3 suited",
          "9, 3 off suit",
          "9, 2 off suit",
          "6, 3 suited",
          "5, 2 suited",
          "6, 4 off suit",
          "7, 2 suited",
          "8, 2 off suit",
          "7, 4 off suit",
          "8, 3 off suit",
          "7, 3 suited",
          "5, 3 off suit",
          "6, 3 off suit",
          "4, 2 suited",
          "4, 3 off suit",
          "7, 2 off suit",
          "6, 2 suited",
          "3, 2 suited",
          "6, 2 off suit",
          "7, 3 off suit",
          "5, 2 off suit",
          "3, 2 off suit",
          "4, 2 off suit"
         ],
         "xaxis": "x",
         "y": [
          0.8500000000000001,
          0.8,
          0.75,
          0.75,
          0.75,
          0.7000000000000001,
          0.7000000000000001,
          0.65,
          0.65,
          0.65,
          0.65,
          0.65,
          0.65,
          0.65,
          0.65,
          0.65,
          0.6000000000000001,
          0.6000000000000001,
          0.6000000000000001,
          0.6000000000000001,
          0.6000000000000001,
          0.6000000000000001,
          0.6000000000000001,
          0.6000000000000001,
          0.6000000000000001,
          0.6000000000000001,
          0.6000000000000001,
          0.6000000000000001,
          0.6000000000000001,
          0.6000000000000001,
          0.6000000000000001,
          0.6000000000000001,
          0.6000000000000001,
          0.6000000000000001,
          0.6000000000000001,
          0.6000000000000001,
          0.6000000000000001,
          0.6000000000000001,
          0.55,
          0.55,
          0.55,
          0.55,
          0.55,
          0.55,
          0.55,
          0.55,
          0.55,
          0.55,
          0.55,
          0.55,
          0.55,
          0.55,
          0.55,
          0.55,
          0.55,
          0.55,
          0.55,
          0.55,
          0.55,
          0.55,
          0.55,
          0.55,
          0.55,
          0.55,
          0.55,
          0.55,
          0.55,
          0.55,
          0.55,
          0.55,
          0.5,
          0.5,
          0.5,
          0.5,
          0.5,
          0.5,
          0.5,
          0.5,
          0.5,
          0.5,
          0.5,
          0.5,
          0.5,
          0.5,
          0.5,
          0.5,
          0.5,
          0.5,
          0.5,
          0.5,
          0.5,
          0.5,
          0.5,
          0.5,
          0.5,
          0.5,
          0.5,
          0.5,
          0.5,
          0.5,
          0.45,
          0.45,
          0.45,
          0.45,
          0.45,
          0.45,
          0.45,
          0.45,
          0.45,
          0.45,
          0.45,
          0.45,
          0.45,
          0.45,
          0.45,
          0.45,
          0.45,
          0.45,
          0.45,
          0.45,
          0.45,
          0.45,
          0.45,
          0.45,
          0.45,
          0.45,
          0.45,
          0.45,
          0.45,
          0.45,
          0.45,
          0.4,
          0.4,
          0.4,
          0.4,
          0.4,
          0.4,
          0.4,
          0.4,
          0.4,
          0.4,
          0.4,
          0.4,
          0.4,
          0.4,
          0.4,
          0.4,
          0.4,
          0.4,
          0.4,
          0.4,
          0.4,
          0.4,
          0.4,
          0.4,
          0.4,
          0.35,
          0.35,
          0.35,
          0.35,
          0.35,
          0.35,
          0.35,
          0.35,
          0.35,
          0.35,
          0.35,
          0.35,
          0.35
         ],
         "yaxis": "y"
        },
        {
         "line": {
          "color": "red",
          "width": 1
         },
         "mode": "lines",
         "name": "Likely Win/Lose Threshold",
         "showlegend": true,
         "type": "scatter",
         "x": [
          null
         ],
         "y": [
          null
         ]
        }
       ],
       "layout": {
        "barmode": "relative",
        "coloraxis": {
         "colorbar": {
          "thickness": 10,
          "tickfont": {
           "family": "monospace",
           "size": 12
          },
          "title": {
           "font": {
            "family": "serif",
            "size": 14
           },
           "text": "Appearances"
          }
         },
         "colorscale": [
          [
           0,
           "#fcfdbf"
          ],
          [
           0.1111111111111111,
           "#feca8d"
          ],
          [
           0.2222222222222222,
           "#fd9668"
          ],
          [
           0.3333333333333333,
           "#f1605d"
          ],
          [
           0.4444444444444444,
           "#cd4071"
          ],
          [
           0.5555555555555556,
           "#9e2f7f"
          ],
          [
           0.6666666666666666,
           "#721f81"
          ],
          [
           0.7777777777777778,
           "#440f76"
          ],
          [
           0.8888888888888888,
           "#180f3d"
          ],
          [
           1,
           "#000004"
          ]
         ]
        },
        "legend": {
         "font": {
          "family": "serif",
          "size": 12
         },
         "tracegroupgap": 0,
         "x": 0.5,
         "xanchor": "center",
         "y": 0.99,
         "yanchor": "top"
        },
        "margin": {
         "t": 60
        },
        "plot_bgcolor": "white",
        "shapes": [
         {
          "line": {
           "color": "red",
           "width": 1
          },
          "type": "line",
          "x0": 0,
          "x1": 1,
          "xref": "paper",
          "y0": 0.495,
          "y1": 0.495,
          "yref": "y"
         },
         {
          "fillcolor": "limegreen",
          "layer": "below",
          "line": {
           "width": 0
          },
          "opacity": 0.1,
          "type": "rect",
          "x0": 0,
          "x1": 1,
          "xref": "paper",
          "y0": 0.495,
          "y1": 1,
          "yref": "y"
         },
         {
          "fillcolor": "red",
          "layer": "below",
          "line": {
           "width": 0
          },
          "opacity": 0.1,
          "type": "rect",
          "x0": 0,
          "x1": 1,
          "xref": "paper",
          "y0": 0,
          "y1": 0.495,
          "yref": "y"
         }
        ],
        "template": {
         "data": {
          "bar": [
           {
            "error_x": {
             "color": "#2a3f5f"
            },
            "error_y": {
             "color": "#2a3f5f"
            },
            "marker": {
             "line": {
              "color": "#E5ECF6",
              "width": 0.5
             },
             "pattern": {
              "fillmode": "overlay",
              "size": 10,
              "solidity": 0.2
             }
            },
            "type": "bar"
           }
          ],
          "barpolar": [
           {
            "marker": {
             "line": {
              "color": "#E5ECF6",
              "width": 0.5
             },
             "pattern": {
              "fillmode": "overlay",
              "size": 10,
              "solidity": 0.2
             }
            },
            "type": "barpolar"
           }
          ],
          "carpet": [
           {
            "aaxis": {
             "endlinecolor": "#2a3f5f",
             "gridcolor": "white",
             "linecolor": "white",
             "minorgridcolor": "white",
             "startlinecolor": "#2a3f5f"
            },
            "baxis": {
             "endlinecolor": "#2a3f5f",
             "gridcolor": "white",
             "linecolor": "white",
             "minorgridcolor": "white",
             "startlinecolor": "#2a3f5f"
            },
            "type": "carpet"
           }
          ],
          "choropleth": [
           {
            "colorbar": {
             "outlinewidth": 0,
             "ticks": ""
            },
            "type": "choropleth"
           }
          ],
          "contour": [
           {
            "colorbar": {
             "outlinewidth": 0,
             "ticks": ""
            },
            "colorscale": [
             [
              0,
              "#0d0887"
             ],
             [
              0.1111111111111111,
              "#46039f"
             ],
             [
              0.2222222222222222,
              "#7201a8"
             ],
             [
              0.3333333333333333,
              "#9c179e"
             ],
             [
              0.4444444444444444,
              "#bd3786"
             ],
             [
              0.5555555555555556,
              "#d8576b"
             ],
             [
              0.6666666666666666,
              "#ed7953"
             ],
             [
              0.7777777777777778,
              "#fb9f3a"
             ],
             [
              0.8888888888888888,
              "#fdca26"
             ],
             [
              1,
              "#f0f921"
             ]
            ],
            "type": "contour"
           }
          ],
          "contourcarpet": [
           {
            "colorbar": {
             "outlinewidth": 0,
             "ticks": ""
            },
            "type": "contourcarpet"
           }
          ],
          "heatmap": [
           {
            "colorbar": {
             "outlinewidth": 0,
             "ticks": ""
            },
            "colorscale": [
             [
              0,
              "#0d0887"
             ],
             [
              0.1111111111111111,
              "#46039f"
             ],
             [
              0.2222222222222222,
              "#7201a8"
             ],
             [
              0.3333333333333333,
              "#9c179e"
             ],
             [
              0.4444444444444444,
              "#bd3786"
             ],
             [
              0.5555555555555556,
              "#d8576b"
             ],
             [
              0.6666666666666666,
              "#ed7953"
             ],
             [
              0.7777777777777778,
              "#fb9f3a"
             ],
             [
              0.8888888888888888,
              "#fdca26"
             ],
             [
              1,
              "#f0f921"
             ]
            ],
            "type": "heatmap"
           }
          ],
          "heatmapgl": [
           {
            "colorbar": {
             "outlinewidth": 0,
             "ticks": ""
            },
            "colorscale": [
             [
              0,
              "#0d0887"
             ],
             [
              0.1111111111111111,
              "#46039f"
             ],
             [
              0.2222222222222222,
              "#7201a8"
             ],
             [
              0.3333333333333333,
              "#9c179e"
             ],
             [
              0.4444444444444444,
              "#bd3786"
             ],
             [
              0.5555555555555556,
              "#d8576b"
             ],
             [
              0.6666666666666666,
              "#ed7953"
             ],
             [
              0.7777777777777778,
              "#fb9f3a"
             ],
             [
              0.8888888888888888,
              "#fdca26"
             ],
             [
              1,
              "#f0f921"
             ]
            ],
            "type": "heatmapgl"
           }
          ],
          "histogram": [
           {
            "marker": {
             "pattern": {
              "fillmode": "overlay",
              "size": 10,
              "solidity": 0.2
             }
            },
            "type": "histogram"
           }
          ],
          "histogram2d": [
           {
            "colorbar": {
             "outlinewidth": 0,
             "ticks": ""
            },
            "colorscale": [
             [
              0,
              "#0d0887"
             ],
             [
              0.1111111111111111,
              "#46039f"
             ],
             [
              0.2222222222222222,
              "#7201a8"
             ],
             [
              0.3333333333333333,
              "#9c179e"
             ],
             [
              0.4444444444444444,
              "#bd3786"
             ],
             [
              0.5555555555555556,
              "#d8576b"
             ],
             [
              0.6666666666666666,
              "#ed7953"
             ],
             [
              0.7777777777777778,
              "#fb9f3a"
             ],
             [
              0.8888888888888888,
              "#fdca26"
             ],
             [
              1,
              "#f0f921"
             ]
            ],
            "type": "histogram2d"
           }
          ],
          "histogram2dcontour": [
           {
            "colorbar": {
             "outlinewidth": 0,
             "ticks": ""
            },
            "colorscale": [
             [
              0,
              "#0d0887"
             ],
             [
              0.1111111111111111,
              "#46039f"
             ],
             [
              0.2222222222222222,
              "#7201a8"
             ],
             [
              0.3333333333333333,
              "#9c179e"
             ],
             [
              0.4444444444444444,
              "#bd3786"
             ],
             [
              0.5555555555555556,
              "#d8576b"
             ],
             [
              0.6666666666666666,
              "#ed7953"
             ],
             [
              0.7777777777777778,
              "#fb9f3a"
             ],
             [
              0.8888888888888888,
              "#fdca26"
             ],
             [
              1,
              "#f0f921"
             ]
            ],
            "type": "histogram2dcontour"
           }
          ],
          "mesh3d": [
           {
            "colorbar": {
             "outlinewidth": 0,
             "ticks": ""
            },
            "type": "mesh3d"
           }
          ],
          "parcoords": [
           {
            "line": {
             "colorbar": {
              "outlinewidth": 0,
              "ticks": ""
             }
            },
            "type": "parcoords"
           }
          ],
          "pie": [
           {
            "automargin": true,
            "type": "pie"
           }
          ],
          "scatter": [
           {
            "fillpattern": {
             "fillmode": "overlay",
             "size": 10,
             "solidity": 0.2
            },
            "type": "scatter"
           }
          ],
          "scatter3d": [
           {
            "line": {
             "colorbar": {
              "outlinewidth": 0,
              "ticks": ""
             }
            },
            "marker": {
             "colorbar": {
              "outlinewidth": 0,
              "ticks": ""
             }
            },
            "type": "scatter3d"
           }
          ],
          "scattercarpet": [
           {
            "marker": {
             "colorbar": {
              "outlinewidth": 0,
              "ticks": ""
             }
            },
            "type": "scattercarpet"
           }
          ],
          "scattergeo": [
           {
            "marker": {
             "colorbar": {
              "outlinewidth": 0,
              "ticks": ""
             }
            },
            "type": "scattergeo"
           }
          ],
          "scattergl": [
           {
            "marker": {
             "colorbar": {
              "outlinewidth": 0,
              "ticks": ""
             }
            },
            "type": "scattergl"
           }
          ],
          "scattermapbox": [
           {
            "marker": {
             "colorbar": {
              "outlinewidth": 0,
              "ticks": ""
             }
            },
            "type": "scattermapbox"
           }
          ],
          "scatterpolar": [
           {
            "marker": {
             "colorbar": {
              "outlinewidth": 0,
              "ticks": ""
             }
            },
            "type": "scatterpolar"
           }
          ],
          "scatterpolargl": [
           {
            "marker": {
             "colorbar": {
              "outlinewidth": 0,
              "ticks": ""
             }
            },
            "type": "scatterpolargl"
           }
          ],
          "scatterternary": [
           {
            "marker": {
             "colorbar": {
              "outlinewidth": 0,
              "ticks": ""
             }
            },
            "type": "scatterternary"
           }
          ],
          "surface": [
           {
            "colorbar": {
             "outlinewidth": 0,
             "ticks": ""
            },
            "colorscale": [
             [
              0,
              "#0d0887"
             ],
             [
              0.1111111111111111,
              "#46039f"
             ],
             [
              0.2222222222222222,
              "#7201a8"
             ],
             [
              0.3333333333333333,
              "#9c179e"
             ],
             [
              0.4444444444444444,
              "#bd3786"
             ],
             [
              0.5555555555555556,
              "#d8576b"
             ],
             [
              0.6666666666666666,
              "#ed7953"
             ],
             [
              0.7777777777777778,
              "#fb9f3a"
             ],
             [
              0.8888888888888888,
              "#fdca26"
             ],
             [
              1,
              "#f0f921"
             ]
            ],
            "type": "surface"
           }
          ],
          "table": [
           {
            "cells": {
             "fill": {
              "color": "#EBF0F8"
             },
             "line": {
              "color": "white"
             }
            },
            "header": {
             "fill": {
              "color": "#C8D4E3"
             },
             "line": {
              "color": "white"
             }
            },
            "type": "table"
           }
          ]
         },
         "layout": {
          "annotationdefaults": {
           "arrowcolor": "#2a3f5f",
           "arrowhead": 0,
           "arrowwidth": 1
          },
          "autotypenumbers": "strict",
          "coloraxis": {
           "colorbar": {
            "outlinewidth": 0,
            "ticks": ""
           }
          },
          "colorscale": {
           "diverging": [
            [
             0,
             "#8e0152"
            ],
            [
             0.1,
             "#c51b7d"
            ],
            [
             0.2,
             "#de77ae"
            ],
            [
             0.3,
             "#f1b6da"
            ],
            [
             0.4,
             "#fde0ef"
            ],
            [
             0.5,
             "#f7f7f7"
            ],
            [
             0.6,
             "#e6f5d0"
            ],
            [
             0.7,
             "#b8e186"
            ],
            [
             0.8,
             "#7fbc41"
            ],
            [
             0.9,
             "#4d9221"
            ],
            [
             1,
             "#276419"
            ]
           ],
           "sequential": [
            [
             0,
             "#0d0887"
            ],
            [
             0.1111111111111111,
             "#46039f"
            ],
            [
             0.2222222222222222,
             "#7201a8"
            ],
            [
             0.3333333333333333,
             "#9c179e"
            ],
            [
             0.4444444444444444,
             "#bd3786"
            ],
            [
             0.5555555555555556,
             "#d8576b"
            ],
            [
             0.6666666666666666,
             "#ed7953"
            ],
            [
             0.7777777777777778,
             "#fb9f3a"
            ],
            [
             0.8888888888888888,
             "#fdca26"
            ],
            [
             1,
             "#f0f921"
            ]
           ],
           "sequentialminus": [
            [
             0,
             "#0d0887"
            ],
            [
             0.1111111111111111,
             "#46039f"
            ],
            [
             0.2222222222222222,
             "#7201a8"
            ],
            [
             0.3333333333333333,
             "#9c179e"
            ],
            [
             0.4444444444444444,
             "#bd3786"
            ],
            [
             0.5555555555555556,
             "#d8576b"
            ],
            [
             0.6666666666666666,
             "#ed7953"
            ],
            [
             0.7777777777777778,
             "#fb9f3a"
            ],
            [
             0.8888888888888888,
             "#fdca26"
            ],
            [
             1,
             "#f0f921"
            ]
           ]
          },
          "colorway": [
           "#636efa",
           "#EF553B",
           "#00cc96",
           "#ab63fa",
           "#FFA15A",
           "#19d3f3",
           "#FF6692",
           "#B6E880",
           "#FF97FF",
           "#FECB52"
          ],
          "font": {
           "color": "#2a3f5f"
          },
          "geo": {
           "bgcolor": "white",
           "lakecolor": "white",
           "landcolor": "#E5ECF6",
           "showlakes": true,
           "showland": true,
           "subunitcolor": "white"
          },
          "hoverlabel": {
           "align": "left"
          },
          "hovermode": "closest",
          "mapbox": {
           "style": "light"
          },
          "paper_bgcolor": "white",
          "plot_bgcolor": "#E5ECF6",
          "polar": {
           "angularaxis": {
            "gridcolor": "white",
            "linecolor": "white",
            "ticks": ""
           },
           "bgcolor": "#E5ECF6",
           "radialaxis": {
            "gridcolor": "white",
            "linecolor": "white",
            "ticks": ""
           }
          },
          "scene": {
           "xaxis": {
            "backgroundcolor": "#E5ECF6",
            "gridcolor": "white",
            "gridwidth": 2,
            "linecolor": "white",
            "showbackground": true,
            "ticks": "",
            "zerolinecolor": "white"
           },
           "yaxis": {
            "backgroundcolor": "#E5ECF6",
            "gridcolor": "white",
            "gridwidth": 2,
            "linecolor": "white",
            "showbackground": true,
            "ticks": "",
            "zerolinecolor": "white"
           },
           "zaxis": {
            "backgroundcolor": "#E5ECF6",
            "gridcolor": "white",
            "gridwidth": 2,
            "linecolor": "white",
            "showbackground": true,
            "ticks": "",
            "zerolinecolor": "white"
           }
          },
          "shapedefaults": {
           "line": {
            "color": "#2a3f5f"
           }
          },
          "ternary": {
           "aaxis": {
            "gridcolor": "white",
            "linecolor": "white",
            "ticks": ""
           },
           "baxis": {
            "gridcolor": "white",
            "linecolor": "white",
            "ticks": ""
           },
           "bgcolor": "#E5ECF6",
           "caxis": {
            "gridcolor": "white",
            "linecolor": "white",
            "ticks": ""
           }
          },
          "title": {
           "x": 0.05
          },
          "xaxis": {
           "automargin": true,
           "gridcolor": "white",
           "linecolor": "white",
           "ticks": "",
           "title": {
            "standoff": 15
           },
           "zerolinecolor": "white",
           "zerolinewidth": 2
          },
          "yaxis": {
           "automargin": true,
           "gridcolor": "white",
           "linecolor": "white",
           "ticks": "",
           "title": {
            "standoff": 15
           },
           "zerolinecolor": "white",
           "zerolinewidth": 2
          }
         }
        },
        "title": {
         "font": {
          "family": "serif",
          "size": 20
         },
         "text": "Best hole cards flavors for 2 Players"
        },
        "xaxis": {
         "anchor": "y",
         "domain": [
          0,
          1
         ],
         "showgrid": false,
         "title": {
          "text": ""
         }
        },
        "yaxis": {
         "anchor": "x",
         "domain": [
          0,
          1
         ],
         "range": [
          0,
          1
         ],
         "showgrid": false,
         "showticklabels": false,
         "title": {
          "text": ""
         }
        }
       }
      }
     },
     "metadata": {},
     "output_type": "display_data"
    },
    {
     "name": "stderr",
     "output_type": "stream",
     "text": [
      "INFO: Not saving plot - pass save_plot=True to save it.\n"
     ]
    }
   ],
   "source": [
    "import importlib\n",
    "import src.plot_data\n",
    "\n",
    "importlib.reload(src.plot_data)\n",
    "\n",
    "from src.plot_data import plot_data\n",
    "\n",
    "\n",
    "plot_data(show_plot=True)"
   ]
  },
  {
   "cell_type": "code",
   "execution_count": null,
   "metadata": {},
   "outputs": [],
   "source": []
  }
 ],
 "metadata": {
  "kernelspec": {
   "display_name": ".venv",
   "language": "python",
   "name": "python3"
  },
  "language_info": {
   "codemirror_mode": {
    "name": "ipython",
    "version": 3
   },
   "file_extension": ".py",
   "mimetype": "text/x-python",
   "name": "python",
   "nbconvert_exporter": "python",
   "pygments_lexer": "ipython3",
   "version": "3.12.0"
  }
 },
 "nbformat": 4,
 "nbformat_minor": 2
}
