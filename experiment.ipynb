{
 "cells": [
  {
   "cell_type": "code",
   "execution_count": 3,
   "metadata": {},
   "outputs": [
    {
     "name": "stderr",
     "output_type": "stream",
     "text": [
      "INFO: Making plotly figure and axis objects\n",
      "c:\\Users\\david\\Documents\\Projects\\holdem_simulator\\src\\plot_builders_plotly.py:158: SettingWithCopyWarning:\n",
      "\n",
      "\n",
      "A value is trying to be set on a copy of a slice from a DataFrame.\n",
      "Try using .loc[row_indexer,col_indexer] = value instead\n",
      "\n",
      "See the caveats in the documentation: https://pandas.pydata.org/pandas-docs/stable/user_guide/indexing.html#returning-a-view-versus-a-copy\n",
      "\n",
      "INFO: Sorting data frame ascending by n_players\n",
      "INFO: Sorting data frame descending by win ratio, win ratio rounded down to nearest 5%\n",
      "INFO: Showing plot object\n"
     ]
    },
    {
     "data": {
      "application/vnd.plotly.v1+json": {
       "config": {
        "plotlyServerURL": "https://plot.ly"
       },
       "data": [
        {
         "alignmentgroup": "True",
         "customdata": [
          [
           0.8575
          ],
          [
           0.8321
          ],
          [
           0.7952
          ],
          [
           0.7839
          ],
          [
           0.7734
          ],
          [
           0.7123
          ],
          [
           0.7041
          ],
          [
           0.6968
          ],
          [
           0.6753
          ],
          [
           0.6676
          ],
          [
           0.6667
          ],
          [
           0.6664
          ],
          [
           0.665
          ],
          [
           0.6639
          ],
          [
           0.66
          ],
          [
           0.6553
          ],
          [
           0.6495
          ],
          [
           0.6435
          ],
          [
           0.6415
          ],
          [
           0.6393
          ],
          [
           0.6391
          ],
          [
           0.6386
          ],
          [
           0.6213
          ],
          [
           0.6206
          ],
          [
           0.619
          ],
          [
           0.6183
          ],
          [
           0.6175
          ],
          [
           0.6168
          ],
          [
           0.6149
          ],
          [
           0.6132
          ],
          [
           0.6129
          ],
          [
           0.611
          ],
          [
           0.6105
          ],
          [
           0.6099
          ],
          [
           0.6086
          ],
          [
           0.6073
          ],
          [
           0.6046
          ],
          [
           0.6016
          ],
          [
           0.5998
          ],
          [
           0.5998
          ],
          [
           0.5978
          ],
          [
           0.5972
          ],
          [
           0.5958
          ],
          [
           0.5958
          ],
          [
           0.5874
          ],
          [
           0.5867
          ],
          [
           0.5858
          ],
          [
           0.5856
          ],
          [
           0.5824
          ],
          [
           0.5799
          ],
          [
           0.5758
          ],
          [
           0.5742
          ],
          [
           0.574
          ],
          [
           0.5735
          ],
          [
           0.5732
          ],
          [
           0.5712
          ],
          [
           0.5688
          ],
          [
           0.5652
          ],
          [
           0.564
          ],
          [
           0.5635
          ],
          [
           0.5625
          ],
          [
           0.5606
          ],
          [
           0.5599
          ],
          [
           0.5592
          ],
          [
           0.5572
          ],
          [
           0.5562
          ],
          [
           0.5559
          ],
          [
           0.5534
          ],
          [
           0.5534
          ],
          [
           0.552
          ],
          [
           0.5485
          ],
          [
           0.546
          ],
          [
           0.5456
          ],
          [
           0.5431
          ],
          [
           0.5428
          ],
          [
           0.5403
          ],
          [
           0.5388
          ],
          [
           0.5387
          ],
          [
           0.5326
          ],
          [
           0.5322
          ],
          [
           0.5319
          ],
          [
           0.5318
          ],
          [
           0.5305
          ],
          [
           0.5296
          ],
          [
           0.5288
          ],
          [
           0.5266
          ],
          [
           0.5242
          ],
          [
           0.5237
          ],
          [
           0.5232
          ],
          [
           0.5216
          ],
          [
           0.5191
          ],
          [
           0.5188
          ],
          [
           0.5166
          ],
          [
           0.5166
          ],
          [
           0.5163
          ],
          [
           0.5146
          ],
          [
           0.5078
          ],
          [
           0.5065
          ],
          [
           0.502
          ],
          [
           0.5009
          ],
          [
           0.4988
          ],
          [
           0.4979
          ],
          [
           0.4952
          ],
          [
           0.4951
          ],
          [
           0.4944
          ],
          [
           0.4939
          ],
          [
           0.4933
          ],
          [
           0.4916
          ],
          [
           0.4913
          ],
          [
           0.4885
          ],
          [
           0.488
          ],
          [
           0.4848
          ],
          [
           0.4848
          ],
          [
           0.4844
          ],
          [
           0.4814
          ],
          [
           0.4795
          ],
          [
           0.4793
          ],
          [
           0.4777
          ],
          [
           0.4764
          ],
          [
           0.4693
          ],
          [
           0.4687
          ],
          [
           0.4674
          ],
          [
           0.465
          ],
          [
           0.4646
          ],
          [
           0.464
          ],
          [
           0.4615
          ],
          [
           0.4602
          ],
          [
           0.4591
          ],
          [
           0.457
          ],
          [
           0.4563
          ],
          [
           0.4546
          ],
          [
           0.4497
          ],
          [
           0.4494
          ],
          [
           0.449
          ],
          [
           0.4428
          ],
          [
           0.4406
          ],
          [
           0.438
          ],
          [
           0.4375
          ],
          [
           0.4334
          ],
          [
           0.4281
          ],
          [
           0.4277
          ],
          [
           0.4276
          ],
          [
           0.4253
          ],
          [
           0.4235
          ],
          [
           0.4234
          ],
          [
           0.4197
          ],
          [
           0.4194
          ],
          [
           0.4186
          ],
          [
           0.4175
          ],
          [
           0.4141
          ],
          [
           0.4141
          ],
          [
           0.4126
          ],
          [
           0.4119
          ],
          [
           0.4019
          ],
          [
           0.401
          ],
          [
           0.4009
          ],
          [
           0.3978
          ],
          [
           0.3909
          ],
          [
           0.3898
          ],
          [
           0.3876
          ],
          [
           0.3876
          ],
          [
           0.3875
          ],
          [
           0.3867
          ],
          [
           0.3795
          ],
          [
           0.3772
          ],
          [
           0.3722
          ],
          [
           0.3692
          ],
          [
           0.3681
          ],
          [
           0.3523
          ]
         ],
         "hovertemplate": "hole cards flavor=%{x}<br>win ratio rounded down to nearest 5%=%{y:.0%}<br>win ratio=%{customdata[0]:.2%}<br>appearances=%{marker.color}<extra></extra>",
         "legendgroup": "",
         "marker": {
          "color": [
           1782,
           1793,
           1821,
           1772,
           1898,
           1870,
           1744,
           1692,
           1281,
           3646,
           1188,
           1157,
           3582,
           1187,
           1197,
           1178,
           1789,
           1178,
           3623,
           3596,
           1100,
           1165,
           1175,
           3571,
           1231,
           3581,
           1260,
           1182,
           1153,
           1197,
           3756,
           1198,
           3556,
           3679,
           3623,
           1151,
           1186,
           3569,
           3593,
           1744,
           1206,
           3553,
           3585,
           1232,
           3667,
           3562,
           1236,
           1221,
           1281,
           1195,
           3654,
           1254,
           3697,
           1245,
           1237,
           1819,
           3641,
           1173,
           3784,
           1189,
           3586,
           3603,
           1161,
           1225,
           3489,
           3594,
           1225,
           3612,
           3533,
           3594,
           1185,
           1260,
           1140,
           1810,
           1227,
           1216,
           1199,
           1162,
           1196,
           3615,
           3642,
           1824,
           3608,
           3552,
           1199,
           3536,
           1238,
           1268,
           3649,
           3549,
           1202,
           3570,
           1206,
           1206,
           1166,
           3634,
           3645,
           1226,
           1231,
           3713,
           1245,
           3621,
           3526,
           1232,
           1169,
           1306,
           1261,
           3631,
           3576,
           1308,
           1209,
           3655,
           3616,
           1119,
           3652,
           1197,
           3626,
           3609,
           3650,
           3605,
           1199,
           3680,
           3645,
           1216,
           3698,
           3606,
           3572,
           3546,
           1199,
           1166,
           1223,
           3609,
           1246,
           1216,
           3735,
           1212,
           1178,
           1184,
           3528,
           1189,
           3582,
           3627,
           3776,
           3691,
           1207,
           3636,
           1185,
           3650,
           3650,
           1222,
           1176,
           3587,
           1294,
           3655,
           3621,
           3642,
           1209,
           3617,
           3661,
           1197,
           3692,
           3572,
           1244,
           1183,
           3632,
           3678,
           3592,
           3581,
           3710
          ],
          "coloraxis": "coloraxis",
          "pattern": {
           "shape": ""
          }
         },
         "name": "",
         "offsetgroup": "",
         "orientation": "v",
         "showlegend": false,
         "textposition": "auto",
         "type": "bar",
         "x": [
          "Aces paired",
          "Kings paired",
          "Queens paired",
          "Jacks paired",
          "10s paired",
          "8s paired",
          "9s paired",
          "7s paired",
          "Ace, Queen suited",
          "Ace, 10 off suit",
          "Ace, Jack suited",
          "Ace, 10 suited",
          "Ace, King off suit",
          "Ace, King suited",
          "King, Queen suited",
          "Ace, 9 suited",
          "6s paired",
          "King, Jack suited",
          "Ace, Queen off suit",
          "Ace, Jack off suit",
          "Ace, 8 suited",
          "Ace, 7 suited",
          "King, 10 suited",
          "King, Jack off suit",
          "Ace, 5 suited",
          "King, Queen off suit",
          "Ace, 3 suited",
          "King, 8 suited",
          "King, 9 suited",
          "Queen, Jack suited",
          "Ace, 9 off suit",
          "Ace, 6 suited",
          "Ace, 8 off suit",
          "Ace, 7 off suit",
          "King, 10 off suit",
          "King, 7 suited",
          "Ace, 4 suited",
          "Ace, 5 off suit",
          "Ace, 6 off suit",
          "5s paired",
          "King, 4 suited",
          "King, 9 off suit",
          "Queen, 10 off suit",
          "Jack, 10 suited",
          "Ace, 4 off suit",
          "Queen, Jack off suit",
          "Queen, 8 suited",
          "Queen, 10 suited",
          "Queen, 9 suited",
          "King, 6 suited",
          "King, 6 off suit",
          "Ace, 2 suited",
          "Ace, 3 off suit",
          "Jack, 8 suited",
          "King, 5 suited",
          "4s paired",
          "King, 8 off suit",
          "King, 3 suited",
          "Jack, 10 off suit",
          "Queen, 3 suited",
          "Jack, 9 off suit",
          "King, 4 off suit",
          "Jack, 9 suited",
          "Jack, 7 suited",
          "Queen, 8 off suit",
          "Queen, 9 off suit",
          "Queen, 5 suited",
          "King, 7 off suit",
          "King, 5 off suit",
          "Ace, 2 off suit",
          "Queen, 4 suited",
          "Queen, 7 suited",
          "Queen, 6 suited",
          "3s paired",
          "King, 2 suited",
          "Jack, 4 suited",
          "10, 8 suited",
          "9, 8 suited",
          "10, 7 suited",
          "10, 9 off suit",
          "Jack, 8 off suit",
          "2s paired",
          "King, 2 off suit",
          "Queen, 6 off suit",
          "Jack, 6 suited",
          "King, 3 off suit",
          "Jack, 3 suited",
          "10, 9 suited",
          "Queen, 7 off suit",
          "Queen, 5 off suit",
          "9, 7 suited",
          "Jack, 7 off suit",
          "10, 6 suited",
          "Queen, 2 suited",
          "8, 6 suited",
          "9, 8 off suit",
          "Queen, 4 off suit",
          "Jack, 5 suited",
          "8, 7 suited",
          "10, 7 off suit",
          "10, 5 suited",
          "Queen, 3 off suit",
          "10, 8 off suit",
          "Jack, 2 suited",
          "10, 2 suited",
          "9, 6 suited",
          "9, 5 suited",
          "Jack, 5 off suit",
          "Jack, 4 off suit",
          "7, 6 suited",
          "8, 5 suited",
          "Jack, 3 off suit",
          "Queen, 2 off suit",
          "9, 4 suited",
          "10, 6 off suit",
          "6, 5 suited",
          "9, 7 off suit",
          "8, 7 off suit",
          "Jack, 6 off suit",
          "9, 6 off suit",
          "7, 5 suited",
          "10, 5 off suit",
          "10, 3 off suit",
          "7, 4 suited",
          "Jack, 2 off suit",
          "7, 6 off suit",
          "10, 4 off suit",
          "9, 5 off suit",
          "9, 3 suited",
          "10, 3 suited",
          "8, 2 suited",
          "8, 6 off suit",
          "5, 4 suited",
          "10, 4 suited",
          "8, 5 off suit",
          "6, 4 suited",
          "9, 2 suited",
          "8, 4 suited",
          "7, 5 off suit",
          "8, 3 suited",
          "10, 2 off suit",
          "9, 4 off suit",
          "8, 4 off suit",
          "5, 4 off suit",
          "4, 3 suited",
          "6, 5 off suit",
          "5, 3 suited",
          "9, 3 off suit",
          "9, 2 off suit",
          "5, 2 suited",
          "6, 3 suited",
          "6, 4 off suit",
          "7, 2 suited",
          "8, 2 off suit",
          "7, 4 off suit",
          "8, 3 off suit",
          "7, 3 suited",
          "5, 3 off suit",
          "6, 3 off suit",
          "4, 2 suited",
          "4, 3 off suit",
          "7, 2 off suit",
          "6, 2 suited",
          "3, 2 suited",
          "6, 2 off suit",
          "7, 3 off suit",
          "5, 2 off suit",
          "3, 2 off suit",
          "4, 2 off suit"
         ],
         "xaxis": "x",
         "y": [
          0.8500000000000001,
          0.8,
          0.75,
          0.75,
          0.75,
          0.7000000000000001,
          0.7000000000000001,
          0.65,
          0.65,
          0.65,
          0.65,
          0.65,
          0.65,
          0.65,
          0.65,
          0.65,
          0.6000000000000001,
          0.6000000000000001,
          0.6000000000000001,
          0.6000000000000001,
          0.6000000000000001,
          0.6000000000000001,
          0.6000000000000001,
          0.6000000000000001,
          0.6000000000000001,
          0.6000000000000001,
          0.6000000000000001,
          0.6000000000000001,
          0.6000000000000001,
          0.6000000000000001,
          0.6000000000000001,
          0.6000000000000001,
          0.6000000000000001,
          0.6000000000000001,
          0.6000000000000001,
          0.6000000000000001,
          0.6000000000000001,
          0.6000000000000001,
          0.55,
          0.55,
          0.55,
          0.55,
          0.55,
          0.55,
          0.55,
          0.55,
          0.55,
          0.55,
          0.55,
          0.55,
          0.55,
          0.55,
          0.55,
          0.55,
          0.55,
          0.55,
          0.55,
          0.55,
          0.55,
          0.55,
          0.55,
          0.55,
          0.55,
          0.55,
          0.55,
          0.55,
          0.55,
          0.55,
          0.55,
          0.55,
          0.5,
          0.5,
          0.5,
          0.5,
          0.5,
          0.5,
          0.5,
          0.5,
          0.5,
          0.5,
          0.5,
          0.5,
          0.5,
          0.5,
          0.5,
          0.5,
          0.5,
          0.5,
          0.5,
          0.5,
          0.5,
          0.5,
          0.5,
          0.5,
          0.5,
          0.5,
          0.5,
          0.5,
          0.5,
          0.5,
          0.45,
          0.45,
          0.45,
          0.45,
          0.45,
          0.45,
          0.45,
          0.45,
          0.45,
          0.45,
          0.45,
          0.45,
          0.45,
          0.45,
          0.45,
          0.45,
          0.45,
          0.45,
          0.45,
          0.45,
          0.45,
          0.45,
          0.45,
          0.45,
          0.45,
          0.45,
          0.45,
          0.45,
          0.45,
          0.45,
          0.45,
          0.4,
          0.4,
          0.4,
          0.4,
          0.4,
          0.4,
          0.4,
          0.4,
          0.4,
          0.4,
          0.4,
          0.4,
          0.4,
          0.4,
          0.4,
          0.4,
          0.4,
          0.4,
          0.4,
          0.4,
          0.4,
          0.4,
          0.4,
          0.4,
          0.4,
          0.35,
          0.35,
          0.35,
          0.35,
          0.35,
          0.35,
          0.35,
          0.35,
          0.35,
          0.35,
          0.35,
          0.35,
          0.35
         ],
         "yaxis": "y"
        },
        {
         "line": {
          "color": "red",
          "width": 1
         },
         "mode": "lines",
         "name": "Likely Win/Lose Threshold",
         "showlegend": true,
         "type": "scatter",
         "x": [
          null
         ],
         "y": [
          null
         ]
        }
       ],
       "layout": {
        "barmode": "relative",
        "coloraxis": {
         "colorbar": {
          "thickness": 10,
          "tickfont": {
           "family": "monospace",
           "size": 12
          },
          "title": {
           "font": {
            "family": "sans-serif",
            "size": 14
           },
           "text": "Appearances"
          }
         },
         "colorscale": [
          [
           0,
           "#fcfdbf"
          ],
          [
           0.1111111111111111,
           "#feca8d"
          ],
          [
           0.2222222222222222,
           "#fd9668"
          ],
          [
           0.3333333333333333,
           "#f1605d"
          ],
          [
           0.4444444444444444,
           "#cd4071"
          ],
          [
           0.5555555555555556,
           "#9e2f7f"
          ],
          [
           0.6666666666666666,
           "#721f81"
          ],
          [
           0.7777777777777778,
           "#440f76"
          ],
          [
           0.8888888888888888,
           "#180f3d"
          ],
          [
           1,
           "#000004"
          ]
         ]
        },
        "legend": {
         "font": {
          "family": "sans-serif",
          "size": 12
         },
         "tracegroupgap": 0,
         "x": 0.5,
         "xanchor": "center",
         "y": 0.99,
         "yanchor": "top"
        },
        "margin": {
         "t": 60
        },
        "plot_bgcolor": "white",
        "shapes": [
         {
          "line": {
           "color": "red",
           "width": 1
          },
          "type": "line",
          "x0": 0,
          "x1": 1,
          "xref": "paper",
          "y0": 0.495,
          "y1": 0.495,
          "yref": "y"
         },
         {
          "fillcolor": "limegreen",
          "layer": "below",
          "line": {
           "width": 0
          },
          "opacity": 0.1,
          "type": "rect",
          "x0": 0,
          "x1": 1,
          "xref": "paper",
          "y0": 0.495,
          "y1": 1,
          "yref": "y"
         },
         {
          "fillcolor": "red",
          "layer": "below",
          "line": {
           "width": 0
          },
          "opacity": 0.1,
          "type": "rect",
          "x0": 0,
          "x1": 1,
          "xref": "paper",
          "y0": 0,
          "y1": 0.495,
          "yref": "y"
         }
        ],
        "template": {
         "data": {
          "bar": [
           {
            "error_x": {
             "color": "#2a3f5f"
            },
            "error_y": {
             "color": "#2a3f5f"
            },
            "marker": {
             "line": {
              "color": "#E5ECF6",
              "width": 0.5
             },
             "pattern": {
              "fillmode": "overlay",
              "size": 10,
              "solidity": 0.2
             }
            },
            "type": "bar"
           }
          ],
          "barpolar": [
           {
            "marker": {
             "line": {
              "color": "#E5ECF6",
              "width": 0.5
             },
             "pattern": {
              "fillmode": "overlay",
              "size": 10,
              "solidity": 0.2
             }
            },
            "type": "barpolar"
           }
          ],
          "carpet": [
           {
            "aaxis": {
             "endlinecolor": "#2a3f5f",
             "gridcolor": "white",
             "linecolor": "white",
             "minorgridcolor": "white",
             "startlinecolor": "#2a3f5f"
            },
            "baxis": {
             "endlinecolor": "#2a3f5f",
             "gridcolor": "white",
             "linecolor": "white",
             "minorgridcolor": "white",
             "startlinecolor": "#2a3f5f"
            },
            "type": "carpet"
           }
          ],
          "choropleth": [
           {
            "colorbar": {
             "outlinewidth": 0,
             "ticks": ""
            },
            "type": "choropleth"
           }
          ],
          "contour": [
           {
            "colorbar": {
             "outlinewidth": 0,
             "ticks": ""
            },
            "colorscale": [
             [
              0,
              "#0d0887"
             ],
             [
              0.1111111111111111,
              "#46039f"
             ],
             [
              0.2222222222222222,
              "#7201a8"
             ],
             [
              0.3333333333333333,
              "#9c179e"
             ],
             [
              0.4444444444444444,
              "#bd3786"
             ],
             [
              0.5555555555555556,
              "#d8576b"
             ],
             [
              0.6666666666666666,
              "#ed7953"
             ],
             [
              0.7777777777777778,
              "#fb9f3a"
             ],
             [
              0.8888888888888888,
              "#fdca26"
             ],
             [
              1,
              "#f0f921"
             ]
            ],
            "type": "contour"
           }
          ],
          "contourcarpet": [
           {
            "colorbar": {
             "outlinewidth": 0,
             "ticks": ""
            },
            "type": "contourcarpet"
           }
          ],
          "heatmap": [
           {
            "colorbar": {
             "outlinewidth": 0,
             "ticks": ""
            },
            "colorscale": [
             [
              0,
              "#0d0887"
             ],
             [
              0.1111111111111111,
              "#46039f"
             ],
             [
              0.2222222222222222,
              "#7201a8"
             ],
             [
              0.3333333333333333,
              "#9c179e"
             ],
             [
              0.4444444444444444,
              "#bd3786"
             ],
             [
              0.5555555555555556,
              "#d8576b"
             ],
             [
              0.6666666666666666,
              "#ed7953"
             ],
             [
              0.7777777777777778,
              "#fb9f3a"
             ],
             [
              0.8888888888888888,
              "#fdca26"
             ],
             [
              1,
              "#f0f921"
             ]
            ],
            "type": "heatmap"
           }
          ],
          "heatmapgl": [
           {
            "colorbar": {
             "outlinewidth": 0,
             "ticks": ""
            },
            "colorscale": [
             [
              0,
              "#0d0887"
             ],
             [
              0.1111111111111111,
              "#46039f"
             ],
             [
              0.2222222222222222,
              "#7201a8"
             ],
             [
              0.3333333333333333,
              "#9c179e"
             ],
             [
              0.4444444444444444,
              "#bd3786"
             ],
             [
              0.5555555555555556,
              "#d8576b"
             ],
             [
              0.6666666666666666,
              "#ed7953"
             ],
             [
              0.7777777777777778,
              "#fb9f3a"
             ],
             [
              0.8888888888888888,
              "#fdca26"
             ],
             [
              1,
              "#f0f921"
             ]
            ],
            "type": "heatmapgl"
           }
          ],
          "histogram": [
           {
            "marker": {
             "pattern": {
              "fillmode": "overlay",
              "size": 10,
              "solidity": 0.2
             }
            },
            "type": "histogram"
           }
          ],
          "histogram2d": [
           {
            "colorbar": {
             "outlinewidth": 0,
             "ticks": ""
            },
            "colorscale": [
             [
              0,
              "#0d0887"
             ],
             [
              0.1111111111111111,
              "#46039f"
             ],
             [
              0.2222222222222222,
              "#7201a8"
             ],
             [
              0.3333333333333333,
              "#9c179e"
             ],
             [
              0.4444444444444444,
              "#bd3786"
             ],
             [
              0.5555555555555556,
              "#d8576b"
             ],
             [
              0.6666666666666666,
              "#ed7953"
             ],
             [
              0.7777777777777778,
              "#fb9f3a"
             ],
             [
              0.8888888888888888,
              "#fdca26"
             ],
             [
              1,
              "#f0f921"
             ]
            ],
            "type": "histogram2d"
           }
          ],
          "histogram2dcontour": [
           {
            "colorbar": {
             "outlinewidth": 0,
             "ticks": ""
            },
            "colorscale": [
             [
              0,
              "#0d0887"
             ],
             [
              0.1111111111111111,
              "#46039f"
             ],
             [
              0.2222222222222222,
              "#7201a8"
             ],
             [
              0.3333333333333333,
              "#9c179e"
             ],
             [
              0.4444444444444444,
              "#bd3786"
             ],
             [
              0.5555555555555556,
              "#d8576b"
             ],
             [
              0.6666666666666666,
              "#ed7953"
             ],
             [
              0.7777777777777778,
              "#fb9f3a"
             ],
             [
              0.8888888888888888,
              "#fdca26"
             ],
             [
              1,
              "#f0f921"
             ]
            ],
            "type": "histogram2dcontour"
           }
          ],
          "mesh3d": [
           {
            "colorbar": {
             "outlinewidth": 0,
             "ticks": ""
            },
            "type": "mesh3d"
           }
          ],
          "parcoords": [
           {
            "line": {
             "colorbar": {
              "outlinewidth": 0,
              "ticks": ""
             }
            },
            "type": "parcoords"
           }
          ],
          "pie": [
           {
            "automargin": true,
            "type": "pie"
           }
          ],
          "scatter": [
           {
            "fillpattern": {
             "fillmode": "overlay",
             "size": 10,
             "solidity": 0.2
            },
            "type": "scatter"
           }
          ],
          "scatter3d": [
           {
            "line": {
             "colorbar": {
              "outlinewidth": 0,
              "ticks": ""
             }
            },
            "marker": {
             "colorbar": {
              "outlinewidth": 0,
              "ticks": ""
             }
            },
            "type": "scatter3d"
           }
          ],
          "scattercarpet": [
           {
            "marker": {
             "colorbar": {
              "outlinewidth": 0,
              "ticks": ""
             }
            },
            "type": "scattercarpet"
           }
          ],
          "scattergeo": [
           {
            "marker": {
             "colorbar": {
              "outlinewidth": 0,
              "ticks": ""
             }
            },
            "type": "scattergeo"
           }
          ],
          "scattergl": [
           {
            "marker": {
             "colorbar": {
              "outlinewidth": 0,
              "ticks": ""
             }
            },
            "type": "scattergl"
           }
          ],
          "scattermapbox": [
           {
            "marker": {
             "colorbar": {
              "outlinewidth": 0,
              "ticks": ""
             }
            },
            "type": "scattermapbox"
           }
          ],
          "scatterpolar": [
           {
            "marker": {
             "colorbar": {
              "outlinewidth": 0,
              "ticks": ""
             }
            },
            "type": "scatterpolar"
           }
          ],
          "scatterpolargl": [
           {
            "marker": {
             "colorbar": {
              "outlinewidth": 0,
              "ticks": ""
             }
            },
            "type": "scatterpolargl"
           }
          ],
          "scatterternary": [
           {
            "marker": {
             "colorbar": {
              "outlinewidth": 0,
              "ticks": ""
             }
            },
            "type": "scatterternary"
           }
          ],
          "surface": [
           {
            "colorbar": {
             "outlinewidth": 0,
             "ticks": ""
            },
            "colorscale": [
             [
              0,
              "#0d0887"
             ],
             [
              0.1111111111111111,
              "#46039f"
             ],
             [
              0.2222222222222222,
              "#7201a8"
             ],
             [
              0.3333333333333333,
              "#9c179e"
             ],
             [
              0.4444444444444444,
              "#bd3786"
             ],
             [
              0.5555555555555556,
              "#d8576b"
             ],
             [
              0.6666666666666666,
              "#ed7953"
             ],
             [
              0.7777777777777778,
              "#fb9f3a"
             ],
             [
              0.8888888888888888,
              "#fdca26"
             ],
             [
              1,
              "#f0f921"
             ]
            ],
            "type": "surface"
           }
          ],
          "table": [
           {
            "cells": {
             "fill": {
              "color": "#EBF0F8"
             },
             "line": {
              "color": "white"
             }
            },
            "header": {
             "fill": {
              "color": "#C8D4E3"
             },
             "line": {
              "color": "white"
             }
            },
            "type": "table"
           }
          ]
         },
         "layout": {
          "annotationdefaults": {
           "arrowcolor": "#2a3f5f",
           "arrowhead": 0,
           "arrowwidth": 1
          },
          "autotypenumbers": "strict",
          "coloraxis": {
           "colorbar": {
            "outlinewidth": 0,
            "ticks": ""
           }
          },
          "colorscale": {
           "diverging": [
            [
             0,
             "#8e0152"
            ],
            [
             0.1,
             "#c51b7d"
            ],
            [
             0.2,
             "#de77ae"
            ],
            [
             0.3,
             "#f1b6da"
            ],
            [
             0.4,
             "#fde0ef"
            ],
            [
             0.5,
             "#f7f7f7"
            ],
            [
             0.6,
             "#e6f5d0"
            ],
            [
             0.7,
             "#b8e186"
            ],
            [
             0.8,
             "#7fbc41"
            ],
            [
             0.9,
             "#4d9221"
            ],
            [
             1,
             "#276419"
            ]
           ],
           "sequential": [
            [
             0,
             "#0d0887"
            ],
            [
             0.1111111111111111,
             "#46039f"
            ],
            [
             0.2222222222222222,
             "#7201a8"
            ],
            [
             0.3333333333333333,
             "#9c179e"
            ],
            [
             0.4444444444444444,
             "#bd3786"
            ],
            [
             0.5555555555555556,
             "#d8576b"
            ],
            [
             0.6666666666666666,
             "#ed7953"
            ],
            [
             0.7777777777777778,
             "#fb9f3a"
            ],
            [
             0.8888888888888888,
             "#fdca26"
            ],
            [
             1,
             "#f0f921"
            ]
           ],
           "sequentialminus": [
            [
             0,
             "#0d0887"
            ],
            [
             0.1111111111111111,
             "#46039f"
            ],
            [
             0.2222222222222222,
             "#7201a8"
            ],
            [
             0.3333333333333333,
             "#9c179e"
            ],
            [
             0.4444444444444444,
             "#bd3786"
            ],
            [
             0.5555555555555556,
             "#d8576b"
            ],
            [
             0.6666666666666666,
             "#ed7953"
            ],
            [
             0.7777777777777778,
             "#fb9f3a"
            ],
            [
             0.8888888888888888,
             "#fdca26"
            ],
            [
             1,
             "#f0f921"
            ]
           ]
          },
          "colorway": [
           "#636efa",
           "#EF553B",
           "#00cc96",
           "#ab63fa",
           "#FFA15A",
           "#19d3f3",
           "#FF6692",
           "#B6E880",
           "#FF97FF",
           "#FECB52"
          ],
          "font": {
           "color": "#2a3f5f"
          },
          "geo": {
           "bgcolor": "white",
           "lakecolor": "white",
           "landcolor": "#E5ECF6",
           "showlakes": true,
           "showland": true,
           "subunitcolor": "white"
          },
          "hoverlabel": {
           "align": "left"
          },
          "hovermode": "closest",
          "mapbox": {
           "style": "light"
          },
          "paper_bgcolor": "white",
          "plot_bgcolor": "#E5ECF6",
          "polar": {
           "angularaxis": {
            "gridcolor": "white",
            "linecolor": "white",
            "ticks": ""
           },
           "bgcolor": "#E5ECF6",
           "radialaxis": {
            "gridcolor": "white",
            "linecolor": "white",
            "ticks": ""
           }
          },
          "scene": {
           "xaxis": {
            "backgroundcolor": "#E5ECF6",
            "gridcolor": "white",
            "gridwidth": 2,
            "linecolor": "white",
            "showbackground": true,
            "ticks": "",
            "zerolinecolor": "white"
           },
           "yaxis": {
            "backgroundcolor": "#E5ECF6",
            "gridcolor": "white",
            "gridwidth": 2,
            "linecolor": "white",
            "showbackground": true,
            "ticks": "",
            "zerolinecolor": "white"
           },
           "zaxis": {
            "backgroundcolor": "#E5ECF6",
            "gridcolor": "white",
            "gridwidth": 2,
            "linecolor": "white",
            "showbackground": true,
            "ticks": "",
            "zerolinecolor": "white"
           }
          },
          "shapedefaults": {
           "line": {
            "color": "#2a3f5f"
           }
          },
          "ternary": {
           "aaxis": {
            "gridcolor": "white",
            "linecolor": "white",
            "ticks": ""
           },
           "baxis": {
            "gridcolor": "white",
            "linecolor": "white",
            "ticks": ""
           },
           "bgcolor": "#E5ECF6",
           "caxis": {
            "gridcolor": "white",
            "linecolor": "white",
            "ticks": ""
           }
          },
          "title": {
           "x": 0.05
          },
          "xaxis": {
           "automargin": true,
           "gridcolor": "white",
           "linecolor": "white",
           "ticks": "",
           "title": {
            "standoff": 15
           },
           "zerolinecolor": "white",
           "zerolinewidth": 2
          },
          "yaxis": {
           "automargin": true,
           "gridcolor": "white",
           "linecolor": "white",
           "ticks": "",
           "title": {
            "standoff": 15
           },
           "zerolinecolor": "white",
           "zerolinewidth": 2
          }
         }
        },
        "title": {
         "font": {
          "family": "serif",
          "size": 20
         },
         "text": "Best hole cards flavors for 2 Players"
        },
        "xaxis": {
         "anchor": "y",
         "domain": [
          0,
          1
         ],
         "showgrid": false,
         "title": {
          "text": ""
         }
        },
        "yaxis": {
         "anchor": "x",
         "domain": [
          0,
          1
         ],
         "range": [
          0,
          1
         ],
         "showgrid": false,
         "showticklabels": false,
         "title": {
          "text": ""
         }
        }
       }
      }
     },
     "metadata": {},
     "output_type": "display_data"
    },
    {
     "name": "stderr",
     "output_type": "stream",
     "text": [
      "INFO: Not saving plot - pass save_plot=True to save it.\n",
      "INFO: Making plotly figure and axis objects\n",
      "c:\\Users\\david\\Documents\\Projects\\holdem_simulator\\src\\plot_builders_plotly.py:158: SettingWithCopyWarning:\n",
      "\n",
      "\n",
      "A value is trying to be set on a copy of a slice from a DataFrame.\n",
      "Try using .loc[row_indexer,col_indexer] = value instead\n",
      "\n",
      "See the caveats in the documentation: https://pandas.pydata.org/pandas-docs/stable/user_guide/indexing.html#returning-a-view-versus-a-copy\n",
      "\n",
      "INFO: Sorting data frame ascending by n_players\n",
      "INFO: Sorting data frame descending by win ratio, win ratio rounded down to nearest 5%\n",
      "INFO: Showing plot object\n"
     ]
    },
    {
     "data": {
      "application/vnd.plotly.v1+json": {
       "config": {
        "plotlyServerURL": "https://plot.ly"
       },
       "data": [
        {
         "alignmentgroup": "True",
         "customdata": [
          [
           0.3153
          ],
          [
           0.2474
          ],
          [
           0.2352
          ],
          [
           0.2162
          ],
          [
           0.2095
          ],
          [
           0.2034
          ],
          [
           0.1984
          ],
          [
           0.1928
          ],
          [
           0.1898
          ],
          [
           0.1886
          ],
          [
           0.1878
          ],
          [
           0.1871
          ],
          [
           0.1856
          ],
          [
           0.1817
          ],
          [
           0.1794
          ],
          [
           0.1792
          ],
          [
           0.1788
          ],
          [
           0.1706
          ],
          [
           0.1695
          ],
          [
           0.1692
          ],
          [
           0.1685
          ],
          [
           0.1657
          ],
          [
           0.1638
          ],
          [
           0.1623
          ],
          [
           0.1613
          ],
          [
           0.1603
          ],
          [
           0.1576
          ],
          [
           0.1573
          ],
          [
           0.1573
          ],
          [
           0.1563
          ],
          [
           0.1542
          ],
          [
           0.1527
          ],
          [
           0.1526
          ],
          [
           0.1523
          ],
          [
           0.151
          ],
          [
           0.1504
          ],
          [
           0.1498
          ],
          [
           0.1496
          ],
          [
           0.1492
          ],
          [
           0.148
          ],
          [
           0.1458
          ],
          [
           0.1454
          ],
          [
           0.145
          ],
          [
           0.1449
          ],
          [
           0.1408
          ],
          [
           0.1407
          ],
          [
           0.1404
          ],
          [
           0.1387
          ],
          [
           0.1384
          ],
          [
           0.1382
          ],
          [
           0.1374
          ],
          [
           0.1369
          ],
          [
           0.1369
          ],
          [
           0.1366
          ],
          [
           0.1356
          ],
          [
           0.1352
          ],
          [
           0.1341
          ],
          [
           0.134
          ],
          [
           0.1339
          ],
          [
           0.1332
          ],
          [
           0.132
          ],
          [
           0.1318
          ],
          [
           0.1307
          ],
          [
           0.1303
          ],
          [
           0.13
          ],
          [
           0.1297
          ],
          [
           0.129
          ],
          [
           0.1289
          ],
          [
           0.1287
          ],
          [
           0.1273
          ],
          [
           0.1267
          ],
          [
           0.1265
          ],
          [
           0.1247
          ],
          [
           0.1243
          ],
          [
           0.1241
          ],
          [
           0.1239
          ],
          [
           0.1235
          ],
          [
           0.1233
          ],
          [
           0.1232
          ],
          [
           0.1229
          ],
          [
           0.1226
          ],
          [
           0.1223
          ],
          [
           0.1219
          ],
          [
           0.1211
          ],
          [
           0.1199
          ],
          [
           0.1194
          ],
          [
           0.1184
          ],
          [
           0.1173
          ],
          [
           0.1171
          ],
          [
           0.1165
          ],
          [
           0.1149
          ],
          [
           0.1146
          ],
          [
           0.1145
          ],
          [
           0.1128
          ],
          [
           0.1128
          ],
          [
           0.1126
          ],
          [
           0.1119
          ],
          [
           0.111
          ],
          [
           0.1088
          ],
          [
           0.1077
          ],
          [
           0.1075
          ],
          [
           0.1073
          ],
          [
           0.1062
          ],
          [
           0.1055
          ],
          [
           0.1054
          ],
          [
           0.1052
          ],
          [
           0.105
          ],
          [
           0.105
          ],
          [
           0.1043
          ],
          [
           0.1041
          ],
          [
           0.1029
          ],
          [
           0.1023
          ],
          [
           0.1017
          ],
          [
           0.1014
          ],
          [
           0.1011
          ],
          [
           0.101
          ],
          [
           0.1009
          ],
          [
           0.0995
          ],
          [
           0.0985
          ],
          [
           0.0983
          ],
          [
           0.0968
          ],
          [
           0.0966
          ],
          [
           0.096
          ],
          [
           0.096
          ],
          [
           0.0956
          ],
          [
           0.0954
          ],
          [
           0.0948
          ],
          [
           0.0946
          ],
          [
           0.0932
          ],
          [
           0.0931
          ],
          [
           0.0927
          ],
          [
           0.0921
          ],
          [
           0.0919
          ],
          [
           0.0917
          ],
          [
           0.0912
          ],
          [
           0.0907
          ],
          [
           0.0895
          ],
          [
           0.0885
          ],
          [
           0.0882
          ],
          [
           0.088
          ],
          [
           0.0877
          ],
          [
           0.0861
          ],
          [
           0.0848
          ],
          [
           0.0839
          ],
          [
           0.0837
          ],
          [
           0.0836
          ],
          [
           0.0828
          ],
          [
           0.0822
          ],
          [
           0.0781
          ],
          [
           0.0778
          ],
          [
           0.0759
          ],
          [
           0.0756
          ],
          [
           0.0754
          ],
          [
           0.0747
          ],
          [
           0.0741
          ],
          [
           0.0737
          ],
          [
           0.0733
          ],
          [
           0.0722
          ],
          [
           0.0715
          ],
          [
           0.0707
          ],
          [
           0.0702
          ],
          [
           0.0691
          ],
          [
           0.0661
          ],
          [
           0.0645
          ],
          [
           0.0631
          ],
          [
           0.0627
          ],
          [
           0.0626
          ],
          [
           0.0611
          ],
          [
           0.0552
          ]
         ],
         "hovertemplate": "hole cards flavor=%{x}<br>win ratio rounded down to nearest 5%=%{y:.0%}<br>win ratio=%{customdata[0]:.2%}<br>appearances=%{marker.color}<extra></extra>",
         "legendgroup": "",
         "marker": {
          "color": [
           2141,
           2211,
           2287,
           1494,
           1508,
           1485,
           2273,
           1416,
           1512,
           1538,
           1480,
           1507,
           1568,
           1519,
           4588,
           1512,
           2226,
           1501,
           4406,
           1554,
           1537,
           1539,
           4433,
           1491,
           2281,
           4435,
           1529,
           4558,
           1475,
           4409,
           1524,
           1467,
           4534,
           1490,
           2265,
           1523,
           1555,
           1477,
           1568,
           4554,
           1475,
           4505,
           1483,
           1574,
           1463,
           1521,
           1481,
           1543,
           1525,
           1483,
           4519,
           2220,
           1519,
           2247,
           1453,
           4587,
           1514,
           1492,
           2293,
           1456,
           1546,
           1510,
           1492,
           1450,
           1539,
           4386,
           1574,
           1552,
           4515,
           1500,
           4522,
           2229,
           1484,
           1505,
           1523,
           1606,
           1538,
           2222,
           1485,
           1465,
           4387,
           1505,
           4453,
           1552,
           4521,
           1558,
           1537,
           1551,
           4542,
           4591,
           1523,
           4652,
           2228,
           1445,
           4434,
           1527,
           4538,
           4559,
           4560,
           1550,
           4511,
           1538,
           1544,
           4540,
           4499,
           1454,
           4563,
           1562,
           4467,
           4486,
           4498,
           1515,
           4473,
           4555,
           4510,
           1426,
           4511,
           1488,
           4549,
           4569,
           4566,
           4443,
           4529,
           1542,
           1496,
           4516,
           1551,
           1437,
           1567,
           4438,
           4401,
           4560,
           1512,
           4556,
           4574,
           1533,
           4504,
           4518,
           4526,
           1534,
           4503,
           4446,
           4565,
           4614,
           4660,
           4531,
           4627,
           4686,
           4469,
           4537,
           4613,
           4618,
           4604,
           4496,
           4519,
           4467,
           4502,
           4516,
           4517,
           4412,
           4503,
           4527,
           4523,
           4606,
           4529,
           4526,
           4554,
           4550,
           4640
          ],
          "coloraxis": "coloraxis",
          "pattern": {
           "shape": ""
          }
         },
         "name": "",
         "offsetgroup": "",
         "orientation": "v",
         "showlegend": false,
         "textposition": "auto",
         "type": "bar",
         "x": [
          "Aces paired",
          "Kings paired",
          "Queens paired",
          "Ace, King suited",
          "Ace, Queen suited",
          "King, Queen suited",
          "Jacks paired",
          "Ace, Jack suited",
          "King, 10 suited",
          "Ace, 10 suited",
          "Queen, 10 suited",
          "Jack, 10 suited",
          "Queen, Jack suited",
          "King, Jack suited",
          "Ace, King off suit",
          "10, 9 suited",
          "10s paired",
          "Jack, 9 suited",
          "Ace, Queen off suit",
          "Ace, 8 suited",
          "Queen, 9 suited",
          "King, 9 suited",
          "King, Jack off suit",
          "Ace, 3 suited",
          "9s paired",
          "King, Queen off suit",
          "Ace, 5 suited",
          "Ace, 10 off suit",
          "Ace, 7 suited",
          "Ace, Jack off suit",
          "Ace, 6 suited",
          "King, 7 suited",
          "King, 10 off suit",
          "10, 8 suited",
          "8s paired",
          "King, 8 suited",
          "Ace, 9 suited",
          "Queen, 8 suited",
          "Ace, 4 suited",
          "Jack, 10 off suit",
          "Jack, 8 suited",
          "Queen, Jack off suit",
          "9, 8 suited",
          "9, 7 suited",
          "Queen, 7 suited",
          "Ace, 2 suited",
          "King, 6 suited",
          "Queen, 5 suited",
          "Queen, 6 suited",
          "8, 5 suited",
          "King, 9 off suit",
          "5s paired",
          "8, 7 suited",
          "7s paired",
          "6, 5 suited",
          "Queen, 10 off suit",
          "Queen, 3 suited",
          "King, 4 suited",
          "6s paired",
          "8, 6 suited",
          "King, 5 suited",
          "King, 3 suited",
          "10, 7 suited",
          "10, 6 suited",
          "9, 6 suited",
          "10, 9 off suit",
          "10, 3 suited",
          "Queen, 2 suited",
          "Ace, 9 off suit",
          "King, 2 suited",
          "Ace, 5 off suit",
          "4s paired",
          "7, 5 suited",
          "10, 5 suited",
          "Queen, 4 suited",
          "Jack, 7 suited",
          "7, 4 suited",
          "2s paired",
          "7, 6 suited",
          "5, 2 suited",
          "Queen, 9 off suit",
          "4, 3 suited",
          "Ace, 8 off suit",
          "Jack, 6 suited",
          "Ace, 3 off suit",
          "Jack, 2 suited",
          "Jack, 5 suited",
          "Jack, 4 suited",
          "Jack, 9 off suit",
          "10, 8 off suit",
          "9, 5 suited",
          "Ace, 7 off suit",
          "3s paired",
          "5, 3 suited",
          "Jack, 8 off suit",
          "5, 4 suited",
          "Queen, 8 off suit",
          "Ace, 4 off suit",
          "Ace, 6 off suit",
          "10, 4 suited",
          "9, 8 off suit",
          "9, 2 suited",
          "Jack, 3 suited",
          "King, 8 off suit",
          "King, 6 off suit",
          "10, 2 suited",
          "King, 5 off suit",
          "9, 4 suited",
          "Jack, 7 off suit",
          "Ace, 2 off suit",
          "8, 7 off suit",
          "8, 4 suited",
          "10, 7 off suit",
          "King, 7 off suit",
          "9, 7 off suit",
          "6, 4 suited",
          "7, 6 off suit",
          "8, 2 suited",
          "8, 6 off suit",
          "King, 4 off suit",
          "Queen, 5 off suit",
          "7, 5 off suit",
          "6, 5 off suit",
          "7, 2 suited",
          "9, 3 suited",
          "King, 3 off suit",
          "6, 2 suited",
          "7, 3 suited",
          "6, 3 suited",
          "Queen, 6 off suit",
          "5, 3 off suit",
          "9, 6 off suit",
          "4, 2 suited",
          "Queen, 7 off suit",
          "5, 4 off suit",
          "8, 3 suited",
          "Queen, 3 off suit",
          "6, 4 off suit",
          "Jack, 5 off suit",
          "3, 2 suited",
          "Queen, 4 off suit",
          "King, 2 off suit",
          "8, 5 off suit",
          "Jack, 6 off suit",
          "10, 6 off suit",
          "7, 4 off suit",
          "Queen, 2 off suit",
          "4, 3 off suit",
          "Jack, 4 off suit",
          "10, 3 off suit",
          "4, 2 off suit",
          "10, 5 off suit",
          "10, 4 off suit",
          "6, 3 off suit",
          "7, 3 off suit",
          "5, 2 off suit",
          "9, 5 off suit",
          "Jack, 2 off suit",
          "Jack, 3 off suit",
          "8, 4 off suit",
          "10, 2 off suit",
          "6, 2 off suit",
          "9, 3 off suit",
          "8, 2 off suit",
          "3, 2 off suit",
          "9, 2 off suit",
          "9, 4 off suit",
          "8, 3 off suit",
          "7, 2 off suit"
         ],
         "xaxis": "x",
         "y": [
          0.3,
          0.2,
          0.2,
          0.2,
          0.2,
          0.2,
          0.15,
          0.15,
          0.15,
          0.15,
          0.15,
          0.15,
          0.15,
          0.15,
          0.15,
          0.15,
          0.15,
          0.15,
          0.15,
          0.15,
          0.15,
          0.15,
          0.15,
          0.15,
          0.15,
          0.15,
          0.15,
          0.15,
          0.15,
          0.15,
          0.15,
          0.15,
          0.15,
          0.15,
          0.15,
          0.15,
          0.1,
          0.1,
          0.1,
          0.1,
          0.1,
          0.1,
          0.1,
          0.1,
          0.1,
          0.1,
          0.1,
          0.1,
          0.1,
          0.1,
          0.1,
          0.1,
          0.1,
          0.1,
          0.1,
          0.1,
          0.1,
          0.1,
          0.1,
          0.1,
          0.1,
          0.1,
          0.1,
          0.1,
          0.1,
          0.1,
          0.1,
          0.1,
          0.1,
          0.1,
          0.1,
          0.1,
          0.1,
          0.1,
          0.1,
          0.1,
          0.1,
          0.1,
          0.1,
          0.1,
          0.1,
          0.1,
          0.1,
          0.1,
          0.1,
          0.1,
          0.1,
          0.1,
          0.1,
          0.1,
          0.1,
          0.1,
          0.1,
          0.1,
          0.1,
          0.1,
          0.1,
          0.1,
          0.1,
          0.1,
          0.1,
          0.1,
          0.1,
          0.1,
          0.1,
          0.1,
          0.1,
          0.1,
          0.1,
          0.1,
          0.1,
          0.1,
          0.1,
          0.1,
          0.1,
          0.1,
          0.1,
          0.05,
          0.05,
          0.05,
          0.05,
          0.05,
          0.05,
          0.05,
          0.05,
          0.05,
          0.05,
          0.05,
          0.05,
          0.05,
          0.05,
          0.05,
          0.05,
          0.05,
          0.05,
          0.05,
          0.05,
          0.05,
          0.05,
          0.05,
          0.05,
          0.05,
          0.05,
          0.05,
          0.05,
          0.05,
          0.05,
          0.05,
          0.05,
          0.05,
          0.05,
          0.05,
          0.05,
          0.05,
          0.05,
          0.05,
          0.05,
          0.05,
          0.05,
          0.05,
          0.05,
          0.05,
          0.05,
          0.05,
          0.05,
          0.05,
          0.05,
          0.05,
          0.05
         ],
         "yaxis": "y"
        },
        {
         "line": {
          "color": "red",
          "width": 1
         },
         "mode": "lines",
         "name": "Likely Win/Lose Threshold",
         "showlegend": true,
         "type": "scatter",
         "x": [
          null
         ],
         "y": [
          null
         ]
        }
       ],
       "layout": {
        "barmode": "relative",
        "coloraxis": {
         "colorbar": {
          "thickness": 10,
          "tickfont": {
           "family": "monospace",
           "size": 12
          },
          "title": {
           "font": {
            "family": "sans-serif",
            "size": 14
           },
           "text": "Appearances"
          }
         },
         "colorscale": [
          [
           0,
           "#fcfdbf"
          ],
          [
           0.1111111111111111,
           "#feca8d"
          ],
          [
           0.2222222222222222,
           "#fd9668"
          ],
          [
           0.3333333333333333,
           "#f1605d"
          ],
          [
           0.4444444444444444,
           "#cd4071"
          ],
          [
           0.5555555555555556,
           "#9e2f7f"
          ],
          [
           0.6666666666666666,
           "#721f81"
          ],
          [
           0.7777777777777778,
           "#440f76"
          ],
          [
           0.8888888888888888,
           "#180f3d"
          ],
          [
           1,
           "#000004"
          ]
         ]
        },
        "legend": {
         "font": {
          "family": "sans-serif",
          "size": 12
         },
         "tracegroupgap": 0,
         "x": 0.5,
         "xanchor": "center",
         "y": 0.99,
         "yanchor": "top"
        },
        "margin": {
         "t": 60
        },
        "plot_bgcolor": "white",
        "shapes": [
         {
          "line": {
           "color": "red",
           "width": 1
          },
          "type": "line",
          "x0": 0,
          "x1": 1,
          "xref": "paper",
          "y0": 0.895,
          "y1": 0.895,
          "yref": "y"
         },
         {
          "fillcolor": "limegreen",
          "layer": "below",
          "line": {
           "width": 0
          },
          "opacity": 0.1,
          "type": "rect",
          "x0": 0,
          "x1": 1,
          "xref": "paper",
          "y0": 0.895,
          "y1": 1,
          "yref": "y"
         },
         {
          "fillcolor": "red",
          "layer": "below",
          "line": {
           "width": 0
          },
          "opacity": 0.1,
          "type": "rect",
          "x0": 0,
          "x1": 1,
          "xref": "paper",
          "y0": 0,
          "y1": 0.895,
          "yref": "y"
         }
        ],
        "template": {
         "data": {
          "bar": [
           {
            "error_x": {
             "color": "#2a3f5f"
            },
            "error_y": {
             "color": "#2a3f5f"
            },
            "marker": {
             "line": {
              "color": "#E5ECF6",
              "width": 0.5
             },
             "pattern": {
              "fillmode": "overlay",
              "size": 10,
              "solidity": 0.2
             }
            },
            "type": "bar"
           }
          ],
          "barpolar": [
           {
            "marker": {
             "line": {
              "color": "#E5ECF6",
              "width": 0.5
             },
             "pattern": {
              "fillmode": "overlay",
              "size": 10,
              "solidity": 0.2
             }
            },
            "type": "barpolar"
           }
          ],
          "carpet": [
           {
            "aaxis": {
             "endlinecolor": "#2a3f5f",
             "gridcolor": "white",
             "linecolor": "white",
             "minorgridcolor": "white",
             "startlinecolor": "#2a3f5f"
            },
            "baxis": {
             "endlinecolor": "#2a3f5f",
             "gridcolor": "white",
             "linecolor": "white",
             "minorgridcolor": "white",
             "startlinecolor": "#2a3f5f"
            },
            "type": "carpet"
           }
          ],
          "choropleth": [
           {
            "colorbar": {
             "outlinewidth": 0,
             "ticks": ""
            },
            "type": "choropleth"
           }
          ],
          "contour": [
           {
            "colorbar": {
             "outlinewidth": 0,
             "ticks": ""
            },
            "colorscale": [
             [
              0,
              "#0d0887"
             ],
             [
              0.1111111111111111,
              "#46039f"
             ],
             [
              0.2222222222222222,
              "#7201a8"
             ],
             [
              0.3333333333333333,
              "#9c179e"
             ],
             [
              0.4444444444444444,
              "#bd3786"
             ],
             [
              0.5555555555555556,
              "#d8576b"
             ],
             [
              0.6666666666666666,
              "#ed7953"
             ],
             [
              0.7777777777777778,
              "#fb9f3a"
             ],
             [
              0.8888888888888888,
              "#fdca26"
             ],
             [
              1,
              "#f0f921"
             ]
            ],
            "type": "contour"
           }
          ],
          "contourcarpet": [
           {
            "colorbar": {
             "outlinewidth": 0,
             "ticks": ""
            },
            "type": "contourcarpet"
           }
          ],
          "heatmap": [
           {
            "colorbar": {
             "outlinewidth": 0,
             "ticks": ""
            },
            "colorscale": [
             [
              0,
              "#0d0887"
             ],
             [
              0.1111111111111111,
              "#46039f"
             ],
             [
              0.2222222222222222,
              "#7201a8"
             ],
             [
              0.3333333333333333,
              "#9c179e"
             ],
             [
              0.4444444444444444,
              "#bd3786"
             ],
             [
              0.5555555555555556,
              "#d8576b"
             ],
             [
              0.6666666666666666,
              "#ed7953"
             ],
             [
              0.7777777777777778,
              "#fb9f3a"
             ],
             [
              0.8888888888888888,
              "#fdca26"
             ],
             [
              1,
              "#f0f921"
             ]
            ],
            "type": "heatmap"
           }
          ],
          "heatmapgl": [
           {
            "colorbar": {
             "outlinewidth": 0,
             "ticks": ""
            },
            "colorscale": [
             [
              0,
              "#0d0887"
             ],
             [
              0.1111111111111111,
              "#46039f"
             ],
             [
              0.2222222222222222,
              "#7201a8"
             ],
             [
              0.3333333333333333,
              "#9c179e"
             ],
             [
              0.4444444444444444,
              "#bd3786"
             ],
             [
              0.5555555555555556,
              "#d8576b"
             ],
             [
              0.6666666666666666,
              "#ed7953"
             ],
             [
              0.7777777777777778,
              "#fb9f3a"
             ],
             [
              0.8888888888888888,
              "#fdca26"
             ],
             [
              1,
              "#f0f921"
             ]
            ],
            "type": "heatmapgl"
           }
          ],
          "histogram": [
           {
            "marker": {
             "pattern": {
              "fillmode": "overlay",
              "size": 10,
              "solidity": 0.2
             }
            },
            "type": "histogram"
           }
          ],
          "histogram2d": [
           {
            "colorbar": {
             "outlinewidth": 0,
             "ticks": ""
            },
            "colorscale": [
             [
              0,
              "#0d0887"
             ],
             [
              0.1111111111111111,
              "#46039f"
             ],
             [
              0.2222222222222222,
              "#7201a8"
             ],
             [
              0.3333333333333333,
              "#9c179e"
             ],
             [
              0.4444444444444444,
              "#bd3786"
             ],
             [
              0.5555555555555556,
              "#d8576b"
             ],
             [
              0.6666666666666666,
              "#ed7953"
             ],
             [
              0.7777777777777778,
              "#fb9f3a"
             ],
             [
              0.8888888888888888,
              "#fdca26"
             ],
             [
              1,
              "#f0f921"
             ]
            ],
            "type": "histogram2d"
           }
          ],
          "histogram2dcontour": [
           {
            "colorbar": {
             "outlinewidth": 0,
             "ticks": ""
            },
            "colorscale": [
             [
              0,
              "#0d0887"
             ],
             [
              0.1111111111111111,
              "#46039f"
             ],
             [
              0.2222222222222222,
              "#7201a8"
             ],
             [
              0.3333333333333333,
              "#9c179e"
             ],
             [
              0.4444444444444444,
              "#bd3786"
             ],
             [
              0.5555555555555556,
              "#d8576b"
             ],
             [
              0.6666666666666666,
              "#ed7953"
             ],
             [
              0.7777777777777778,
              "#fb9f3a"
             ],
             [
              0.8888888888888888,
              "#fdca26"
             ],
             [
              1,
              "#f0f921"
             ]
            ],
            "type": "histogram2dcontour"
           }
          ],
          "mesh3d": [
           {
            "colorbar": {
             "outlinewidth": 0,
             "ticks": ""
            },
            "type": "mesh3d"
           }
          ],
          "parcoords": [
           {
            "line": {
             "colorbar": {
              "outlinewidth": 0,
              "ticks": ""
             }
            },
            "type": "parcoords"
           }
          ],
          "pie": [
           {
            "automargin": true,
            "type": "pie"
           }
          ],
          "scatter": [
           {
            "fillpattern": {
             "fillmode": "overlay",
             "size": 10,
             "solidity": 0.2
            },
            "type": "scatter"
           }
          ],
          "scatter3d": [
           {
            "line": {
             "colorbar": {
              "outlinewidth": 0,
              "ticks": ""
             }
            },
            "marker": {
             "colorbar": {
              "outlinewidth": 0,
              "ticks": ""
             }
            },
            "type": "scatter3d"
           }
          ],
          "scattercarpet": [
           {
            "marker": {
             "colorbar": {
              "outlinewidth": 0,
              "ticks": ""
             }
            },
            "type": "scattercarpet"
           }
          ],
          "scattergeo": [
           {
            "marker": {
             "colorbar": {
              "outlinewidth": 0,
              "ticks": ""
             }
            },
            "type": "scattergeo"
           }
          ],
          "scattergl": [
           {
            "marker": {
             "colorbar": {
              "outlinewidth": 0,
              "ticks": ""
             }
            },
            "type": "scattergl"
           }
          ],
          "scattermapbox": [
           {
            "marker": {
             "colorbar": {
              "outlinewidth": 0,
              "ticks": ""
             }
            },
            "type": "scattermapbox"
           }
          ],
          "scatterpolar": [
           {
            "marker": {
             "colorbar": {
              "outlinewidth": 0,
              "ticks": ""
             }
            },
            "type": "scatterpolar"
           }
          ],
          "scatterpolargl": [
           {
            "marker": {
             "colorbar": {
              "outlinewidth": 0,
              "ticks": ""
             }
            },
            "type": "scatterpolargl"
           }
          ],
          "scatterternary": [
           {
            "marker": {
             "colorbar": {
              "outlinewidth": 0,
              "ticks": ""
             }
            },
            "type": "scatterternary"
           }
          ],
          "surface": [
           {
            "colorbar": {
             "outlinewidth": 0,
             "ticks": ""
            },
            "colorscale": [
             [
              0,
              "#0d0887"
             ],
             [
              0.1111111111111111,
              "#46039f"
             ],
             [
              0.2222222222222222,
              "#7201a8"
             ],
             [
              0.3333333333333333,
              "#9c179e"
             ],
             [
              0.4444444444444444,
              "#bd3786"
             ],
             [
              0.5555555555555556,
              "#d8576b"
             ],
             [
              0.6666666666666666,
              "#ed7953"
             ],
             [
              0.7777777777777778,
              "#fb9f3a"
             ],
             [
              0.8888888888888888,
              "#fdca26"
             ],
             [
              1,
              "#f0f921"
             ]
            ],
            "type": "surface"
           }
          ],
          "table": [
           {
            "cells": {
             "fill": {
              "color": "#EBF0F8"
             },
             "line": {
              "color": "white"
             }
            },
            "header": {
             "fill": {
              "color": "#C8D4E3"
             },
             "line": {
              "color": "white"
             }
            },
            "type": "table"
           }
          ]
         },
         "layout": {
          "annotationdefaults": {
           "arrowcolor": "#2a3f5f",
           "arrowhead": 0,
           "arrowwidth": 1
          },
          "autotypenumbers": "strict",
          "coloraxis": {
           "colorbar": {
            "outlinewidth": 0,
            "ticks": ""
           }
          },
          "colorscale": {
           "diverging": [
            [
             0,
             "#8e0152"
            ],
            [
             0.1,
             "#c51b7d"
            ],
            [
             0.2,
             "#de77ae"
            ],
            [
             0.3,
             "#f1b6da"
            ],
            [
             0.4,
             "#fde0ef"
            ],
            [
             0.5,
             "#f7f7f7"
            ],
            [
             0.6,
             "#e6f5d0"
            ],
            [
             0.7,
             "#b8e186"
            ],
            [
             0.8,
             "#7fbc41"
            ],
            [
             0.9,
             "#4d9221"
            ],
            [
             1,
             "#276419"
            ]
           ],
           "sequential": [
            [
             0,
             "#0d0887"
            ],
            [
             0.1111111111111111,
             "#46039f"
            ],
            [
             0.2222222222222222,
             "#7201a8"
            ],
            [
             0.3333333333333333,
             "#9c179e"
            ],
            [
             0.4444444444444444,
             "#bd3786"
            ],
            [
             0.5555555555555556,
             "#d8576b"
            ],
            [
             0.6666666666666666,
             "#ed7953"
            ],
            [
             0.7777777777777778,
             "#fb9f3a"
            ],
            [
             0.8888888888888888,
             "#fdca26"
            ],
            [
             1,
             "#f0f921"
            ]
           ],
           "sequentialminus": [
            [
             0,
             "#0d0887"
            ],
            [
             0.1111111111111111,
             "#46039f"
            ],
            [
             0.2222222222222222,
             "#7201a8"
            ],
            [
             0.3333333333333333,
             "#9c179e"
            ],
            [
             0.4444444444444444,
             "#bd3786"
            ],
            [
             0.5555555555555556,
             "#d8576b"
            ],
            [
             0.6666666666666666,
             "#ed7953"
            ],
            [
             0.7777777777777778,
             "#fb9f3a"
            ],
            [
             0.8888888888888888,
             "#fdca26"
            ],
            [
             1,
             "#f0f921"
            ]
           ]
          },
          "colorway": [
           "#636efa",
           "#EF553B",
           "#00cc96",
           "#ab63fa",
           "#FFA15A",
           "#19d3f3",
           "#FF6692",
           "#B6E880",
           "#FF97FF",
           "#FECB52"
          ],
          "font": {
           "color": "#2a3f5f"
          },
          "geo": {
           "bgcolor": "white",
           "lakecolor": "white",
           "landcolor": "#E5ECF6",
           "showlakes": true,
           "showland": true,
           "subunitcolor": "white"
          },
          "hoverlabel": {
           "align": "left"
          },
          "hovermode": "closest",
          "mapbox": {
           "style": "light"
          },
          "paper_bgcolor": "white",
          "plot_bgcolor": "#E5ECF6",
          "polar": {
           "angularaxis": {
            "gridcolor": "white",
            "linecolor": "white",
            "ticks": ""
           },
           "bgcolor": "#E5ECF6",
           "radialaxis": {
            "gridcolor": "white",
            "linecolor": "white",
            "ticks": ""
           }
          },
          "scene": {
           "xaxis": {
            "backgroundcolor": "#E5ECF6",
            "gridcolor": "white",
            "gridwidth": 2,
            "linecolor": "white",
            "showbackground": true,
            "ticks": "",
            "zerolinecolor": "white"
           },
           "yaxis": {
            "backgroundcolor": "#E5ECF6",
            "gridcolor": "white",
            "gridwidth": 2,
            "linecolor": "white",
            "showbackground": true,
            "ticks": "",
            "zerolinecolor": "white"
           },
           "zaxis": {
            "backgroundcolor": "#E5ECF6",
            "gridcolor": "white",
            "gridwidth": 2,
            "linecolor": "white",
            "showbackground": true,
            "ticks": "",
            "zerolinecolor": "white"
           }
          },
          "shapedefaults": {
           "line": {
            "color": "#2a3f5f"
           }
          },
          "ternary": {
           "aaxis": {
            "gridcolor": "white",
            "linecolor": "white",
            "ticks": ""
           },
           "baxis": {
            "gridcolor": "white",
            "linecolor": "white",
            "ticks": ""
           },
           "bgcolor": "#E5ECF6",
           "caxis": {
            "gridcolor": "white",
            "linecolor": "white",
            "ticks": ""
           }
          },
          "title": {
           "x": 0.05
          },
          "xaxis": {
           "automargin": true,
           "gridcolor": "white",
           "linecolor": "white",
           "ticks": "",
           "title": {
            "standoff": 15
           },
           "zerolinecolor": "white",
           "zerolinewidth": 2
          },
          "yaxis": {
           "automargin": true,
           "gridcolor": "white",
           "linecolor": "white",
           "ticks": "",
           "title": {
            "standoff": 15
           },
           "zerolinecolor": "white",
           "zerolinewidth": 2
          }
         }
        },
        "title": {
         "font": {
          "family": "serif",
          "size": 20
         },
         "text": "Best hole cards flavors for 10 Players"
        },
        "xaxis": {
         "anchor": "y",
         "domain": [
          0,
          1
         ],
         "showgrid": false,
         "title": {
          "text": ""
         }
        },
        "yaxis": {
         "anchor": "x",
         "domain": [
          0,
          1
         ],
         "range": [
          0,
          1
         ],
         "showgrid": false,
         "showticklabels": false,
         "title": {
          "text": ""
         }
        }
       }
      }
     },
     "metadata": {},
     "output_type": "display_data"
    },
    {
     "name": "stderr",
     "output_type": "stream",
     "text": [
      "INFO: Not saving plot - pass save_plot=True to save it.\n"
     ]
    }
   ],
   "source": [
    "import importlib\n",
    "import src.plot_data\n",
    "importlib.reload(src.plot_data)\n",
    "\n",
    "from src.plot_data import plot_data\n",
    "\n",
    "# for players in range(2, 11):\n",
    "for players in [2, 10]:\n",
    "    plot_data(show_plot=True, n_players_to_plot=players)"
   ]
  },
  {
   "cell_type": "code",
   "execution_count": 1,
   "metadata": {},
   "outputs": [
    {
     "name": "stderr",
     "output_type": "stream",
     "text": [
      "INFO: Making plotly figure and axis objects\n",
      "c:\\Users\\david\\Documents\\Projects\\holdem_simulator\\src\\plot_builders_plotly.py:158: SettingWithCopyWarning: \n",
      "A value is trying to be set on a copy of a slice from a DataFrame.\n",
      "Try using .loc[row_indexer,col_indexer] = value instead\n",
      "\n",
      "See the caveats in the documentation: https://pandas.pydata.org/pandas-docs/stable/user_guide/indexing.html#returning-a-view-versus-a-copy\n",
      "  dataframe[y3_var] = dataframe[y3_var].round(4)\n",
      "INFO: Sorting data frame ascending by n_players\n",
      "INFO: Sorting data frame descending by win ratio, win ratio rounded down to nearest 5%\n",
      "INFO: Showing plot object\n"
     ]
    },
    {
     "data": {
      "application/vnd.plotly.v1+json": {
       "config": {
        "plotlyServerURL": "https://plot.ly"
       },
       "data": [
        {
         "alignmentgroup": "True",
         "customdata": [
          [
           0.8575
          ],
          [
           0.7595
          ],
          [
           0.6483
          ],
          [
           0.5669
          ],
          [
           0.5102
          ],
          [
           0.435
          ],
          [
           0.3904
          ],
          [
           0.3448
          ],
          [
           0.3153
          ]
         ],
         "hovertemplate": "hole cards flavor=Aces paired<br>n_players=%{x}<br>win ratio rounded down to nearest 5%=%{y:.0%}<br>win ratio=%{customdata[0]:.2%}<br>appearances=%{marker.color}<extra></extra>",
         "legendgroup": "",
         "marker": {
          "color": [
           1782,
           3193,
           1871,
           2198,
           2258,
           2299,
           2331,
           2181,
           2141
          ],
          "coloraxis": "coloraxis",
          "pattern": {
           "shape": ""
          }
         },
         "name": "",
         "offsetgroup": "",
         "orientation": "v",
         "showlegend": false,
         "textposition": "auto",
         "type": "bar",
         "x": [
          2,
          3,
          4,
          5,
          6,
          7,
          8,
          9,
          10
         ],
         "xaxis": "x",
         "y": [
          0.8500000000000001,
          0.75,
          0.6000000000000001,
          0.55,
          0.5,
          0.4,
          0.35,
          0.3,
          0.3
         ],
         "yaxis": "y"
        },
        {
         "alignmentgroup": "True",
         "customdata": [
          [
           0.3681
          ],
          [
           0.2139
          ],
          [
           0.1567
          ],
          [
           0.1105
          ],
          [
           0.1016
          ],
          [
           0.0855
          ],
          [
           0.0777
          ],
          [
           0.0725
          ],
          [
           0.0631
          ]
         ],
         "hovertemplate": "hole cards flavor=3, 2 off suit<br>n_players=%{x}<br>win ratio rounded down to nearest 5%=%{y:.0%}<br>win ratio=%{customdata[0]:.2%}<br>appearances=%{marker.color}<extra></extra>",
         "legendgroup": "",
         "marker": {
          "color": [
           3581,
           6264,
           3810,
           4345,
           4577,
           4434,
           4631,
           4527,
           4529
          ],
          "coloraxis": "coloraxis",
          "pattern": {
           "shape": ""
          }
         },
         "name": "",
         "offsetgroup": "",
         "orientation": "v",
         "showlegend": false,
         "textposition": "auto",
         "type": "bar",
         "x": [
          2,
          3,
          4,
          5,
          6,
          7,
          8,
          9,
          10
         ],
         "xaxis": "x2",
         "y": [
          0.35,
          0.2,
          0.15,
          0.1,
          0.1,
          0.05,
          0.05,
          0.05,
          0.05
         ],
         "yaxis": "y2"
        }
       ],
       "layout": {
        "annotations": [
         {
          "showarrow": false,
          "text": "Aces paired",
          "x": 0.245,
          "xanchor": "center",
          "xref": "paper",
          "y": 1,
          "yanchor": "bottom",
          "yref": "paper"
         },
         {
          "showarrow": false,
          "text": "3, 2 off suit",
          "x": 0.755,
          "xanchor": "center",
          "xref": "paper",
          "y": 1,
          "yanchor": "bottom",
          "yref": "paper"
         },
         {
          "font": {
           "family": "sans-serif",
           "size": 14
          },
          "showarrow": false,
          "text": "n_players",
          "x": 0.5,
          "xref": "paper",
          "y": -0.15,
          "yref": "paper"
         }
        ],
        "barmode": "relative",
        "coloraxis": {
         "colorbar": {
          "thickness": 10,
          "tickfont": {
           "family": "monospace",
           "size": 12
          },
          "title": {
           "font": {
            "family": "sans-serif",
            "size": 14
           },
           "text": "Appearances"
          }
         },
         "colorscale": [
          [
           0,
           "#fcfdbf"
          ],
          [
           0.1111111111111111,
           "#feca8d"
          ],
          [
           0.2222222222222222,
           "#fd9668"
          ],
          [
           0.3333333333333333,
           "#f1605d"
          ],
          [
           0.4444444444444444,
           "#cd4071"
          ],
          [
           0.5555555555555556,
           "#9e2f7f"
          ],
          [
           0.6666666666666666,
           "#721f81"
          ],
          [
           0.7777777777777778,
           "#440f76"
          ],
          [
           0.8888888888888888,
           "#180f3d"
          ],
          [
           1,
           "#000004"
          ]
         ]
        },
        "legend": {
         "tracegroupgap": 0
        },
        "margin": {
         "t": 60
        },
        "plot_bgcolor": "white",
        "template": {
         "data": {
          "bar": [
           {
            "error_x": {
             "color": "#2a3f5f"
            },
            "error_y": {
             "color": "#2a3f5f"
            },
            "marker": {
             "line": {
              "color": "#E5ECF6",
              "width": 0.5
             },
             "pattern": {
              "fillmode": "overlay",
              "size": 10,
              "solidity": 0.2
             }
            },
            "type": "bar"
           }
          ],
          "barpolar": [
           {
            "marker": {
             "line": {
              "color": "#E5ECF6",
              "width": 0.5
             },
             "pattern": {
              "fillmode": "overlay",
              "size": 10,
              "solidity": 0.2
             }
            },
            "type": "barpolar"
           }
          ],
          "carpet": [
           {
            "aaxis": {
             "endlinecolor": "#2a3f5f",
             "gridcolor": "white",
             "linecolor": "white",
             "minorgridcolor": "white",
             "startlinecolor": "#2a3f5f"
            },
            "baxis": {
             "endlinecolor": "#2a3f5f",
             "gridcolor": "white",
             "linecolor": "white",
             "minorgridcolor": "white",
             "startlinecolor": "#2a3f5f"
            },
            "type": "carpet"
           }
          ],
          "choropleth": [
           {
            "colorbar": {
             "outlinewidth": 0,
             "ticks": ""
            },
            "type": "choropleth"
           }
          ],
          "contour": [
           {
            "colorbar": {
             "outlinewidth": 0,
             "ticks": ""
            },
            "colorscale": [
             [
              0,
              "#0d0887"
             ],
             [
              0.1111111111111111,
              "#46039f"
             ],
             [
              0.2222222222222222,
              "#7201a8"
             ],
             [
              0.3333333333333333,
              "#9c179e"
             ],
             [
              0.4444444444444444,
              "#bd3786"
             ],
             [
              0.5555555555555556,
              "#d8576b"
             ],
             [
              0.6666666666666666,
              "#ed7953"
             ],
             [
              0.7777777777777778,
              "#fb9f3a"
             ],
             [
              0.8888888888888888,
              "#fdca26"
             ],
             [
              1,
              "#f0f921"
             ]
            ],
            "type": "contour"
           }
          ],
          "contourcarpet": [
           {
            "colorbar": {
             "outlinewidth": 0,
             "ticks": ""
            },
            "type": "contourcarpet"
           }
          ],
          "heatmap": [
           {
            "colorbar": {
             "outlinewidth": 0,
             "ticks": ""
            },
            "colorscale": [
             [
              0,
              "#0d0887"
             ],
             [
              0.1111111111111111,
              "#46039f"
             ],
             [
              0.2222222222222222,
              "#7201a8"
             ],
             [
              0.3333333333333333,
              "#9c179e"
             ],
             [
              0.4444444444444444,
              "#bd3786"
             ],
             [
              0.5555555555555556,
              "#d8576b"
             ],
             [
              0.6666666666666666,
              "#ed7953"
             ],
             [
              0.7777777777777778,
              "#fb9f3a"
             ],
             [
              0.8888888888888888,
              "#fdca26"
             ],
             [
              1,
              "#f0f921"
             ]
            ],
            "type": "heatmap"
           }
          ],
          "heatmapgl": [
           {
            "colorbar": {
             "outlinewidth": 0,
             "ticks": ""
            },
            "colorscale": [
             [
              0,
              "#0d0887"
             ],
             [
              0.1111111111111111,
              "#46039f"
             ],
             [
              0.2222222222222222,
              "#7201a8"
             ],
             [
              0.3333333333333333,
              "#9c179e"
             ],
             [
              0.4444444444444444,
              "#bd3786"
             ],
             [
              0.5555555555555556,
              "#d8576b"
             ],
             [
              0.6666666666666666,
              "#ed7953"
             ],
             [
              0.7777777777777778,
              "#fb9f3a"
             ],
             [
              0.8888888888888888,
              "#fdca26"
             ],
             [
              1,
              "#f0f921"
             ]
            ],
            "type": "heatmapgl"
           }
          ],
          "histogram": [
           {
            "marker": {
             "pattern": {
              "fillmode": "overlay",
              "size": 10,
              "solidity": 0.2
             }
            },
            "type": "histogram"
           }
          ],
          "histogram2d": [
           {
            "colorbar": {
             "outlinewidth": 0,
             "ticks": ""
            },
            "colorscale": [
             [
              0,
              "#0d0887"
             ],
             [
              0.1111111111111111,
              "#46039f"
             ],
             [
              0.2222222222222222,
              "#7201a8"
             ],
             [
              0.3333333333333333,
              "#9c179e"
             ],
             [
              0.4444444444444444,
              "#bd3786"
             ],
             [
              0.5555555555555556,
              "#d8576b"
             ],
             [
              0.6666666666666666,
              "#ed7953"
             ],
             [
              0.7777777777777778,
              "#fb9f3a"
             ],
             [
              0.8888888888888888,
              "#fdca26"
             ],
             [
              1,
              "#f0f921"
             ]
            ],
            "type": "histogram2d"
           }
          ],
          "histogram2dcontour": [
           {
            "colorbar": {
             "outlinewidth": 0,
             "ticks": ""
            },
            "colorscale": [
             [
              0,
              "#0d0887"
             ],
             [
              0.1111111111111111,
              "#46039f"
             ],
             [
              0.2222222222222222,
              "#7201a8"
             ],
             [
              0.3333333333333333,
              "#9c179e"
             ],
             [
              0.4444444444444444,
              "#bd3786"
             ],
             [
              0.5555555555555556,
              "#d8576b"
             ],
             [
              0.6666666666666666,
              "#ed7953"
             ],
             [
              0.7777777777777778,
              "#fb9f3a"
             ],
             [
              0.8888888888888888,
              "#fdca26"
             ],
             [
              1,
              "#f0f921"
             ]
            ],
            "type": "histogram2dcontour"
           }
          ],
          "mesh3d": [
           {
            "colorbar": {
             "outlinewidth": 0,
             "ticks": ""
            },
            "type": "mesh3d"
           }
          ],
          "parcoords": [
           {
            "line": {
             "colorbar": {
              "outlinewidth": 0,
              "ticks": ""
             }
            },
            "type": "parcoords"
           }
          ],
          "pie": [
           {
            "automargin": true,
            "type": "pie"
           }
          ],
          "scatter": [
           {
            "fillpattern": {
             "fillmode": "overlay",
             "size": 10,
             "solidity": 0.2
            },
            "type": "scatter"
           }
          ],
          "scatter3d": [
           {
            "line": {
             "colorbar": {
              "outlinewidth": 0,
              "ticks": ""
             }
            },
            "marker": {
             "colorbar": {
              "outlinewidth": 0,
              "ticks": ""
             }
            },
            "type": "scatter3d"
           }
          ],
          "scattercarpet": [
           {
            "marker": {
             "colorbar": {
              "outlinewidth": 0,
              "ticks": ""
             }
            },
            "type": "scattercarpet"
           }
          ],
          "scattergeo": [
           {
            "marker": {
             "colorbar": {
              "outlinewidth": 0,
              "ticks": ""
             }
            },
            "type": "scattergeo"
           }
          ],
          "scattergl": [
           {
            "marker": {
             "colorbar": {
              "outlinewidth": 0,
              "ticks": ""
             }
            },
            "type": "scattergl"
           }
          ],
          "scattermapbox": [
           {
            "marker": {
             "colorbar": {
              "outlinewidth": 0,
              "ticks": ""
             }
            },
            "type": "scattermapbox"
           }
          ],
          "scatterpolar": [
           {
            "marker": {
             "colorbar": {
              "outlinewidth": 0,
              "ticks": ""
             }
            },
            "type": "scatterpolar"
           }
          ],
          "scatterpolargl": [
           {
            "marker": {
             "colorbar": {
              "outlinewidth": 0,
              "ticks": ""
             }
            },
            "type": "scatterpolargl"
           }
          ],
          "scatterternary": [
           {
            "marker": {
             "colorbar": {
              "outlinewidth": 0,
              "ticks": ""
             }
            },
            "type": "scatterternary"
           }
          ],
          "surface": [
           {
            "colorbar": {
             "outlinewidth": 0,
             "ticks": ""
            },
            "colorscale": [
             [
              0,
              "#0d0887"
             ],
             [
              0.1111111111111111,
              "#46039f"
             ],
             [
              0.2222222222222222,
              "#7201a8"
             ],
             [
              0.3333333333333333,
              "#9c179e"
             ],
             [
              0.4444444444444444,
              "#bd3786"
             ],
             [
              0.5555555555555556,
              "#d8576b"
             ],
             [
              0.6666666666666666,
              "#ed7953"
             ],
             [
              0.7777777777777778,
              "#fb9f3a"
             ],
             [
              0.8888888888888888,
              "#fdca26"
             ],
             [
              1,
              "#f0f921"
             ]
            ],
            "type": "surface"
           }
          ],
          "table": [
           {
            "cells": {
             "fill": {
              "color": "#EBF0F8"
             },
             "line": {
              "color": "white"
             }
            },
            "header": {
             "fill": {
              "color": "#C8D4E3"
             },
             "line": {
              "color": "white"
             }
            },
            "type": "table"
           }
          ]
         },
         "layout": {
          "annotationdefaults": {
           "arrowcolor": "#2a3f5f",
           "arrowhead": 0,
           "arrowwidth": 1
          },
          "autotypenumbers": "strict",
          "coloraxis": {
           "colorbar": {
            "outlinewidth": 0,
            "ticks": ""
           }
          },
          "colorscale": {
           "diverging": [
            [
             0,
             "#8e0152"
            ],
            [
             0.1,
             "#c51b7d"
            ],
            [
             0.2,
             "#de77ae"
            ],
            [
             0.3,
             "#f1b6da"
            ],
            [
             0.4,
             "#fde0ef"
            ],
            [
             0.5,
             "#f7f7f7"
            ],
            [
             0.6,
             "#e6f5d0"
            ],
            [
             0.7,
             "#b8e186"
            ],
            [
             0.8,
             "#7fbc41"
            ],
            [
             0.9,
             "#4d9221"
            ],
            [
             1,
             "#276419"
            ]
           ],
           "sequential": [
            [
             0,
             "#0d0887"
            ],
            [
             0.1111111111111111,
             "#46039f"
            ],
            [
             0.2222222222222222,
             "#7201a8"
            ],
            [
             0.3333333333333333,
             "#9c179e"
            ],
            [
             0.4444444444444444,
             "#bd3786"
            ],
            [
             0.5555555555555556,
             "#d8576b"
            ],
            [
             0.6666666666666666,
             "#ed7953"
            ],
            [
             0.7777777777777778,
             "#fb9f3a"
            ],
            [
             0.8888888888888888,
             "#fdca26"
            ],
            [
             1,
             "#f0f921"
            ]
           ],
           "sequentialminus": [
            [
             0,
             "#0d0887"
            ],
            [
             0.1111111111111111,
             "#46039f"
            ],
            [
             0.2222222222222222,
             "#7201a8"
            ],
            [
             0.3333333333333333,
             "#9c179e"
            ],
            [
             0.4444444444444444,
             "#bd3786"
            ],
            [
             0.5555555555555556,
             "#d8576b"
            ],
            [
             0.6666666666666666,
             "#ed7953"
            ],
            [
             0.7777777777777778,
             "#fb9f3a"
            ],
            [
             0.8888888888888888,
             "#fdca26"
            ],
            [
             1,
             "#f0f921"
            ]
           ]
          },
          "colorway": [
           "#636efa",
           "#EF553B",
           "#00cc96",
           "#ab63fa",
           "#FFA15A",
           "#19d3f3",
           "#FF6692",
           "#B6E880",
           "#FF97FF",
           "#FECB52"
          ],
          "font": {
           "color": "#2a3f5f"
          },
          "geo": {
           "bgcolor": "white",
           "lakecolor": "white",
           "landcolor": "#E5ECF6",
           "showlakes": true,
           "showland": true,
           "subunitcolor": "white"
          },
          "hoverlabel": {
           "align": "left"
          },
          "hovermode": "closest",
          "mapbox": {
           "style": "light"
          },
          "paper_bgcolor": "white",
          "plot_bgcolor": "#E5ECF6",
          "polar": {
           "angularaxis": {
            "gridcolor": "white",
            "linecolor": "white",
            "ticks": ""
           },
           "bgcolor": "#E5ECF6",
           "radialaxis": {
            "gridcolor": "white",
            "linecolor": "white",
            "ticks": ""
           }
          },
          "scene": {
           "xaxis": {
            "backgroundcolor": "#E5ECF6",
            "gridcolor": "white",
            "gridwidth": 2,
            "linecolor": "white",
            "showbackground": true,
            "ticks": "",
            "zerolinecolor": "white"
           },
           "yaxis": {
            "backgroundcolor": "#E5ECF6",
            "gridcolor": "white",
            "gridwidth": 2,
            "linecolor": "white",
            "showbackground": true,
            "ticks": "",
            "zerolinecolor": "white"
           },
           "zaxis": {
            "backgroundcolor": "#E5ECF6",
            "gridcolor": "white",
            "gridwidth": 2,
            "linecolor": "white",
            "showbackground": true,
            "ticks": "",
            "zerolinecolor": "white"
           }
          },
          "shapedefaults": {
           "line": {
            "color": "#2a3f5f"
           }
          },
          "ternary": {
           "aaxis": {
            "gridcolor": "white",
            "linecolor": "white",
            "ticks": ""
           },
           "baxis": {
            "gridcolor": "white",
            "linecolor": "white",
            "ticks": ""
           },
           "bgcolor": "#E5ECF6",
           "caxis": {
            "gridcolor": "white",
            "linecolor": "white",
            "ticks": ""
           }
          },
          "title": {
           "x": 0.05
          },
          "xaxis": {
           "automargin": true,
           "gridcolor": "white",
           "linecolor": "white",
           "ticks": "",
           "title": {
            "standoff": 15
           },
           "zerolinecolor": "white",
           "zerolinewidth": 2
          },
          "yaxis": {
           "automargin": true,
           "gridcolor": "white",
           "linecolor": "white",
           "ticks": "",
           "title": {
            "standoff": 15
           },
           "zerolinecolor": "white",
           "zerolinewidth": 2
          }
         }
        },
        "title": {
         "font": {
          "family": "serif",
          "size": 20
         },
         "text": "Drop-off in Win Ratio for Best & Worst Hole Cards Flavors by Table Size"
        },
        "xaxis": {
         "anchor": "y",
         "domain": [
          0,
          0.49
         ],
         "showgrid": false,
         "tickfont": {
          "family": "monospace",
          "size": 12
         },
         "title": {
          "text": ""
         }
        },
        "xaxis2": {
         "anchor": "y2",
         "domain": [
          0.51,
          1
         ],
         "matches": "x",
         "showgrid": false,
         "tickfont": {
          "family": "monospace",
          "size": 12
         },
         "title": {
          "text": ""
         }
        },
        "yaxis": {
         "anchor": "x",
         "domain": [
          0,
          1
         ],
         "range": [
          0,
          1
         ],
         "showgrid": false,
         "showticklabels": false,
         "title": {
          "text": ""
         }
        },
        "yaxis2": {
         "anchor": "x2",
         "domain": [
          0,
          1
         ],
         "matches": "y",
         "range": [
          0,
          1
         ],
         "showgrid": false,
         "showticklabels": false,
         "title": {
          "text": ""
         }
        }
       }
      }
     },
     "metadata": {},
     "output_type": "display_data"
    },
    {
     "name": "stderr",
     "output_type": "stream",
     "text": [
      "INFO: Not saving plot - pass save_plot=True to save it.\n"
     ]
    }
   ],
   "source": [
    "import importlib\n",
    "import src.plot_data\n",
    "\n",
    "importlib.reload(src.plot_data)\n",
    "\n",
    "from src.plot_data import plot_data\n",
    "\n",
    "\n",
    "plot_data(show_plot=True, n_players_to_plot=\"All\")"
   ]
  },
  {
   "cell_type": "code",
   "execution_count": null,
   "metadata": {},
   "outputs": [],
   "source": []
  }
 ],
 "metadata": {
  "kernelspec": {
   "display_name": ".venv",
   "language": "python",
   "name": "python3"
  },
  "language_info": {
   "codemirror_mode": {
    "name": "ipython",
    "version": 3
   },
   "file_extension": ".py",
   "mimetype": "text/x-python",
   "name": "python",
   "nbconvert_exporter": "python",
   "pygments_lexer": "ipython3",
   "version": "3.12.0"
  }
 },
 "nbformat": 4,
 "nbformat_minor": 2
}
